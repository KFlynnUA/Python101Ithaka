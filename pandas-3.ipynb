{
 "cells": [
  {
   "cell_type": "markdown",
   "id": "3fac83f3-4536-4584-870a-6bcfec93ea68",
   "metadata": {},
   "source": [
    "<img align=\"left\" src=\"https://ithaka-labs.s3.amazonaws.com/static-files/images/tdm/tdmdocs/CC_BY.png\"><br />\n",
    "\n",
    "This notebook is adapted by Zhuo Chen from the notebooks created by [Nathan Kelber](http://nkelber.com), [William Mattingly](https://datascience.si.edu/people/dr-william-mattingly) and [Melanie Walsh](https://melaniewalsh.org) under [Creative Commons CC BY License](https://creativecommons.org/licenses/by/4.0/)<br />\n",
    "For questions/comments/improvements, email zhuo.chen@ithaka.org or nathan.kelber@ithaka.org<br />\n",
    "___"
   ]
  },
  {
   "cell_type": "markdown",
   "id": "7bbef364-f331-462d-96f1-4cd736b4dcec",
   "metadata": {},
   "source": [
    "# Pandas 3 \n",
    "\n",
    "**Description:** This notebook describes how to:\n",
    "* Build a dataset from Constellate\n",
    "* Make a dataframe from the dataset\n",
    "* Group and aggregate data\n",
    "* Plot using Pandas\n",
    "\n",
    "This is the third notebook in a series on learning to use Pandas. \n",
    "\n",
    "**Use Case:** For Learners (Detailed explanation, not ideal for researchers)\n",
    "\n",
    "**Difficulty:** Intermediate\n",
    "\n",
    "**Knowledge Required:** \n",
    "* [Pandas 1](./pandas-1.ipynb)\n",
    "* [Pandas 2](./pandas-2.ipynb)\n",
    "* Python Basics ([Start Python Basics I](./python-basics-1.ipynb))\n",
    "\n",
    "**Knowledge Recommended:** \n",
    "* [Python Intermediate 1](./python-intermediate-1.ipynb)\n",
    "* [Python Intermediate 2](./python-intermediate-2.ipynb)\n",
    "* [Python Intermediate 4](./python-intermediate-4.ipynb)\n",
    "\n",
    "**Completion Time:** 90 minutes\n",
    "\n",
    "**Data Format:** JSONL \n",
    "\n",
    "**Libraries Used:** Pandas\n",
    "\n",
    "**Research Pipeline:** None\n",
    "___\n"
   ]
  },
  {
   "cell_type": "markdown",
   "id": "a4af26b1",
   "metadata": {},
   "source": [
    "# Build a dataset from Constellate"
   ]
  },
  {
   "cell_type": "code",
   "execution_count": null,
   "id": "007ecd7a",
   "metadata": {},
   "outputs": [],
   "source": [
    "# install and import constellate\n",
    "!pip install constellate-client\n",
    "import constellate"
   ]
  },
  {
   "cell_type": "markdown",
   "id": "e8de9774",
   "metadata": {},
   "source": [
    "The dataset we are going to use for today's lesson is the documents from JSTOR about Economics limited to document type(s) chapter and language(s) English from 2007 - 2012 and limited to full text availability."
   ]
  },
  {
   "cell_type": "code",
   "execution_count": null,
   "id": "9887ff28",
   "metadata": {},
   "outputs": [],
   "source": [
    "# Creating a variable `dataset_id` to hold our dataset ID\n",
    "# The dataset is Full-Text chapters in English \n",
    "# from the JSTOR about economics published between 2007-2012 \n",
    "dataset_id = 'f7390385-7fc6-5dde-bcdf-79724bb916e5'"
   ]
  },
  {
   "cell_type": "code",
   "execution_count": null,
   "id": "da74ccac",
   "metadata": {},
   "outputs": [],
   "source": [
    "# Download the dataset\n",
    "dataset_file = constellate.get_dataset(dataset_id, 'jsonl')"
   ]
  },
  {
   "cell_type": "markdown",
   "id": "51c58119",
   "metadata": {},
   "source": [
    "## Read in the data\n",
    "After we download the dataset, we can use the `dataset_reader()` method to read in the data. "
   ]
  },
  {
   "cell_type": "code",
   "execution_count": null,
   "id": "b8a6a5dc",
   "metadata": {},
   "outputs": [],
   "source": [
    "# Use the .dataset_reader() method to read in the documents\n",
    "docs = constellate.dataset_reader(dataset_file)"
   ]
  },
  {
   "cell_type": "code",
   "execution_count": null,
   "id": "b33c2a86",
   "metadata": {},
   "outputs": [],
   "source": [
    "# Check the type of docs\n",
    "type(docs)"
   ]
  },
  {
   "cell_type": "markdown",
   "id": "2f883602",
   "metadata": {},
   "source": [
    "Recall from [Python Intermediate 1](./python-intermediate-1.ipynb) that the difference between a list and a generator is that the latter yields only one element at a time. To return the elements one by one, we use the `next()` function."
   ]
  },
  {
   "cell_type": "code",
   "execution_count": null,
   "id": "bc86d488",
   "metadata": {},
   "outputs": [],
   "source": [
    "# Take a look at the first element of the generator docs\n",
    "doc1 = next(docs)\n",
    "doc1"
   ]
  },
  {
   "cell_type": "markdown",
   "id": "af82ecf9",
   "metadata": {},
   "source": [
    "We can see that the doc data are stored in a dictionary. "
   ]
  },
  {
   "cell_type": "code",
   "execution_count": null,
   "id": "67df0592",
   "metadata": {},
   "outputs": [],
   "source": [
    "# Get all keys from the dict\n",
    "doc1.keys()"
   ]
  },
  {
   "cell_type": "markdown",
   "id": "ac923c8c",
   "metadata": {},
   "source": [
    "## Create a dataframe"
   ]
  },
  {
   "cell_type": "code",
   "execution_count": null,
   "id": "6514925b",
   "metadata": {},
   "outputs": [],
   "source": [
    "# import the Pandas library\n",
    "import pandas as pd"
   ]
  },
  {
   "cell_type": "code",
   "execution_count": null,
   "id": "91c74dc6",
   "metadata": {},
   "outputs": [],
   "source": [
    "# Data of interest\n",
    "data_of_interest = ['id', 'fullText', 'title', 'publicationYear', 'wordCount']"
   ]
  },
  {
   "cell_type": "code",
   "execution_count": null,
   "id": "e6714596",
   "metadata": {
    "scrolled": true
   },
   "outputs": [],
   "source": [
    "# Create a dataframe\n",
    "df = pd.DataFrame(columns=data_of_interest)\n",
    "df"
   ]
  },
  {
   "cell_type": "code",
   "execution_count": null,
   "id": "fabbf752",
   "metadata": {},
   "outputs": [],
   "source": [
    "# Get the docs again\n",
    "docs = constellate.dataset_reader(dataset_file)"
   ]
  },
  {
   "cell_type": "markdown",
   "id": "42216bc8",
   "metadata": {},
   "source": [
    "From each doc in docs, we want to grab the values corresponding to the keys in the list of data_of_interest and put those data under the relevant header in the dataframe.  "
   ]
  },
  {
   "cell_type": "code",
   "execution_count": null,
   "id": "f5dbb632",
   "metadata": {},
   "outputs": [],
   "source": [
    "index = 0 # initialize a variable 'index' and give it a value of 0\n",
    "for doc in docs:\n",
    "    df.loc[index] = [doc[column] for column in data_of_interest] # use a list comprehension to add rows\n",
    "    index = index + 1\n",
    "df"
   ]
  },
  {
   "cell_type": "markdown",
   "id": "b84aba96",
   "metadata": {},
   "source": [
    "All the document ids start with \"http://www.jstor.org/stable/\". We can get rid of this part of the string and use the rest as the ids. "
   ]
  },
  {
   "cell_type": "code",
   "execution_count": null,
   "id": "94f00766",
   "metadata": {},
   "outputs": [],
   "source": [
    "# Shorten the ids\n",
    "df['id'] = df['id'].apply(lambda r: r.split('stable/')[1])\n",
    "df"
   ]
  },
  {
   "cell_type": "code",
   "execution_count": null,
   "id": "cf1e9337",
   "metadata": {},
   "outputs": [],
   "source": [
    "# Explore the dataframe\n",
    "df.info()"
   ]
  },
  {
   "cell_type": "markdown",
   "id": "8d1dde9b",
   "metadata": {},
   "source": [
    "## Group and aggregate data"
   ]
  },
  {
   "cell_type": "markdown",
   "id": "2345dccf",
   "metadata": {},
   "source": [
    "Our dataset contains the full-text chapters in English from the JSTOR about economics published between 2007-2012. Now, suppose we would like to know how many documents there are from each year. We can use the `.grouby()` method to group the data by the publication year and then use the `.count()` method to get the number of documents from each year. "
   ]
  },
  {
   "cell_type": "code",
   "execution_count": null,
   "id": "16c39249",
   "metadata": {},
   "outputs": [],
   "source": [
    "# Group the data by year\n",
    "df.groupby('publicationYear').count()"
   ]
  },
  {
   "cell_type": "code",
   "execution_count": null,
   "id": "b5cbcd4e",
   "metadata": {},
   "outputs": [],
   "source": [
    "# Group the data by year, get the num of rows in 'id' column for each year, reset the index\n",
    "doc_by_year = df.groupby('publicationYear')['id'].count()\n",
    "doc_by_year"
   ]
  },
  {
   "cell_type": "markdown",
   "id": "3b39261d",
   "metadata": {},
   "source": [
    "We can plot a bar chart to show the number of documents from each year in the dataset visually. To do that, we will need to download the `matplotlib` library first. Then, we will import the submodule `pyplot` from `matplotlib`. Conventionally, we will give the submodule a shorter name `plt` when we import it, in the same way that we call Pandas as `pd` when we import it. "
   ]
  },
  {
   "cell_type": "markdown",
   "id": "e6fe70e4",
   "metadata": {},
   "source": [
    "By default, when we use matplotlib to plot a chart, the chart will show in a separate window. We could set a parameter `inline` to show the chart immediately below the code cell that produces the chart. "
   ]
  },
  {
   "cell_type": "code",
   "execution_count": null,
   "id": "c99d189f",
   "metadata": {
    "scrolled": true
   },
   "outputs": [],
   "source": [
    "# Plot a bar chart to show number of docs from each year in the dataset\n",
    "doc_by_year.plot(x='publicationYear', y='id', kind='bar', color='blue', ylabel='num_of_doc')"
   ]
  },
  {
   "cell_type": "markdown",
   "id": "e081ac97",
   "metadata": {},
   "source": [
    "We have seen that we can group data in a dataframe by a certain label and then count how many data points we have in each subgroup. Another operation we could do is to calculate the sum of all the numerical values in a certain column after data grouping.  \n",
    "\n",
    "For example, let's say we would like to know the sum of the word count of all the documents from each year in our dataset. To achieve this goal, we can group the data by `publicationYear`, and then aggregate the data by summing the numerical values in the column of `wordCount` for each subgroup.  "
   ]
  },
  {
   "cell_type": "code",
   "execution_count": null,
   "id": "ed24b003",
   "metadata": {},
   "outputs": [],
   "source": [
    "# Get the sum of word count for each year in the dataset, sort the result by word count\n",
    "sum_word_count = df.groupby('publicationYear')['wordCount'].agg('sum').sort_values()\n",
    "sum_word_count"
   ]
  },
  {
   "cell_type": "code",
   "execution_count": null,
   "id": "1cd67200",
   "metadata": {},
   "outputs": [],
   "source": [
    "# Plot the sum of word count of the docs from each year\n",
    "sum_word_count.plot(x='wordCount', y='publicationYear', kind='barh', color='purple')"
   ]
  },
  {
   "cell_type": "markdown",
   "id": "ebc83761",
   "metadata": {},
   "source": [
    "We know that between 2007 and 2009, there was a global recession called The Great Recession. Suppose we would like to know what percentage of all the documents in our dataset mentioned recession. "
   ]
  },
  {
   "cell_type": "code",
   "execution_count": null,
   "id": "cfb5943c",
   "metadata": {},
   "outputs": [],
   "source": [
    "# Take a look at our original df\n",
    "df"
   ]
  },
  {
   "cell_type": "markdown",
   "id": "fa976193",
   "metadata": {},
   "source": [
    "To check whether a document mentioned 'recession' or not, we will search the full text of each document for the word 'recession'. Let's first grab the full text from one document and take a look."
   ]
  },
  {
   "cell_type": "code",
   "execution_count": null,
   "id": "b2deeb37",
   "metadata": {},
   "outputs": [],
   "source": [
    "# grab the full text of the first document\n",
    "df.loc[0, 'fullText']"
   ]
  },
  {
   "cell_type": "code",
   "execution_count": null,
   "id": "da14de18",
   "metadata": {},
   "outputs": [],
   "source": [
    "# Join the strings in each list in the column 'fullText' into a big string\n",
    "df['fullText'] = df['fullText'].apply(lambda r: ''.join(r))"
   ]
  },
  {
   "cell_type": "code",
   "execution_count": null,
   "id": "859f867e",
   "metadata": {},
   "outputs": [],
   "source": [
    "# Create a new column storing whether a document mentioned 'recession'\n",
    "df['recession'] = df['fullText'].str.contains('recession')"
   ]
  },
  {
   "cell_type": "code",
   "execution_count": null,
   "id": "9df1beec",
   "metadata": {},
   "outputs": [],
   "source": [
    "df"
   ]
  },
  {
   "cell_type": "code",
   "execution_count": null,
   "id": "b9263b53",
   "metadata": {},
   "outputs": [],
   "source": [
    "# Get the rows where the value in the 'recession' column is true\n",
    "recession_docs = df[df['recession']==True]\n",
    "recession_docs"
   ]
  },
  {
   "cell_type": "code",
   "execution_count": null,
   "id": "5b7a85fb",
   "metadata": {},
   "outputs": [],
   "source": [
    "# Get how many docs from each year mentioned 'recession'\n",
    "recession_docs_by_year = recession_docs.groupby('publicationYear')['recession'].count()\n",
    "recession_docs_by_year"
   ]
  },
  {
   "cell_type": "code",
   "execution_count": null,
   "id": "f80b1dd7",
   "metadata": {},
   "outputs": [],
   "source": [
    "# Plot a pie graph showing \n",
    "# of all docs that mentioned 'recession'\n",
    "# what percentage of the docs is from 2007, what percentage of the docs is from 2008,\n",
    "# so on and so forth\n",
    "recession_docs_by_year.plot(kind='pie', label=\"\")"
   ]
  },
  {
   "cell_type": "markdown",
   "id": "b8e4a340",
   "metadata": {},
   "source": [
    "We can also plot a line graph to track the trend of the precentage of docs that mentioned 'recession' over the years. "
   ]
  },
  {
   "cell_type": "code",
   "execution_count": null,
   "id": "d0125a4d",
   "metadata": {},
   "outputs": [],
   "source": [
    "# Merge doc_by_year and recession_docs_by_year\n",
    "recession_doc_count_by_year = pd.concat([doc_by_year, recession_docs_by_year], axis=1)\n",
    "recession_doc_count_by_year"
   ]
  },
  {
   "cell_type": "code",
   "execution_count": null,
   "id": "2b3738de",
   "metadata": {},
   "outputs": [],
   "source": [
    "# Change the headers to make them more descriptive\n",
    "recession_doc_count_by_year.rename(columns={'id':'num_of_doc', 'recession':'num_recession_doc'}, inplace=True)\n",
    "recession_doc_count_by_year"
   ]
  },
  {
   "cell_type": "code",
   "execution_count": null,
   "id": "e3345966",
   "metadata": {},
   "outputs": [],
   "source": [
    "# Make a new column storing the percentage of docs that mentioned 'recession' for each year\n",
    "recession_doc_count_by_year['perc_recession_doc'] = recession_doc_count_by_year['num_recession_doc']/recession_doc_count_by_year['num_of_doc']\n",
    "recession_doc_count_by_year.reset_index(inplace=True)"
   ]
  },
  {
   "cell_type": "markdown",
   "id": "d41f077a",
   "metadata": {},
   "source": [
    "Now we are ready to plot a line graph that shows the trend of the percentage of docs that mentioned 'recession' over the years."
   ]
  },
  {
   "cell_type": "code",
   "execution_count": null,
   "id": "0d5ab905",
   "metadata": {},
   "outputs": [],
   "source": [
    "recession_doc_count_by_year.plot(x='publicationYear', y='perc_recession_doc', kind='line')"
   ]
  },
  {
   "cell_type": "markdown",
   "id": "5e2b3ab1",
   "metadata": {},
   "source": [
    "We can also make a bar chart showing the number of docs oer year and the number of docs that mentioned 'recession' for each year."
   ]
  },
  {
   "cell_type": "code",
   "execution_count": null,
   "id": "737e4b7e",
   "metadata": {},
   "outputs": [],
   "source": [
    "recession_doc_count_by_year.plot(x='publicationYear', y=['num_of_doc', 'num_recession_doc'], kind='bar')"
   ]
  },
  {
   "cell_type": "markdown",
   "id": "44f2b8c3",
   "metadata": {},
   "source": [
    "<h1 style=\"color:red; display:inline\">Coding Challenge! &lt; / &gt; </h1>\n",
    "\n",
    "Build a dataset on Constellate; make a dataframe from your dataset; manipulate the data; get some useful information from your dataset; plot the information you get."
   ]
  },
  {
   "cell_type": "code",
   "execution_count": null,
   "id": "cd86e9e0",
   "metadata": {},
   "outputs": [],
   "source": []
  }
 ],
 "metadata": {
  "kernelspec": {
   "display_name": "Python 3 (ipykernel)",
   "language": "python",
   "name": "python3"
  },
  "language_info": {
   "codemirror_mode": {
    "name": "ipython",
    "version": 3
   },
   "file_extension": ".py",
   "mimetype": "text/x-python",
   "name": "python",
   "nbconvert_exporter": "python",
   "pygments_lexer": "ipython3",
   "version": "3.10.7"
  },
  "toc": {
   "base_numbering": 1,
   "nav_menu": {},
   "number_sections": true,
   "sideBar": true,
   "skip_h1_title": false,
   "title_cell": "Table of Contents",
   "title_sidebar": "Contents",
   "toc_cell": false,
   "toc_position": {},
   "toc_section_display": true,
   "toc_window_display": false
  }
 },
 "nbformat": 4,
 "nbformat_minor": 5
}
