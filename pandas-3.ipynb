{
 "cells": [
  {
   "cell_type": "markdown",
   "id": "3fac83f3-4536-4584-870a-6bcfec93ea68",
   "metadata": {},
   "source": [
    "<img align=\"left\" src=\"https://ithaka-labs.s3.amazonaws.com/static-files/images/tdm/tdmdocs/CC_BY.png\"><br />\n",
    "\n",
    "This notebook is adapted by Zhuo Chen from the notebooks created by [Nathan Kelber](http://nkelber.com), [William Mattingly](https://datascience.si.edu/people/dr-william-mattingly) and [Melanie Walsh](https://melaniewalsh.org) under [Creative Commons CC BY License](https://creativecommons.org/licenses/by/4.0/)<br />\n",
    "For questions/comments/improvements, email zhuo.chen@ithaka.org or nathan.kelber@ithaka.org<br />\n",
    "___"
   ]
  },
  {
   "cell_type": "markdown",
   "id": "7bbef364-f331-462d-96f1-4cd736b4dcec",
   "metadata": {},
   "source": [
    "# Pandas 3 \n",
    "\n",
    "**Description:** This notebook describes how to:\n",
    "* Build a dataset from Constellate\n",
    "* Make a dataframe from the dataset\n",
    "* Group and aggregate data\n",
    "* Plot using Pandas\n",
    "\n",
    "This is the third notebook in a series on learning to use Pandas. \n",
    "\n",
    "**Use Case:** For Learners (Detailed explanation, not ideal for researchers)\n",
    "\n",
    "**Difficulty:** Intermediate\n",
    "\n",
    "**Knowledge Required:** \n",
    "* [Pandas 1](./pandas-1.ipynb)\n",
    "* [Pandas 2](./pandas-2.ipynb)\n",
    "* Python Basics ([Start Python Basics I](./python-basics-1.ipynb))\n",
    "\n",
    "**Knowledge Recommended:** \n",
    "* [Python Intermediate 1](./python-intermediate-1.ipynb)\n",
    "* [Python Intermediate 2](./python-intermediate-2.ipynb)\n",
    "* [Python Intermediate 4](./python-intermediate-4.ipynb)\n",
    "\n",
    "**Completion Time:** 60 minutes\n",
    "\n",
    "**Data Format:** JSONL \n",
    "\n",
    "**Libraries Used:** Pandas\n",
    "\n",
    "**Research Pipeline:** None\n",
    "___\n"
   ]
  },
  {
   "cell_type": "markdown",
   "id": "a4af26b1",
   "metadata": {},
   "source": [
    "# Build a dataset from Constellate"
   ]
  },
  {
   "cell_type": "markdown",
   "id": "1b46d211",
   "metadata": {},
   "source": [
    "The dataset we are going to use for today's lesson is the documents from JSTOR about Economics limited to document type(s) chapter and language(s) English from 2007 - 2012 and limited to full text availability."
   ]
  },
  {
   "cell_type": "code",
   "execution_count": null,
   "id": "007ecd7a",
   "metadata": {},
   "outputs": [],
   "source": [
    "# install and import constellate\n",
    "!pip3 install constellate-client\n",
    "import constellate"
   ]
  },
  {
   "cell_type": "code",
   "execution_count": null,
   "id": "9887ff28",
   "metadata": {},
   "outputs": [],
   "source": [
    "# Creating a variable `dataset_id` to hold our dataset ID\n",
    "# The dataset is Full-Text chapters in English \n",
    "# from the JSTOR about economics published between 2007-2012 \n",
    "dataset_id = 'f7390385-7fc6-5dde-bcdf-79724bb916e5'"
   ]
  },
  {
   "cell_type": "code",
   "execution_count": null,
   "id": "da74ccac",
   "metadata": {},
   "outputs": [],
   "source": [
    "# use .get_dataset to download the dataset (sampled to 1500 documents)\n",
    "# in the Constellate Document Format (jsonl) and give the file a name\n",
    "dataset_file = constellate.get_dataset(dataset_id, 'economics')"
   ]
  },
  {
   "cell_type": "markdown",
   "id": "76b417ad",
   "metadata": {},
   "source": [
    "If you would like to download the full dataset (up to a limit of 25,000 documents),\n",
    "request it first in the builder environment. See the Constellate Client\n",
    "documentation at: https://constellate.org/docs/constellate-client\n",
    "Then use the `constellate.download()` method to download the dataset."
   ]
  },
  {
   "cell_type": "markdown",
   "id": "51c58119",
   "metadata": {},
   "source": [
    "## Read in the data\n",
    "After we download the dataset, we can use the `dataset_reader()` method to read in the data. "
   ]
  },
  {
   "cell_type": "code",
   "execution_count": null,
   "id": "b8a6a5dc",
   "metadata": {},
   "outputs": [],
   "source": [
    "# Use the .dataset_reader() method to read in the documents\n",
    "docs = constellate.dataset_reader(dataset_file)"
   ]
  },
  {
   "cell_type": "code",
   "execution_count": null,
   "id": "b33c2a86",
   "metadata": {},
   "outputs": [],
   "source": [
    "# Check the type of docs\n",
    "type(docs)"
   ]
  },
  {
   "cell_type": "markdown",
   "id": "2f883602",
   "metadata": {},
   "source": [
    "Recall from [Python Intermediate 1](./python-intermediate-1.ipynb) that the difference between a list and a generator is that the latter yields only one element at a time. As a result, generators are more memory-efficient than lists. \n",
    "\n",
    "To return the elements in a generator one by one, we use the `next()` function."
   ]
  },
  {
   "cell_type": "code",
   "execution_count": null,
   "id": "bc86d488",
   "metadata": {},
   "outputs": [],
   "source": [
    "# Take a look at the first element of the generator docs\n",
    "doc1 = next(docs)\n",
    "doc1"
   ]
  },
  {
   "cell_type": "markdown",
   "id": "af82ecf9",
   "metadata": {},
   "source": [
    "We can see that the document is loaded as a Python dictionary. "
   ]
  },
  {
   "cell_type": "code",
   "execution_count": null,
   "id": "67df0592",
   "metadata": {},
   "outputs": [],
   "source": [
    "# Get all keys from the dict\n",
    "doc1.keys()"
   ]
  },
  {
   "cell_type": "markdown",
   "id": "ac923c8c",
   "metadata": {},
   "source": [
    "## Create a dataframe"
   ]
  },
  {
   "cell_type": "code",
   "execution_count": null,
   "id": "6514925b",
   "metadata": {},
   "outputs": [],
   "source": [
    "# import the Pandas library\n",
    "import pandas as pd"
   ]
  },
  {
   "cell_type": "markdown",
   "id": "2f765b21",
   "metadata": {},
   "source": [
    "Suppose not all data in the documents are of interest to us. Let's select the data we are interested in.  "
   ]
  },
  {
   "cell_type": "code",
   "execution_count": null,
   "id": "91c74dc6",
   "metadata": {},
   "outputs": [],
   "source": [
    "# Data of interest\n",
    "data_of_interest = ['id', 'fullText', 'title', 'publicationYear', 'wordCount']"
   ]
  },
  {
   "cell_type": "markdown",
   "id": "49b5f56b",
   "metadata": {},
   "source": [
    "We can create an empty dataframe with the strings in this list as the column headers."
   ]
  },
  {
   "cell_type": "code",
   "execution_count": null,
   "id": "e6714596",
   "metadata": {
    "scrolled": true
   },
   "outputs": [],
   "source": [
    "# Create a dataframe\n",
    "df = pd.DataFrame(columns=data_of_interest)\n",
    "df"
   ]
  },
  {
   "cell_type": "code",
   "execution_count": null,
   "id": "fabbf752",
   "metadata": {},
   "outputs": [],
   "source": [
    "# Get the docs again\n",
    "docs = constellate.dataset_reader(dataset_file)"
   ]
  },
  {
   "cell_type": "markdown",
   "id": "42216bc8",
   "metadata": {},
   "source": [
    "From each doc in docs, we want to grab the values corresponding to the keys in the list of `data_of_interest` and put those data under the relevant header in the dataframe.  "
   ]
  },
  {
   "cell_type": "code",
   "execution_count": null,
   "id": "f5dbb632",
   "metadata": {},
   "outputs": [],
   "source": [
    "index = 0 # initialize a variable 'index' and give it a value of 0\n",
    "for doc in docs:\n",
    "    df.loc[index] = [doc[column] for column in data_of_interest] # use a list comprehension to add rows\n",
    "    index = index + 1\n",
    "df"
   ]
  },
  {
   "cell_type": "markdown",
   "id": "b84aba96",
   "metadata": {},
   "source": [
    "If we want, we can do some data cleaning or pre-processing after we create a dataframe. For example, when we look at the 'id' column, we can see that all document ids start with \"http://www.jstor.org/stable/\". We can get rid of this prefix and use the rest of the string as the ids. "
   ]
  },
  {
   "cell_type": "code",
   "execution_count": null,
   "id": "94f00766",
   "metadata": {},
   "outputs": [],
   "source": [
    "# Shorten the ids\n",
    "df['id'] = df['id'].apply(lambda r: r.split('stable/')[1])\n",
    "df"
   ]
  },
  {
   "cell_type": "code",
   "execution_count": null,
   "id": "cf1e9337",
   "metadata": {},
   "outputs": [],
   "source": [
    "# Explore the dataframe\n",
    "df.info()"
   ]
  },
  {
   "cell_type": "markdown",
   "id": "8d1dde9b",
   "metadata": {},
   "source": [
    "# Group and aggregate data"
   ]
  },
  {
   "cell_type": "markdown",
   "id": "2345dccf",
   "metadata": {},
   "source": [
    "In total, there are 1217 documents in our dataset. \n",
    "\n",
    "Suppose we would like to know the number of documents from each year in this dataset.\n",
    "\n",
    "We can use the `.grouby()` method to group the documents by the publication year and then use the `.size()` method to count how many rows there are in each group.  "
   ]
  },
  {
   "cell_type": "code",
   "execution_count": null,
   "id": "16c39249",
   "metadata": {},
   "outputs": [],
   "source": [
    "# Group the data by year and count number of rows in each group\n",
    "df.groupby('publicationYear').size()"
   ]
  },
  {
   "cell_type": "code",
   "execution_count": null,
   "id": "b5cbcd4e",
   "metadata": {},
   "outputs": [],
   "source": [
    "# Create a dataframe storing the number of documents by year\n",
    "doc_by_year = df.groupby('publicationYear').size()\n",
    "doc_by_year"
   ]
  },
  {
   "cell_type": "markdown",
   "id": "3b39261d",
   "metadata": {},
   "source": [
    "We can plot a bar chart to show the number of documents from each year in the dataset visually."
   ]
  },
  {
   "cell_type": "code",
   "execution_count": null,
   "id": "8fd648a3",
   "metadata": {},
   "outputs": [],
   "source": [
    "# Give a command to show the charts in the notebook\n",
    "%matplotlib inline"
   ]
  },
  {
   "cell_type": "code",
   "execution_count": null,
   "id": "c99d189f",
   "metadata": {
    "scrolled": true
   },
   "outputs": [],
   "source": [
    "# Plot a bar chart to show number of docs from each year in the dataset\n",
    "doc_by_year.plot(kind='bar', title='Doc_by_year')"
   ]
  },
  {
   "cell_type": "markdown",
   "id": "e081ac97",
   "metadata": {},
   "source": [
    "There are other calculations we can do after grouping data.\n",
    "\n",
    "For example, let's say we would like to know the sum of the word count of all the documents from each year in our dataset. To achieve this goal, we can group the data by `publicationYear`, and then aggregate the data by summing the numerical values in the column of `wordCount` for each subgroup.  "
   ]
  },
  {
   "cell_type": "code",
   "execution_count": null,
   "id": "ed24b003",
   "metadata": {},
   "outputs": [],
   "source": [
    "# Get the sum of word count for each year in the dataset, sort the result by word count\n",
    "sum_word_count = df.groupby('publicationYear')['wordCount'].agg('sum').sort_values()\n",
    "sum_word_count.to_frame().reset_index()"
   ]
  },
  {
   "cell_type": "code",
   "execution_count": null,
   "id": "1cd67200",
   "metadata": {},
   "outputs": [],
   "source": [
    "# Plot the sum of word count of the docs from each year\n",
    "sum_word_count.plot(x='wordCount', y='publicationYear', kind='barh', xlabel='Sum_word_count')"
   ]
  },
  {
   "cell_type": "markdown",
   "id": "ebc83761",
   "metadata": {},
   "source": [
    "We know that between 2007 and 2009, there was a global recession called The Great Recession. Suppose we would like to know what percentage of all the documents in our dataset mentioned recession. "
   ]
  },
  {
   "cell_type": "markdown",
   "id": "fa976193",
   "metadata": {},
   "source": [
    "To check whether a document mentioned 'recession' or not, we will search the full text of each document for the word 'recession'. Let's first grab the full text from one document and take a look."
   ]
  },
  {
   "cell_type": "code",
   "execution_count": null,
   "id": "b2deeb37",
   "metadata": {},
   "outputs": [],
   "source": [
    "# grab the full text of the first document\n",
    "df.loc[0, 'fullText']"
   ]
  },
  {
   "cell_type": "code",
   "execution_count": null,
   "id": "5e8b2188",
   "metadata": {},
   "outputs": [],
   "source": [
    "len(df.loc[0, 'fullText'])"
   ]
  },
  {
   "cell_type": "code",
   "execution_count": null,
   "id": "da14de18",
   "metadata": {},
   "outputs": [],
   "source": [
    "# Join the strings in each list in the column 'fullText' into a big string\n",
    "df['fullText'] = df['fullText'].str.join('')"
   ]
  },
  {
   "cell_type": "code",
   "execution_count": null,
   "id": "377d5382",
   "metadata": {},
   "outputs": [],
   "source": [
    "# A quick refresher of join\n",
    "'-'.join(['a', 'b', 'c'])"
   ]
  },
  {
   "cell_type": "code",
   "execution_count": null,
   "id": "859f867e",
   "metadata": {},
   "outputs": [],
   "source": [
    "# Create a new column storing whether a document mentioned 'recession'\n",
    "df['recession'] = df['fullText'].str.contains('recession', case=False)\n",
    "df"
   ]
  },
  {
   "cell_type": "code",
   "execution_count": null,
   "id": "b9263b53",
   "metadata": {},
   "outputs": [],
   "source": [
    "# Get the rows where the value in the 'recession' column is true\n",
    "rec_docs = df[df['recession']==True]\n",
    "rec_docs"
   ]
  },
  {
   "cell_type": "code",
   "execution_count": null,
   "id": "5b7a85fb",
   "metadata": {},
   "outputs": [],
   "source": [
    "# Get how many docs from each year mentioned 'recession'\n",
    "rec_docs_by_year = rec_docs.groupby('publicationYear').size()\n",
    "rec_docs_by_year"
   ]
  },
  {
   "cell_type": "code",
   "execution_count": null,
   "id": "f80b1dd7",
   "metadata": {},
   "outputs": [],
   "source": [
    "# Plot a pie graph showing \n",
    "# of all docs that mentioned 'recession'\n",
    "# what percentage of the docs is from 2007, what percentage of the docs is from 2008,\n",
    "# so on and so forth\n",
    "rec_docs_by_year.plot(kind='pie', autopct=\"%.2f\", figsize=(6,6), ylabel='pct_rec_doc')"
   ]
  },
  {
   "cell_type": "markdown",
   "id": "b8e4a340",
   "metadata": {},
   "source": [
    "We can also plot a line graph to track the trend of the precentage of docs that mentioned 'recession' over the years. "
   ]
  },
  {
   "cell_type": "code",
   "execution_count": null,
   "id": "d0125a4d",
   "metadata": {},
   "outputs": [],
   "source": [
    "# Merge doc_by_year and rec_docs_by_year\n",
    "new_df = pd.concat([doc_by_year, rec_docs_by_year], axis=1)\n",
    "new_df"
   ]
  },
  {
   "cell_type": "code",
   "execution_count": null,
   "id": "2b3738de",
   "metadata": {},
   "outputs": [],
   "source": [
    "# Change the headers to make them more descriptive\n",
    "new_df.rename(columns={0:'num_of_doc', 1:'num_rec_doc'}, inplace=True)\n",
    "new_df"
   ]
  },
  {
   "cell_type": "code",
   "execution_count": null,
   "id": "e3345966",
   "metadata": {},
   "outputs": [],
   "source": [
    "# Make a new column storing the percentage of docs that mentioned 'recession' for each year\n",
    "new_df['pct_rec_doc'] = round(new_df['num_rec_doc']/new_df['num_of_doc'],2)\n",
    "new_df"
   ]
  },
  {
   "cell_type": "markdown",
   "id": "d41f077a",
   "metadata": {},
   "source": [
    "Now we are ready to plot a line graph that shows the trend of the percentage of docs that mentioned 'recession' over the years."
   ]
  },
  {
   "cell_type": "code",
   "execution_count": null,
   "id": "0d5ab905",
   "metadata": {},
   "outputs": [],
   "source": [
    "# Plot of a line graph showing\n",
    "# the percentage of recession docs over the years\n",
    "new_df.plot(use_index=True, y='pct_rec_doc', kind='line')"
   ]
  },
  {
   "cell_type": "markdown",
   "id": "5e2b3ab1",
   "metadata": {},
   "source": [
    "We can also make a bar chart where the number of docs in a year stands side by side with the number of docs that mentioned 'recession' in the same year."
   ]
  },
  {
   "cell_type": "code",
   "execution_count": null,
   "id": "737e4b7e",
   "metadata": {},
   "outputs": [],
   "source": [
    "# Plot a bar chart with\n",
    "# number of doc and number of rec doc side by side\n",
    "new_df.plot(use_index=True, y=['num_of_doc', 'num_rec_doc'], kind='bar')"
   ]
  },
  {
   "cell_type": "markdown",
   "id": "44f2b8c3",
   "metadata": {},
   "source": [
    "<h1 style=\"color:red; display:inline\">Coding Challenge! &lt; / &gt; </h1>\n",
    "\n",
    "Build a dataset on Constellate; make a dataframe from your dataset; manipulate the data; get some useful information from your dataset; plot the information you get."
   ]
  },
  {
   "cell_type": "code",
   "execution_count": null,
   "id": "b11f63ec",
   "metadata": {},
   "outputs": [],
   "source": []
  },
  {
   "cell_type": "markdown",
   "id": "1724f975",
   "metadata": {},
   "source": [
    "___\n",
    "# Lesson Complete\n",
    "Congratulations! You've completed the *Pandas* series. \n",
    "\n",
    "Considering the amount of material in *Pandas 1-3* there's a good chance you won't retain it all. That's okay. Programmers often need to look up things to accomplish a task they haven't done in a while, particularly if it is in a language they don't often use. When you're working on a project, you can always come back to these lessons as reference materials. In other words, you've learned an incredible amount, so don't be surprised if it doesn't all stick at first.\n",
    "\n",
    "If you want to help yourself retain what you've learned, the best way is to start putting it into practice. Try your hand at creating some small Pandas projects and recognize that the things you've learned here will cement with time and practice. When you do forget a particular thing&mdash;as we all do&mdash;a quick web search often turns up some useful examples.\n",
    "\n",
    "## Start a Text Analysis Lesson:\n",
    "* [Exploring Metadata](./exploring-metadata.ipynb) "
   ]
  },
  {
   "cell_type": "code",
   "execution_count": null,
   "id": "dc3a6748",
   "metadata": {},
   "outputs": [],
   "source": []
  }
 ],
 "metadata": {
  "kernelspec": {
   "display_name": "Python 3 (ipykernel)",
   "language": "python",
   "name": "python3"
  },
  "language_info": {
   "codemirror_mode": {
    "name": "ipython",
    "version": 3
   },
   "file_extension": ".py",
   "mimetype": "text/x-python",
   "name": "python",
   "nbconvert_exporter": "python",
   "pygments_lexer": "ipython3",
   "version": "3.10.7"
  },
  "toc": {
   "base_numbering": 1,
   "nav_menu": {},
   "number_sections": true,
   "sideBar": true,
   "skip_h1_title": false,
   "title_cell": "Table of Contents",
   "title_sidebar": "Contents",
   "toc_cell": false,
   "toc_position": {},
   "toc_section_display": true,
   "toc_window_display": false
  }
 },
 "nbformat": 4,
 "nbformat_minor": 5
}
