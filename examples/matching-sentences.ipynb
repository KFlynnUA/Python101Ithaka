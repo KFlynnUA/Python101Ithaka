{
 "cells": [
  {
   "cell_type": "markdown",
   "metadata": {},
   "source": [
    "<img align=\"left\" src=\"https://ithaka-labs.s3.amazonaws.com/static-files/images/tdm/tdmdocs/CC_BY.png\"><br />\n",
    "\n",
    "Created on August 19, 2021 \n",
    "By Ted Lawless and [Nathan Kelber](http://nkelber.com) for [JSTOR Labs](https://labs.jstor.org/) under [Creative Commons CC BY License](https://creativecommons.org/licenses/by/4.0/)<br />\n",
    "For questions/comments/improvements, email nathan.kelber@ithaka.org.<br />\n",
    "___"
   ]
  },
  {
   "cell_type": "markdown",
   "metadata": {},
   "source": [
    "# Find all sentences that match a word or phrase\n",
    "\n",
    "The Research Goal:\n",
    "\n",
    ">Identify any sentences in a dataset that match a word/phrase and output them to a file."
   ]
  },
  {
   "cell_type": "markdown",
   "metadata": {},
   "source": [
    "## Before getting started\n",
    "\n",
    "This research question will require a Constellate dataset that contains the full-text of the document. You can create these in the [Constellate dataset builder](https://constellate.org/builder/) by selecting \"Full text only\" from the \"Download Availability\" filter. \n",
    "\n",
    "![The full-text selection in the builder](https://ithaka-labs.s3.amazonaws.com/static-files/images/tdm/tdmdocs/full-text-facet.png)"
   ]
  },
  {
   "cell_type": "markdown",
   "metadata": {},
   "source": [
    "## Import Libraries\n",
    "\n",
    "First, we will import Python libraries to help us with our analysis. We will use:\n",
    "\n",
    "* The defaultdict and Counter libaries to manage our data\n",
    "* The Pandas library for plotting and outputting our data to CSV\n",
    "* The [Natural Language Toolkit](https://www.nltk.org/) to parse the raw text into sentences\n",
    "* The constellate client to retrieve our dataset"
   ]
  },
  {
   "cell_type": "code",
   "execution_count": 12,
   "metadata": {
    "scrolled": true
   },
   "outputs": [],
   "source": [
    "from collections import defaultdict, Counter\n",
    "import pandas as pd\n",
    "import csv\n",
    "from nltk.tokenize import sent_tokenize\n",
    "import constellate"
   ]
  },
  {
   "cell_type": "markdown",
   "metadata": {},
   "source": [
    "If you run this analysis locally, you may also need to download the NLTK punkt tokenizer using:\n",
    "\n",
    "```\n",
    "import nltk\n",
    "nltk.download('punkt')\n",
    "```"
   ]
  },
  {
   "cell_type": "markdown",
   "metadata": {},
   "source": [
    "## Download the dataset and specify the matching text\n",
    "\n",
    "Download a dataset created in the Constellate application into the notebook environment.\n",
    "\n",
    "Add the dataset id that you are interested in retreiving as the `dataset_id` variable. This can be found on your [dashboard](https://constellate.org/dataset/dashboard) in the Constellate web application.\n",
    "\n",
    "If you do not have a dataset, here are two examples you could use:\n",
    "\n",
    "* `f477f1df-6cd5-c12e-844e-a04128e9b6e5`: All documents from JSTOR published in Proceedings of the American Philosophical Society from 1900 - 1930\n",
    "\n",
    "* `88a2bfb7-7196-0ca4-d545-d066ae8cc52c`: All documents from JSTOR published in The American Economic Review from 1910 - 1930 and limited to full text availability"
   ]
  },
  {
   "cell_type": "code",
   "execution_count": 2,
   "metadata": {},
   "outputs": [
    {
     "name": "stdout",
     "output_type": "stream",
     "text": [
      "All documents from JSTOR published in The American Economic Review from 1910 - 1930 and limited to full text availability. 3399 documents.\n",
      "INFO:root:File /Users/nkelber/data/88a2bfb7-7196-0ca4-d545-d066ae8cc52c-sampled-jsonl.jsonl.gz exists. Not re-downloading.\n"
     ]
    }
   ],
   "source": [
    "# Define the dataset ID\n",
    "dataset_id = \"88a2bfb7-7196-0ca4-d545-d066ae8cc52c\"\n",
    "\n",
    "# Retrieve the dataset using the Constellate Client\n",
    "# For more information on the client, see https://constellate.org/docs/constellate-client\n",
    "dataset_file = constellate.get_dataset(dataset_id)"
   ]
  },
  {
   "cell_type": "markdown",
   "metadata": {},
   "source": [
    "Next, define the `matching_phrase` variable that you want to find in the text of the documents. This can be any string and a case insensitive match will be used. "
   ]
  },
  {
   "cell_type": "code",
   "execution_count": 3,
   "metadata": {},
   "outputs": [],
   "source": [
    "matching_phrase = \"inflation\""
   ]
  },
  {
   "cell_type": "markdown",
   "metadata": {},
   "source": [
    "## Tokenize the dataset into sentences\n",
    "\n",
    "1. Loop through all the documents in the dataset\n",
    "2. Read the `fullText` field (which is an array of page text) and parse sentences using nltk's sentence parser\n",
    "3. Check each sentence to see if it contains the matching phrase (case insensitive)\n",
    "4. Save matches to a Python list\n",
    "5. Record the following:\n",
    "    * document identifier\n",
    "    * publication year\n",
    "    * the page sequence number where the sentence was found\n",
    "    * the sentence sequence number within that page\n",
    "    * the text of the sentence."
   ]
  },
  {
   "cell_type": "code",
   "execution_count": 4,
   "metadata": {
    "scrolled": true
   },
   "outputs": [
    {
     "name": "stdout",
     "output_type": "stream",
     "text": [
      "100 documents scanned http://www.jstor.org/stable/1828321\n",
      "200 documents scanned http://www.jstor.org/stable/1828251\n",
      "300 documents scanned http://www.jstor.org/stable/1827841\n",
      "400 documents scanned http://www.jstor.org/stable/1805701\n",
      "500 documents scanned http://www.jstor.org/stable/1805706\n",
      "600 documents scanned http://www.jstor.org/stable/1803429\n",
      "700 documents scanned http://www.jstor.org/stable/1813993\n",
      "800 documents scanned http://www.jstor.org/stable/1827852\n",
      "900 documents scanned http://www.jstor.org/stable/1809763\n",
      "1000 documents scanned http://www.jstor.org/stable/1805415\n",
      "1100 documents scanned http://www.jstor.org/stable/1814920\n",
      "1200 documents scanned http://www.jstor.org/stable/1802953\n",
      "1300 documents scanned http://www.jstor.org/stable/487\n",
      "1400 documents scanned http://www.jstor.org/stable/1804695\n",
      "1500 documents scanned http://www.jstor.org/stable/1805024\n"
     ]
    }
   ],
   "source": [
    "# Lower case our matching phrase and strip any whitespace\n",
    "matching_phrase = matching_phrase.lower().strip()\n",
    "\n",
    "# Define an empty list to store our matched sentences\n",
    "matched_sentences = []\n",
    "\n",
    "# Count our matches\n",
    "matched = 0\n",
    "\n",
    "# Count our loop iterations\n",
    "n = 0\n",
    "\n",
    "for document in constellate.dataset_reader(dataset_file):\n",
    "    publication_year = document[\"publicationYear\"]\n",
    "    for page_sequence, raw_page_text in enumerate(document.get(\"fullText\")):\n",
    "        # Replace all line breaks with spaces.\n",
    "        page = \" \".join(raw_page_text.split())\n",
    "        for sentence_sequence, sentence in enumerate(sent_tokenize(page)):\n",
    "            if matching_phrase in sentence.lower():\n",
    "                matched_sentences.append((document[\"id\"], publication_year, page_sequence, sentence_sequence, sentence))\n",
    "                matched += 1\n",
    "    n += 1\n",
    "    if (n % 100) == 0:\n",
    "       print(f\"{n} documents scanned\", document[\"id\"])"
   ]
  },
  {
   "cell_type": "code",
   "execution_count": 5,
   "metadata": {},
   "outputs": [
    {
     "name": "stdout",
     "output_type": "stream",
     "text": [
      "294 matching sentences found in your dataset.\n"
     ]
    },
    {
     "data": {
      "text/plain": [
       "[('http://www.jstor.org/stable/1813978',\n",
       "  1919,\n",
       "  15,\n",
       "  4,\n",
       "  'Likewise, they are apt to cry out for more money in times of inflation, under a money delusion.'),\n",
       " ('http://www.jstor.org/stable/1801787',\n",
       "  1922,\n",
       "  1,\n",
       "  0,\n",
       "  '154 Reviews and New Books [March necessary allowance for currency inflation; its tendency to ignore earn- ings due to increased war-time effort and diligence; and in general the grave danger that, in future emergencies, producers, seeing no prospect of gain, will relax their efforts.'),\n",
       " ('http://www.jstor.org/stable/1828321',\n",
       "  1913,\n",
       "  12,\n",
       "  14,\n",
       "  'If this revision is prompt and thoroughgoing it should have the effect of checking the present inflationistic tendency, encouraging the import of goods and the export of gold.')]"
      ]
     },
     "execution_count": 5,
     "metadata": {},
     "output_type": "execute_result"
    }
   ],
   "source": [
    "# Report number of matches\n",
    "print(f'{len(matched_sentences)} matching sentences found in your dataset.')\n",
    "\n",
    "# Preview the matched sentences\n",
    "# ID, year, page sequence, sentence sequence for page, actual matching sentence\n",
    "list(matched_sentences[:3])"
   ]
  },
  {
   "cell_type": "markdown",
   "metadata": {},
   "source": [
    "## Create sentence dataframe\n",
    "\n",
    "Create a pandas DataFrame from the matched sentences. This makes it convenient to output as a CSV or analyze further."
   ]
  },
  {
   "cell_type": "code",
   "execution_count": 6,
   "metadata": {},
   "outputs": [],
   "source": [
    "sentence_df = pd.DataFrame(matched_sentences, columns=[\"id\", \"publication_year\", \"page_seq\", \"sentence_seq\", \"text\"])"
   ]
  },
  {
   "cell_type": "code",
   "execution_count": 7,
   "metadata": {
    "scrolled": true
   },
   "outputs": [
    {
     "data": {
      "text/html": [
       "<div>\n",
       "<style scoped>\n",
       "    .dataframe tbody tr th:only-of-type {\n",
       "        vertical-align: middle;\n",
       "    }\n",
       "\n",
       "    .dataframe tbody tr th {\n",
       "        vertical-align: top;\n",
       "    }\n",
       "\n",
       "    .dataframe thead th {\n",
       "        text-align: right;\n",
       "    }\n",
       "</style>\n",
       "<table border=\"1\" class=\"dataframe\">\n",
       "  <thead>\n",
       "    <tr style=\"text-align: right;\">\n",
       "      <th></th>\n",
       "      <th>id</th>\n",
       "      <th>publication_year</th>\n",
       "      <th>page_seq</th>\n",
       "      <th>sentence_seq</th>\n",
       "      <th>text</th>\n",
       "    </tr>\n",
       "  </thead>\n",
       "  <tbody>\n",
       "    <tr>\n",
       "      <th>0</th>\n",
       "      <td>http://www.jstor.org/stable/1813978</td>\n",
       "      <td>1919</td>\n",
       "      <td>15</td>\n",
       "      <td>4</td>\n",
       "      <td>Likewise, they are apt to cry out for more mon...</td>\n",
       "    </tr>\n",
       "    <tr>\n",
       "      <th>1</th>\n",
       "      <td>http://www.jstor.org/stable/1801787</td>\n",
       "      <td>1922</td>\n",
       "      <td>1</td>\n",
       "      <td>0</td>\n",
       "      <td>154 Reviews and New Books [March necessary all...</td>\n",
       "    </tr>\n",
       "    <tr>\n",
       "      <th>2</th>\n",
       "      <td>http://www.jstor.org/stable/1828321</td>\n",
       "      <td>1913</td>\n",
       "      <td>12</td>\n",
       "      <td>14</td>\n",
       "      <td>If this revision is prompt and thoroughgoing i...</td>\n",
       "    </tr>\n",
       "    <tr>\n",
       "      <th>3</th>\n",
       "      <td>http://www.jstor.org/stable/1828321</td>\n",
       "      <td>1913</td>\n",
       "      <td>12</td>\n",
       "      <td>15</td>\n",
       "      <td>Quite irrespective of the merits of tariff rev...</td>\n",
       "    </tr>\n",
       "    <tr>\n",
       "      <th>4</th>\n",
       "      <td>http://www.jstor.org/stable/1828321</td>\n",
       "      <td>1913</td>\n",
       "      <td>13</td>\n",
       "      <td>2</td>\n",
       "      <td>It would not, lhowever, be surprising if in ot...</td>\n",
       "    </tr>\n",
       "  </tbody>\n",
       "</table>\n",
       "</div>"
      ],
      "text/plain": [
       "                                    id  publication_year  page_seq  \\\n",
       "0  http://www.jstor.org/stable/1813978              1919        15   \n",
       "1  http://www.jstor.org/stable/1801787              1922         1   \n",
       "2  http://www.jstor.org/stable/1828321              1913        12   \n",
       "3  http://www.jstor.org/stable/1828321              1913        12   \n",
       "4  http://www.jstor.org/stable/1828321              1913        13   \n",
       "\n",
       "   sentence_seq                                               text  \n",
       "0             4  Likewise, they are apt to cry out for more mon...  \n",
       "1             0  154 Reviews and New Books [March necessary all...  \n",
       "2            14  If this revision is prompt and thoroughgoing i...  \n",
       "3            15  Quite irrespective of the merits of tariff rev...  \n",
       "4             2  It would not, lhowever, be surprising if in ot...  "
      ]
     },
     "execution_count": 7,
     "metadata": {},
     "output_type": "execute_result"
    }
   ],
   "source": [
    "sentence_df.head()"
   ]
  },
  {
   "cell_type": "markdown",
   "metadata": {},
   "source": [
    "## Plot matching sentences over time\n",
    "Visualize the number of matches grouped by the year they occurred in a bar chart."
   ]
  },
  {
   "cell_type": "code",
   "execution_count": 8,
   "metadata": {},
   "outputs": [
    {
     "data": {
      "image/png": "[encoded data removed]",
      "text/plain": [
       "<Figure size 432x288 with 1 Axes>"
      ]
     },
     "metadata": {
      "needs_background": "light"
     },
     "output_type": "display_data"
    }
   ],
   "source": [
    "sentence_df.groupby(\"publication_year\").size()\\\n",
    "  .plot(kind=\"bar\", title=\"Matching sentences over time\", xlabel=\"publication year\", ylabel=\"matching sentences\");"
   ]
  },
  {
   "cell_type": "markdown",
   "metadata": {},
   "source": [
    "## Output a csv file with the matching sentences\n"
   ]
  },
  {
   "cell_type": "code",
   "execution_count": 14,
   "metadata": {},
   "outputs": [],
   "source": [
    "sent_file = f\"../data/{dataset_id}-sentences.csv\"\n",
    "\n",
    "sentence_df.to_csv(sent_file, index=False)"
   ]
  }
 ],
 "metadata": {
  "kernelspec": {
   "display_name": "Python 3",
   "language": "python",
   "name": "python3"
  },
  "language_info": {
   "codemirror_mode": {
    "name": "ipython",
    "version": 3
   },
   "file_extension": ".py",
   "mimetype": "text/x-python",
   "name": "python",
   "nbconvert_exporter": "python",
   "pygments_lexer": "ipython3",
   "version": "3.8.8"
  },
  "toc": {
   "base_numbering": 1,
   "nav_menu": {},
   "number_sections": true,
   "sideBar": true,
   "skip_h1_title": true,
   "title_cell": "Table of Contents",
   "title_sidebar": "Contents",
   "toc_cell": false,
   "toc_position": {},
   "toc_section_display": true,
   "toc_window_display": false
  }
 },
 "nbformat": 4,
 "nbformat_minor": 4
}
