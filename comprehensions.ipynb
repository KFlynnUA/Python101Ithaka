{
 "cells": [
  {
   "cell_type": "markdown",
   "id": "1ccf5448",
   "metadata": {},
   "source": [
    "<img align=\"left\" src=\"https://ithaka-labs.s3.amazonaws.com/static-files/images/tdm/tdmdocs/CC_BY.png\"><br />\n",
    "\n",
    "Created by [Nathan Kelber](http://nkelber.com) and Zhuo Chen under [Creative Commons CC BY License](https://creativecommons.org/licenses/by/4.0/)<br />\n",
    "For questions/comments/improvements, email nathan.kelber@ithaka.org or zhuo.chen@ithaka.org.<br />\n",
    "___"
   ]
  },
  {
   "cell_type": "markdown",
   "id": "cf138ba2",
   "metadata": {},
   "source": [
    "# Python Comprehensions\n",
    "\n",
    "**Description:** This notebook describes:\n",
    "* What a Python comprehension is\n",
    "* How to write and use list comprehensions\n",
    "* How to write and use dictionary comprehensions\n",
    "* How to write and use set comprehensions\n",
    "* How to write and use generator comprehensions\n",
    "\n",
    "**Use Case:** For Learners (Detailed explanation, not ideal for researchers)\n",
    "\n",
    "**Difficulty:** Intermediate\n",
    "\n",
    "**Completion Time:** 90 minutes\n",
    "\n",
    "**Knowledge Required:** \n",
    "* Python Basics Series ([Start Python Basics 1](./python-basics-1.ipynb))\n",
    "\n",
    "**Knowledge Recommended:** None\n",
    "\n",
    "**Data Format:** None\n",
    "\n",
    "**Libraries Used:** None\n",
    "\n",
    "**Research Pipeline:** None\n",
    "___"
   ]
  },
  {
   "cell_type": "markdown",
   "id": "db42e3d6",
   "metadata": {},
   "source": [
    "## List Comprehensions\n",
    "\n",
    "A Python comprehension is a helpful shortcut for creating a list, dictionary, or set from an existing list, dictionary, or set. The same task can usually be accomplished with a for loop, map, or filter, but comprehensions have the benefit of being shorter.\n",
    "\n",
    "### List Comprehensions (Numbers)\n",
    "\n",
    "In this first example, we will use a list with numbers."
   ]
  },
  {
   "cell_type": "code",
   "execution_count": null,
   "id": "5a157714",
   "metadata": {},
   "outputs": [],
   "source": [
    "# Create a list of numbers\n",
    "\n",
    "numbers = [0, 1, 2, 3, 4, 5, 6, 7, 8, 9, 10]"
   ]
  },
  {
   "cell_type": "code",
   "execution_count": null,
   "id": "d40aa4ad",
   "metadata": {},
   "outputs": [],
   "source": [
    "# Create a new list using a for loop\n",
    "\n",
    "new_list = [] # An empty list we will add to\n",
    "\n",
    "for item in numbers:\n",
    "    if item > 5:\n",
    "        new_list.append(item)\n",
    "\n",
    "print(new_list)"
   ]
  },
  {
   "cell_type": "markdown",
   "id": "0f1fb461",
   "metadata": {},
   "source": [
    "Take a look again at the for loop.\n",
    "```\n",
    "for item in numbers:\n",
    "    if item > 5:\n",
    "        new_list.append(item)\n",
    "```\n",
    "\n",
    "We can read this as, \"For each item in numbers, if item is bigger than 5, append item to new_list\". \n",
    "\n",
    "<!-- If we rearrange this slightly, we have the form for a list comprehension:\n",
    "\n",
    "\"Append item, for item in numbers\" -->\n",
    "\n",
    "<!-- We write this as list comprehension like so:\n",
    "\n",
    "`new_list = [item for item in numbers]`\n",
    "\n",
    "The brackets `[]` indicate we are creating a list. -->"
   ]
  },
  {
   "cell_type": "code",
   "execution_count": null,
   "id": "d619de2d",
   "metadata": {},
   "outputs": [],
   "source": [
    "# Now, let's do the same thing using a list comprehension\n",
    "\n",
    "new_list = [item for item in numbers if item > 5]\n",
    "print(new_list)"
   ]
  },
  {
   "cell_type": "markdown",
   "id": "b31654c8",
   "metadata": {},
   "source": [
    "The order of the comprehension seems confusing. How do we understand it?\n",
    "<!-- If the order of the comprehension is confusing, it may help to skip the first variable name and start with:\n",
    "`for item in numbers`\n",
    "then return to the beginning of the comprehension to see what will be appended:\n",
    "`item`. -->"
   ]
  },
  {
   "cell_type": "markdown",
   "id": "bf8fe7ba",
   "metadata": {},
   "source": [
    "### An excursion: using set-builder to help us understand list comprehensions\n",
    "\n",
    "We can use sets in mathematics to help us understand the syntax of a list comprehension. As I explain the notation of sets, you will soon see the similarity between the list comprehension and the set-builder notation. \n",
    "\n",
    "A set is essentially a collection of objects. Recall that in mathematics we notate a set in the following way: within a pair of curly brackets, we put all the elements of that set. \n",
    "\n",
    "$$\\{5,6,7,8,9\\}$$\n",
    "\n",
    "If the set is very big in that it contains, say, hundreds of thousands of elements, we will not want to list all the elements exhaustively because it will take too long to write such a set! Suppose you want to create a set that contains all the natural numbers from 1 to 1000. You will definitely not want to write an extremely long set of numbers!\n",
    "\n",
    "Fortunately, we have another way of writing a set, which we call the set-builder notation. \n",
    "\n",
    "The set-builder notation can be simply put in the following way. \n",
    "\\begin{align}\n",
    "\\{y~|~\\text{conditions that}~y~\\text{must satisfy to be a member in the set}\\}\\\\\\hfill{OR}\n",
    "\\end{align}\n",
    "\\begin{align}\n",
    "\\{y~:~\\text{conditions that}~y~\\text{must satisfy to be a member in the set}\\}  \\\\\n",
    "\\end{align}\n",
    "\n",
    "Back to the previous scenario where you want to create a set that contains all the natural numbers from 1 to 1000, you can easily write the set using the set-builder notation. \n",
    "\n",
    "$$\\{y~|~y\\in N \\wedge 1\\leq y\\leq 1000 \\}$$\n",
    "\n",
    "### Back to the list comprehension ###\n",
    "Going back to the list comprehension we write to create ```new_list```, we can easily see an analogy. \n",
    "```\n",
    "new_list = [item for item in numbers if item > 5]\n",
    "```\n",
    "\n",
    "\n",
    "The list comprehension also consists of two parts. To the left is the variable name standing for the elements we want to include in ```new_list```. To the right are the conditions we want those elements to satisfy! \n",
    "\n",
    "The only differences are:\n",
    "\n",
    "(i) we use the list comprehension to create a **list**, not a set; \n",
    "\n",
    "(ii) the conditions start with a for loop, because we are looping over each element in ```numbers``` and check whether that element satisfies the specified if-condition;\n",
    "\n",
    "(iii) there is no visible symbol like \"$|$\" or \"$:$\" that separates the two parts in list comprehensions.  \n"
   ]
  },
  {
   "cell_type": "markdown",
   "id": "d21e7a21",
   "metadata": {},
   "source": [
    "- ****Exercise one****\n",
    "\n",
    "Create a list ```new_list2``` which contains all the odd numbers from the list ```numbers```. \n",
    "\n",
    "|Operator| Operation| Example | Evaluation |\n",
    "    |---|----|---|---|\n",
    "    |%| Modulus/Remainder| 5 % 2 | 1 |\n",
    "   "
   ]
  },
  {
   "cell_type": "code",
   "execution_count": null,
   "id": "df2cb039",
   "metadata": {},
   "outputs": [],
   "source": []
  },
  {
   "cell_type": "markdown",
   "id": "a3729a7f",
   "metadata": {},
   "source": [
    "Create a list ```new_list3``` which contains those numbers from the list ```numbers```, which, after being timed by 5, is smaller than 35. \n",
    "\n",
    "|Operator| Operation| Example | Evaluation |\n",
    "    |---|----|---|---|\n",
    "    |*| Multiplication | 7 * 8 | 56 |\n"
   ]
  },
  {
   "cell_type": "code",
   "execution_count": null,
   "id": "7ef279ee",
   "metadata": {},
   "outputs": [],
   "source": []
  },
  {
   "cell_type": "markdown",
   "id": "fa5db524",
   "metadata": {},
   "source": [
    "<!-- Here's an example that changes what will be appended. -->\n",
    "<!-- Again, if you find the order confusing, it may help to skip ahead to the `for`. You can also optionally include a parentheses that may help clarify which part will be appended: -->\n",
    "<!-- # Create a new list where each number is doubled\n",
    "\n",
    "new_list = [item * 2 for item in numbers]\n",
    "print(new_list) -->\n",
    "<!-- # # Create a new list where each number is doubled\n",
    "# # Parentheses for clarity\n",
    "\n",
    "# new_list = [(item * 2) for item in numbers]\n",
    "# print(new_list) -->\n"
   ]
  },
  {
   "cell_type": "markdown",
   "id": "799ca1a8",
   "metadata": {},
   "source": [
    "### List Comprehensions (Strings)\n",
    "\n",
    "A list comprehension also works on a list containing other data types, such as a string."
   ]
  },
  {
   "cell_type": "code",
   "execution_count": null,
   "id": "57f238d1",
   "metadata": {},
   "outputs": [],
   "source": [
    "# Create a list of people\n",
    "people = ['Aaron Aston',\n",
    "         'Brianna Barton',\n",
    "         'Carla Cameron',\n",
    "         'Delia Darcy',\n",
    "         'Evelyn Elgin',\n",
    "         'Frederick Federov',\n",
    "         'Gaston Garbo']"
   ]
  },
  {
   "cell_type": "markdown",
   "id": "ab622bf1",
   "metadata": {},
   "source": [
    "In the previous section, we see that in a list comprehension, the membership if-condition is nested in a for loop. Actually, not every list comprehension will have a if-condition. This is because in certain cases, the membership of an element is not further specified by a if-condition. Take a look at a simple example. \n",
    "\n",
    "**Question:** Can you take a guess what the resulting list ```names``` looks like?"
   ]
  },
  {
   "cell_type": "code",
   "execution_count": null,
   "id": "a5f071d6",
   "metadata": {},
   "outputs": [],
   "source": [
    "### sometimes we may not see a if-condition in a list comprehension\n",
    "names=[name for name in people] \n",
    "print (names)"
   ]
  },
  {
   "cell_type": "markdown",
   "id": "7eb27735",
   "metadata": {},
   "source": [
    "In many cases, though, we do not just want to loop over the elements in an existing list and append each element to a new list unchanged. We want to loop over each element in the existing list, use a function to operate on that element and then append the output to the new list. "
   ]
  },
  {
   "cell_type": "code",
   "execution_count": null,
   "id": "da960a4c",
   "metadata": {},
   "outputs": [],
   "source": [
    "# Create a new list that only includes first names\n",
    "# Using a for loop\n",
    "\n",
    "friends = []\n",
    "\n",
    "for name in people:\n",
    "    first_name = name.split()[0] # Split the name on whitespace, then grab the first name/item\n",
    "    friends.append(first_name)\n",
    "    \n",
    "print(friends)\n",
    "\n"
   ]
  },
  {
   "cell_type": "code",
   "execution_count": null,
   "id": "b234f1d1",
   "metadata": {},
   "outputs": [],
   "source": [
    "\"John Doe\".split()"
   ]
  },
  {
   "cell_type": "code",
   "execution_count": null,
   "id": "59f1d28d",
   "metadata": {},
   "outputs": [],
   "source": [
    "\"John Doe\".split()[0]"
   ]
  },
  {
   "cell_type": "code",
   "execution_count": null,
   "id": "1dbd8e80",
   "metadata": {},
   "outputs": [],
   "source": [
    "# Create a new list that only includes first names\n",
    "# Using a list comprehension\n",
    "\n",
    "friends = [name.split()[0] for name in people]\n",
    "\n",
    "print(friends)"
   ]
  },
  {
   "cell_type": "code",
   "execution_count": null,
   "id": "0644201a",
   "metadata": {},
   "outputs": [],
   "source": [
    "# Create a new list that only includes the upper case form of the last names\n",
    "friends =[]\n",
    "for name in people:\n",
    "    last_name_upper=name.split()[1].upper()\n",
    "    friends.append(last_name_upper)\n",
    "print(friends)"
   ]
  },
  {
   "cell_type": "markdown",
   "id": "a22a2e80",
   "metadata": {},
   "source": [
    "**Exercise two:**\n",
    "Create a new list that only includes the upper case form of those last names from ```people``` which are at least 7-letter long.  "
   ]
  },
  {
   "cell_type": "code",
   "execution_count": null,
   "id": "72ef3347",
   "metadata": {},
   "outputs": [],
   "source": [
    "# len()\n",
    "len(\"name\")"
   ]
  },
  {
   "cell_type": "code",
   "execution_count": null,
   "id": "42baf9f7",
   "metadata": {},
   "outputs": [],
   "source": []
  },
  {
   "cell_type": "markdown",
   "id": "b211331f",
   "metadata": {},
   "source": [
    "### List Comprehensions (Multiple Lists)\n",
    "\n",
    "We can also create a list comprehension that pulls from multiple lists by using two for loops within a single list comprehension.\n",
    "<!-- # # Create a first names list\n",
    "\n",
    "# first_names = ['Aaron', 'Brianna', 'Carla', 'Delia', 'Evelyn', 'Frederick', 'Gaston']\n",
    "\n",
    "# # Create a last names list\n",
    "\n",
    "# last_names = ['Aston', 'Barton', 'Cameron', 'Darcy', 'Elgin', 'Federov', 'Garbo'] -->"
   ]
  },
  {
   "cell_type": "markdown",
   "id": "1866e5da",
   "metadata": {},
   "source": [
    "Scenario: Suppose you are running a restaurant. For the lunch special, you provide different varieties of rice, and different protein choices that go with the rice. "
   ]
  },
  {
   "cell_type": "code",
   "execution_count": null,
   "id": "28604420",
   "metadata": {},
   "outputs": [],
   "source": [
    "rices=[\"white rice\", \"brown rice\", \"yellow rice\"]\n",
    "\n",
    "proteins=[\"beef\", \"pork\", \"chicken\", \"shrimp\", \"lamb\",\"tofu\"] "
   ]
  },
  {
   "cell_type": "code",
   "execution_count": null,
   "id": "afad94b0",
   "metadata": {},
   "outputs": [],
   "source": [
    "# Create a list of all possible combinations of rice and meat\n",
    "\n",
    "all_lunch_special_choices = [(rice, protein) for rice in rices for protein in proteins]\n",
    "\n",
    "print(all_lunch_special_choices)"
   ]
  },
  {
   "cell_type": "markdown",
   "id": "301d02d4",
   "metadata": {},
   "source": [
    "In the previous example, the two lists we pull from are independent of each other. We may also encounter cases where we have two lists, one nested in another, to pull from. "
   ]
  },
  {
   "cell_type": "code",
   "execution_count": null,
   "id": "23cf67d4",
   "metadata": {},
   "outputs": [],
   "source": []
  },
  {
   "cell_type": "markdown",
   "id": "74af6020",
   "metadata": {},
   "source": [
    "## Dictionary Comprehension\n",
    "The form of a dictionary comprehension is the same as for a list. Since a dictionary comprehension may deal with keys, values, or both, we need to be prepared to use `.keys()`, `.values()`, or `.items()` (for both)."
   ]
  },
  {
   "cell_type": "code",
   "execution_count": null,
   "id": "335a87e1",
   "metadata": {},
   "outputs": [],
   "source": [
    "# Create a dictionary of contacts and occupations\n",
    "\n",
    "contacts ={\n",
    " 'Amanda Bennett': 'Engineer, electrical',\n",
    " 'Bryan Miller': 'Radiation protection practitioner',\n",
    " 'Christopher Garrison': 'Planning and development surveyor',\n",
    " 'Debra Allen': 'Intelligence analyst',\n",
    " 'Donna Decker': 'Architect',\n",
    " 'Heather Bullock': 'Media planner',\n",
    " 'Jason Brown': 'Energy manager',\n",
    " 'Jason Soto': 'Lighting technician, broadcasting/film/video',\n",
    " 'Marissa Munoz': 'Further education lecturer',\n",
    " 'Matthew Mccall': 'Chief Technology Officer',\n",
    " 'Michael Norman': 'Translator',\n",
    " 'Nicole Leblanc': 'Financial controller',\n",
    " 'Noah Delgado': 'Engineer, land',\n",
    " 'Rachel Charles': 'Physicist, medical',\n",
    " 'Stephanie Petty': 'Architect'}"
   ]
  },
  {
   "cell_type": "code",
   "execution_count": null,
   "id": "3d322336",
   "metadata": {},
   "outputs": [],
   "source": [
    "# Create a dictionary that only contains architects\n",
    "\n",
    "architects = {name: occupation for name, occupation in contacts.items() if occupation == 'Architect'}\n",
    "print(architects)"
   ]
  },
  {
   "cell_type": "markdown",
   "id": "bbe8cd9b",
   "metadata": {},
   "source": [
    "Note that our dictionary comprehension uses braces `{}` instead of brackets `[]`, since it is a dictionary. "
   ]
  },
  {
   "cell_type": "markdown",
   "id": "74a77b3d",
   "metadata": {},
   "source": [
    "Of course, we can also change the dictionary instead of just filtering on it. For example, we could create a dictionary that only contains people with 'Engineer' in their title. We could also change their full occupation title to 'Engineer.'"
   ]
  },
  {
   "cell_type": "code",
   "execution_count": null,
   "id": "68b62fc0",
   "metadata": {
    "scrolled": true
   },
   "outputs": [],
   "source": [
    "# Create a dictionary only containing engineers\n",
    "# Change longer title to just 'Engineer'\n",
    "\n",
    "engineers = {name: 'Engineer' for name, occupation in contacts.items() if 'Engineer' in occupation}\n",
    "print(engineers)"
   ]
  },
  {
   "cell_type": "markdown",
   "id": "0891787b",
   "metadata": {},
   "source": [
    "Notice that Amanda Bennett's original title was 'Engineer, electrical' and Noah Delgado's original title was 'Engineer, land'. Both are changed to engineer. If we wanted to keep the rest of the names in our new dictionary, we could move the `if` statement over to the beginning of our comprehension."
   ]
  },
  {
   "cell_type": "code",
   "execution_count": null,
   "id": "948e6430",
   "metadata": {
    "scrolled": true
   },
   "outputs": [],
   "source": [
    "# Create a dictionary that indicates whether a person is an engineer\n",
    "\n",
    "from pprint import pprint # import pprint for easier to read dictionary prints\n",
    "\n",
    "engineers = {name: ('Engineer' if 'Engineer' in occupation else 'Not Engineer') for name, occupation in contacts.items()}\n",
    "pprint(engineers)"
   ]
  }
 ],
 "metadata": {
  "kernelspec": {
   "display_name": "Python 3 (ipykernel)",
   "language": "python",
   "name": "python3"
  },
  "language_info": {
   "codemirror_mode": {
    "name": "ipython",
    "version": 3
   },
   "file_extension": ".py",
   "mimetype": "text/x-python",
   "name": "python",
   "nbconvert_exporter": "python",
   "pygments_lexer": "ipython3",
   "version": "3.10.7"
  },
  "toc": {
   "base_numbering": 1,
   "nav_menu": {},
   "number_sections": true,
   "sideBar": true,
   "skip_h1_title": false,
   "title_cell": "Table of Contents",
   "title_sidebar": "Contents",
   "toc_cell": false,
   "toc_position": {},
   "toc_section_display": true,
   "toc_window_display": false
  }
 },
 "nbformat": 4,
 "nbformat_minor": 5
}
