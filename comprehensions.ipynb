{
 "cells": [
  {
   "cell_type": "markdown",
   "id": "1ccf5448",
   "metadata": {},
   "source": [
    "<img align=\"left\" src=\"https://ithaka-labs.s3.amazonaws.com/static-files/images/tdm/tdmdocs/CC_BY.png\"><br />\n",
    "\n",
    "Created by [Nathan Kelber](http://nkelber.com) under [Creative Commons CC BY License](https://creativecommons.org/licenses/by/4.0/)<br />\n",
    "For questions/comments/improvements, email nathan.kelber@ithaka.org.<br />\n",
    "___"
   ]
  },
  {
   "cell_type": "markdown",
   "id": "cf138ba2",
   "metadata": {},
   "source": [
    "# Python Comprehensions\n",
    "\n",
    "**Description:** This notebook describes:\n",
    "* What a Python comprehension is\n",
    "* How to write and use list comprehensions\n",
    "* How to write and use dictionary comprehensions\n",
    "\n",
    "**Use Case:** For Learners (Detailed explanation, not ideal for researchers)\n",
    "\n",
    "**Difficulty:** Intermediate\n",
    "\n",
    "**Completion Time:** 30 minutes\n",
    "\n",
    "**Knowledge Required:** \n",
    "* Python Basics Series ([Start Python Basics 1](./python-basics-1.ipynb))\n",
    "\n",
    "**Knowledge Recommended:** None\n",
    "\n",
    "**Data Format:** None\n",
    "\n",
    "**Libraries Used:** None\n",
    "\n",
    "**Research Pipeline:** None\n",
    "___"
   ]
  },
  {
   "cell_type": "markdown",
   "id": "db42e3d6",
   "metadata": {},
   "source": [
    "## List Comprehensions\n",
    "\n",
    "A Python comprehension is a helpful shortcut for creating a list, dictionary, or set from an existing list, dictionary, or set. The same task can usually be accomplished with a for loop, map, or filter, but comprehensions have the benefit of being shorter.\n",
    "\n",
    "### List Comprehensions (Numbers)\n",
    "\n",
    "In this first example, we will use a list with numbers."
   ]
  },
  {
   "cell_type": "code",
   "execution_count": null,
   "id": "5a157714",
   "metadata": {},
   "outputs": [],
   "source": [
    "# Create a list of numbers\n",
    "\n",
    "numbers = [0, 1, 2, 3, 4, 5, 6, 7, 8, 9, 10]"
   ]
  },
  {
   "cell_type": "code",
   "execution_count": null,
   "id": "d40aa4ad",
   "metadata": {},
   "outputs": [],
   "source": [
    "# Create a new list using a for loop\n",
    "\n",
    "new_list = [] # An empty list we will add to\n",
    "\n",
    "for item in numbers:\n",
    "    new_list.append(item)\n",
    "    \n",
    "print(new_list)"
   ]
  },
  {
   "cell_type": "markdown",
   "id": "0f1fb461",
   "metadata": {},
   "source": [
    "Take a look again at the for loop.\n",
    "```\n",
    "for item in numbers:\n",
    "       new_list.append(item)\n",
    "```\n",
    "\n",
    "We can read this as, \"For item in numbers, append item\". If we rearrange this slightly, we have the form for a list comprehension:\n",
    "\n",
    "\"Append item, for item in numbers\"\n",
    "\n",
    "We write this as list comprehension like so:\n",
    "\n",
    "`new_list = [item for item in numbers]`\n",
    "\n",
    "The brackets `[]` indicate we are creating a list."
   ]
  },
  {
   "cell_type": "code",
   "execution_count": null,
   "id": "d619de2d",
   "metadata": {},
   "outputs": [],
   "source": [
    "# Create a new_list using a list comprehension\n",
    "\n",
    "new_list = [item for item in numbers]\n",
    "print(new_list)"
   ]
  },
  {
   "cell_type": "markdown",
   "id": "b31654c8",
   "metadata": {},
   "source": [
    "If the order of the comprehension is confusing, it may help to skip the first variable name and start with:\n",
    "`for item in numbers`\n",
    "then return to the beginning of the comprehension to see what will be appended:\n",
    "`item`.\n",
    "\n",
    "Here's an example that changes what will be appended."
   ]
  },
  {
   "cell_type": "code",
   "execution_count": null,
   "id": "b8331ec8",
   "metadata": {},
   "outputs": [],
   "source": [
    "# Create a new list where each number is doubled\n",
    "\n",
    "new_list = [item * 2 for item in numbers]\n",
    "print(new_list)"
   ]
  },
  {
   "cell_type": "markdown",
   "id": "5a3f1f39",
   "metadata": {},
   "source": [
    "Again, if you find the order confusing, it may help to skip ahead to the `for`. You can also optionally include a parentheses that may help clarify which part will be appended:"
   ]
  },
  {
   "cell_type": "code",
   "execution_count": null,
   "id": "04e475e8",
   "metadata": {},
   "outputs": [],
   "source": [
    "# Create a new list where each number is doubled\n",
    "# Parentheses for clarity\n",
    "\n",
    "new_list = [(item * 2) for item in numbers]\n",
    "print(new_list)"
   ]
  },
  {
   "cell_type": "markdown",
   "id": "799ca1a8",
   "metadata": {},
   "source": [
    "### List Comprehensions (Strings)\n",
    "\n",
    "A list comprehension also works on a list containing other data types, such as a string."
   ]
  },
  {
   "cell_type": "code",
   "execution_count": null,
   "id": "57f238d1",
   "metadata": {},
   "outputs": [],
   "source": [
    "# Create a list of people\n",
    "people = ['Aaron Aston',\n",
    "         'Brianna Barton',\n",
    "         'Carla Cameron',\n",
    "         'Delia Darcy',\n",
    "         'Evelyn Elgin',\n",
    "         'Frederick Federov',\n",
    "         'Gaston Garbo']"
   ]
  },
  {
   "cell_type": "code",
   "execution_count": null,
   "id": "95baeb87",
   "metadata": {},
   "outputs": [],
   "source": [
    "# Creating a new list using a list comprehension\n",
    "\n",
    "new_friends = [name for name in people]\n",
    "\n",
    "list(new_friends)"
   ]
  },
  {
   "cell_type": "markdown",
   "id": "5008fcd7",
   "metadata": {},
   "source": [
    "Instead of copying all the items from one list to another, we can insert logic such as splitting out all the first names."
   ]
  },
  {
   "cell_type": "code",
   "execution_count": null,
   "id": "da960a4c",
   "metadata": {},
   "outputs": [],
   "source": [
    "# Create a new list that only includes first names\n",
    "# Using a for loop\n",
    "\n",
    "friends = []\n",
    "\n",
    "for name in people:\n",
    "    first_name = name.split()[0] # Split the name on whitespace, then grab the first name/item\n",
    "    friends.append(first_name)\n",
    "    \n",
    "print(friends)\n",
    "\n"
   ]
  },
  {
   "cell_type": "code",
   "execution_count": null,
   "id": "1dbd8e80",
   "metadata": {},
   "outputs": [],
   "source": [
    "# Create a new list that only includes first names\n",
    "# Using a list comprehension\n",
    "\n",
    "friends = [name.split()[0] for name in people]\n",
    "\n",
    "print(friends)"
   ]
  },
  {
   "cell_type": "markdown",
   "id": "fd204274",
   "metadata": {},
   "source": [
    "We can also add restrictions to list comprehension by adding an additional `if` statement at the end of the comprehension."
   ]
  },
  {
   "cell_type": "code",
   "execution_count": null,
   "id": "0644201a",
   "metadata": {},
   "outputs": [],
   "source": [
    "friends = [name for name in people if name != 'Delia Darcy']\n",
    "print(friends)"
   ]
  },
  {
   "cell_type": "markdown",
   "id": "b211331f",
   "metadata": {},
   "source": [
    "### List Comprehensions (Multiple Lists)\n",
    "\n",
    "We can also create a list comprehension that pulls from multiple lists by using two for loops within a single list comprehension."
   ]
  },
  {
   "cell_type": "code",
   "execution_count": null,
   "id": "28604420",
   "metadata": {},
   "outputs": [],
   "source": [
    "# Create a first names list\n",
    "\n",
    "first_names = ['Aaron', 'Brianna', 'Carla', 'Delia', 'Evelyn', 'Frederick', 'Gaston']\n",
    "\n",
    "# Create a last names list\n",
    "\n",
    "last_names = ['Aston', 'Barton', 'Cameron', 'Darcy', 'Elgin', 'Federov', 'Garbo']"
   ]
  },
  {
   "cell_type": "code",
   "execution_count": null,
   "id": "afad94b0",
   "metadata": {},
   "outputs": [],
   "source": [
    "# Create a list of all possible first names with all possible last names\n",
    "\n",
    "all_possible_names = [(f'{first_name} {last_name}') for first_name in first_names for last_name in last_names ]\n",
    "list(all_possible_names)"
   ]
  },
  {
   "cell_type": "markdown",
   "id": "74af6020",
   "metadata": {},
   "source": [
    "## Dictionary Comprehension\n",
    "The form of a dictionary comprehension is the same as for a list. Since a dictionary comprehension may deal with keys, values, or both, we need to be prepared to use `.keys()`, `.values()`, or `.items()` (for both)."
   ]
  },
  {
   "cell_type": "code",
   "execution_count": null,
   "id": "335a87e1",
   "metadata": {},
   "outputs": [],
   "source": [
    "# Create a dictionary of contacts and occupations\n",
    "\n",
    "contacts ={\n",
    " 'Amanda Bennett': 'Engineer, electrical',\n",
    " 'Bryan Miller': 'Radiation protection practitioner',\n",
    " 'Christopher Garrison': 'Planning and development surveyor',\n",
    " 'Debra Allen': 'Intelligence analyst',\n",
    " 'Donna Decker': 'Architect',\n",
    " 'Heather Bullock': 'Media planner',\n",
    " 'Jason Brown': 'Energy manager',\n",
    " 'Jason Soto': 'Lighting technician, broadcasting/film/video',\n",
    " 'Marissa Munoz': 'Further education lecturer',\n",
    " 'Matthew Mccall': 'Chief Technology Officer',\n",
    " 'Michael Norman': 'Translator',\n",
    " 'Nicole Leblanc': 'Financial controller',\n",
    " 'Noah Delgado': 'Engineer, land',\n",
    " 'Rachel Charles': 'Physicist, medical',\n",
    " 'Stephanie Petty': 'Architect'}"
   ]
  },
  {
   "cell_type": "code",
   "execution_count": null,
   "id": "3d322336",
   "metadata": {},
   "outputs": [],
   "source": [
    "# Create a dictionary that only contains architects\n",
    "\n",
    "architects = {name: occupation for name, occupation in contacts.items() if occupation == 'Architect'}\n",
    "print(architects)"
   ]
  },
  {
   "cell_type": "markdown",
   "id": "bbe8cd9b",
   "metadata": {},
   "source": [
    "Note that our dictionary comprehension uses braces `{}` instead of brackets `[]`, since it is a dictionary. "
   ]
  },
  {
   "cell_type": "markdown",
   "id": "74a77b3d",
   "metadata": {},
   "source": [
    "Of course, we can also change the dictionary instead of just filtering on it. For example, we could create a dictionary that only contains people with 'Engineer' in their title. We could also change their full occupation title to 'Engineer.'"
   ]
  },
  {
   "cell_type": "code",
   "execution_count": null,
   "id": "68b62fc0",
   "metadata": {
    "scrolled": true
   },
   "outputs": [],
   "source": [
    "# Create a dictionary only containing engineers\n",
    "# Change longer title to just 'Engineer'\n",
    "\n",
    "engineers = {name: 'Engineer' for name, occupation in contacts.items() if 'Engineer' in occupation}\n",
    "print(engineers)"
   ]
  },
  {
   "cell_type": "markdown",
   "id": "0891787b",
   "metadata": {},
   "source": [
    "Notice that Amanda Bennett's original title was 'Engineer, electrical' and Noah Delgado's original title was 'Engineer, land'. Both are changed to engineer. If we wanted to keep the rest of the names in our new dictionary, we could move the `if` statement over to the beginning of our comprehension."
   ]
  },
  {
   "cell_type": "code",
   "execution_count": null,
   "id": "948e6430",
   "metadata": {
    "scrolled": true
   },
   "outputs": [],
   "source": [
    "# Create a dictionary that indicates whether a person is an engineer\n",
    "\n",
    "from pprint import pprint # import pprint for easier to read dictionary prints\n",
    "\n",
    "engineers = {name: ('Engineer' if 'Engineer' in occupation else 'Not Engineer') for name, occupation in contacts.items()}\n",
    "pprint(engineers)"
   ]
  }
 ],
 "metadata": {
  "kernelspec": {
   "display_name": "Python 3 (ipykernel)",
   "language": "python",
   "name": "python3"
  },
  "language_info": {
   "codemirror_mode": {
    "name": "ipython",
    "version": 3
   },
   "file_extension": ".py",
   "mimetype": "text/x-python",
   "name": "python",
   "nbconvert_exporter": "python",
   "pygments_lexer": "ipython3",
   "version": "3.9.7"
  },
  "toc": {
   "base_numbering": 1,
   "nav_menu": {},
   "number_sections": true,
   "sideBar": true,
   "skip_h1_title": false,
   "title_cell": "Table of Contents",
   "title_sidebar": "Contents",
   "toc_cell": false,
   "toc_position": {},
   "toc_section_display": true,
   "toc_window_display": false
  }
 },
 "nbformat": 4,
 "nbformat_minor": 5
}
