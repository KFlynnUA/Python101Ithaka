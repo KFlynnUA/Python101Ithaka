{
 "cells": [
  {
   "cell_type": "markdown",
   "id": "033d0d6d",
   "metadata": {},
   "source": [
    "<img align=\"left\" src=\"https://ithaka-labs.s3.amazonaws.com/static-files/images/tdm/tdmdocs/CC_BY.png\"><br />\n",
    "\n",
    "Created by [Nathan Kelber](http://nkelber.com) under [Creative Commons CC BY License](https://creativecommons.org/licenses/by/4.0/)<br />\n",
    "For questions/comments/improvements, email nathan.kelber@ithaka.org.<br />\n",
    "___"
   ]
  },
  {
   "cell_type": "markdown",
   "id": "92053a48",
   "metadata": {},
   "source": [
    "# Concordance\n",
    "\n",
    "**Description:** This notebook describes how to create a concordance.\n",
    "\n",
    "**Use Case:** For Learners (Detailed explanation, not ideal for researchers)\n",
    "\n",
    "**Difficulty:** Beginner\n",
    "\n",
    "**Completion Time:** 45 minutes\n",
    "\n",
    "**Knowledge Required:** \n",
    "* Python Basics Series ([Start Python Basics I](./python-basics-1.ipynb))\n",
    "\n",
    "**Knowledge Recommended:** None\n",
    "\n",
    "**Data Format:** None\n",
    "\n",
    "**Libraries Used:** vaderSentiment\n",
    "\n",
    "**Research Pipeline:** None\n",
    "___"
   ]
  },
  {
   "cell_type": "markdown",
   "id": "0e06fbf4",
   "metadata": {},
   "source": [
    "## Concordance\n",
    "\n",
    "The concordance has a long history in humanities study and Roberto Busa's concordance Index Thomisticus—started in 1946—is arguably the first digital humanities project. Before computers were common, they were printed in large volumes such as John Bartlett's 1982 reference book A Complete Concordance to Shakespeare—it was 1909 pages pages long! \n",
    "\n",
    "A concordance gives the context of a given word or phrase in a body of texts. For example, a literary scholar might ask: how often and in what context does Shakespeare use the phrase \"honest Iago\" in Othello? A historian might examine a particular politician's speeches, looking for examples of a particular \"dog whistle\".\n",
    "\n",
    "<font color=\"red\">Read more</font>\n",
    "\n",
    "* Geoffrey Rockwell and Stéfan Sinclair. [Tremendous Mechanical Labor: Father Busa's Algorithm](http://www.digitalhumanities.org/dhq/vol/14/3/000456/000456.html) (2020)\n",
    "* Julianne Nyhan and Marco Passarotti, eds. [One Origin of Digital Humanities: Fr Roberto Busa in His Own Words](https://www.amazon.com/One-Origin-Digital-Humanities-Roberto/dp/3030183114/) (2019)\n",
    "* Julianne Nyhan and Melissa Terras. [Uncovering 'hidden contributions to the history of Digital Humanities: the Index Thomisticus' femal keypunch operators](https://discovery.ucl.ac.uk/id/eprint/10052279/9/Nyhan_DH2017.redacted.pdf) (2017)\n",
    "* Steven E. Jones [Roberto Busa, S.J., and the Emergence of Humanities Computing](https://www.routledge.com/Roberto-Busa-S-J-and-the-Emergence-of-Humanities-Computing-The-Priest/Jones/p/book/9781138587250) (2016)\n",
    "___"
   ]
  },
  {
   "cell_type": "markdown",
   "id": "d27886db",
   "metadata": {},
   "source": [
    "We will be working with The Folger Shakespeare, made freely available by the [The Folger Shakespeare Library](https://shakespeare.folger.edu/)."
   ]
  },
  {
   "cell_type": "code",
   "execution_count": null,
   "id": "c4ef16b7",
   "metadata": {},
   "outputs": [],
   "source": [
    "# Data for this lesson\n",
    "\n",
    "import urllib.request\n",
    "download_urls = [\n",
    "    'https://shakespeare.folger.edu/downloads/txt/shakespeares-works_TXT_FolgerShakespeare.zip',\n",
    "]\n",
    "\n",
    "for url in download_urls:\n",
    "    urllib.request.urlretrieve(url, './data/' + url.rsplit('/', 1)[-1])"
   ]
  },
  {
   "cell_type": "code",
   "execution_count": null,
   "id": "8f1d1f93",
   "metadata": {},
   "outputs": [],
   "source": [
    "# Extract the text files\n",
    "import zipfile\n",
    "\n",
    "with zipfile.ZipFile('./data/shakespeares-works_TXT_FolgerShakespeare.zip', 'r') as zf:\n",
    "    zf.extractall('./data/shakespeare/')"
   ]
  },
  {
   "cell_type": "markdown",
   "id": "9b409073",
   "metadata": {},
   "source": [
    "Now that we have our data downloaded and extracted, we will load a single text for our analysis. Feel free to choose a different Shakespeare text to change the analysis."
   ]
  },
  {
   "cell_type": "code",
   "execution_count": 44,
   "id": "89d6cf4f",
   "metadata": {},
   "outputs": [],
   "source": [
    "# Open a text\n",
    "with open(\"./data/shakespeare/othello_TXT_FolgerShakespeare.txt\") as f:\n",
    "    file_contents = f.read()"
   ]
  },
  {
   "cell_type": "markdown",
   "id": "7298dbee",
   "metadata": {},
   "source": [
    "Next, we lowercase our text and use the Natural Language Toolkit (NLTK) to tokenize it. Tokenizing breaks up the the document into individual words. Finally, we use our tokens to create an NLTK Text object."
   ]
  },
  {
   "cell_type": "code",
   "execution_count": 45,
   "id": "345ac4cf",
   "metadata": {
    "scrolled": true
   },
   "outputs": [],
   "source": [
    "# Tokenize one of the files\n",
    "import nltk\n",
    "file_contents = file_contents.lower()\n",
    "tokens = nltk.word_tokenize(file_contents)\n",
    "text = nltk.Text(tokens)"
   ]
  },
  {
   "cell_type": "code",
   "execution_count": 3,
   "id": "8263f4d0",
   "metadata": {},
   "outputs": [
    {
     "data": {
      "text/plain": [
       "nltk.text.Text"
      ]
     },
     "execution_count": 3,
     "metadata": {},
     "output_type": "execute_result"
    }
   ],
   "source": [
    "# Verify that we have created an NLTK Text object\n",
    "type(text)"
   ]
  },
  {
   "cell_type": "markdown",
   "id": "7aee8615",
   "metadata": {},
   "source": [
    "Now, we can create a concordance with the `.concordance()` method. We pass in a string and the results are printed."
   ]
  },
  {
   "cell_type": "code",
   "execution_count": 4,
   "id": "5593cb90",
   "metadata": {
    "scrolled": true
   },
   "outputs": [
    {
     "name": "stdout",
     "output_type": "stream",
     "text": [
      "Displaying 25 of 42 matches:\n",
      "e 's old , cashiered . whip me such honest knaves ! others there are who , tri\n",
      "ee not to haunt about my doors . in honest plainness thou hast heard me say my\n",
      "rs , cassio , and officers exit . ] honest iago , my desdemona must i leave to\n",
      "ree and open nature that thinks men honest that but seem to be so , and will a\n",
      " the pegs that make this music , as honest as i am . othello come . let us to \n",
      "i look to 't . othello iago is most honest . michael , goodnight . tomorrow wi\n",
      "an engraffed infirmity . it were an honest action to say so to the moor . iago\n",
      "ty . what is the matter , masters ? honest iago , that looks dead with grievin\n",
      "o , my reputation ! iago as i am an honest man , i thought you had received so\n",
      "test , in the sincerity of love and honest kindness . cassio i think it freely\n",
      " to the watch . cassio good night , honest iago . [ cassio exits . ] iago and \n",
      "when this advice is free i give and honest , probal to thinking , and indeed t\n",
      "nclining desdemona to subdue in any honest suit . she 's framed as fruitful as\n",
      "ows , as i do now . for whiles this honest fool plies desdemona to repair his \n",
      "it . ] cassio dost thou hear , mine honest friend ? clown no , i hear not your\n",
      "friend ? clown no , i hear not your honest friend . i hear you . cassio prithe\n",
      "ver knew a florentine more kind and honest . [ enter emilia . ] emilia good mo\n",
      "were his . desdemona o , that 's an honest fellow ! do not doubt , cassio , bu\n",
      " cunning , i have no judgment in an honest face . i prithee call him back . ot\n",
      "n'st thou aught in that ? is he not honest ? iago honest , my lord ? othello h\n",
      "t in that ? is he not honest ? iago honest , my lord ? othello honest -- ay , \n",
      "t ? iago honest , my lord ? othello honest -- ay , honest . iago my lord , for\n",
      " , my lord ? othello honest -- ay , honest . iago my lord , for aught i know .\n",
      " i dare be sworn i think that he is honest . othello i think so too . iago men\n",
      "ago why then , i think cassio 's an honest man . othello nay , yet there 's mo\n"
     ]
    }
   ],
   "source": [
    "# Create a concordance for the given word\n",
    "text.concordance('honest')"
   ]
  },
  {
   "cell_type": "markdown",
   "id": "20ab44e1",
   "metadata": {},
   "source": [
    "By default, the first 25 matches are printed along with 80 characters on each side of our string text. We can specify that more lines should be shown using a `lines` and `width` argument that accept integers."
   ]
  },
  {
   "cell_type": "code",
   "execution_count": 5,
   "id": "cdf035c6",
   "metadata": {},
   "outputs": [
    {
     "name": "stdout",
     "output_type": "stream",
     "text": [
      "Displaying 42 of 42 matches:\n",
      " and when he 's old , cashiered . whip me such honest knaves ! others there are who , trimmed in for\n",
      " charged thee not to haunt about my doors . in honest plainness thou hast heard me say my daughter i\n",
      " the senators , cassio , and officers exit . ] honest iago , my desdemona must i leave to thee . i p\n",
      "r is of a free and open nature that thinks men honest that but seem to be so , and will as tenderly \n",
      "ll set down the pegs that make this music , as honest as i am . othello come . let us to the castle.\n",
      "l eye will i look to 't . othello iago is most honest . michael , goodnight . tomorrow with your ear\n",
      "ith one of an engraffed infirmity . it were an honest action to say so to the moor . iago not i , fo\n",
      "her propriety . what is the matter , masters ? honest iago , that looks dead with grieving , speak .\n",
      "ation , iago , my reputation ! iago as i am an honest man , i thought you had received some bodily w\n",
      " iago i protest , in the sincerity of love and honest kindness . cassio i think it freely ; and beti\n",
      "nt . i must to the watch . cassio good night , honest iago . [ cassio exits . ] iago and what 's he \n",
      " villain , when this advice is free i give and honest , probal to thinking , and indeed the course t\n",
      "easy th ' inclining desdemona to subdue in any honest suit . she 's framed as fruitful as the free e\n",
      "heavenly shows , as i do now . for whiles this honest fool plies desdemona to repair his fortune , a\n",
      "usicians exit . ] cassio dost thou hear , mine honest friend ? clown no , i hear not your honest fri\n",
      "ine honest friend ? clown no , i hear not your honest friend . i hear you . cassio prithee , keep up\n",
      "ts . ] i never knew a florentine more kind and honest . [ enter emilia . ] emilia good morrow , good\n",
      " the cause were his . desdemona o , that 's an honest fellow ! do not doubt , cassio , but i will ha\n",
      " and not in cunning , i have no judgment in an honest face . i prithee call him back . othello went \n",
      "ed ! discern'st thou aught in that ? is he not honest ? iago honest , my lord ? othello honest -- ay\n",
      "t thou aught in that ? is he not honest ? iago honest , my lord ? othello honest -- ay , honest . ia\n",
      "e not honest ? iago honest , my lord ? othello honest -- ay , honest . iago my lord , for aught i kn\n",
      "iago honest , my lord ? othello honest -- ay , honest . iago my lord , for aught i know . othello wh\n",
      "el cassio , i dare be sworn i think that he is honest . othello i think so too . iago men should be \n",
      "ey seem . iago why then , i think cassio 's an honest man . othello nay , yet there 's more in this \n",
      "t much moved . i do not think but desdemona 's honest . iago long live she so ! and long live you to\n",
      "take my leave . othello why did i marry ? this honest creature doubtless sees and knows more , much \n",
      " note , take note , o world : to be direct and honest is not safe. -- i thank you for this profit , \n",
      "ffense . othello nay , stay . thou shouldst be honest . iago i should be wise ; for honesty 's a foo\n",
      "or . othello by the world , i think my wife be honest and think she is not . i think that thou art j\n",
      "be wise . yet we see nothing done . she may be honest yet . tell me but this : have you not sometime\n",
      "e . emilia i durst , my lord , to wager she is honest , lay down my soul at stake . if you think oth\n",
      " with the serpent 's curse , for if she be not honest , chaste , and true , there 's no man happy . \n",
      " . therefore be double damned . swear thou art honest . desdemona heaven doth truly know it . othell\n",
      "ll . desdemona i hope my noble lord esteems me honest . othello o , ay , as summer flies are in the \n",
      "companions thou 'dst unfold , and put in every honest hand a whip to lash the rascals naked through \n",
      "! othello , [ aside ] 'tis he ! o brave iago , honest and just , that hast such noble sense of thy f\n",
      "pet ! bianca i am no strumpet , but of life as honest as you that thus abuse me . emilia as i ? faug\n",
      "t say so . othello no . his mouth is stopped . honest iago hath ta'en order for 't . desdemona o , m\n",
      " ay , 't was he that told me on her first . an honest man he is , and hates the slime that sticks on\n",
      "nderstand the word ? my friend , thy husband ; honest , honest iago . emilia if he say so , may his \n",
      " the word ? my friend , thy husband ; honest , honest iago . emilia if he say so , may his perniciou\n"
     ]
    }
   ],
   "source": [
    "# Create a concordance for the given word\n",
    "# Increasing lines shown and number of characters\n",
    "text.concordance('honest', lines=50, width=100)"
   ]
  },
  {
   "cell_type": "markdown",
   "id": "82c66dfc",
   "metadata": {},
   "source": [
    "If we want to supply a bigram, trigram, or longer construction, they are supplied as individual strings within a Python list. (If you try to supply a string with a space in the middle, there will be no results.)"
   ]
  },
  {
   "cell_type": "code",
   "execution_count": 6,
   "id": "f0696186",
   "metadata": {},
   "outputs": [
    {
     "name": "stdout",
     "output_type": "stream",
     "text": [
      "Displaying 5 of 5 matches:\n",
      " , cassio , and officers exit . ] honest iago , my desdemona must i leave to th\n",
      " . what is the matter , masters ? honest iago , that looks dead with grieving ,\n",
      "o the watch . cassio good night , honest iago . [ cassio exits . ] iago and wha\n",
      "hello no . his mouth is stopped . honest iago hath ta'en order for 't . desdemo\n",
      "y friend , thy husband ; honest , honest iago . emilia if he say so , may his p\n"
     ]
    }
   ],
   "source": [
    "# Create a concordance for a sequence of words\n",
    "text.concordance(['honest', 'iago'])"
   ]
  },
  {
   "cell_type": "markdown",
   "id": "3f82ed2a",
   "metadata": {},
   "source": [
    "This method works well for a quick preview of the lines, but if we want to save this concordance for later analysis we can use the `.concordance_list()` method. The `.concordance_list()` method outputs a list, but the elements of that list *are not* simple strings. They are ConcordanceLine objects."
   ]
  },
  {
   "cell_type": "code",
   "execution_count": 7,
   "id": "45525f18",
   "metadata": {},
   "outputs": [],
   "source": [
    "# Output the concordance data\n",
    "output_list = text.concordance_list(['honest', 'iago'], width=200, lines=50)"
   ]
  },
  {
   "cell_type": "code",
   "execution_count": 50,
   "id": "c73e3813",
   "metadata": {},
   "outputs": [
    {
     "data": {
      "text/plain": [
       "nltk.text.ConcordanceLine"
      ]
     },
     "execution_count": 50,
     "metadata": {},
     "output_type": "execute_result"
    }
   ],
   "source": [
    "type(output_list[0])"
   ]
  },
  {
   "cell_type": "markdown",
   "id": "8acc5938",
   "metadata": {},
   "source": [
    "We can view individual lines by using a Python list index followed by `.line`."
   ]
  },
  {
   "cell_type": "code",
   "execution_count": 51,
   "id": "7859087a",
   "metadata": {
    "scrolled": true
   },
   "outputs": [
    {
     "data": {
      "text/plain": [
       "'] othello my life upon her faith ! [ the duke , the senators , cassio , and officers exit . ] honest iago , my desdemona must i leave to thee . i prithee let thy wife attend on her , and bring them a'"
      ]
     },
     "execution_count": 51,
     "metadata": {},
     "output_type": "execute_result"
    }
   ],
   "source": [
    "output_list[0].line"
   ]
  },
  {
   "cell_type": "markdown",
   "id": "bca2894a",
   "metadata": {},
   "source": [
    "If we want to save our concordance, we can write to a file line-by-line."
   ]
  },
  {
   "cell_type": "code",
   "execution_count": 16,
   "id": "f60b2169",
   "metadata": {},
   "outputs": [],
   "source": [
    "# Writing the concordance to a text file\n",
    "\n",
    "with open('concordance.txt', 'w') as f:\n",
    "    for i in range(len(output_list)):\n",
    "        f.write(output_list[i].line)\n",
    "        f.write('\\n')"
   ]
  },
  {
   "cell_type": "markdown",
   "id": "95a555aa",
   "metadata": {},
   "source": [
    "Lastly, NLTK can create a dispersion plot that helps visualize where tokens occur in the document. This can reveal the way words are used in the document over time."
   ]
  },
  {
   "cell_type": "code",
   "execution_count": null,
   "id": "78d8955e",
   "metadata": {
    "scrolled": true
   },
   "outputs": [],
   "source": [
    "text.dispersion_plot(['honest', 'fool', 'noble', 'virtue', 'doubt', 'love', 'hate', 'villain'])"
   ]
  },
  {
   "cell_type": "markdown",
   "id": "e872240b",
   "metadata": {},
   "source": [
    "## Collocations\n",
    "\n",
    "Collocations are the common concepts in a text that cannot be expressed within a single word. English speakers can usually recognize collocations when we see them. \n",
    "\n",
    "Not all bigrams and trigrams are equal. Consider the phrase:\n",
    "> The machine learning algorithm helped solve a major problem in social science research.\n",
    "\n",
    "Some of the n-grams form collocations, cohesive units that describe a larger concept:\n",
    "\n",
    "* 'machine learning algorithm'\n",
    "* 'major problem'\n",
    "* 'social science research'\n",
    "\n",
    "Yet other n-grams do not form the same kind of cohesive units:\n",
    "\n",
    "* 'The machine'\n",
    "* 'learning algorithm helped'\n",
    "* 'helped solve a'\n",
    "* 'problem in social'\n",
    "\n",
    "Identifying a collocation is more complicated than simply finding words that commonly co-occur. The phrase 'of the' occurs in many texts, but it is not a collocation since it does not relate to a larger, defined concept.\n",
    "\n",
    "There are a variety of ways to discover collocations using Natural Language Processing:\n",
    "* Finding frequent bigrams and trigrams (while removing spaces, stop words, articles, prepositions, and pronouns)\n",
    "* Pointwise Mutual Information (measuring how likely a word is to appear alone vs. paired with another)\n",
    "* [t-test](https://en.wikipedia.org/wiki/Student%27s_t-test) (while removing spaces, stop words, articles, prepositions, and pronouns)\n",
    "* [chi-squared test](https://en.wikipedia.org/wiki/Chi-squared_test)"
   ]
  },
  {
   "cell_type": "markdown",
   "id": "c701219f",
   "metadata": {},
   "source": [
    "## Concordance with Constellate Data\n",
    "In order to create a concordance from a Constellate text, you will need to make sure you have access to the \"full-text\" version of the document. In the Dataset Builder, there is an option for \"full-text\" only.\n",
    "\n",
    "Secondly, in the dataset dashboard, you should request the JSON-L file which contains the full text. Under the tile for the dataset, choose \"Download\" > \"More Download Options\". Then click \"Request\" under \"Metadata, ngrams, and full-text.\""
   ]
  },
  {
   "cell_type": "code",
   "execution_count": 17,
   "id": "460e30a5",
   "metadata": {},
   "outputs": [
    {
     "name": "stdout",
     "output_type": "stream",
     "text": [
      "Constellate: use and download of datasets is covered by the Terms & Conditions of Use: https://constellate.org/terms-and-conditions/\n",
      "Frederick Douglass limited to document type(s) book from 1900 - 2021 and limited to full text availability. 63 documents.\n",
      "INFO:root:Downloading 435d4b79-d600-36f9-60df-f1f27afb7d37 metadata to /Users/nkelber/data/435d4b79-d600-36f9-60df-f1f27afb7d37-jsonl.jsonl.gz\n"
     ]
    },
    {
     "name": "stderr",
     "output_type": "stream",
     "text": [
      "100% |#########################################################################|\n"
     ]
    }
   ],
   "source": [
    "# Creating a variable `dataset_id` to hold our dataset ID\n",
    "# The default dataset is Full-Text books on Frederick Douglass\n",
    "# from Docsouth Data\n",
    "dataset_id = \"435d4b79-d600-36f9-60df-f1f27afb7d37\"\n",
    "\n",
    "# Import the `constellate` client\n",
    "import constellate\n",
    "\n",
    "# To download the full dataset (up to a limit of 25,000 documents),\n",
    "# request it first in the dataset dashboard. See the Constellate Client\n",
    "# documentation at: https://constellate.org/docs/constellate-client\n",
    "# Then use the `constellate.download` method show below.\n",
    "dataset_file = constellate.download(dataset_id, 'jsonl')"
   ]
  },
  {
   "cell_type": "markdown",
   "id": "68bec8ba",
   "metadata": {},
   "source": [
    "There are only 63 documents in this dataset, so we can easily search through to pick out one of interest."
   ]
  },
  {
   "cell_type": "code",
   "execution_count": 21,
   "id": "38654715",
   "metadata": {
    "scrolled": true
   },
   "outputs": [
    {
     "name": "stdout",
     "output_type": "stream",
     "text": [
      "\n",
      "\n",
      "ID: http://docsouth.unc.edu/neh/heard/menu.html\n",
      "Title: From Slavery to the Bishopric in the A.M.E. Church. An Autobiography:  Electronic Edition.\n",
      "Author: ['Heard, William H. (William Henry), 1850-1937']\n",
      "\n",
      "\n",
      "ID: http://docsouth.unc.edu/fpn/washington/menu.html\n",
      "Title: Up From Slavery: An Autobiography: Electronic Edition.\n",
      "Author: ['Booker T. Washington (1856-1915)']\n",
      "\n",
      "\n",
      "ID: http://docsouth.unc.edu/fpn/greenhow/menu.html\n",
      "Title: My Imprisonment and the First Year of Abolition Rule at Washington: Electronic Edition\n",
      "Author: [\"Mrs.\\nGreenhow, Rose O'Neal, 1814-1864\"]\n",
      "\n",
      "\n",
      "ID: http://docsouth.unc.edu/neh/wards/menu.html\n",
      "Title: Autobiography of a Fugitive Negro: His Anti-slavery  Labours in the United States, Canada, & England: Electronic Edition.\n",
      "Author: ['Ward, Samuel  Ringgold, b. 1817.']\n",
      "\n",
      "\n",
      "ID: http://docsouth.unc.edu/fpn/green/menu.html\n",
      "Title: RECOLLECTIONS AND REFLECTIONS:  An Auto of Half a Century and More Electronic Edition.\n",
      "Author: ['Green, Wharton Jackson, 1831-1910']\n",
      "\n",
      "\n",
      "ID: http://docsouth.unc.edu/church/coppin/menu.html\n",
      "Title: Unwritten History: Electronic Edition.\n",
      "Author: ['Coppin, Levi Jenkins, 1848-1923']\n",
      "\n",
      "\n",
      "ID: http://docsouth.unc.edu/southlit/greenfact/menu.html\n",
      "Title: Fact Stranger Than Fiction. Seventy-Five Years of a Busy Life with Reminiscences of Many Great and Good Men and Women: Electronic Edition.\n",
      "Author: ['Green, John P. (John Patterson), b. 1845']\n",
      "\n",
      "\n",
      "ID: http://docsouth.unc.edu/church/cssmith/menu.html\n",
      "Title: A History of the African Methodist Episcopal Church, Being a Volume Supplemental to a History of the African Methodist Episcopal Church, by Daniel Alexander Payne, D.D., LL.D., Late One of Its Bishops, Chronicling the Principal Events in the Advance of the African Methodist Episcopal Church From 1856 to 1922: Electronic Edition.\n",
      "Author: ['Smith, C. S. (Charles Spencer), 1852-1923.']\n",
      "\n",
      "\n",
      "ID: http://docsouth.unc.edu/church/love/menu.html\n",
      "Title: History of the First African Baptist Church, From its Organization, January 20th, 1788, to July 1st, 1888. Including the Centennial Celebration, Addresses, Sermons, Etc.: Electronic Edition.\n",
      "Author: ['Love, E. K. (Emanuel King), 1850-1900']\n",
      "\n",
      "\n",
      "ID: http://docsouth.unc.edu/neh/browne/menu.html\n",
      "Title: Autobiography of a Female Slave: Electronic Edition.\n",
      "Author: ['Martha Griffith Browne, d. 1906']\n",
      "\n",
      "\n",
      "ID: http://docsouth.unc.edu/neh/washstory/menu.html\n",
      "Title: An Autobiography.  The Story of My Life and Work: Electronic Edition.\n",
      "Author: ['Booker T. Washington, 1856-1915']\n",
      "\n",
      "\n",
      "ID: http://docsouth.unc.edu/neh/loguen/menu.html\n",
      "Title: The Rev. J. W. Loguen, as a Slave and as a Freeman.   A  Narrative of Real Life: Electronic Edition.\n",
      "Author: ['Loguen, Jermain Wesley']\n",
      "\n",
      "\n",
      "ID: http://docsouth.unc.edu/neh/scott/menu.html\n",
      "Title: Booker T. Washington, Builder of a Civilization: Electronic Edition.\n",
      "Author: ['Scott, Emmett J. (Emmett Jay), 1873-1957']\n",
      "\n",
      "\n",
      "ID: http://docsouth.unc.edu/neh/brown55/menu.html\n",
      "Title: The American Fugitive in Europe. Sketches of Places and People Abroad: Electronic Edition.\n",
      "Author: ['Brown, William Wells, 1814?-1884']\n",
      "\n",
      "\n",
      "ID: http://docsouth.unc.edu/neh/long/menu.html\n",
      "Title: Pictures of Slavery in Church and State; Including Personal Reminiscences,  Biographical Sketches, Anecdotes, etc. etc.  with an Appendix, Containing the Views of John  Wesley and Richard Watson on Slavery: Electronic Edition.\n",
      "Author: ['Long, John Dixon, 1817-1894']\n",
      "\n",
      "\n",
      "ID: http://docsouth.unc.edu/neh/adamsh/menu.html\n",
      "Title: God's Image in Ebony: Being a Series of Biographical Sketches, Facts, Anecdotes, etc., Demonstrative of the Mental Powers and Intellectual Capacities of the Negro Race : Electronic Edition.\n",
      "Author: ['']\n",
      "\n",
      "\n",
      "ID: http://docsouth.unc.edu/neh/aleckson/menu.html\n",
      "Title: Before the War, and After the Union.  An Autobiography: Electronic Edition.\n",
      "Author: ['Aleckson, Sam, b. 1852']\n",
      "\n",
      "\n",
      "ID: http://docsouth.unc.edu/neh/latta/menu.html\n",
      "Title: The History of My Life and Work. Autobiography by Rev. M. L. Latta, A.M., D.D.: Electronic Edition.\n",
      "Author: ['Latta, M. L. (Morgan London), b. 1853']\n",
      "\n",
      "\n",
      "ID: http://docsouth.unc.edu/church/wayman/menu.html\n",
      "Title: My Recollections of African M. E. Ministers, or Forty Years' Experience in the African Methodist Episcopal Church: Electronic Edition.\n",
      "Author: ['Wayman, A. W. (Alexander Walker), 1821-1895']\n",
      "\n",
      "\n",
      "ID: http://docsouth.unc.edu/neh/holland/menu.html\n",
      "Title: Frederick Douglass The Colored Orator: Electronic Edition.\n",
      "Author: ['Holland, Frederic May, 1836-1908']\n",
      "\n",
      "\n",
      "ID: http://docsouth.unc.edu/neh/brownhal/menu.html\n",
      "Title: Homespun Heroines and Other Women of Distinction: Electronic Edition.\n",
      "Author: None\n",
      "\n",
      "\n",
      "ID: http://docsouth.unc.edu/neh/randolph/menu.html\n",
      "Title: From Slave Cabin to the Pulpit. The Autobiography of Rev. Peter Randolph:  the Southern Question Illustrated and Sketches of Slave Life: Electronic Edition.\n",
      "Author: ['Randolph, Peter, 1825(?) - 1897.']\n",
      "\n",
      "\n",
      "ID: http://docsouth.unc.edu/church/stanford/menu.html\n",
      "Title: The Tragedy of the Negro in America: A Condensed History of the Enslavement, Sufferings, Emancipation, Present Condition and Progress of the Negro Race in the United States of America: Electronic Edition.\n",
      "Author: ['Stanford, P. Thomas']\n",
      "\n",
      "\n",
      "ID: http://docsouth.unc.edu/neh/flipper/menu.html\n",
      "Title: The Colored Cadet at West Point. Autobiography of Lieut. Henry                   Ossian Flipper, U. S. A., First Graduate of Color from the  U. S. Military Academy: Electronic Edition.\n",
      "Author: ['Henry Ossian Flipper, 1856-1940']\n",
      "\n",
      "\n",
      "ID: http://docsouth.unc.edu/neh/drumgoold/menu.html\n",
      "Title: A Slave Girl's Story. Being an Autobiography of Kate Drumgoold: Electronic Edition.\n",
      "Author: ['Drumgoold, Kate']\n",
      "\n",
      "\n",
      "ID: http://docsouth.unc.edu/fpn/wise/menu.html\n",
      "Title: THE END OF AN ERA: Electronic Edition.\n",
      "Author: ['WISE, JOHN SERGEANT, 1846-1913']\n",
      "\n",
      "\n",
      "ID: http://docsouth.unc.edu/church/steward/menu.html\n",
      "Title: Fifty Years in the Gospel Ministry from 1864 to 1914. Twenty-seven Years in the Pastorate; Sixteen Years' Active Service as Chaplain in the U. S. Army; Seven Years Professor in Wilberforce University; Two Trips to Europe; A Trip in Mexico. In Two Parts, with Appropriate Illustrations: Electronic Edition.\n",
      "Author: ['Steward, T. G. (Theophilus Gould), 1843-1924']\n",
      "\n",
      "\n",
      "ID: http://docsouth.unc.edu/neh/peterson/menu.html\n",
      "Title: The Looking-Glass: Being a True Report and Narrative of the Life, Travels, and Labors of the Rev. Daniel H. Peterson, a Colored Clergyman; Embracing a Period of Time from the Year 1812 to 1854, and Including His Visit to Western Africa: Electronic Edition.\n",
      "Author: ['Peterson,  Daniel H.']\n",
      "\n",
      "\n",
      "ID: http://docsouth.unc.edu/fpn/mckim/menu.html\n",
      "Title: A SOLDIER'S RECOLLECTIONS:LEAVES FROM THE DIARY OF  A YOUNG CONFEDERATE, WITH AN ORATION ON THE MOTIVES  AND AIMS OF THE SOLDIERS OF THE SOUTH: Electronic Edition.\n",
      "Author: ['McKim, Randolph Harrison, 1842-1920']\n",
      "\n",
      "\n",
      "ID: http://docsouth.unc.edu/neh/dougl92/menu.html\n",
      "Title: Life and Times of Frederick Douglass, Written by Himself. His Early Life as a Slave, His Escape from Bondage, and His Complete History to the Present Time, Including His Connection with the Anti-slavery Movement; His Labors in Great Britain as Well as in His Own Country; His Experience in the Conduct of an Influential Newspaper; His Connection with the Underground Railroad; His Relations with John Brown and the Harper's Ferry Raid;  His Recruiting the 54th and 55th Mass. Colored Regiments; His Interviews with Presidents Lincoln and Johnson; His Appointment by Gen. Grant to Accompany the Santo Domingo Commission—Also to a Seat in the Council of the District of Columbia; His Appointment as United States Marshal by President R. B. Hayes; Also His Appointment to Be Recorder of Deeds in Washington by President J. A. Garfield; with Many Other Interesting and Important Events of His Most Eventful Life; With an Introduction by Mr. George L. Ruffin, of Boston: Electronic Edition.\n",
      "Author: ['Douglass, Frederick, 1818-1895']\n",
      "\n",
      "\n",
      "ID: http://docsouth.unc.edu/fpn/washeducation/menu.html\n",
      "Title: MY LARGER EDUCATION, Being Chapters from My Experience: Electronic Edition.\n",
      "Author: ['Booker T. Washington, 1856-1915.']\n",
      "\n",
      "\n",
      "ID: http://docsouth.unc.edu/neh/tilmon/menu.html\n",
      "Title: A Brief Miscellaneous Narrative of the More Early  Part of the Life of L. Tilmon, Pastor of a Colored Methodist  Congregational Church in the City of New York: Electronic Edition.\n",
      "Author: ['Levin Tilmon,  1807-1863']\n",
      "\n",
      "\n",
      "ID: http://docsouth.unc.edu/fpn/brownw/menu.html\n",
      "Title: Narrative of William W. Brown, an American Slave. Written by Himself: electronic edition.\n",
      "Author: None\n"
     ]
    },
    {
     "name": "stdout",
     "output_type": "stream",
     "text": [
      "\n",
      "\n",
      "ID: http://docsouth.unc.edu/church/payne70/menu.html\n",
      "Title: Recollections of Seventy Years: Electronic Edition.\n",
      "Author: ['Payne, Daniel Alexander, 1811-1893']\n",
      "\n",
      "\n",
      "ID: http://docsouth.unc.edu/church/payne/menu.html\n",
      "Title: History of the African Methodist Episcopal Church: Electronic Edition.\n",
      "Author: ['Payne, Daniel Alexander, 1811-1893']\n",
      "\n",
      "\n",
      "ID: http://docsouth.unc.edu/neh/gregory/menu.html\n",
      "Title: Frederick Douglass The Orator. Containing an Account of His Life; His Eminent Public Services; His Brilliant Career as Orator; Selections from His Speeches and Writings: Electronic Edition.\n",
      "Author: ['Gregory, James M. (James Monroe), 1849-1915']\n",
      "\n",
      "\n",
      "ID: http://docsouth.unc.edu/neh/douglasslife/menu.html\n",
      "Title: Life and Times of Frederick Douglass His Early Life as a Slave, His Escape from Bondage, and His Complete History to the Present Time: Electronic Edition.\n",
      "Author: ['Frederick Douglass, 1818-1895']\n",
      "\n",
      "\n",
      "ID: http://docsouth.unc.edu/neh/keckley/menu.html\n",
      "Title: BEHIND THE SCENES: Electronic Edition.\n",
      "Author: ['Elizabeth Keckley, ca. 1818-1907']\n",
      "\n",
      "\n",
      "ID: http://docsouth.unc.edu/neh/douglass55/menu.html\n",
      "Title: My Bondage and My Freedom. Part I.—Life as a Slave. Part II.—Life as a Freeman: Electronic Edition.\n",
      "Author: ['Douglass, Frederick, 1818-1895']\n",
      "\n",
      "\n",
      "ID: http://docsouth.unc.edu/fpn/pryor/menu.html\n",
      "Title: My day; Reminiscences of a Long Life: Electronic Edition\n",
      "Author: ['Pryor, Sara Agnes Rice, 1830-1912']\n",
      "\n",
      "\n",
      "ID: http://docsouth.unc.edu/neh/jasper/menu.html\n",
      "Title: The Life of Rev. John Jasper, Pastor of Sixth Mt. Zion Baptist Church, Richmond, Va., from His Birth to the Present Time, with His Theory on the Rotation of the Sun: Electronic Edition.\n",
      "Author: ['Randolph, Edwin Archer, b. 1854']\n",
      "\n",
      "\n",
      "ID: http://docsouth.unc.edu/church/johnson/menu.html\n",
      "Title: A School History of the Negro Race in America, from 1619 to 1890, With a Short Introduction as to the Origin of the Race; Also a Short Sketch of Liberia: Electronic Edition.\n",
      "Author: ['Johnson, Edward A. (Edward Austin), 1860-1944']\n",
      "\n",
      "\n",
      "ID: http://docsouth.unc.edu/church/hood100/menu.html\n",
      "Title: One Hundred Years of the African Methodist Episcopal Zion Church; or, The Centennial of African Methodism: Electronic Edition.\n",
      "Author: ['Hood, J. W. (James Walker), 1831-1918.']\n",
      "\n",
      "\n",
      "ID: http://docsouth.unc.edu/fpn/robson/menu.html\n",
      "Title: How a One-Legged Rebel Lives. REMINISCENCES OFTHE CIVIL WAR: Electronic Edition.\n",
      "Author: ['Robson, John S., b. 1844']\n",
      "\n",
      "\n",
      "ID: http://docsouth.unc.edu/neh/pendleton/menu.html\n",
      "Title: A Narrative of the Negro: Electronic Edition.\n",
      "Author: ['Leila Amos Pendleton,   b. 1860']\n",
      "\n",
      "\n",
      "ID: http://docsouth.unc.edu/church/handy/menu.html\n",
      "Title: Scraps of African Methodist Episcopal History: Electronic Edition.\n",
      "Author: ['Handy, James A., 1826-1911']\n",
      "\n",
      "\n",
      "ID: http://docsouth.unc.edu/church/bragg/menu.html\n",
      "Title: History of the Afro-American Group of the Episcopal Church Electronic Edition.\n",
      "Author: ['Bragg, George F. (George Freeman), 1863-1940']\n",
      "\n",
      "\n",
      "ID: http://docsouth.unc.edu/fpn/bruce/menu.html\n",
      "Title: The New Man. Twenty-Nine Years a Slave, Twenty-Nine Years a                     Free Man: Electronic Edition.\n",
      "Author: ['Bruce, Henry\\nClay, 1836-1902']\n",
      "\n",
      "\n",
      "ID: http://docsouth.unc.edu/church/wheeler/menu.html\n",
      "Title: The Varick Family: Electronic Edition.\n",
      "Author: ['Wheeler, B. F. (Benjamin Franklin), 1854-1909']\n",
      "\n",
      "\n",
      "ID: http://docsouth.unc.edu/neh/smitham/menu.html\n",
      "Title: An Autobiography The Story of the  Lord's Dealings with Mrs. Amanda Smith  the Colored Evangelist; Containing an   Account of Her Life Work  of Faith, and Her Travels in America, England, Ireland, Scotland,  India, and Africa, as  an Independent Missionary: Electronic Edition.\n",
      "Author: ['Amanda Smith, 1837-1915']\n",
      "\n",
      "\n",
      "ID: http://docsouth.unc.edu/neh/edwardsj/menu.html\n",
      "Title: Uncle Tom's Companions: Or, Facts Stranger Than Fiction. A Supplement to Uncle Tom's Cabin: Being Startling Incidents in the Lives of Celebrated Fugitive Slaves: Electronic Edition.\n",
      "Author: ['Edwards, John Passmore, 1823-1911']\n",
      "\n",
      "\n",
      "ID: http://docsouth.unc.edu/neh/douglass/menu.html\n",
      "Title: NARRATIVE OF THE LIFE OF FREDERICK DOUGLASS,  AN AMERICAN SLAVE. Written by Himself:  Electronic Edition.\n",
      "Author: ['Frederick Douglass, 1818-1895']\n",
      "\n",
      "\n",
      "ID: http://docsouth.unc.edu/neh/henryg/menu.html\n",
      "Title: Life of George Henry. Together with  a Brief History of the Colored People in America: Electronic Edition.\n",
      "Author: ['Henry, George, b.1819']\n",
      "\n",
      "\n",
      "ID: http://docsouth.unc.edu/neh/doug1906/menu.html\n",
      "Title: Frederick Douglass:Electronic Edition.\n",
      "Author: ['Washington, Booker T., 1856-1915']\n",
      "\n",
      "\n",
      "ID: http://docsouth.unc.edu/neh/alexander/menu.html\n",
      "Title: Battles and Victories of Allen Allensworth, A. M., Ph. D.,  Lieutenant-Colonel, Retired, U. S. Army: Electronic Edition.\n",
      "Author: ['Alexander, Charles, b. 1868']\n",
      "\n",
      "\n",
      "ID: http://docsouth.unc.edu/church/richings/menu.html\n",
      "Title: Evidences of Progress Among Colored People: Electronic Edition.\n",
      "Author: ['Richings, G. F.']\n",
      "\n",
      "\n",
      "ID: http://docsouth.unc.edu/neh/beard63/menu.html\n",
      "Title: Toussaint L'Ouverture: A Biography and Autobiography: Electronic Edition.\n",
      "Author: ['Beard, J. R. (John Relly), 1800-1876']\n",
      "\n",
      "\n",
      "ID: http://docsouth.unc.edu/church/woodson/menu.html\n",
      "Title: The History of the Negro Church: Electronic Edition.\n",
      "Author: ['Woodson, Carter Godwin, 1875-1950']\n",
      "\n",
      "\n",
      "ID: http://docsouth.unc.edu/southlit/harper/menu.html\n",
      "Title: Iola Leroy, Or Shadows Uplifted: Electronic Edition.\n",
      "Author: ['Harper, Frances Ellen Watkins, 1825-1911']\n",
      "\n",
      "\n",
      "ID: http://docsouth.unc.edu/neh/floyd/menu.html\n",
      "Title: Life of Charles T. Walker, D.D., (“The Black Spurgeon.”) Pastor Mt. Olivet Baptist Church, New York City: Electronic Edition.\n",
      "Author: ['Floyd, Silas Xavier, 1869-1923']\n",
      "\n",
      "\n",
      "ID: http://docsouth.unc.edu/southlit/evans/menu.html\n",
      "Title: St. Elmo. A Novel: Electronic Edition.\n",
      "Author: ['Evans, Augusta J. (Augusta Jane), 1835-1909.']\n",
      "\n",
      "\n",
      "ID: http://docsouth.unc.edu/church/ridgel/menu.html\n",
      "Title: Africa and African Methodism: Electronic Edition.\n",
      "Author: ['Ridgel, Alfred Lee']\n",
      "\n",
      "\n",
      "ID: http://docsouth.unc.edu/neh/nell/menu.html\n",
      "Title: The Colored Patriots of the  American Revolution, With Sketches of Several Distinguished Colored Persons: To Which Is Added a  Brief Survey of the  Condition And  Prospects of   Colored Americans:Electronic Edition.\n",
      "Author: ['Nell, William Cooper']\n"
     ]
    }
   ],
   "source": [
    "# Examine the documents in the dataset\n",
    "\n",
    "for document in constellate.dataset_reader(dataset_file):\n",
    "    print('\\n')\n",
    "    document_id = document.get('id')\n",
    "    document_title = document.get('title')\n",
    "    document_author = document.get('creator')\n",
    "    print(f'ID: {document_id}')\n",
    "    print(f'Title: {document_title}')\n",
    "    print(f'Author: {document_author}')\n"
   ]
  },
  {
   "cell_type": "markdown",
   "id": "97a70488",
   "metadata": {},
   "source": [
    "Let's use Frederick Douglass's:\n",
    "\n",
    ">NARRATIVE OF THE LIFE OF FREDERICK DOUGLASS,  AN AMERICAN SLAVE. Written by Himself:  Electronic Edition.\n",
    "\n",
    "The corresponding ID is: `http://docsouth.unc.edu/neh/douglass/menu.html`\n",
    "\n",
    "Note that this is also a URL which takes us to the Docsouth project where the document is described.\n",
    "\n",
    "We can select the document by matching on the document `'id'` key and then copy the full-text, which is stored as the value for the key `'fullText'`. "
   ]
  },
  {
   "cell_type": "code",
   "execution_count": 24,
   "id": "a389913d",
   "metadata": {},
   "outputs": [],
   "source": [
    "# Retrieve the full-text of the document selected\n",
    "# Here we select \n",
    "\n",
    "text = ''\n",
    "for document in constellate.dataset_reader(dataset_file):\n",
    "    if document['id'] == 'http://docsouth.unc.edu/neh/douglass/menu.html':\n",
    "        text = document.get('fullText')\n"
   ]
  },
  {
   "cell_type": "markdown",
   "id": "37f372c1",
   "metadata": {},
   "source": [
    "We will out the contents to a text file, so we have a local copy of the document."
   ]
  },
  {
   "cell_type": "code",
   "execution_count": 31,
   "id": "e013f500",
   "metadata": {},
   "outputs": [],
   "source": [
    "# Write the text to a file\n",
    "with open('./data/document.txt', 'w') as f:\n",
    "    for line in text:\n",
    "        f.write(line)"
   ]
  },
  {
   "cell_type": "markdown",
   "id": "ab3e07bd",
   "metadata": {},
   "source": [
    "And then read the document back in. (Writing the document out to a file and reading it back also removes all the Python escape characters.)"
   ]
  },
  {
   "cell_type": "code",
   "execution_count": 35,
   "id": "e879efb0",
   "metadata": {},
   "outputs": [],
   "source": [
    "# Read the text from the file\n",
    "with open(\"./data/document.txt\") as f:\n",
    "    file_contents = f.read()"
   ]
  },
  {
   "cell_type": "markdown",
   "id": "0b9e4c88",
   "metadata": {},
   "source": [
    "Next, we tokenize the document using the Natural Language Toolkit (NLTK)."
   ]
  },
  {
   "cell_type": "code",
   "execution_count": 36,
   "id": "39030920",
   "metadata": {},
   "outputs": [],
   "source": [
    "# Tokenize the file\n",
    "import nltk\n",
    "file_contents = file_contents.lower()\n",
    "tokens = nltk.word_tokenize(file_contents)\n",
    "text = nltk.Text(tokens)"
   ]
  },
  {
   "cell_type": "markdown",
   "id": "47f17c65",
   "metadata": {},
   "source": [
    "And we are ready to create a concordance."
   ]
  },
  {
   "cell_type": "code",
   "execution_count": 38,
   "id": "4ead29a7",
   "metadata": {},
   "outputs": [
    {
     "name": "stdout",
     "output_type": "stream",
     "text": [
      "Displaying 29 of 29 matches:\n",
      "e with terror and gloom ! what longings after freedom took possession of his breast , and how his m\n",
      "zing them as animated by the living spirit of freedom . who can read that passage , and be insensib\n",
      "cks . you , too , publish your declaration of freedom with danger compassing you around . in all th\n",
      " example ; the result of which would be , the freedom of the slaves , and the enslavement of the wh\n",
      " seated by my own table , in the enjoyment of freedom and the happiness of home , writing this narr\n",
      "nt , i understood the pathway from slavery to freedom . it was just what i wanted , and i got it at\n",
      " , animate or inanimate . the silver trump of freedom had roused my soul to eternal wakefulness . f\n",
      "m had roused my soul to eternal wakefulness . freedom now appeared , to disappear no more forever .\n",
      " times i would rise up , a flash of energetic freedom would dart through my soul , accompanied with\n",
      " and i sadly before the bloody whip ! you are freedom 's swift-winged angels , that fly round the w\n",
      " water . this very bay shall yet bear me into freedom . the steamboats steered in a north-east cour\n",
      "ave . it rekindled the few expiring embers of freedom , and revived within me a sense of my own man\n",
      ", from the tomb of slavery , to the heaven of freedom . my long-crushed spirit rose , cowardice dep\n",
      "ct seems to be , to disgust their slaves with freedom , by plunging them into the lowest depths of \n",
      "ess . thus , when the slave asks for virtuous freedom , the cunning slaveholder , knowing his ignor\n",
      " our master had deceived us into a belief was freedom , back to the arms of slavery . i have said t\n",
      "e mode here adopted to disgust the slave with freedom , by allowing him to see only the abuse of it\n",
      "n , and to imbue their minds with thoughts of freedom . i bent myself to devising ways and means fo\n",
      "nted , we would certainly start in pursuit of freedom . this was in the middle of the week , at the\n",
      "e . i expected to have been safe in a land of freedom ; but now i was covered with gloom , sunk dow\n",
      "utmost despair . i thought the possibility of freedom was gone . i was kept in this way about one w\n",
      "these leisure times , those old notions about freedom would steal over me again . when in mr. gardn\n",
      " , and set me to thinking of plans to gain my freedom . i have found that , to make a contented sla\n",
      "it ; and in aiding the latter on their way to freedom , we should be careful to do nothing which wo\n",
      "mode of getting along . it was a step towards freedom to be allowed to bear the responsibilities of\n",
      "ch i would make a second attempt to secure my freedom . i now had three weeks during which to prepa\n",
      "tchedness of slavery , and the blessedness of freedom , were perpetually before me . it was life an\n",
      " the duties and responsibilities of a life of freedom . on the morning after our arrival at new bed\n",
      "e but a few moments , when i felt a degree of freedom , and said what i desired with considerable e\n"
     ]
    }
   ],
   "source": [
    "text.concordance('freedom', lines=50, width=100)"
   ]
  },
  {
   "cell_type": "markdown",
   "id": "dee1f910",
   "metadata": {},
   "source": [
    "We can write our concordance out to a new file."
   ]
  },
  {
   "cell_type": "code",
   "execution_count": null,
   "id": "90ddf402",
   "metadata": {},
   "outputs": [],
   "source": [
    "# Writing the concordance to a text file\n",
    "\n",
    "with open('concordance.txt', 'w') as f:\n",
    "    for i in range(len(output_list)):\n",
    "        f.write(output_list[i].line)\n",
    "        f.write('\\n')"
   ]
  },
  {
   "cell_type": "markdown",
   "id": "04d79d0d",
   "metadata": {},
   "source": [
    "And visualize the distribution of words across the text in a lexical dispersion plot."
   ]
  },
  {
   "cell_type": "code",
   "execution_count": 43,
   "id": "dea121ee",
   "metadata": {},
   "outputs": [
    {
     "data": {
      "image/png": "[encoded data removed]",
      "text/plain": [
       "<Figure size 432x288 with 1 Axes>"
      ]
     },
     "metadata": {
      "needs_background": "light"
     },
     "output_type": "display_data"
    }
   ],
   "source": [
    "text.dispersion_plot(['free', 'knowledge', 'read', 'desire'])"
   ]
  }
 ],
 "metadata": {
  "kernelspec": {
   "display_name": "Python 3 (ipykernel)",
   "language": "python",
   "name": "python3"
  },
  "language_info": {
   "codemirror_mode": {
    "name": "ipython",
    "version": 3
   },
   "file_extension": ".py",
   "mimetype": "text/x-python",
   "name": "python",
   "nbconvert_exporter": "python",
   "pygments_lexer": "ipython3",
   "version": "3.8.8"
  },
  "toc": {
   "base_numbering": 1,
   "nav_menu": {},
   "number_sections": true,
   "sideBar": true,
   "skip_h1_title": false,
   "title_cell": "Table of Contents",
   "title_sidebar": "Contents",
   "toc_cell": false,
   "toc_position": {},
   "toc_section_display": true,
   "toc_window_display": false
  }
 },
 "nbformat": 4,
 "nbformat_minor": 5
}
