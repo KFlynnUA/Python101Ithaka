{
 "cells": [
  {
   "cell_type": "markdown",
   "id": "c101f26b",
   "metadata": {},
   "source": [
    "<img align=\"left\" src=\"https://ithaka-labs.s3.amazonaws.com/static-files/images/tdm/tdmdocs/CC_BY.png\"><br />\n",
    "\n",
    "This notebook is created by Zhuo Chen based on the notebooks created by [Nathan Kelber](http://nkelber.com) under [Creative Commons CC BY License](https://creativecommons.org/licenses/by/4.0/)<br />\n",
    "For questions/comments/improvements, email zhuo.chen@ithaka.org or nathan.kelber@ithaka.org<br />\n",
    "___\n",
    "\n",
    "\n",
    "# Python Intermediate 5\n",
    "\n",
    "**Description:** This notebook describes:\n",
    "* What is a generator\n",
    "* How to write a generator comprehension\n",
    "* The advantages of using a generator\n",
    " \n",
    "\n",
    "**Use Case:** For Learners (Detailed explanation, not ideal for researchers)\n",
    "\n",
    "**Difficulty:** Intermediate\n",
    "\n",
    "**Completion Time:** 45 minutes\n",
    "\n",
    "**Knowledge Required:** \n",
    "* Python Basics Series ([Start Python Basics 1](./python-basics-1.ipynb))\n",
    "\n",
    "**Knowledge Recommended:** None\n",
    "\n",
    "**Data Format:** None\n",
    "\n",
    "**Libraries Used:** None\n",
    "\n",
    "**Research Pipeline:** None\n",
    "___"
   ]
  },
  {
   "cell_type": "markdown",
   "id": "334fa8aa",
   "metadata": {},
   "source": [
    "# What is a generator?\n",
    "\n",
    "We have learned from [python intermediate 1](./python-intermediate-1.ipynb) that any Python object that allows its members to be iterated over in a for-loop is an **iterable**. Strings, lists, sets and dictionaries are all iterables. "
   ]
  },
  {
   "cell_type": "code",
   "execution_count": null,
   "id": "912ae57b",
   "metadata": {},
   "outputs": [],
   "source": [
    "# Use a for loop to iterate over a list\n",
    "ls = [1, 2, 3]\n",
    "for num in ls:\n",
    "    print(num)"
   ]
  },
  {
   "cell_type": "code",
   "execution_count": null,
   "id": "3c09c371",
   "metadata": {},
   "outputs": [],
   "source": [
    "# Use a for loop to iterate over a string\n"
   ]
  },
  {
   "cell_type": "markdown",
   "id": "1fe038b6",
   "metadata": {},
   "source": [
    "Python has a built-in function `iter()` which takes an **interable** and returns an **iterator**. The iterator can be used to iterate over the input iterable."
   ]
  },
  {
   "cell_type": "code",
   "execution_count": null,
   "id": "76d631f5",
   "metadata": {},
   "outputs": [],
   "source": [
    "# Use the built-in iter function to create an iterator out of the list stored in ls\n",
    "my_ls = iter(ls)\n",
    "type(my_ls)"
   ]
  },
  {
   "cell_type": "markdown",
   "id": "53f1221e",
   "metadata": {},
   "source": [
    "To access the values in the list, we can use the `next()` function to get one value at a time."
   ]
  },
  {
   "cell_type": "code",
   "execution_count": null,
   "id": "28163250",
   "metadata": {},
   "outputs": [],
   "source": [
    "# Use next() to get the first element from the list\n",
    "next(my_ls)"
   ]
  },
  {
   "cell_type": "code",
   "execution_count": null,
   "id": "b678e8df",
   "metadata": {},
   "outputs": [],
   "source": [
    "# Use next() to get the second element from the list\n"
   ]
  },
  {
   "cell_type": "markdown",
   "id": "3a2f9bba",
   "metadata": {},
   "source": [
    "A **generator** is a function that creates an **iterator**. On the surface, generators look like ordinary functions, but they are actually very different. Let's use a simple example to understand the difference. "
   ]
  },
  {
   "cell_type": "code",
   "execution_count": null,
   "id": "03e04e6d",
   "metadata": {},
   "outputs": [],
   "source": [
    "# Create a Python function which takes a list of numbers\n",
    "# and returns a list of numbers, each os which is two times\n",
    "# of the numbers in the input list\n",
    "\n",
    "def two_times(ls):\n",
    "    new_ls = []\n",
    "    for n in ls:\n",
    "        new_ls.append(2*n)\n",
    "    return new_ls \n",
    "\n",
    "two_times([1, 2, 3])"
   ]
  },
  {
   "cell_type": "markdown",
   "id": "d40c1600",
   "metadata": {},
   "source": [
    "If we feed a list of numbers to this function, we get a new list back. Most importantly, the entire new list of numbers is stored in the memory."
   ]
  },
  {
   "cell_type": "markdown",
   "id": "fdbb4009",
   "metadata": {},
   "source": [
    "We can create a Python generator to give us the same sequence of values. Note that a generator uses the `yield` statement. "
   ]
  },
  {
   "cell_type": "code",
   "execution_count": null,
   "id": "eb4d3f4e",
   "metadata": {},
   "outputs": [],
   "source": [
    "# Create a Python generator\n",
    "\n",
    "def gen(ls): \n",
    "    for n in ls:\n",
    "        yield 2*n \n",
    "        \n",
    "my_gen = gen([1, 2, 3]) "
   ]
  },
  {
   "cell_type": "markdown",
   "id": "6f36756e",
   "metadata": {},
   "source": [
    "Since a generator creates an iterator, it yields one value at a time. "
   ]
  },
  {
   "cell_type": "code",
   "execution_count": null,
   "id": "766c7e9b",
   "metadata": {},
   "outputs": [],
   "source": [
    "# Use next () to yield one element from the iterable at a time\n",
    "next(my_gen) "
   ]
  },
  {
   "cell_type": "code",
   "execution_count": null,
   "id": "087a3574",
   "metadata": {},
   "outputs": [],
   "source": [
    "# Use next () to yield one element from the iterable at a time\n",
    "next(my_gen)"
   ]
  },
  {
   "cell_type": "code",
   "execution_count": null,
   "id": "bbefe73a",
   "metadata": {},
   "outputs": [],
   "source": [
    "# Use next () to yield one element from the iterable at a time\n",
    "next(my_gen)"
   ]
  },
  {
   "cell_type": "markdown",
   "id": "926c3b26",
   "metadata": {},
   "source": [
    "The generator is exhausted when all the items have been used. If we use `next()` function again, Python returns a `StopIteration` error."
   ]
  },
  {
   "cell_type": "code",
   "execution_count": null,
   "id": "7725e928",
   "metadata": {},
   "outputs": [],
   "source": [
    "# Use next () to yield one element from the iterable at a time\n",
    "next(my_gen)"
   ]
  },
  {
   "cell_type": "markdown",
   "id": "be4beb4e",
   "metadata": {},
   "source": [
    "<h2 style=\"color:red; display:inline\">Coding Challenge! &lt; / &gt; </h2>\n",
    "\n",
    "Pick an iterable of your choice and write a generator which takes the iterable as its input. "
   ]
  },
  {
   "cell_type": "code",
   "execution_count": null,
   "id": "436d7191",
   "metadata": {},
   "outputs": [],
   "source": []
  },
  {
   "cell_type": "markdown",
   "id": "7ff05854",
   "metadata": {},
   "source": [
    "# Generator comprehension"
   ]
  },
  {
   "cell_type": "markdown",
   "id": "4809c639",
   "metadata": {},
   "source": [
    "Python provides a shorter way to define a generator function, that is, generator comprehensions.\n",
    "Generator comprehensions basically have the same syntax as list comprehensions, except that they use parentheses `()` instead of hard brackets `[]`."
   ]
  },
  {
   "cell_type": "code",
   "execution_count": null,
   "id": "8a7cd0ce",
   "metadata": {},
   "outputs": [],
   "source": [
    "# Create a list comprehension using hard brackets []\n",
    "numbers = [5,6,7,8,9]\n",
    "new_list = [num for num in numbers if num > 5]\n",
    "print(new_list)"
   ]
  },
  {
   "cell_type": "code",
   "execution_count": null,
   "id": "2654a034",
   "metadata": {},
   "outputs": [],
   "source": [
    "# Create a generator using parentheses\n",
    "new_gen = (num for num in numbers if num > 5)"
   ]
  },
  {
   "cell_type": "code",
   "execution_count": null,
   "id": "bd6d1db4",
   "metadata": {},
   "outputs": [],
   "source": [
    "# Yield the values one at a time\n",
    "next(new_gen)"
   ]
  },
  {
   "cell_type": "code",
   "execution_count": null,
   "id": "67333087",
   "metadata": {},
   "outputs": [],
   "source": [
    "next(new_gen)"
   ]
  },
  {
   "cell_type": "code",
   "execution_count": null,
   "id": "833e9d5f",
   "metadata": {},
   "outputs": [],
   "source": [
    "next(new_gen)"
   ]
  },
  {
   "cell_type": "code",
   "execution_count": null,
   "id": "2fb36a34",
   "metadata": {},
   "outputs": [],
   "source": [
    "next(new_gen)"
   ]
  },
  {
   "cell_type": "markdown",
   "id": "e2f6905f",
   "metadata": {},
   "source": [
    "When all the items have been yielded, if we use `next()` function again, Python returns a `StopIteration` error."
   ]
  },
  {
   "cell_type": "code",
   "execution_count": null,
   "id": "681a0c3c",
   "metadata": {},
   "outputs": [],
   "source": [
    "# Yield the next generator output\n",
    "next(new_gen)"
   ]
  },
  {
   "cell_type": "markdown",
   "id": "6dc812d0",
   "metadata": {},
   "source": [
    "# The advantages of generators"
   ]
  },
  {
   "cell_type": "markdown",
   "id": "36300a75",
   "metadata": {},
   "source": [
    "Generators do not hold the entire result in the memory. It yields one item at a time. Because a generator only has to yield one item at a time, it can lead to significant savings in memory usage. "
   ]
  },
  {
   "cell_type": "code",
   "execution_count": null,
   "id": "53f8ee32",
   "metadata": {},
   "outputs": [],
   "source": [
    "# Demonstrate the memory size difference of \n",
    "# a list comprehension vs generator comprehension\n",
    "\n",
    "# Import getsizeof which measures memory usage in bytes\n",
    "from sys import getsizeof\n",
    "  \n",
    "list_comprehension = [i for i in range(10000)]\n",
    "generator_comprehension = (i for i in range(10000))\n",
    "  \n",
    "# Print the size of the list comprehension\n",
    "print('List comprehension memory usage: ', getsizeof(list_comprehension))\n",
    "\n",
    "# Print the size of the generator comprehension\n",
    "print('Generator comprehension memory usage: ', getsizeof(generator_comprehension))"
   ]
  },
  {
   "cell_type": "markdown",
   "id": "0eb687c8",
   "metadata": {},
   "source": [
    "Since a generator occupies less memory, using a generator instead of a normal iterable like a list can lead to a performace boost. This advantage in performance is especilly helpful when you have a really big dataset with hundreds of thousands of items or even millions of items to loop through. "
   ]
  },
  {
   "cell_type": "code",
   "execution_count": null,
   "id": "c6fea538",
   "metadata": {},
   "outputs": [],
   "source": [
    "# import the time module to calculate the processing time\n",
    "import time"
   ]
  },
  {
   "cell_type": "code",
   "execution_count": null,
   "id": "f911bd89",
   "metadata": {},
   "outputs": [],
   "source": [
    "# Calculate the processing time when we create a list with 1m items\n",
    "def ml(n):\n",
    "    ls = []\n",
    "    for i in range(n):\n",
    "        ls.append(n)\n",
    "    return ls\n",
    "\n",
    "start = time.process_time()\n",
    "ml(1000000)\n",
    "end = time.process_time()\n",
    "print(end - start)"
   ]
  },
  {
   "cell_type": "code",
   "execution_count": null,
   "id": "fee82492",
   "metadata": {},
   "outputs": [],
   "source": [
    "# Calculate the processing time when we create a generator with 1m items\n",
    "def ml_gen(n):\n",
    "    for i in range(n):\n",
    "        yield i\n",
    "        \n",
    "start = time.process_time()\n",
    "ml_gen(1000000)\n",
    "end = time.process_time()\n",
    "print(end - start)"
   ]
  },
  {
   "cell_type": "markdown",
   "id": "e789dd63",
   "metadata": {},
   "source": [
    "Using a generator makes sense in scenarios where loading an entire list, dictionary, or set could fill all available memory. This could be because each item is large, the list is large, or both. \n",
    "\n",
    "If you want to take one item at a time, do a lot of calculations based on that item, and then move on to the next item, then use a generator. "
   ]
  },
  {
   "cell_type": "markdown",
   "id": "7090fd2b",
   "metadata": {},
   "source": [
    "<h2 style=\"color:red; display:inline\">Coding Challenge! &lt; / &gt; </h2>\n",
    "\n",
    "* Create a generator object using a generator comprehension\n",
    "* Print out every value in the generator \n",
    "* Use `try` and `except` in your code to prevent the program from crashing after the generator is exhausted\n",
    "\n",
    "For a quick refresh of `try` and `except`, you can refer to [python basics 2](./python-basics-2.ipynb)."
   ]
  },
  {
   "cell_type": "code",
   "execution_count": null,
   "id": "db48d3eb",
   "metadata": {},
   "outputs": [],
   "source": [
    "# Create a generator using a generator comprehension\n"
   ]
  },
  {
   "cell_type": "markdown",
   "id": "b03df5c7",
   "metadata": {},
   "source": [
    "# An example of a generator from Constellate\n",
    "\n",
    "You may not be aware of it, but you have actually seen and worked with a generator before! In Constellate, when you build a dataset and use the Constellate client to download the dataset, you will be working with a generator. Let's use the example we have seen before in the notebook [exploring-word-frequencies](./exploring-word-frequencies.ipynb)."
   ]
  },
  {
   "cell_type": "code",
   "execution_count": null,
   "id": "ccca52d8",
   "metadata": {},
   "outputs": [],
   "source": [
    "# import modules and libraries\n",
    "import constellate\n",
    "from pathlib import Path"
   ]
  },
  {
   "cell_type": "code",
   "execution_count": null,
   "id": "271477fd",
   "metadata": {},
   "outputs": [],
   "source": [
    "dataset_id = \"7e41317e-740f-e86a-4729-20dab492e925\"\n",
    "# Check to see if a dataset file exists\n",
    "# If not, download a dataset using the Constellate Client\n",
    "# The default dataset is Shakespeare Quarterly, 1950-present\n",
    "dataset_file = Path.cwd() / 'data' / 'Shakespeare' # Make sure this filepath matches your dataset filename\n",
    "\n",
    "if dataset_file.exists() == False:\n",
    "    try: \n",
    "        dataset_file = constellate.download(dataset_id, 'jsonl', 'Shakespeare')\n",
    "    except: \n",
    "        dataset_file = constellate.get_dataset(dataset_id)"
   ]
  },
  {
   "cell_type": "code",
   "execution_count": null,
   "id": "db529181",
   "metadata": {},
   "outputs": [],
   "source": [
    "# Read in the data \n",
    "dataset = constellate.dataset_reader(dataset_file)"
   ]
  },
  {
   "cell_type": "code",
   "execution_count": null,
   "id": "2fc4f5ae",
   "metadata": {},
   "outputs": [],
   "source": [
    "# Check the type of 'dataset'\n",
    "dataset"
   ]
  },
  {
   "cell_type": "code",
   "execution_count": null,
   "id": "9944b0b5",
   "metadata": {},
   "outputs": [],
   "source": [
    "# Get the first document using next()\n",
    "next(dataset)"
   ]
  },
  {
   "cell_type": "markdown",
   "id": "87689410",
   "metadata": {},
   "source": [
    "We have in total 6745 documents in the dataset. Quite a lot! "
   ]
  },
  {
   "cell_type": "code",
   "execution_count": null,
   "id": "085cb98d",
   "metadata": {},
   "outputs": [],
   "source": [
    "# Calculate the processing time of the generator in milliseconds\n",
    "start = time.process_time() * 1000\n",
    "dataset = constellate.dataset_reader(dataset_file)\n",
    "end = time.process_time() * 1000\n",
    "print(end - start)"
   ]
  },
  {
   "cell_type": "code",
   "execution_count": null,
   "id": "397fc2d3",
   "metadata": {},
   "outputs": [],
   "source": [
    "# Calculate the processing time of the list with the same items in milliseconds\n",
    "start = time.process_time() * 1000\n",
    "dataset = list(constellate.dataset_reader(dataset_file))\n",
    "end = time.process_time() * 1000\n",
    "print(end - start)"
   ]
  },
  {
   "cell_type": "markdown",
   "id": "e68d43e7",
   "metadata": {},
   "source": [
    "___\n",
    "## Lesson Complete\n",
    "\n",
    "Congratulations! You have completed *Python Intermediate 5*.\n",
    "\n",
    "\n",
    "### Exercise Solutions\n",
    "Here are a few solutions for exercises in this lesson."
   ]
  },
  {
   "cell_type": "code",
   "execution_count": null,
   "id": "5d6dfcc0",
   "metadata": {},
   "outputs": [],
   "source": [
    "# Pick an iterable of your choice and write a generator which takes the iterable as its input\n",
    "\n",
    "w = \"generator\"\n",
    "def gen(w):\n",
    "    for l in w:\n",
    "        yield l.upper()\n",
    "w_gen = gen(w)\n",
    "w"
   ]
  },
  {
   "cell_type": "code",
   "execution_count": null,
   "id": "9e737bdb",
   "metadata": {},
   "outputs": [],
   "source": [
    "# Create a generator using a generator comprehension\n",
    "gen = (number for number in range(30))\n",
    "\n",
    "# Print the rest of the values using a loop\n",
    "while True:\n",
    "    try: \n",
    "        print(next(gen))\n",
    "    except StopIteration: \n",
    "        print('Generator exhausted')\n",
    "        break"
   ]
  },
  {
   "cell_type": "code",
   "execution_count": null,
   "id": "3a0e2547",
   "metadata": {},
   "outputs": [],
   "source": []
  }
 ],
 "metadata": {
  "kernelspec": {
   "display_name": "Python 3 (ipykernel)",
   "language": "python",
   "name": "python3"
  },
  "language_info": {
   "codemirror_mode": {
    "name": "ipython",
    "version": 3
   },
   "file_extension": ".py",
   "mimetype": "text/x-python",
   "name": "python",
   "nbconvert_exporter": "python",
   "pygments_lexer": "ipython3",
   "version": "3.10.4"
  },
  "toc": {
   "base_numbering": 1,
   "nav_menu": {},
   "number_sections": true,
   "sideBar": true,
   "skip_h1_title": false,
   "title_cell": "Table of Contents",
   "title_sidebar": "Contents",
   "toc_cell": false,
   "toc_position": {},
   "toc_section_display": true,
   "toc_window_display": false
  }
 },
 "nbformat": 4,
 "nbformat_minor": 5
}
