{
 "cells": [
  {
   "cell_type": "markdown",
   "id": "1ccf5448",
   "metadata": {},
   "source": [
    "<img align=\"left\" src=\"https://ithaka-labs.s3.amazonaws.com/static-files/images/tdm/tdmdocs/CC_BY.png\"><br />\n",
    "\n",
    "Created by [Nathan Kelber](http://nkelber.com) and Zhuo Chen under [Creative Commons CC BY License](https://creativecommons.org/licenses/by/4.0/)<br />\n",
    "For questions/comments/improvements, email nathan.kelber@ithaka.org or zhuo.chen@ithaka.org.<br />\n",
    "___"
   ]
  },
  {
   "cell_type": "markdown",
   "id": "cf138ba2",
   "metadata": {},
   "source": [
    "# Python Intermediate 1\n",
    "\n",
    "**Description:** This notebook describes:\n",
    "* What a Python comprehension is\n",
    "* How to write and use list comprehensions\n",
    "* How to write and use dictionary comprehensions\n",
    "* How to write and use set comprehensions\n",
    "* How to write and use generator comprehensions\n",
    "\n",
    "**Use Case:** For Learners (Detailed explanation, not ideal for researchers)\n",
    "\n",
    "**Difficulty:** Intermediate\n",
    "\n",
    "**Completion Time:** 90 minutes\n",
    "\n",
    "**Knowledge Required:** \n",
    "* Python Basics Series ([Start Python Basics 1](./python-basics-1.ipynb))\n",
    "\n",
    "**Knowledge Recommended:** None\n",
    "\n",
    "**Data Format:** None\n",
    "\n",
    "**Libraries Used:** None\n",
    "\n",
    "**Research Pipeline:** None\n",
    "___"
   ]
  },
  {
   "cell_type": "markdown",
   "id": "982b0625",
   "metadata": {},
   "source": [
    "## What is a Python Comprehension?\n",
    "Comprehensions in Python are constructs that allow us to build new sequences (such as lists, sets, dictionaries etc.) from sequences that are already defined. Python supports four types of comprehensions:\n",
    "* List comprehensions\n",
    "* Dictionary comprehensions\n",
    "* Set comprehensions\n",
    "* Generator comprehensions"
   ]
  },
  {
   "cell_type": "markdown",
   "id": "db42e3d6",
   "metadata": {},
   "source": [
    "## List Comprehensions\n",
    "\n",
    "### List Comprehensions (Numbers)\n",
    "\n",
    "In this first example, we will use a list with numbers."
   ]
  },
  {
   "cell_type": "code",
   "execution_count": null,
   "id": "5a157714",
   "metadata": {},
   "outputs": [],
   "source": [
    "# Create a list of numbers\n",
    "\n",
    "numbers = [0, 1, 2, 3, 4, 5, 6, 7, 8, 9, 10]"
   ]
  },
  {
   "cell_type": "code",
   "execution_count": null,
   "id": "d40aa4ad",
   "metadata": {},
   "outputs": [],
   "source": [
    "# Create a new list using a for loop\n",
    "\n",
    "new_list = [] # An empty list we will add to\n",
    "\n",
    "for item in numbers:\n",
    "    if item > 5:\n",
    "        new_list.append(item)\n",
    "\n",
    "print(new_list)"
   ]
  },
  {
   "cell_type": "markdown",
   "id": "0f1fb461",
   "metadata": {},
   "source": [
    "Take a look again at the for loop.\n",
    "```\n",
    "for item in numbers:\n",
    "    if item > 5:\n",
    "        new_list.append(item)\n",
    "```\n",
    "\n",
    "We can read this as: for ```item``` in ```numbers```, if ```item``` is bigger than 5, append ```item``` to ```new_list```. "
   ]
  },
  {
   "cell_type": "markdown",
   "id": "4c83e5ae",
   "metadata": {},
   "source": [
    "You have created a new list based on an old list in a way that you have learned in the Python basics series, i.e. using a for loop. \n",
    "\n",
    "We can rearrange the above for loop slightly to create a list comprehension:"
   ]
  },
  {
   "cell_type": "code",
   "execution_count": null,
   "id": "d619de2d",
   "metadata": {},
   "outputs": [],
   "source": [
    "# Create a new list out of items that are greater than 5 using list comprehension\n",
    "\n",
    "new_list = [item for item in numbers if item > 5] ## The brackets [] indicate we are creating a list.\n",
    "\n",
    "print(new_list)"
   ]
  },
  {
   "cell_type": "markdown",
   "id": "1cb1d8da",
   "metadata": {},
   "source": [
    "We read this as: append ```item```, for ```item``` in ```numbers```, if ```item``` is bigger than 5. "
   ]
  },
  {
   "cell_type": "markdown",
   "id": "b31654c8",
   "metadata": {},
   "source": [
    "If the order of the comprehension is confusing, it may help to skip the first variable name and start with:\n",
    "`for item in numbers if item > 5` then return to the beginning of the comprehension to see what will be appended: `item`."
   ]
  },
  {
   "cell_type": "markdown",
   "id": "b44c7862",
   "metadata": {},
   "source": [
    "Up to this point, we have used two different ways to create a new list based on an old list: \n",
    "* using a regular for loop\n",
    "* using a list comprehension\n",
    "\n",
    "I put them here side by side. The benefit of using a list comprehension is obvious. The syntax of a list comprehension is concise and short. "
   ]
  },
  {
   "cell_type": "markdown",
   "id": "fb001b9c",
   "metadata": {},
   "source": [
    "<img align=\"left\" src=\"https://ithaka-labs.s3.amazonaws.com/static-files/images/tdm/tdmdocs/intermediatePython_1_forloop.png\" width=\"26%\"/>\n",
    "<img align=\"center\" src=\"https://ithaka-labs.s3.amazonaws.com/static-files/images/tdm/tdmdocs/intermediate_Python_1_listcomprehension.png\" width=\"45%\"/> "
   ]
  },
  {
   "cell_type": "markdown",
   "id": "bf8fe7ba",
   "metadata": {},
   "source": [
    "<!-- #### Another Explanation using Mathematical Sets\n",
    "\n",
    "We can use sets in mathematics to help us understand the syntax of a list comprehension. As I explain the notation of sets, you will soon see the similarity between the list comprehension and the set-builder notation. \n",
    "\n",
    "A set is essentially a collection of objects. For example, \n",
    "\n",
    "The set-builder notation can be simply put in the following way. \n",
    "\\begin{align}\n",
    "\\{y~|~\\text{conditions that}~y~\\text{must satisfy to be a member in the set}\\}\\\\\\hfill{OR}\n",
    "\\end{align}\n",
    "\\begin{align}\n",
    "\\{y~:~\\text{conditions that}~y~\\text{must satisfy to be a member in the set}\\}  \\\\\n",
    "\\end{align}\n",
    "\n",
    "Back to the previous scenario where you want to create a set that contains all the natural numbers from 1 to 1000, you can easily write the set using the set-builder notation. \n",
    "\n",
    "$$\\{y~|~y\\in N \\wedge 1\\leq y\\leq 1000 \\}$$\n",
    "\n",
    "#### Returning to List Comprehensions\n",
    "Going back to the list comprehension we write to create ```new_list```, we can easily see an analogy. \n",
    "```\n",
    "new_list = [item for item in numbers if item > 5]\n",
    "```\n",
    "\n",
    "The list comprehension also consists of two parts. To the left is the variable name standing for the elements we want to include in ```new_list```. To the right are the conditions we want those elements to satisfy! \n",
    "\n",
    "The only differences are:\n",
    "\n",
    "(i) we use the list comprehension to create a **list**, not a set; \n",
    "\n",
    "(ii) the conditions start with a for loop, because we are looping over each element in ```numbers``` and check whether that element satisfies the specified if-condition;\n",
    "\n",
    "(iii) there is no visible symbol like \"$|$\" or \"$:$\" that separates the two parts in list comprehensions.   -->\n"
   ]
  },
  {
   "cell_type": "markdown",
   "id": "74b97e17",
   "metadata": {},
   "source": [
    "#### Modifying an Item before it is Appended\n",
    "\n",
    "Anything before the `for` in a comprehension will get appended to the new list. In our example, we simply appended `item` to the list. \n",
    "\n",
    "```new_list = [item for item in numbers if item > 5]```\n",
    "\n",
    "If we wanted, we could also change this to something else, such as `item + 10`."
   ]
  },
  {
   "cell_type": "code",
   "execution_count": null,
   "id": "abf06135",
   "metadata": {},
   "outputs": [],
   "source": [
    "# Append item + 10, instead of item, to the new list\n",
    "\n",
    "new_list = [item + 10 for item in numbers if item > 5]\n",
    "print(new_list)"
   ]
  },
  {
   "cell_type": "markdown",
   "id": "a4329d00",
   "metadata": {},
   "source": [
    "#### List Comprehensions constructed from other iterables\n",
    "\n",
    "List comprehensions are used to create a list. We have seen examples where we use list comprehensions to create a new list based on $\\underline{\\text{an old list}}$. Actually, list comprehensions can be used to create new lists based on **any kind of iterables**. \n",
    "\n",
    "In Python, iterables are the objects whose members can be iterated over in a for loop."
   ]
  },
  {
   "cell_type": "code",
   "execution_count": null,
   "id": "5ee243d1",
   "metadata": {},
   "outputs": [],
   "source": [
    "# Create a new list letters containing the letters of the word 'comprehension'\n",
    "\n",
    "word = 'comprehension' \n",
    "\n",
    "letters = [letter for letter in word] ## string is an iterable\n",
    "\n",
    "print(letters)"
   ]
  },
  {
   "cell_type": "code",
   "execution_count": null,
   "id": "0e028e16",
   "metadata": {},
   "outputs": [],
   "source": [
    "# Create a new list containing the individual integers in a number\n",
    "\n",
    "num = 12345\n",
    "\n",
    "digits = [digit for digit in num] ## integer is not an iterable"
   ]
  },
  {
   "cell_type": "markdown",
   "id": "d21e7a21",
   "metadata": {},
   "source": [
    "<h4 style=\"color:red; display:inline\">Coding Challenge! &lt; / &gt; </h4>\n",
    "\n",
    "Create a list ```odd_num``` which contains all the odd numbers from the list ```numbers```. To find odd numbers, you can use the modulus `%` to see if there is a remainder of 1 after dividing by 2. If there is a remainder of 1, the number is odd.\n",
    "\n",
    "| Operator | Operation| Example | Evaluation |\n",
    "|---|---|---|---|\n",
    "|%| Modulus | 5 % 2 | 1 |\n",
    "    \n",
    "See if you can write a list comprehension that creates a new list `odd_num` which only contains the odd numbers from `numbers`. The next code cell demonstrates how it could be done with a for loop."
   ]
  },
  {
   "cell_type": "code",
   "execution_count": null,
   "id": "df2cb039",
   "metadata": {},
   "outputs": [],
   "source": [
    "# Creating a new list odd_num of the odd numbers\n",
    "\n",
    "odd_num = []\n",
    "for number in numbers:\n",
    "    if number % 2 == 1:\n",
    "        odd_num.append(number) \n",
    "\n",
    "print(odd_num)"
   ]
  },
  {
   "cell_type": "code",
   "execution_count": null,
   "id": "9d62940d",
   "metadata": {},
   "outputs": [],
   "source": [
    "# Creating a new list odd_num from odd numbers\n",
    "# Using a list comprehension\n"
   ]
  },
  {
   "cell_type": "markdown",
   "id": "87d7f939",
   "metadata": {},
   "source": [
    "<h4 style=\"color:red; display:inline\">Coding Challenge! &lt; / &gt; </h4>\n",
    "\n",
    "Create a list ```new_list2``` which contains those numbers from the list ```numbers```, which, after being multiplied by 5, is smaller than 35. \n",
    "\n",
    "|Operator| Operation| Example | Evaluation |\n",
    "|---|----|---|---|\n",
    "|*| Multiplication | 7 * 8 | 56 |"
   ]
  },
  {
   "cell_type": "code",
   "execution_count": null,
   "id": "7ef279ee",
   "metadata": {},
   "outputs": [],
   "source": [
    "# Creating a list of numbers which, after being multiplied by 5,\n",
    "# are less than 35\n"
   ]
  },
  {
   "cell_type": "markdown",
   "id": "fa5db524",
   "metadata": {},
   "source": [
    "<!-- Here's an example that changes what will be appended. -->\n",
    "<!-- Again, if you find the order confusing, it may help to skip ahead to the `for`. You can also optionally include a parentheses that may help clarify which part will be appended: -->\n",
    "<!-- # Create a new list where each number is doubled\n",
    "\n",
    "new_list = [item * 2 for item in numbers]\n",
    "print(new_list) -->\n",
    "<!-- # # Create a new list where each number is doubled\n",
    "# # Parentheses for clarity\n",
    "\n",
    "# new_list = [(item * 2) for item in numbers]\n",
    "# print(new_list) -->\n"
   ]
  },
  {
   "cell_type": "markdown",
   "id": "799ca1a8",
   "metadata": {},
   "source": [
    "### List Comprehensions (Strings)\n",
    "\n",
    "A list comprehension also works on a list containing other data types, such as strings."
   ]
  },
  {
   "cell_type": "code",
   "execution_count": null,
   "id": "57f238d1",
   "metadata": {},
   "outputs": [],
   "source": [
    "# Create a list of people\n",
    "\n",
    "people = ['Aaron Aston',\n",
    "         'Brianna Barton',\n",
    "         'Carla Cameron',\n",
    "         'Delia Darcy',\n",
    "         'Evelyn Elgin',\n",
    "         'Frederick Federov',\n",
    "         'Gaston Garbo']"
   ]
  },
  {
   "cell_type": "markdown",
   "id": "ab622bf1",
   "metadata": {},
   "source": [
    "In the previous section, we saw that in a list comprehension, there is an if-clause that functions as a filtering condition. \n",
    "\n",
    "However, not every list comprehension has an if-condition. This is because in certain cases, the membership of an element is not further specified by an if-condition. Take a look at a simple example. "
   ]
  },
  {
   "cell_type": "code",
   "execution_count": null,
   "id": "a5f071d6",
   "metadata": {},
   "outputs": [],
   "source": [
    "### sometimes we may not see a if-condition in a list comprehension\n",
    "\n",
    "names = [name for name in people] \n",
    "from pprint import pprint # import pprint to print out the list in a prettier way\n",
    "pprint(names)"
   ]
  },
  {
   "cell_type": "markdown",
   "id": "7eb27735",
   "metadata": {},
   "source": [
    "**Question:** Can you take a guess what the resulting list ```names``` looks like?\n",
    "\n",
    "In many cases, though, we do not just want to loop over the elements in an existing list and append each element to a new list unchanged. We want to go through each element in the existing list, use a function to operate on that element and then append the output to the new list."
   ]
  },
  {
   "cell_type": "code",
   "execution_count": null,
   "id": "da960a4c",
   "metadata": {},
   "outputs": [],
   "source": [
    "# Create a new list that only includes first names\n",
    "# Using a for loop\n",
    "\n",
    "friends = []\n",
    "\n",
    "for name in people:\n",
    "    first_name = name.split()[0] # Split the name on whitespace, then grab the first name/item\n",
    "    friends.append(first_name)\n",
    "    \n",
    "print(friends)\n",
    "\n"
   ]
  },
  {
   "cell_type": "markdown",
   "id": "e6bbb5a0",
   "metadata": {},
   "source": [
    "In this example, we split each name string on whitespace using the `.split()` method. This creates a list of strings from a string."
   ]
  },
  {
   "cell_type": "code",
   "execution_count": null,
   "id": "b234f1d1",
   "metadata": {},
   "outputs": [],
   "source": [
    "# Split a string on white space\n",
    "\n",
    "\"John Doe\".split()"
   ]
  },
  {
   "cell_type": "code",
   "execution_count": null,
   "id": "59f1d28d",
   "metadata": {},
   "outputs": [],
   "source": [
    "# Split a string on white space\n",
    "# Then return only the first item in the list\n",
    "\n",
    "\"John Doe\".split()[0]"
   ]
  },
  {
   "cell_type": "markdown",
   "id": "97b69f76",
   "metadata": {},
   "source": [
    "<h4 style=\"color:red; display:inline\">Coding Challenge! &lt; / &gt; </h4>\n",
    "\n",
    "Use a list comprehension to create a list called `friends` that contains only first names."
   ]
  },
  {
   "cell_type": "code",
   "execution_count": null,
   "id": "1dbd8e80",
   "metadata": {},
   "outputs": [],
   "source": [
    "# Create a new list that only includes first names\n",
    "# Using a list comprehension\n"
   ]
  },
  {
   "cell_type": "markdown",
   "id": "b211331f",
   "metadata": {},
   "source": [
    "### List Comprehensions (Multiple Lists)\n",
    "\n",
    "We can also create a list comprehension that pulls from multiple lists by using two for loops within a single list comprehension."
   ]
  },
  {
   "cell_type": "markdown",
   "id": "1866e5da",
   "metadata": {},
   "source": [
    "Scenario: Suppose you are running a restaurant. For the lunch special, you provide different varieties of rice and different protein choices that go with the rice."
   ]
  },
  {
   "cell_type": "code",
   "execution_count": null,
   "id": "28604420",
   "metadata": {},
   "outputs": [],
   "source": [
    "# Define two lists: rices and proteins\n",
    "\n",
    "rices = [\"white rice\", \"brown rice\", \"yellow rice\"]\n",
    "\n",
    "proteins = [\"beef\", \"pork\", \"chicken\", \"shrimp\", \"lamb\",\"tofu\"] "
   ]
  },
  {
   "cell_type": "code",
   "execution_count": null,
   "id": "5c69baff",
   "metadata": {},
   "outputs": [],
   "source": [
    "# A Nested For Loop Example\n",
    "all_lunch_special_choices = []\n",
    "\n",
    "for rice in rices:\n",
    "    for protein in proteins:\n",
    "        all_lunch_special_choices.append(f'{rice} with {protein}')\n",
    "\n",
    "pprint(all_lunch_special_choices)"
   ]
  },
  {
   "cell_type": "code",
   "execution_count": null,
   "id": "afad94b0",
   "metadata": {},
   "outputs": [],
   "source": [
    "# Using a list comprehension on two lists\n",
    "# Create a list of all possible combinations of rice and protein\n",
    "\n",
    "all_lunch_special_choices = [rice + \" with \" + protein for rice in rices for protein in proteins]\n",
    "\n",
    "pprint(all_lunch_special_choices)"
   ]
  },
  {
   "cell_type": "markdown",
   "id": "6a31fbe4",
   "metadata": {},
   "source": [
    "The two lists we pull from are independent of each other. You can see that even if we switch the two for loops, the result is still a valid list comprehension. "
   ]
  },
  {
   "cell_type": "code",
   "execution_count": null,
   "id": "686702a5",
   "metadata": {},
   "outputs": [],
   "source": [
    "# Using a list comprehension on two lists\n",
    "# Create a list of all possible combinations of protein and rice\n",
    "\n",
    "all_lunch_special_choices = [rice + \" with \" + protein for protein in proteins for rice in rices]\n",
    "\n",
    "pprint(all_lunch_special_choices)"
   ]
  },
  {
   "cell_type": "markdown",
   "id": "767d7e3a",
   "metadata": {},
   "source": [
    "What if the lists we pull from are not independent of one another? What if one is nested in another? Can we switch the two for loops?"
   ]
  },
  {
   "cell_type": "code",
   "execution_count": null,
   "id": "39c18524",
   "metadata": {},
   "outputs": [],
   "source": [
    "# Create a list of all names from nested lists\n",
    "\n",
    "names = [\n",
    "    ['Abby', 'Bella','Cecilia'],\n",
    "    ['Alex','Beatrice','Cynthia','David']\n",
    "]\n",
    "\n",
    "all_names = [name for sub_list in names for name in sub_list]\n",
    "print(all_names)"
   ]
  },
  {
   "cell_type": "code",
   "execution_count": null,
   "id": "699f9d04",
   "metadata": {},
   "outputs": [],
   "source": [
    "# Switch the two for loops and see what happens \n",
    "\n",
    "names = [\n",
    "    ['Abby', 'Bella','Cecilia'],\n",
    "    ['Alex','Beatrice','Cynthia','David']\n",
    "]\n",
    "\n",
    "all_names = [name for name in sublist for sublist in names]\n",
    "print(all_names)"
   ]
  },
  {
   "cell_type": "markdown",
   "id": "15dcaf8f",
   "metadata": {},
   "source": [
    "<h4 style=\"color:red; display:inline\">Coding Challenge! &lt; / &gt; </h4>\n",
    "\n",
    "Write a list comprehension that uses `names` to create a list of names that start with the letter A."
   ]
  },
  {
   "cell_type": "code",
   "execution_count": null,
   "id": "b45a6902",
   "metadata": {},
   "outputs": [],
   "source": [
    "# Create a list of all names starting with A\n"
   ]
  },
  {
   "cell_type": "markdown",
   "id": "75ed881a",
   "metadata": {},
   "source": [
    "<h4 style=\"color:red; display:inline\">Coding Challenge! &lt; / &gt; </h4>\n",
    "\n",
    "Process the `saying` list using a for loop, and store the length of each word in a new list ```lengths```. Hint: begin by assigning the empty list to ```lengths```, using ```lengths = []```. Then each time through the loop, use ```append()``` to add another length value to the list. \n",
    "\n",
    "Now do the same thing using a list comprehension."
   ]
  },
  {
   "cell_type": "code",
   "execution_count": null,
   "id": "fe1ef427",
   "metadata": {},
   "outputs": [],
   "source": [
    "# Create a list that contains the length of each word\n",
    "# Using a for loop\n",
    "\n",
    "saying = ['After', 'all', 'is', 'said', 'and', 'done', ',', 'more', 'is', 'said', 'than', 'done', '.']\n"
   ]
  },
  {
   "cell_type": "code",
   "execution_count": null,
   "id": "ccfe16ec",
   "metadata": {},
   "outputs": [],
   "source": [
    "# Create a list that contains the length of each word\n",
    "# Using a list comprehension\n",
    "\n"
   ]
  },
  {
   "cell_type": "markdown",
   "id": "74af6020",
   "metadata": {},
   "source": [
    "## Dictionary Comprehension\n",
    "The form of a dictionary comprehension is the same as for a list. Since a dictionary comprehension may deal with keys, values, or both, we need to be prepared to use `.keys()`, `.values()`, or `.items()` (for both)."
   ]
  },
  {
   "cell_type": "code",
   "execution_count": null,
   "id": "335a87e1",
   "metadata": {},
   "outputs": [],
   "source": [
    "# Create a dictionary of contacts and occupations\n",
    "\n",
    "contacts ={\n",
    " 'Amanda Bennett': 'Engineer, electrical',\n",
    " 'Bryan Miller': 'Radiation protection practitioner',\n",
    " 'Christopher Garrison': 'Planning and development surveyor',\n",
    " 'Debra Allen': 'Intelligence analyst',\n",
    " 'Donna Decker': 'Architect',\n",
    " 'Heather Bullock': 'Media planner',\n",
    " 'Jason Brown': 'Energy manager',\n",
    " 'Jason Soto': 'Lighting technician, broadcasting/film/video',\n",
    " 'Marissa Munoz': 'Further education lecturer',\n",
    " 'Matthew Mccall': 'Chief Technology Officer',\n",
    " 'Michael Norman': 'Translator',\n",
    " 'Nicole Leblanc': 'Financial controller',\n",
    " 'Noah Delgado': 'Engineer, land',\n",
    " 'Rachel Charles': 'Physicist, medical',\n",
    " 'Stephanie Petty': 'Architect'}"
   ]
  },
  {
   "cell_type": "markdown",
   "id": "7a5ad5f1",
   "metadata": {},
   "source": [
    "When we loop over a dictionary, we will only loop over the keys of the dictionary. "
   ]
  },
  {
   "cell_type": "code",
   "execution_count": null,
   "id": "c7880711",
   "metadata": {},
   "outputs": [],
   "source": [
    "# Looping over a dictionary only loops the keys\n",
    "for contact in contacts:\n",
    "    print(contact)"
   ]
  },
  {
   "cell_type": "code",
   "execution_count": null,
   "id": "514f9470",
   "metadata": {},
   "outputs": [],
   "source": [
    "# Looping over a dictionary by specifying .keys()\n",
    "for key in contacts.keys():\n",
    "    print(key)"
   ]
  },
  {
   "cell_type": "markdown",
   "id": "7a3038f7",
   "metadata": {},
   "source": [
    "To loop over both the keys and the values, we will need to use ```dict.items()```."
   ]
  },
  {
   "cell_type": "code",
   "execution_count": null,
   "id": "a8f83b5d",
   "metadata": {
    "scrolled": true
   },
   "outputs": [],
   "source": [
    "for item in contacts.items():\n",
    "    print(item)"
   ]
  },
  {
   "cell_type": "markdown",
   "id": "6044beae",
   "metadata": {},
   "source": [
    "Note that each key/value pair is returned as a tuple. A tuple is very similar to a Python list; the difference is that a tuple cannot be modified. The technical term in Python is immutable. \n",
    "\n",
    "* A list is mutable (can be changed)\n",
    "* A tuple is immutable (cannot be changed)\n",
    "\n",
    "We can further distinguish between them by the fact that:\n",
    "\n",
    "* A list uses hard brackets `[]`\n",
    "* A tuple uses parentheses `()`."
   ]
  },
  {
   "cell_type": "markdown",
   "id": "efe151b5",
   "metadata": {},
   "source": [
    "We can create a new dictionary from the original dictionary using a for loop to iterate through the key/value pairs. The for loop format is similar to a list except we need to use an index to refer to the key or value of the tuple."
   ]
  },
  {
   "cell_type": "code",
   "execution_count": null,
   "id": "b6be014a",
   "metadata": {},
   "outputs": [],
   "source": [
    "# Use a for loop to iterate through the (key/value) tuples of the items in a dictionary\n",
    "# Assign each tuple to the variable name 'contact' recursively\n",
    "# Use indices to access the key and value in each tuple\n",
    "# Add each key:value pair to a new dictionary new_contacts\n",
    "\n",
    "new_contacts = {}\n",
    "\n",
    "for contact in contacts.items():\n",
    "    new_contacts[contact[0]] = contact[1]\n",
    "    \n",
    "pprint(new_contacts)"
   ]
  },
  {
   "cell_type": "code",
   "execution_count": null,
   "id": "16088d4d",
   "metadata": {},
   "outputs": [],
   "source": [
    "# A quick reminder of how to add key/value pairs to a dictionary\n",
    "\n",
    "grades = {'John': 90, 'Mary': 95}\n",
    "grades['Sue'] = 98\n",
    "print(grades)"
   ]
  },
  {
   "cell_type": "code",
   "execution_count": null,
   "id": "283dfb42",
   "metadata": {},
   "outputs": [],
   "source": [
    "# Use a dictionary comprehension to iterate through the (key, value) tuples of the items in a dictionary\n",
    "# Add each key:value pair to a new dictionary new_contacts\n",
    "\n",
    "new_contacts = {contact[0]:contact[1] for contact in contacts.items()}\n",
    "pprint(new_contacts)"
   ]
  },
  {
   "cell_type": "markdown",
   "id": "3f9372c2",
   "metadata": {},
   "source": [
    "Instead of using indices with each tuple, we can also give variable names to the keys and values respectively."
   ]
  },
  {
   "cell_type": "code",
   "execution_count": null,
   "id": "914d22ff",
   "metadata": {
    "scrolled": true
   },
   "outputs": [],
   "source": [
    "# Use key/value variable names for each tuple\n",
    "# For loop example\n",
    "\n",
    "new_contacts = {} \n",
    "\n",
    "for (name, occupation) in contacts.items(): \n",
    "    new_contacts[name] = occupation\n",
    "\n",
    "pprint(new_contacts)      "
   ]
  },
  {
   "cell_type": "code",
   "execution_count": null,
   "id": "25b6dfd8",
   "metadata": {
    "scrolled": true
   },
   "outputs": [],
   "source": [
    "# Using key/value variable names for each tuple\n",
    "# Dictionary comprehension example\n",
    "\n",
    "new_contacts = {name : occupation for (name, occupation) in contacts.items()}\n",
    "pprint(new_contacts)"
   ]
  },
  {
   "cell_type": "markdown",
   "id": "533fc542",
   "metadata": {},
   "source": [
    "In the section on list comrehensions, we saw that we can use list comprehensions to create a list from any kind of iterables. The same is true for dictionary comprehensions. We can use dictionary comprehensions to create a new dictionary based on any kind of iterables, not necessarily an old dictionary.   "
   ]
  },
  {
   "cell_type": "code",
   "execution_count": null,
   "id": "d98a7396",
   "metadata": {},
   "outputs": [],
   "source": [
    "# Create a dictionary based on a list of word strings\n",
    "# where keys are the words and values are the lengths of the words\n",
    "# for loop example\n",
    "\n",
    "words = ['more', 'is', 'said', 'than', 'done']\n",
    "\n",
    "word_length = {}\n",
    "\n",
    "for word in words:\n",
    "    word_length[word] = len(word)\n",
    "    \n",
    "pprint(word_length)\n",
    "    "
   ]
  },
  {
   "cell_type": "code",
   "execution_count": null,
   "id": "700b6d41",
   "metadata": {},
   "outputs": [],
   "source": [
    "# Create a dictionary of word/word length pairs based on a list of word strings\n",
    "# using a dictionary comprehension\n",
    "\n",
    "word_length = {word : len(word) for word in words}\n",
    "pprint(word_length)"
   ]
  },
  {
   "cell_type": "markdown",
   "id": "f487fb3f",
   "metadata": {},
   "source": [
    "<h3 style=\"color:red; display:inline\">Coding Challenge! &lt; / &gt; </h3>\n",
    "\n",
    "Using indices or variable names, write a for loop and a dictionary comprehension that iterates through the contacts dictionary and creates a new dictionary that only contains people who are architects."
   ]
  },
  {
   "cell_type": "code",
   "execution_count": null,
   "id": "4f9fa3c4",
   "metadata": {},
   "outputs": [],
   "source": [
    "# Use a for loop to create a dictionary of architects\n",
    "# Iterate through each tuple, access the keys and values by index\n",
    "  "
   ]
  },
  {
   "cell_type": "code",
   "execution_count": null,
   "id": "5c1ca5f7",
   "metadata": {},
   "outputs": [],
   "source": [
    "# Use a for loop to create a dictionary of architects\n",
    "# Assign a variable name to each part of the tuple\n",
    " "
   ]
  },
  {
   "cell_type": "code",
   "execution_count": null,
   "id": "e02ccd05",
   "metadata": {},
   "outputs": [],
   "source": [
    "# Use a comprehension to create a dictionary of architects\n",
    "# Iterate through each tuple, access the keys and values by index\n"
   ]
  },
  {
   "cell_type": "code",
   "execution_count": null,
   "id": "18183932",
   "metadata": {},
   "outputs": [],
   "source": [
    "# Use a comprehension to create a dictionary of architects\n",
    "# Assign a variable name to each part of the tuple\n"
   ]
  },
  {
   "cell_type": "markdown",
   "id": "c730db93",
   "metadata": {},
   "source": [
    "<h3 style=\"color:red; display:inline\">Coding Challenge! &lt; / &gt; </h3>\n",
    "\n",
    "Suppose you are a grocery store owner. Due to the inflation, you have to raise prices by 15%. In ```store_prices``` are the items and their original price. Use a dictionary comprehension to create a new dictionary with the new price.\n",
    "\n",
    "Hint: You can round a number to two decimal places using the `round()` function. For example,\n",
    "\n",
    "```\n",
    "round(3.345445, 2)\n",
    "```\n",
    "The first argument is number to be rounded; the second argument is the level of precision. In this case, two decimal places. "
   ]
  },
  {
   "cell_type": "code",
   "execution_count": null,
   "id": "9c552300",
   "metadata": {},
   "outputs": [],
   "source": [
    "# Create a new dictionary where all prices are 15% higher\n",
    "store_prices = {\n",
    "    \"milk\": 3.49,\n",
    "    \"egg\": 5.29,\n",
    "    \"bread\": 2.99,\n",
    "    \"spinach\": 1.99,\n",
    "    \"lettuce\": 2.35,\n",
    "    \"banana\": 0.99\n",
    "}\n"
   ]
  },
  {
   "cell_type": "markdown",
   "id": "7b2d3896",
   "metadata": {},
   "source": [
    "## Set comprehension\n",
    "\n",
    "Sets in Python are written with curly braces. Curly braces `{}` are used for both dictionaries and sets in Python. Which one is created depends on whether we supply the associated value or not. We can use the `type()` function to discover what kind of object a variable is."
   ]
  },
  {
   "cell_type": "code",
   "execution_count": null,
   "id": "b883d659",
   "metadata": {},
   "outputs": [],
   "source": [
    "# Demonstrating a set\n",
    "# One data entry per comma in curly braces\n",
    "\n",
    "test_set = {1, 2, 3}\n",
    "type(test_set)"
   ]
  },
  {
   "cell_type": "code",
   "execution_count": null,
   "id": "be983613",
   "metadata": {},
   "outputs": [],
   "source": [
    "# Demonstrating a dictionary\n",
    "# Two data entries separated by a colon per each comma in curly braces\n",
    "\n",
    "test_dict = {1 : 'apple', 2 : 'banana', 3 : 'cherry'}\n",
    "type(test_dict)"
   ]
  },
  {
   "cell_type": "markdown",
   "id": "56eb5af3",
   "metadata": {},
   "source": [
    "To create an empty set, we use the `set()` function. By default, empty curly braces will create an empty dictionary. "
   ]
  },
  {
   "cell_type": "code",
   "execution_count": null,
   "id": "d78bbd89",
   "metadata": {},
   "outputs": [],
   "source": [
    "# Demonstrating creation of empty dict vs empty set\n",
    "\n",
    "test_set = set()\n",
    "test_dict = {}\n",
    "\n",
    "print(f'test_set is a {type(test_set)}')\n",
    "print(f'test_dict is a {type(test_dict)}')"
   ]
  },
  {
   "cell_type": "code",
   "execution_count": null,
   "id": "962fe488",
   "metadata": {},
   "outputs": [],
   "source": [
    "# Using a for loop with a set\n",
    "\n",
    "set1 = {5, 6, 7, 8, 9}\n",
    "set2 = set() ## note how we initialize an empty set\n",
    "for num in set1:\n",
    "    if num > 5:\n",
    "        set2.add(num) # note how we add a new element to a set\n",
    "print(set2)"
   ]
  },
  {
   "cell_type": "code",
   "execution_count": null,
   "id": "f4c568a1",
   "metadata": {},
   "outputs": [],
   "source": [
    "# Using a set comprehension\n",
    "\n",
    "set2 = {num for num in set1 if num > 5}\n",
    "print(set2)"
   ]
  },
  {
   "cell_type": "markdown",
   "id": "cf2fb530",
   "metadata": {},
   "source": [
    "A set is an unordered collection of distinct objects. If you change the order of the elements or list an element more than once, that does not change the set. "
   ]
  },
  {
   "cell_type": "code",
   "execution_count": null,
   "id": "a14ae2c1",
   "metadata": {},
   "outputs": [],
   "source": [
    "# Using a comparison operator on two sets\n",
    "# Same elements in different order\n",
    "\n",
    "{1,2} == {2,1}"
   ]
  },
  {
   "cell_type": "code",
   "execution_count": null,
   "id": "741a048b",
   "metadata": {},
   "outputs": [],
   "source": [
    "# Using a comparison operator on two sets\n",
    "# Repeated elements in a set\n",
    "\n",
    "{1,1,2} == {1,2}"
   ]
  },
  {
   "cell_type": "code",
   "execution_count": null,
   "id": "588ce81b",
   "metadata": {},
   "outputs": [],
   "source": [
    "# Printing a set with duplicates\n",
    "# Duplicates are removed automatically\n",
    "\n",
    "print({1, 1, 2})"
   ]
  },
  {
   "cell_type": "markdown",
   "id": "7457cc5e",
   "metadata": {},
   "source": [
    "Again, we can use set comprehensions to create a new set based on any kind of iterables that have been defined. "
   ]
  },
  {
   "cell_type": "code",
   "execution_count": null,
   "id": "91220bfc",
   "metadata": {},
   "outputs": [],
   "source": [
    "# Create a new set containing only the names from the dictionary of contacts\n",
    "\n",
    "names = {name for name in contacts.keys()}\n",
    "\n",
    "pprint(names)"
   ]
  },
  {
   "cell_type": "markdown",
   "id": "34e3d0a0",
   "metadata": {},
   "source": [
    "<h3 style=\"color:red; display:inline\">Coding Challenge! &lt; / &gt; </h3>\n",
    "\n",
    "![An illustration of a wordle game](https://ithaka-labs.s3.amazonaws.com/static-files/images/tdm/tdmdocs/wordle.png)\n",
    "\n",
    "In the game [Wordle](https://www.nytimes.com/games/wordle/index.html), players must guess a five letter word in six guesses or less. A player is told if the letters in their guess are found in the word and if they are in the correct spot for the answer.\n",
    "\n",
    "On their first guess, a player discovers that the 3rd letter is \"I\" and the 4th letter is \"S\". If they have the set of all possible words, they could narrow down their guesses.\n",
    "\n",
    "Assume the `words` set contains a set of all possible words, can you write a set comprehension that will generate a set of all possible solutions?\n",
    "\n",
    "As an extra challenge, write additional set comprehensions to eliminate answers that contain the letters \"P\", \"R\", or \"M\"."
   ]
  },
  {
   "cell_type": "code",
   "execution_count": null,
   "id": "f247b418",
   "metadata": {},
   "outputs": [],
   "source": [
    "# Write a set comprehension that creates a set of potential answers\n",
    "\n",
    "words = {'carbon',\n",
    "         'monkey',\n",
    "         'rabbit',\n",
    "         'theory',\n",
    "         'grist',\n",
    "         'farmer',\n",
    "         'pillow',\n",
    "         'exist',\n",
    "         'frisk',\n",
    "         'harbor',\n",
    "         'prism'\n",
    "        }\n",
    "\n"
   ]
  },
  {
   "cell_type": "markdown",
   "id": "72b8712f",
   "metadata": {},
   "source": [
    "## Generator comprehension\n",
    "\n",
    "A generator is a function that creates an iterator which we can use to iterate over an iterable. \n"
   ]
  },
  {
   "cell_type": "code",
   "execution_count": null,
   "id": "3f4f84ed",
   "metadata": {},
   "outputs": [],
   "source": [
    "# Create a Python generator\n",
    "\n",
    "def my_gen (numbers): # a generator function that takes an iterable as input\n",
    "    for number in numbers:\n",
    "        yield number # a generator uses a yield statement"
   ]
  },
  {
   "cell_type": "code",
   "execution_count": null,
   "id": "9e0bed4b",
   "metadata": {},
   "outputs": [],
   "source": [
    "# Use the generator function to create an iterator\n",
    "nums = [5,6,7]\n",
    "gen1 = my_gen (nums) "
   ]
  },
  {
   "cell_type": "code",
   "execution_count": null,
   "id": "1e5feede",
   "metadata": {},
   "outputs": [],
   "source": [
    "# Use next () to yield one element from the iterable at a time\n",
    "next(gen1) "
   ]
  },
  {
   "cell_type": "code",
   "execution_count": null,
   "id": "1e0a2a5a",
   "metadata": {},
   "outputs": [],
   "source": [
    "# Use next () to yield one element from the iterable at a time\n",
    "next(gen1)"
   ]
  },
  {
   "cell_type": "code",
   "execution_count": null,
   "id": "131a5bff",
   "metadata": {},
   "outputs": [],
   "source": [
    "# Use next () to yield one element from the iterable at a time\n",
    "next(gen1)"
   ]
  },
  {
   "cell_type": "markdown",
   "id": "64c7aca1",
   "metadata": {},
   "source": [
    "The generator is exhausted when all the items have been used. If we use `next()` function again, Python returns a `StopIteration` error."
   ]
  },
  {
   "cell_type": "code",
   "execution_count": null,
   "id": "851aae7c",
   "metadata": {},
   "outputs": [],
   "source": [
    "# Use next () to yield one element from the iterable at a time\n",
    "next(gen1)"
   ]
  },
  {
   "cell_type": "markdown",
   "id": "c94bb699",
   "metadata": {},
   "source": [
    "Python provides a shorter way to define a generator function, that is, generator comprehensions.\n",
    "Generator comprehensions basically have the same syntax as list comprehensions, except they use parentheses `()` instead of brackets `[]`."
   ]
  },
  {
   "cell_type": "code",
   "execution_count": null,
   "id": "acfabc40",
   "metadata": {},
   "outputs": [],
   "source": [
    "# Create a list comprehension using hard brackets []\n",
    "numbers = [5,6,7,8,9]\n",
    "new_list = [num for num in numbers if num > 5]\n",
    "print(new_list)"
   ]
  },
  {
   "cell_type": "code",
   "execution_count": null,
   "id": "26418153",
   "metadata": {},
   "outputs": [],
   "source": [
    "# Create a generator using parentheses\n",
    "new_gen = (num for num in numbers if num > 5)\n",
    "type(new_gen) ### new_gen is a generator object"
   ]
  },
  {
   "cell_type": "code",
   "execution_count": null,
   "id": "36810a4d",
   "metadata": {},
   "outputs": [],
   "source": [
    "# Yield the next generator output\n",
    "next(new_gen)"
   ]
  },
  {
   "cell_type": "code",
   "execution_count": null,
   "id": "ef9f313f",
   "metadata": {},
   "outputs": [],
   "source": [
    "# Yield the next generator output\n",
    "next(new_gen)"
   ]
  },
  {
   "cell_type": "code",
   "execution_count": null,
   "id": "6bda9b70",
   "metadata": {},
   "outputs": [],
   "source": [
    "# Yield the next generator output\n",
    "next(new_gen)"
   ]
  },
  {
   "cell_type": "code",
   "execution_count": null,
   "id": "cd7ec807",
   "metadata": {
    "scrolled": true
   },
   "outputs": [],
   "source": [
    "# Yield the next generator output\n",
    "next(new_gen)"
   ]
  },
  {
   "cell_type": "markdown",
   "id": "bc7f50b5",
   "metadata": {},
   "source": [
    "When all the items have been yielded, if we use `next()` function again, Python returns a `StopIteration` error."
   ]
  },
  {
   "cell_type": "code",
   "execution_count": null,
   "id": "6f6e8f48",
   "metadata": {
    "scrolled": true
   },
   "outputs": [],
   "source": [
    "# Yield the next generator output\n",
    "next(new_gen)"
   ]
  },
  {
   "cell_type": "markdown",
   "id": "6e749feb",
   "metadata": {},
   "source": [
    "Because a generator only has to yield one item at a time, it can lead to significant savings in memory usage. "
   ]
  },
  {
   "cell_type": "code",
   "execution_count": null,
   "id": "8d9108a1",
   "metadata": {},
   "outputs": [],
   "source": [
    "# Demonstrate the memory size difference of \n",
    "# a list comprehension vs generator comprehension\n",
    "\n",
    "# Import getsizeof which measures memory usage\n",
    "from sys import getsizeof\n",
    "  \n",
    "list_comprehension = [i for i in range(10000)]\n",
    "generator_comprehension = (i for i in range(10000))\n",
    "  \n",
    "# Print the size of the list comprehension\n",
    "print('List comprehension memory usage: ', getsizeof(list_comprehension))\n",
    "\n",
    "# Print the size of the generator comprehension\n",
    "print('Generator comprehension memory usage: ', getsizeof(generator_comprehension))"
   ]
  },
  {
   "cell_type": "markdown",
   "id": "18232bfb",
   "metadata": {},
   "source": [
    "Generator expressions make sense in scenarios where loading an entire list, dictionary, or set could fill all available memory. This could be because each item is large, the list is large, or both. Use a generator when you want to take one item at a time, do a lot of calculations based on that item, and then move on to the next item."
   ]
  },
  {
   "cell_type": "markdown",
   "id": "11a561e2",
   "metadata": {},
   "source": [
    "<h3 style=\"color:red; display:inline\">Coding Challenge! &lt; / &gt; </h3>\n",
    "\n",
    "* Create a generator object that will yield every integer from 0 to 30. Assign the result to ```result``` and use ```num``` as the iterator variable in the generator expression.\n",
    "\n",
    "* Print the first 5 values by using ```next()``` appropriately in ```print()```.\n",
    "\n",
    "* Print the rest of the values by using a loop to iterate over the generator object."
   ]
  },
  {
   "cell_type": "code",
   "execution_count": null,
   "id": "b5ea73b3",
   "metadata": {},
   "outputs": [],
   "source": [
    "# Create a generator that will yield every integer from 0-30\n"
   ]
  },
  {
   "cell_type": "markdown",
   "id": "987868f2",
   "metadata": {},
   "source": [
    "___\n",
    "## Lesson Complete\n",
    "\n",
    "Congratulations! You have completed *Python Intermediate 1*.\n",
    "\n",
    "### Start Next Lesson: [Python Intermediate 2](./python-intermediate-2.ipynb)\n",
    "\n",
    "### Exercise Solutions\n",
    "Here are a few solutions for exercises in this lesson."
   ]
  },
  {
   "cell_type": "code",
   "execution_count": null,
   "id": "fb4e27bc",
   "metadata": {},
   "outputs": [],
   "source": [
    "# Creating a new list odd_num from odd numbers\n",
    "# Using a list comprehension\n",
    "\n",
    "numbers = [0, 1, 2, 3, 4, 5, 6, 7, 8, 9, 10]\n",
    "\n",
    "odd_num = [number for number in numbers if number % 2 == 1]\n",
    "print(odd_num)"
   ]
  },
  {
   "cell_type": "code",
   "execution_count": null,
   "id": "4ff13e93",
   "metadata": {},
   "outputs": [],
   "source": [
    "# Creating a list of numbers which, after being multiplied by 5,\n",
    "# are less than 35\n",
    "\n",
    "numbers = [0, 1, 2, 3, 4, 5, 6, 7, 8, 9, 10]\n",
    "\n",
    "new_list2 = [number for number in numbers if number * 5 < 35]\n",
    "print(new_list2)"
   ]
  },
  {
   "cell_type": "code",
   "execution_count": null,
   "id": "42e5a19b",
   "metadata": {},
   "outputs": [],
   "source": [
    "# Create a new list that only includes first names\n",
    "# Using a list comprehension\n",
    "\n",
    "people = ['Aaron Aston',\n",
    "         'Brianna Barton',\n",
    "         'Carla Cameron',\n",
    "         'Delia Darcy',\n",
    "         'Evelyn Elgin',\n",
    "         'Frederick Federov',\n",
    "         'Gaston Garbo']\n",
    "\n",
    "friends = [name.split()[0] for name in people]\n",
    "\n",
    "print(friends)"
   ]
  },
  {
   "cell_type": "code",
   "execution_count": null,
   "id": "b55263de",
   "metadata": {},
   "outputs": [],
   "source": [
    "# Create a list of all names starting with A\n",
    "\n",
    "names = [\n",
    "    ['Abby', 'Bella','Cecilia'],\n",
    "    ['Alex','Beatrice','Cynthia','David']\n",
    "]\n",
    "\n",
    "a_team = [name for sub_list in names for name in sub_list if name[0] == 'A']\n",
    "print(a_team)"
   ]
  },
  {
   "cell_type": "code",
   "execution_count": null,
   "id": "40125e42",
   "metadata": {},
   "outputs": [],
   "source": [
    "# Create a list that contains the length of each word\n",
    "# Using a for loop\n",
    "\n",
    "saying = ['After', 'all', 'is', 'said', 'and', 'done', ',', 'more', 'is', 'said', 'than', 'done', '.']\n",
    "\n",
    "lengths = []\n",
    "\n",
    "for word in saying:\n",
    "    lengths.append(len(word))\n",
    "    \n",
    "pprint(lengths)"
   ]
  },
  {
   "cell_type": "code",
   "execution_count": null,
   "id": "32bd7f66",
   "metadata": {},
   "outputs": [],
   "source": [
    "# Create a list that contains the length of each word\n",
    "# Using a list comprehension\n",
    "\n",
    "lengths = [len(word) for word in saying]\n",
    "pprint(lengths)"
   ]
  },
  {
   "cell_type": "code",
   "execution_count": null,
   "id": "2d434dfc",
   "metadata": {},
   "outputs": [],
   "source": [
    "# Use a for loop to create a dictionary of architects\n",
    "# Iterate through each tuple item by index\n",
    "\n",
    "contacts ={\n",
    " 'Amanda Bennett': 'Engineer, electrical',\n",
    " 'Bryan Miller': 'Radiation protection practitioner',\n",
    " 'Christopher Garrison': 'Planning and development surveyor',\n",
    " 'Debra Allen': 'Intelligence analyst',\n",
    " 'Donna Decker': 'Architect',\n",
    " 'Heather Bullock': 'Media planner',\n",
    " 'Jason Brown': 'Energy manager',\n",
    " 'Jason Soto': 'Lighting technician, broadcasting/film/video',\n",
    " 'Marissa Munoz': 'Further education lecturer',\n",
    " 'Matthew Mccall': 'Chief Technology Officer',\n",
    " 'Michael Norman': 'Translator',\n",
    " 'Nicole Leblanc': 'Financial controller',\n",
    " 'Noah Delgado': 'Engineer, land',\n",
    " 'Rachel Charles': 'Physicist, medical',\n",
    " 'Stephanie Petty': 'Architect'}\n",
    "\n",
    "architects = {}\n",
    "\n",
    "for tuple_item in contacts.items():\n",
    "    if tuple_item[1] == 'Architect':\n",
    "        architects[tuple_item[0]] = 'Architect'\n",
    "pprint(architects)  "
   ]
  },
  {
   "cell_type": "code",
   "execution_count": null,
   "id": "d3ac76fa",
   "metadata": {},
   "outputs": [],
   "source": [
    "# Use a for loop to create a dictionary of architects\n",
    "# Assign a variable to each part of the tuple\n",
    "\n",
    "architects = {}\n",
    "\n",
    "for (name, occupation) in contacts.items():\n",
    "    if occupation == 'Architect':\n",
    "        architects[name] = occupation\n",
    "pprint(architects)    "
   ]
  },
  {
   "cell_type": "code",
   "execution_count": null,
   "id": "c7147fa8",
   "metadata": {},
   "outputs": [],
   "source": [
    "# Use a comprehension to create a dictionary of architects\n",
    "# Iterate through each tuple item by index\n",
    "\n",
    "architects = {tuple_item[0]:tuple_item[1] for tuple_item in contacts.items() if tuple_item[1] == 'Architect'}\n",
    "pprint(architects)"
   ]
  },
  {
   "cell_type": "code",
   "execution_count": null,
   "id": "092bf6ef",
   "metadata": {},
   "outputs": [],
   "source": [
    "# Use a comprehension to create a dictionary of architects\n",
    "# Assign a variable to each part of the tuple\n",
    "\n",
    "architects = {name : occupation for (name, occupation) in contacts.items() if occupation == 'Architect'}\n",
    "pprint(architects)"
   ]
  },
  {
   "cell_type": "code",
   "execution_count": null,
   "id": "fa8d61db",
   "metadata": {},
   "outputs": [],
   "source": [
    "# Create a new dictionary where all prices are 15% higher\n",
    "store_prices = {\n",
    "    \"milk\": 3.49,\n",
    "    \"egg\": 5.29,\n",
    "    \"bread\": 2.99,\n",
    "    \"spinach\": 1.99,\n",
    "    \"lettuce\": 2.35,\n",
    "    \"banana\": 0.99\n",
    "}\n",
    "\n",
    "new_prices = {item : round(price * 1.15, 2) for (item, price) in store_prices.items()}\n",
    "pprint(new_prices)"
   ]
  },
  {
   "cell_type": "code",
   "execution_count": null,
   "id": "b4e11674",
   "metadata": {},
   "outputs": [],
   "source": [
    "# Write a set comprehension that creates a set of potential answers\n",
    "\n",
    "words = {'carbon',\n",
    "         'monkey',\n",
    "         'rabbit',\n",
    "         'theory',\n",
    "         'grist',\n",
    "         'farmer',\n",
    "         'pillow',\n",
    "         'exist',\n",
    "         'frisk',\n",
    "         'harbor',\n",
    "         'prism'\n",
    "        }\n",
    "\n",
    "answers = {word for word in words if word[2] == 'i' and word[3] == 's'}\n",
    "\n",
    "answers = {word for word in answers if 'p' not in word}\n",
    "answers = {word for word in answers if 'r' not in word}\n",
    "answers = {word for word in answers if 'm' not in word}\n",
    "           \n",
    "print(answers)"
   ]
  },
  {
   "cell_type": "code",
   "execution_count": null,
   "id": "f315de14",
   "metadata": {},
   "outputs": [],
   "source": [
    "# Create a generator that will yield every integer from 0-30\n",
    "gen = (number for number in range(30))\n",
    "\n",
    "# Print the first 5 values\n",
    "print(next(gen))\n",
    "print(next(gen))\n",
    "print(next(gen))\n",
    "print(next(gen))\n",
    "print(next(gen))\n",
    "\n",
    "# Print the rest of the values using a loop\n",
    "while True:\n",
    "    try: \n",
    "        print(next(gen))\n",
    "    except StopIteration: \n",
    "        print('Generator exhausted')\n",
    "        break"
   ]
  }
 ],
 "metadata": {
  "kernelspec": {
   "display_name": "Python 3 (ipykernel)",
   "language": "python",
   "name": "python3"
  },
  "language_info": {
   "codemirror_mode": {
    "name": "ipython",
    "version": 3
   },
   "file_extension": ".py",
   "mimetype": "text/x-python",
   "name": "python",
   "nbconvert_exporter": "python",
   "pygments_lexer": "ipython3",
   "version": "3.10.7"
  },
  "toc": {
   "base_numbering": 1,
   "nav_menu": {},
   "number_sections": true,
   "sideBar": true,
   "skip_h1_title": true,
   "title_cell": "Table of Contents",
   "title_sidebar": "Contents",
   "toc_cell": false,
   "toc_position": {},
   "toc_section_display": true,
   "toc_window_display": false
  }
 },
 "nbformat": 4,
 "nbformat_minor": 5
}
