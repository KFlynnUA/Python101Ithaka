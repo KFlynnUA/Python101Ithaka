{
 "cells": [
  {
   "cell_type": "markdown",
   "id": "1ccf5448",
   "metadata": {},
   "source": [
    "<img align=\"left\" src=\"https://ithaka-labs.s3.amazonaws.com/static-files/images/tdm/tdmdocs/CC_BY.png\"><br />\n",
    "\n",
    "Created by [Nathan Kelber](http://nkelber.com) and Zhuo Chen under [Creative Commons CC BY License](https://creativecommons.org/licenses/by/4.0/)<br />\n",
    "For questions/comments/improvements, email nathan.kelber@ithaka.org or zhuo.chen@ithaka.org.<br />\n",
    "___"
   ]
  },
  {
   "cell_type": "markdown",
   "id": "cf138ba2",
   "metadata": {},
   "source": [
    "# Python Comprehensions\n",
    "\n",
    "**Description:** This notebook describes:\n",
    "* What a Python comprehension is\n",
    "* How to write and use list comprehensions\n",
    "* How to write and use dictionary comprehensions\n",
    "* How to write and use set comprehensions\n",
    "* How to write and use generator comprehensions\n",
    "\n",
    "**Use Case:** For Learners (Detailed explanation, not ideal for researchers)\n",
    "\n",
    "**Difficulty:** Intermediate\n",
    "\n",
    "**Completion Time:** 90 minutes\n",
    "\n",
    "**Knowledge Required:** \n",
    "* Python Basics Series ([Start Python Basics 1](./python-basics-1.ipynb))\n",
    "\n",
    "**Knowledge Recommended:** None\n",
    "\n",
    "**Data Format:** None\n",
    "\n",
    "**Libraries Used:** None\n",
    "\n",
    "**Research Pipeline:** None\n",
    "___"
   ]
  },
  {
   "cell_type": "markdown",
   "id": "db42e3d6",
   "metadata": {},
   "source": [
    "## List Comprehensions\n",
    "\n",
    "A Python comprehension is a helpful shortcut for creating a list, dictionary, or set from an existing list, dictionary, or set. The same task can usually be accomplished with a for loop, map, or filter, but comprehensions have the benefit of being shorter.\n",
    "\n",
    "### List Comprehensions (Numbers)\n",
    "\n",
    "In this first example, we will use a list with numbers."
   ]
  },
  {
   "cell_type": "code",
   "execution_count": null,
   "id": "5a157714",
   "metadata": {},
   "outputs": [],
   "source": [
    "# Create a list of numbers\n",
    "\n",
    "numbers = [0, 1, 2, 3, 4, 5, 6, 7, 8, 9, 10]"
   ]
  },
  {
   "cell_type": "code",
   "execution_count": null,
   "id": "d40aa4ad",
   "metadata": {},
   "outputs": [],
   "source": [
    "# Create a new list using a for loop\n",
    "\n",
    "new_list = [] # An empty list we will add to\n",
    "\n",
    "for item in numbers:\n",
    "    if item > 5:\n",
    "        new_list.append(item)\n",
    "\n",
    "print(new_list)"
   ]
  },
  {
   "cell_type": "markdown",
   "id": "0f1fb461",
   "metadata": {},
   "source": [
    "Take a look again at the for loop.\n",
    "```\n",
    "for item in numbers:\n",
    "    if item > 5:\n",
    "        new_list.append(item)\n",
    "```\n",
    "\n",
    "We can read this as: for each ```item```, if ```item``` is bigger than 5, append ```item``` to ```new_list```. \n",
    "\n",
    "<!-- If we rearrange this slightly, we have the form for a list comprehension:\n",
    "\n",
    "\"Append item, for item in numbers\" -->\n",
    "\n",
    "<!-- We write this as list comprehension like so:\n",
    "\n",
    "`new_list = [item for item in numbers]`\n",
    "\n",
    "The brackets `[]` indicate we are creating a list. -->"
   ]
  },
  {
   "cell_type": "code",
   "execution_count": null,
   "id": "d619de2d",
   "metadata": {},
   "outputs": [],
   "source": [
    "# Now, let's do the same thing using a list comprehension\n",
    "\n",
    "new_list = [item for item in numbers if item > 5]\n",
    "print(new_list)"
   ]
  },
  {
   "cell_type": "markdown",
   "id": "b31654c8",
   "metadata": {},
   "source": [
    "The order of the comprehension seems confusing. How do we understand it?\n",
    "<!-- If the order of the comprehension is confusing, it may help to skip the first variable name and start with:\n",
    "`for item in numbers`\n",
    "then return to the beginning of the comprehension to see what will be appended:\n",
    "`item`. -->"
   ]
  },
  {
   "cell_type": "markdown",
   "id": "bf8fe7ba",
   "metadata": {},
   "source": [
    "### An excursion: using set-builder to help us understand list comprehensions\n",
    "\n",
    "We can use sets in mathematics to help us understand the syntax of a list comprehension. As I explain the notation of sets, you will soon see the similarity between the list comprehension and the set-builder notation. \n",
    "\n",
    "A set is essentially a collection of objects. Recall that in mathematics we notate a set in the following way: within a pair of curly brackets, we put all the elements of that set. \n",
    "\n",
    "$$\\{5,6,7,8,9\\}$$\n",
    "\n",
    "If the set is very big in that it contains, say, hundreds of thousands of elements, we will not want to list all the elements exhaustively because it will take too long to write such a set! Suppose you want to create a set that contains all the natural numbers from 1 to 1000. You will definitely not want to write an extremely long set of numbers!\n",
    "\n",
    "Fortunately, we have another way of writing a set, which we call the set-builder notation. \n",
    "\n",
    "The set-builder notation can be simply put in the following way. \n",
    "\\begin{align}\n",
    "\\{y~|~\\text{conditions that}~y~\\text{must satisfy to be a member in the set}\\}\\\\\\hfill{OR}\n",
    "\\end{align}\n",
    "\\begin{align}\n",
    "\\{y~:~\\text{conditions that}~y~\\text{must satisfy to be a member in the set}\\}  \\\\\n",
    "\\end{align}\n",
    "\n",
    "Back to the previous scenario where you want to create a set that contains all the natural numbers from 1 to 1000, you can easily write the set using the set-builder notation. \n",
    "\n",
    "$$\\{y~|~y\\in N \\wedge 1\\leq y\\leq 1000 \\}$$\n",
    "\n",
    "### Back to the list comprehension ###\n",
    "Going back to the list comprehension we write to create ```new_list```, we can easily see an analogy. \n",
    "```\n",
    "new_list = [item for item in numbers if item > 5]\n",
    "```\n",
    "\n",
    "\n",
    "The list comprehension also consists of two parts. To the left is the variable name standing for the elements we want to include in ```new_list```. To the right are the conditions we want those elements to satisfy! \n",
    "\n",
    "The only differences are:\n",
    "\n",
    "(i) we use the list comprehension to create a **list**, not a set; \n",
    "\n",
    "(ii) the conditions start with a for loop, because we are looping over each element in ```numbers``` and check whether that element satisfies the specified if-condition;\n",
    "\n",
    "(iii) there is no visible symbol like \"$|$\" or \"$:$\" that separates the two parts in list comprehensions.  \n"
   ]
  },
  {
   "cell_type": "markdown",
   "id": "d21e7a21",
   "metadata": {},
   "source": [
    "- ****Exercise one****\n",
    "\n",
    "Create a list ```odd_num``` which contains all the odd numbers from the list ```numbers```. \n",
    "\n",
    "|Operator| Operation| Example | Evaluation |\n",
    "    |---|----|---|---|\n",
    "    |%| Modulus/Remainder| 5 % 2 | 1 |\n",
    "    \n",
    "\n",
    "```\n",
    "odd_num=[]\n",
    "for number in numbers:\n",
    "    if number % 2 == 1:\n",
    "        odd_num.append(number) \n",
    "```"
   ]
  },
  {
   "cell_type": "code",
   "execution_count": null,
   "id": "df2cb039",
   "metadata": {},
   "outputs": [],
   "source": []
  },
  {
   "cell_type": "markdown",
   "id": "a3729a7f",
   "metadata": {},
   "source": [
    "Create a list ```new_list2``` which contains those numbers from the list ```numbers```, which, after being timed by 5, is smaller than 35. \n",
    "\n",
    "|Operator| Operation| Example | Evaluation |\n",
    "    |---|----|---|---|\n",
    "    |*| Multiplication | 7 * 8 | 56 |\n"
   ]
  },
  {
   "cell_type": "code",
   "execution_count": null,
   "id": "7ef279ee",
   "metadata": {},
   "outputs": [],
   "source": []
  },
  {
   "cell_type": "markdown",
   "id": "fa5db524",
   "metadata": {},
   "source": [
    "<!-- Here's an example that changes what will be appended. -->\n",
    "<!-- Again, if you find the order confusing, it may help to skip ahead to the `for`. You can also optionally include a parentheses that may help clarify which part will be appended: -->\n",
    "<!-- # Create a new list where each number is doubled\n",
    "\n",
    "new_list = [item * 2 for item in numbers]\n",
    "print(new_list) -->\n",
    "<!-- # # Create a new list where each number is doubled\n",
    "# # Parentheses for clarity\n",
    "\n",
    "# new_list = [(item * 2) for item in numbers]\n",
    "# print(new_list) -->\n"
   ]
  },
  {
   "cell_type": "markdown",
   "id": "799ca1a8",
   "metadata": {},
   "source": [
    "### List Comprehensions (Strings)\n",
    "\n",
    "A list comprehension also works on a list containing other data types, such as a string."
   ]
  },
  {
   "cell_type": "code",
   "execution_count": null,
   "id": "57f238d1",
   "metadata": {},
   "outputs": [],
   "source": [
    "# Create a list of people\n",
    "people = ['Aaron Aston',\n",
    "         'Brianna Barton',\n",
    "         'Carla Cameron',\n",
    "         'Delia Darcy',\n",
    "         'Evelyn Elgin',\n",
    "         'Frederick Federov',\n",
    "         'Gaston Garbo']"
   ]
  },
  {
   "cell_type": "markdown",
   "id": "ab622bf1",
   "metadata": {},
   "source": [
    "In the previous section, we see that in a list comprehension, the membership if-condition is nested in a for loop. Actually, not every list comprehension will have a if-condition. This is because in certain cases, the membership of an element is not further specified by a if-condition. Take a look at a simple example. \n",
    "\n",
    "**Question:** Can you take a guess what the resulting list ```names``` looks like?"
   ]
  },
  {
   "cell_type": "code",
   "execution_count": null,
   "id": "a5f071d6",
   "metadata": {},
   "outputs": [],
   "source": [
    "### sometimes we may not see a if-condition in a list comprehension\n",
    "names=[name for name in people] \n",
    "from pprint import pprint # import pprint to print out the list in a prettier way\n",
    "pprint(names)"
   ]
  },
  {
   "cell_type": "markdown",
   "id": "7eb27735",
   "metadata": {},
   "source": [
    "In many cases, though, we do not just want to loop over the elements in an existing list and append each element to a new list unchanged. We want to go through each element in the existing list, use a function to operate on that element and then append the output to the new list. "
   ]
  },
  {
   "cell_type": "code",
   "execution_count": null,
   "id": "da960a4c",
   "metadata": {},
   "outputs": [],
   "source": [
    "# Create a new list that only includes first names\n",
    "# Using a for loop\n",
    "\n",
    "friends = []\n",
    "\n",
    "for name in people:\n",
    "    first_name = name.split()[0] # Split the name on whitespace, then grab the first name/item\n",
    "    friends.append(first_name)\n",
    "    \n",
    "print(friends)\n",
    "\n"
   ]
  },
  {
   "cell_type": "code",
   "execution_count": null,
   "id": "b234f1d1",
   "metadata": {},
   "outputs": [],
   "source": [
    "\"John Doe\".split()"
   ]
  },
  {
   "cell_type": "code",
   "execution_count": null,
   "id": "59f1d28d",
   "metadata": {},
   "outputs": [],
   "source": [
    "\"John Doe\".split()[0]"
   ]
  },
  {
   "cell_type": "code",
   "execution_count": null,
   "id": "1dbd8e80",
   "metadata": {},
   "outputs": [],
   "source": [
    "# Create a new list that only includes first names\n",
    "# Using a list comprehension\n",
    "\n",
    "friends = [name.split()[0] for name in people]\n",
    "\n",
    "print(friends)"
   ]
  },
  {
   "cell_type": "code",
   "execution_count": null,
   "id": "0644201a",
   "metadata": {},
   "outputs": [],
   "source": [
    "# Create a new list that only includes the upper case form of the last names\n",
    "friends =[]\n",
    "for name in people:\n",
    "    last_name_upper=name.split()[1].upper()\n",
    "    friends.append(last_name_upper)\n",
    "print(friends)"
   ]
  },
  {
   "cell_type": "code",
   "execution_count": null,
   "id": "72ef3347",
   "metadata": {},
   "outputs": [],
   "source": [
    "friends=[name.split()[1].upper() for name in people]"
   ]
  },
  {
   "cell_type": "code",
   "execution_count": null,
   "id": "42baf9f7",
   "metadata": {},
   "outputs": [],
   "source": [
    "print(friends)"
   ]
  },
  {
   "cell_type": "markdown",
   "id": "b211331f",
   "metadata": {},
   "source": [
    "### List Comprehensions (Multiple Lists)\n",
    "\n",
    "We can also create a list comprehension that pulls from multiple lists by using two for loops within a single list comprehension.\n",
    "<!-- # # Create a first names list\n",
    "\n",
    "# first_names = ['Aaron', 'Brianna', 'Carla', 'Delia', 'Evelyn', 'Frederick', 'Gaston']\n",
    "\n",
    "# # Create a last names list\n",
    "\n",
    "# last_names = ['Aston', 'Barton', 'Cameron', 'Darcy', 'Elgin', 'Federov', 'Garbo'] -->"
   ]
  },
  {
   "cell_type": "markdown",
   "id": "1866e5da",
   "metadata": {},
   "source": [
    "Scenario: Suppose you are running a restaurant. For the lunch special, you provide different varieties of rice and different protein choices that go with the rice. "
   ]
  },
  {
   "cell_type": "code",
   "execution_count": null,
   "id": "28604420",
   "metadata": {},
   "outputs": [],
   "source": [
    "rices=[\"white rice\", \"brown rice\", \"yellow rice\"]\n",
    "\n",
    "proteins=[\"beef\", \"pork\", \"chicken\", \"shrimp\", \"lamb\",\"tofu\"] "
   ]
  },
  {
   "cell_type": "code",
   "execution_count": null,
   "id": "afad94b0",
   "metadata": {},
   "outputs": [],
   "source": [
    "# Create a list of all possible combinations of rice and protein \n",
    "\n",
    "all_lunch_special_choices = [rice+\" with \"+protein for rice in rices for protein in proteins]\n",
    "\n",
    "pprint(all_lunch_special_choices)"
   ]
  },
  {
   "cell_type": "markdown",
   "id": "6a31fbe4",
   "metadata": {},
   "source": [
    "In the previous example, the two lists we pull from are independent of each other. You can see that even if we switch the two for loops, the result is still a valid list comprehension. "
   ]
  },
  {
   "cell_type": "code",
   "execution_count": null,
   "id": "686702a5",
   "metadata": {},
   "outputs": [],
   "source": [
    "all_lunch_special_choices = [rice+\" with \"+protein for protein in proteins for rice in rices]\n",
    "\n",
    "pprint(all_lunch_special_choices)"
   ]
  },
  {
   "cell_type": "markdown",
   "id": "767d7e3a",
   "metadata": {},
   "source": [
    "What if the lists we pull from are not independent of one another? What if one is nested in another? \n",
    "```\n",
    "names=[[Abby, Bella,'Cecilia'],['Alex','Beatrice','Cynthia']]\n",
    "```\n",
    "Suppose we want to go through each sub-list in the list ```names```, grab the name starting with letter A, and put it in a new list ```A_names```."
   ]
  },
  {
   "cell_type": "code",
   "execution_count": null,
   "id": "b45a6902",
   "metadata": {},
   "outputs": [],
   "source": [
    "names=[['Abby', 'Bella','Cecilia'],['Alex','Beatrice','Cynthia','David']]\n",
    "\n",
    "A_names=[A_name for sub_list in names for A_name in sub_list]\n",
    "A_names"
   ]
  },
  {
   "cell_type": "code",
   "execution_count": null,
   "id": "39c18524",
   "metadata": {},
   "outputs": [],
   "source": [
    "A_names=[A_name for A_name in sub_list for sub_list in names ]"
   ]
  },
  {
   "cell_type": "markdown",
   "id": "75ed881a",
   "metadata": {},
   "source": [
    "**Exercise two:** Define the variable ```saying``` to contain the list ['After', 'all', 'is', 'said', 'and', 'done', ',', 'more',\n",
    "'is', 'said', 'than', 'done', '.']. Process this list using a for loop, and store the length of each word in a new list ```lengths```. Hint: begin by assigning the empty list to ```lengths```, using ```lengths = []```. Then each time through the loop, use ```append()``` to add another length value to the list. Now do the same thing using a list comprehension."
   ]
  },
  {
   "cell_type": "code",
   "execution_count": null,
   "id": "fe1ef427",
   "metadata": {},
   "outputs": [],
   "source": []
  },
  {
   "cell_type": "markdown",
   "id": "74af6020",
   "metadata": {},
   "source": [
    "## Dictionary Comprehension\n",
    "The form of a dictionary comprehension is the same as for a list. Since a dictionary comprehension may deal with keys, values, or both, we need to be prepared to use `.keys()`, `.values()`, or `.items()` (for both)."
   ]
  },
  {
   "cell_type": "code",
   "execution_count": null,
   "id": "335a87e1",
   "metadata": {},
   "outputs": [],
   "source": [
    "# Create a dictionary of contacts and occupations\n",
    "\n",
    "contacts ={\n",
    " 'Amanda Bennett': 'Engineer, electrical',\n",
    " 'Bryan Miller': 'Radiation protection practitioner',\n",
    " 'Christopher Garrison': 'Planning and development surveyor',\n",
    " 'Debra Allen': 'Intelligence analyst',\n",
    " 'Donna Decker': 'Architect',\n",
    " 'Heather Bullock': 'Media planner',\n",
    " 'Jason Brown': 'Energy manager',\n",
    " 'Jason Soto': 'Lighting technician, broadcasting/film/video',\n",
    " 'Marissa Munoz': 'Further education lecturer',\n",
    " 'Matthew Mccall': 'Chief Technology Officer',\n",
    " 'Michael Norman': 'Translator',\n",
    " 'Nicole Leblanc': 'Financial controller',\n",
    " 'Noah Delgado': 'Engineer, land',\n",
    " 'Rachel Charles': 'Physicist, medical',\n",
    " 'Stephanie Petty': 'Architect'}"
   ]
  },
  {
   "cell_type": "markdown",
   "id": "7a5ad5f1",
   "metadata": {},
   "source": [
    "When we loop over a dictionary, we will only loop over the keys of the dictionary. "
   ]
  },
  {
   "cell_type": "code",
   "execution_count": null,
   "id": "c7880711",
   "metadata": {},
   "outputs": [],
   "source": [
    "for item in contacts:\n",
    "    print(item)"
   ]
  },
  {
   "cell_type": "code",
   "execution_count": null,
   "id": "514f9470",
   "metadata": {},
   "outputs": [],
   "source": [
    "for key in contacts.keys():\n",
    "    print(key)"
   ]
  },
  {
   "cell_type": "markdown",
   "id": "7a3038f7",
   "metadata": {},
   "source": [
    "To loop over both the keys and the values, we will need to use ```dict.items()```."
   ]
  },
  {
   "cell_type": "code",
   "execution_count": null,
   "id": "a8f83b5d",
   "metadata": {},
   "outputs": [],
   "source": [
    "for item in contacts.items():\n",
    "    print(item)"
   ]
  },
  {
   "cell_type": "code",
   "execution_count": null,
   "id": "5c1ca5f7",
   "metadata": {},
   "outputs": [],
   "source": [
    "# Create a dictionary that only contains architects\n",
    "architects={}\n",
    "for item in contacts.items():\n",
    "    if item[1]=='Architect':\n",
    "        architects[item[0]]='Architect'\n",
    "pprint(architects)       "
   ]
  },
  {
   "cell_type": "code",
   "execution_count": null,
   "id": "5ec0b9f1",
   "metadata": {},
   "outputs": [],
   "source": [
    "# create the same dictionary using index to get the keys and values from each tuple\n",
    "architects = {item[0]:item[1] for item in contacts.items() if item[1]=='Architect'}\n",
    "print(architects)"
   ]
  },
  {
   "cell_type": "code",
   "execution_count": null,
   "id": "18183932",
   "metadata": {},
   "outputs": [],
   "source": [
    "# Create a dictionary that only contains architects\n",
    "\n",
    "architects={name:occupation for (name,occupation) in contacts.items() if occupation == 'Architect'}\n",
    "print(architects)"
   ]
  },
  {
   "cell_type": "markdown",
   "id": "bbe8cd9b",
   "metadata": {},
   "source": [
    "Note that our dictionary comprehension uses braces `{}` instead of brackets `[]`, since it is a dictionary. "
   ]
  },
  {
   "cell_type": "markdown",
   "id": "74a77b3d",
   "metadata": {},
   "source": [
    "In the section of 'list comprehensions', we have created a new list by filtering on an old list (e.g. append a number to a new list if that number is bigger than 5). We have also created a new list by changing the original elements in an old list using a function (e.g. append the first name from an old list of names by splitting the name and selecting the first name). \n",
    "\n",
    "We can do the same thing in dictionary comprehensions. Just now, we have created a new dictionary by filtering on an old dictionary. "
   ]
  },
  {
   "cell_type": "code",
   "execution_count": null,
   "id": "68b62fc0",
   "metadata": {
    "scrolled": true
   },
   "outputs": [],
   "source": [
    "# Create a dictionary only containing engineers\n",
    "# Change longer title to just 'Engineer'\n",
    "\n",
    "engineers = {name: occupation.split(',')[0] for (name, occupation) in contacts.items() if 'Engineer' in occupation}\n",
    "print(engineers)"
   ]
  },
  {
   "cell_type": "code",
   "execution_count": null,
   "id": "948e6430",
   "metadata": {
    "scrolled": true
   },
   "outputs": [],
   "source": [
    "# Create a dictionary that indicates whether a person is an engineer\n",
    "\n",
    "from pprint import pprint # import pprint for easier to read dictionary prints\n",
    "\n",
    "engineers = {name: ('Engineer' if 'Engineer' in occupation else 'Not Engineer') for (name, occupation) in contacts.items()}\n",
    "pprint(engineers)"
   ]
  },
  {
   "cell_type": "markdown",
   "id": "c730db93",
   "metadata": {},
   "source": [
    "**Exercise three** \n",
    "Suppose you are a grocery store owner. Due to the inflation, you have to raise the commodity price by 15%. In ```dict1``` are the commodity and their original price. You want to create a new dictionary with the new price.\n",
    "\n",
    "```\n",
    "dict1={\"milk\":3.49, \"egg\": 5.29, \"bread\": 2.99, \"spinach\": 1.99, \"lettuce\": '2.35', \"banana\":0.99}\n",
    "```"
   ]
  },
  {
   "cell_type": "code",
   "execution_count": null,
   "id": "9c552300",
   "metadata": {},
   "outputs": [],
   "source": []
  },
  {
   "cell_type": "markdown",
   "id": "7b2d3896",
   "metadata": {},
   "source": [
    "## Set comprehension\n",
    "Curly braces are used for both dictionaries and sets in Python. Which one is created depends on whether we supply the associated value or not. "
   ]
  },
  {
   "cell_type": "code",
   "execution_count": null,
   "id": "b883d659",
   "metadata": {},
   "outputs": [],
   "source": [
    "{1,2,3}"
   ]
  },
  {
   "cell_type": "code",
   "execution_count": null,
   "id": "be983613",
   "metadata": {},
   "outputs": [],
   "source": [
    "{1:'apple',2:'banana',3:'cherry'}"
   ]
  },
  {
   "cell_type": "code",
   "execution_count": null,
   "id": "962fe488",
   "metadata": {},
   "outputs": [],
   "source": [
    "set1={5,6,7,8,9}\n",
    "set2=set() ## note how we initialize an empty set\n",
    "for num in set1:\n",
    "    if num>5:\n",
    "        set2.add(num)\n",
    "print(set2)"
   ]
  },
  {
   "cell_type": "code",
   "execution_count": null,
   "id": "450ef981",
   "metadata": {},
   "outputs": [],
   "source": [
    "set2={}\n",
    "for num in set1:\n",
    "    if num>5:\n",
    "        set2.add(num)\n",
    "print(set2)"
   ]
  },
  {
   "cell_type": "code",
   "execution_count": null,
   "id": "f4c568a1",
   "metadata": {},
   "outputs": [],
   "source": [
    "set2={num for num in set1 if num>5}\n",
    "set2"
   ]
  },
  {
   "cell_type": "markdown",
   "id": "cf2fb530",
   "metadata": {},
   "source": [
    "A set is an unordered collection of distinct objects. If you change the order of the elements or list an element more than once, that does not change the set. "
   ]
  },
  {
   "cell_type": "code",
   "execution_count": null,
   "id": "a14ae2c1",
   "metadata": {},
   "outputs": [],
   "source": [
    "{1,2}=={2,1}"
   ]
  },
  {
   "cell_type": "code",
   "execution_count": null,
   "id": "741a048b",
   "metadata": {},
   "outputs": [],
   "source": [
    "{1,1,2}=={1,2}"
   ]
  },
  {
   "cell_type": "markdown",
   "id": "1f796d45",
   "metadata": {},
   "source": [
    "Suppose you run a book store and you record how many copies each book was sold in the past month. Now, you want to filter out all books from the dictionary that were sold more than 50 copies."
   ]
  },
  {
   "cell_type": "code",
   "execution_count": null,
   "id": "deeea0e5",
   "metadata": {},
   "outputs": [],
   "source": [
    "sale={\n",
    "    'Great Expectations': 60, \n",
    "    'Lolita': 30, \n",
    "    'Scarlet Letter': 55, \n",
    "    'The Screw that Turns': 36, \n",
    "    'The Great Gatsby': 58,\n",
    "    'The Beloved': 52\n",
    "}"
   ]
  },
  {
   "cell_type": "code",
   "execution_count": null,
   "id": "cb5dc81c",
   "metadata": {},
   "outputs": [],
   "source": [
    "popular_books={book for (book,copy) in sale.items() if copy > 50}\n",
    "print(popular_books)"
   ]
  },
  {
   "cell_type": "markdown",
   "id": "34e3d0a0",
   "metadata": {},
   "source": [
    "<font size=\"5\">$\\color{blue}{\\bf Coding~Challenge!}$</font>\n",
    "\n",
    "Rewrite the following nested loop into a set comprehension:\n",
    "\n",
    " \t\n",
    "```\n",
    "words = ['attribution', 'confabulation', 'elocution', 'sequoia', 'tenacious', 'unidirectional']\n",
    "vsequences = set()\n",
    "for word in words:\n",
    "    vowels = []\n",
    "    for char in word:\n",
    "        if char in 'aeiou':\n",
    "            vowels.append(char)\n",
    "    vsequences.add(''.join(vowels))\n",
    "sorted(vsequences)\n",
    "```"
   ]
  },
  {
   "cell_type": "code",
   "execution_count": null,
   "id": "f247b418",
   "metadata": {},
   "outputs": [],
   "source": [
    "words = ['attribution', 'confabulation', 'elocution', 'sequoia', 'tenacious', 'unidirectional']\n"
   ]
  },
  {
   "cell_type": "markdown",
   "id": "72b8712f",
   "metadata": {},
   "source": [
    "## Generator comprehension\n",
    "A generator comprehension is like a list comprehension, but instead of finding all the items you're interested in and packing them into list, it waits, and yields each item one by one. Because a generator expression only has to yield one item at a time, it can lead to big savings in memory usage. \n",
    "\n",
    "Generator expressions make the most sense in scenarios where you need to take one item at a time, do a lot of calculations based on that item, and then move on to the next item."
   ]
  },
  {
   "cell_type": "markdown",
   "id": "216eca0e",
   "metadata": {},
   "source": [
    "Generator comprehensions basically have the same syntax as list comprehensions, except that it uses parentheses ( ) instead of brackets [ ]."
   ]
  },
  {
   "cell_type": "code",
   "execution_count": null,
   "id": "cce07035",
   "metadata": {},
   "outputs": [],
   "source": [
    "numbers=[5,6,7,8,9]\n",
    "new_list=[num for num in numbers if num>5]\n",
    "print(new_list)"
   ]
  },
  {
   "cell_type": "code",
   "execution_count": null,
   "id": "dde17565",
   "metadata": {},
   "outputs": [],
   "source": [
    "len(new_list)"
   ]
  },
  {
   "cell_type": "code",
   "execution_count": null,
   "id": "0212569c",
   "metadata": {},
   "outputs": [],
   "source": [
    "new_gen=(num for num in numbers if num>5)\n",
    "type(new_gen) ### new_gen is a generator object"
   ]
  },
  {
   "cell_type": "code",
   "execution_count": null,
   "id": "396fa83e",
   "metadata": {},
   "outputs": [],
   "source": [
    "len(new_gen)"
   ]
  },
  {
   "cell_type": "code",
   "execution_count": null,
   "id": "36810a4d",
   "metadata": {},
   "outputs": [],
   "source": [
    "next(new_gen)"
   ]
  },
  {
   "cell_type": "code",
   "execution_count": null,
   "id": "ef9f313f",
   "metadata": {},
   "outputs": [],
   "source": [
    "next(new_gen)"
   ]
  },
  {
   "cell_type": "code",
   "execution_count": null,
   "id": "6bda9b70",
   "metadata": {},
   "outputs": [],
   "source": [
    "next(new_gen)"
   ]
  },
  {
   "cell_type": "code",
   "execution_count": null,
   "id": "cd7ec807",
   "metadata": {},
   "outputs": [],
   "source": [
    "next(new_gen)"
   ]
  },
  {
   "cell_type": "code",
   "execution_count": null,
   "id": "6f6e8f48",
   "metadata": {},
   "outputs": [],
   "source": [
    "next(new_gen)"
   ]
  },
  {
   "cell_type": "code",
   "execution_count": null,
   "id": "acfabc40",
   "metadata": {},
   "outputs": [],
   "source": [
    "gen_to_list=list(new_gen)"
   ]
  },
  {
   "cell_type": "markdown",
   "id": "11a561e2",
   "metadata": {},
   "source": [
    "**Exercise Four** \n",
    "\n",
    "* Create a generator object that will produce values from 0 to 30. Assign the result to ```result``` and use ```num``` as the iterator variable in the generator expression.\n",
    "\n",
    "* Print the first 5 values by using ```next()``` appropriately in ```print()```.\n",
    "\n",
    "* Print the rest of the values by using a for loop to iterate over the generator object."
   ]
  },
  {
   "cell_type": "code",
   "execution_count": null,
   "id": "504768f9",
   "metadata": {},
   "outputs": [],
   "source": []
  }
 ],
 "metadata": {
  "kernelspec": {
   "display_name": "Python 3 (ipykernel)",
   "language": "python",
   "name": "python3"
  },
  "language_info": {
   "codemirror_mode": {
    "name": "ipython",
    "version": 3
   },
   "file_extension": ".py",
   "mimetype": "text/x-python",
   "name": "python",
   "nbconvert_exporter": "python",
   "pygments_lexer": "ipython3",
   "version": "3.10.7"
  },
  "toc": {
   "base_numbering": 1,
   "nav_menu": {},
   "number_sections": true,
   "sideBar": true,
   "skip_h1_title": false,
   "title_cell": "Table of Contents",
   "title_sidebar": "Contents",
   "toc_cell": false,
   "toc_position": {},
   "toc_section_display": true,
   "toc_window_display": false
  }
 },
 "nbformat": 4,
 "nbformat_minor": 5
}
