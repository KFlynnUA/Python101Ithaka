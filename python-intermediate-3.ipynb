{
 "cells": [
  {
   "cell_type": "markdown",
   "id": "d153b0c4",
   "metadata": {},
   "source": [
    "<img align=\"left\" src=\"https://ithaka-labs.s3.amazonaws.com/static-files/images/tdm/tdmdocs/CC_BY.png\"><br />\n",
    "\n",
    "Created by [Nathan Kelber](http://nkelber.com) and Zhuo Chen for [JSTOR Labs](https://labs.jstor.org/) under [Creative Commons CC BY License](https://creativecommons.org/licenses/by/4.0/)<br />\n",
    "For questions/comments/improvements, email nathan.kelber@ithaka.org.<br />\n",
    "___"
   ]
  },
  {
   "cell_type": "markdown",
   "id": "1f81c2fd",
   "metadata": {},
   "source": [
    "# Python Intermediate 3\n",
    "\n",
    "**Description:** This notebook describes how to:\n",
    "* Use the Python `pathLib` library to manipulate files\n",
    "\n",
    "**Use Case:** For Learners (Detailed explanation, not ideal for researchers)\n",
    "\n",
    "**Difficulty:** Intermediate\n",
    "\n",
    "**Completion Time:** 90 minutes\n",
    "\n",
    "**Knowledge Required:** \n",
    "* Python Basics ([Start Python Basics I](./python-basics-1.ipynb))\n",
    "\n",
    "**Knowledge Recommended:**\n",
    "* [Python Intermediate 1](./python-intermediate-1.ipynb)\n",
    "* [Python Intermediate 2](./python-intermediate-2.ipynb)\n",
    "\n",
    "**Data Format:** Text (.txt)\n",
    "\n",
    "**Libraries Used:** `pathlib`\n",
    "\n",
    "**Research Pipeline:** None\n",
    "___"
   ]
  },
  {
   "cell_type": "code",
   "execution_count": null,
   "id": "ee421b45",
   "metadata": {},
   "outputs": [],
   "source": [
    "# Import pathlib library\n",
    "from pathlib import Path"
   ]
  },
  {
   "cell_type": "code",
   "execution_count": null,
   "id": "ba24d992",
   "metadata": {},
   "outputs": [],
   "source": [
    "### Download Sample Files for this Lesson\n",
    "import urllib.request\n",
    "download_urls = [\n",
    "    'https://ithaka-labs.s3.amazonaws.com/static-files/images/tdm/tdmdocs/sample.txt'\n",
    "]\n",
    "\n",
    "for url in download_urls:\n",
    "    urllib.request.urlretrieve(url, './data/' + url.rsplit('/', 1)[-1])\n",
    "    \n",
    "print('Sample files ready.')"
   ]
  },
  {
   "cell_type": "markdown",
   "id": "59d74569",
   "metadata": {},
   "source": [
    "## An Introduction to `pathlib`\n",
    "\n",
    "Python Intermediate 2 describes the way to open, read, and write files. The built-in module `Pathlib()` is the best way to work with the file system so your code can seamlessly work with files and directories, even across different operating systems. For example, `Pathlib()` can help you accomplish tasks like:\n",
    "\n",
    "* Find whether a particular file or directory already exists\n",
    "* Simplify the code for working with files\n",
    "* Find information about a file, including its extension"
   ]
  },
  {
   "cell_type": "markdown",
   "id": "24fad475",
   "metadata": {},
   "source": [
    "## `pathlib` vs. `os`\n",
    "\n",
    "Why use one or the other?"
   ]
  },
  {
   "cell_type": "markdown",
   "id": "04539cb4",
   "metadata": {},
   "source": [
    "## Finding and Defining Paths\n",
    "\n",
    "We can find the current working directory by using the `.cwd()` method. (This is similar to the unix command `pwd` or the windows command line `cd`.)"
   ]
  },
  {
   "cell_type": "code",
   "execution_count": null,
   "id": "fb1ad93e",
   "metadata": {},
   "outputs": [],
   "source": [
    "# Get the current working directory\n",
    "Path.cwd()"
   ]
  },
  {
   "cell_type": "markdown",
   "id": "6a5ec9d3",
   "metadata": {},
   "source": [
    "Since Constellate runs on a linux server, we will get an path object that is a PosixPath. The directories will end in forward slashes `/`, whereas on a windows machine a path will use backward slashes, e.g. `C:\\Windows\\`.\n",
    "\n",
    "We can create a path object at any time by using an assignment statement and passing a string into the `Path()` function. The path can be absolute, starting at the root of the operating system filesystem, or it can be relative, starting from the current working directory."
   ]
  },
  {
   "cell_type": "code",
   "execution_count": null,
   "id": "45816e1f",
   "metadata": {},
   "outputs": [],
   "source": [
    "# Create a path object based on a string from a relative path\n",
    "file_path = Path('data/sample.txt')"
   ]
  },
  {
   "cell_type": "markdown",
   "id": "be169c88",
   "metadata": {},
   "source": [
    "We have created a path object, not simply a string. The path object has a lot more flexibility than a traditional string (like what is used in the `os` module). It allows us to create code that is easier to adapt for different operating systems since we do not have to be concerned about formatting the string with slashes in the correct direction and other technical issues that diverge from one operating system to another."
   ]
  },
  {
   "cell_type": "code",
   "execution_count": null,
   "id": "a4385cc6",
   "metadata": {},
   "outputs": [],
   "source": [
    "# We have created a Path object, not simply a string\n",
    "type(file_path)"
   ]
  },
  {
   "cell_type": "markdown",
   "id": "0947205b",
   "metadata": {},
   "source": [
    "We can also use the `print()` function on the path object."
   ]
  },
  {
   "cell_type": "code",
   "execution_count": null,
   "id": "3b32a318",
   "metadata": {},
   "outputs": [],
   "source": [
    "# Print out the path object\n",
    "print(file_path)"
   ]
  },
  {
   "cell_type": "markdown",
   "id": "4a62f54b",
   "metadata": {},
   "source": [
    "We can also build a path based on strings separated by slashes. (This is a much more readable way to join paths than the `os` module.)"
   ]
  },
  {
   "cell_type": "code",
   "execution_count": null,
   "id": "5cd59aee",
   "metadata": {},
   "outputs": [],
   "source": [
    "# Building another path off the current working directory\n",
    "# Using the slash notation\n",
    "\n",
    "file_path = Path.cwd() / 'data' / 'sample.txt'\n",
    "print(file_path)"
   ]
  },
  {
   "cell_type": "markdown",
   "id": "b37f5bfc",
   "metadata": {},
   "source": [
    "When we create a path object, there is no check to make sure it points to an actual file or directory. We can check if the path exists with the `.exists()` method."
   ]
  },
  {
   "cell_type": "code",
   "execution_count": null,
   "id": "714b31d2",
   "metadata": {},
   "outputs": [],
   "source": [
    "# Check if the path exists\n",
    "# Works for files and directories\n",
    "file_path.exists()"
   ]
  },
  {
   "cell_type": "markdown",
   "id": "80bfecf6",
   "metadata": {},
   "source": [
    "<h3 style=\"color:red; display:inline\">Coding Challenge! &lt; / &gt; </h3>\n",
    "\n",
    "Create a new path object that points to a filed called `sample.html` in the `data` folder. Confirm the file does not exist using the `.exists()` method."
   ]
  },
  {
   "cell_type": "code",
   "execution_count": null,
   "id": "8fbc1419",
   "metadata": {},
   "outputs": [],
   "source": [
    "# Checking if data/sample.html exists\n"
   ]
  },
  {
   "cell_type": "markdown",
   "id": "9499ce56",
   "metadata": {},
   "source": [
    "## Checking if a Path Points to an Existing File or Directory\n",
    "\n",
    "| Method | Effect |\n",
    "|---|---|\n",
    "| `.is_file()` | Return a Boolean True/False if the path points at an existing file |\n",
    "| `.is_dir()` | Return a Boolean True/False if the path points at an existing directory |"
   ]
  },
  {
   "cell_type": "code",
   "execution_count": null,
   "id": "c1b288b9",
   "metadata": {},
   "outputs": [],
   "source": [
    "# Check whether path is a file\n",
    "# Returns a Boolean\n",
    "\n",
    "file_path.is_file()"
   ]
  },
  {
   "cell_type": "code",
   "execution_count": null,
   "id": "5e6052e9",
   "metadata": {},
   "outputs": [],
   "source": [
    "# Check whether path is a directory\n",
    "# Returns a Boolean\n",
    "\n",
    "file_path.is_dir()"
   ]
  },
  {
   "cell_type": "markdown",
   "id": "b6f96eb8",
   "metadata": {},
   "source": [
    "## Find the Absolute Path with `.resolve()`\n",
    "\n",
    "The `.resolve()` method will take a relative path object and create an abolute path object. The absolute path is the full path from the root of the filesystem. On a Mac or Linux, this is simply `/`. On a Windows computer, it is usually `C:\\`."
   ]
  },
  {
   "cell_type": "code",
   "execution_count": null,
   "id": "a458e236",
   "metadata": {},
   "outputs": [],
   "source": [
    "# Getting the full path using .resolve()\n",
    "# Returns a path object\n",
    "\n",
    "file_path.resolve()"
   ]
  },
  {
   "cell_type": "markdown",
   "id": "cfe8f0cb",
   "metadata": {},
   "source": [
    "A path object also has useful attributes. Unlike the methods above which end in parentheses `()`, the attributes do not use parentheses.\n",
    "\n",
    "| Method | Effect |\n",
    "|---|---|\n",
    "| `.parent` | Return a path object for the parent directory |\n",
    "| `.parents`[x] | Return a path object for parents x generations higher |\n",
    "| `.name` | Return a string containing the file name with extension |\n",
    "| `.stem` | Return a string containing the file name without extension |\n",
    "| `.suffix` | Return a string containing the file extension |\n"
   ]
  },
  {
   "cell_type": "code",
   "execution_count": null,
   "id": "0e164920",
   "metadata": {
    "scrolled": true
   },
   "outputs": [],
   "source": [
    "# Get the parent of the path\n",
    "# Returns a path object\n",
    "\n",
    "file_path.parent"
   ]
  },
  {
   "cell_type": "code",
   "execution_count": null,
   "id": "33e2fc52",
   "metadata": {},
   "outputs": [],
   "source": [
    "# Getting even deeper into the path\n",
    "# Finding the grandparent of the full path using .parent twice\n",
    "# Returns a path object\n",
    "\n",
    "full_path = file_path.resolve()\n",
    "full_path.parent.parent"
   ]
  },
  {
   "cell_type": "code",
   "execution_count": null,
   "id": "1da8790c",
   "metadata": {},
   "outputs": [],
   "source": [
    "# Getting even deeper into the path\n",
    "# Finding the grandparent of the full path using parents with index\n",
    "# Returns a path object\n",
    "\n",
    "full_path = path.resolve()\n",
    "full_path.parents[1]"
   ]
  },
  {
   "cell_type": "code",
   "execution_count": null,
   "id": "8e6bad5f",
   "metadata": {},
   "outputs": [],
   "source": [
    "# Return just the name of the file or folder\n",
    "# Returns a string\n",
    "path.name"
   ]
  },
  {
   "cell_type": "code",
   "execution_count": null,
   "id": "133c9678",
   "metadata": {},
   "outputs": [],
   "source": [
    "# Return just the name of the file without extension\n",
    "# Returns a string\n",
    "\n",
    "path.stem"
   ]
  },
  {
   "cell_type": "code",
   "execution_count": null,
   "id": "fec88445",
   "metadata": {},
   "outputs": [],
   "source": [
    "# Return just the extension/suffix\n",
    "# Returns a string\n",
    "\n",
    "path.suffix"
   ]
  },
  {
   "cell_type": "markdown",
   "id": "1f04c2a7",
   "metadata": {},
   "source": [
    "## Creating Files and Directories\n",
    "\n",
    "To create a new file or directory, first create the desired path object then use the appropriate method:\n",
    "\n",
    "* `.touch()` will create a new file\n",
    "* `.mkdir()` will create a new directory"
   ]
  },
  {
   "cell_type": "code",
   "execution_count": null,
   "id": "3ab484d2",
   "metadata": {},
   "outputs": [],
   "source": [
    "# Create a new file\n",
    "\n",
    "new_file_path = Path.cwd() / 'data' / 'new_file.txt'\n",
    "new_file_path.touch()"
   ]
  },
  {
   "cell_type": "code",
   "execution_count": null,
   "id": "7fcf10f2",
   "metadata": {},
   "outputs": [],
   "source": [
    "# Create a new directory\n",
    "\n",
    "new_dir = Path.cwd() / 'data' / 'examples'\n",
    "\n",
    "# Create the directory\n",
    "new_dir.mkdir(exist_ok = True) # The exist_ok = True parameter does not raise errors if directory exists"
   ]
  },
  {
   "cell_type": "markdown",
   "id": "5de58c0d",
   "metadata": {},
   "source": [
    "## Removing Files and Directories\n",
    "\n",
    "To remove a file or directory, first create the path object then use the appropriate method:\n",
    "\n",
    "* `.unlink()` will delete a file\n",
    "* `.rmdir()` will delete a directory\n"
   ]
  },
  {
   "cell_type": "code",
   "execution_count": null,
   "id": "d0d1deec",
   "metadata": {},
   "outputs": [],
   "source": [
    "# Remove a file\n",
    "\n",
    "new_file_path.unlink()"
   ]
  },
  {
   "cell_type": "code",
   "execution_count": null,
   "id": "51605098",
   "metadata": {},
   "outputs": [],
   "source": [
    "# Remove a directory\n",
    "\n",
    "new_dir.rmdir()"
   ]
  },
  {
   "cell_type": "markdown",
   "id": "2b8c529c",
   "metadata": {},
   "source": [
    "**Note: There is no method in Pathlib to recursively delete directories. In that case, you may want to import the module `shutil` and use the `.rmtree()` method: `shutil.rmtree(path)`.**"
   ]
  },
  {
   "cell_type": "markdown",
   "id": "3abffb1f",
   "metadata": {},
   "source": [
    "## Rename a File or Directory\n",
    "\n",
    "To rename a file, you will need two path objects: the original path object and a new path object with the new name. The syntax looks like:\n",
    "\n",
    "`old_path.rename(new_path)`"
   ]
  },
  {
   "cell_type": "code",
   "execution_count": null,
   "id": "9af25abd",
   "metadata": {},
   "outputs": [],
   "source": [
    "# Create an original file for this example\n",
    "\n",
    "old_path = Path.cwd() / 'data' / 'original_file.txt'\n",
    "old_path.touch()"
   ]
  },
  {
   "cell_type": "code",
   "execution_count": null,
   "id": "06c402b8",
   "metadata": {},
   "outputs": [],
   "source": [
    "# Rename the original file with `.rename()`\n",
    "# On Windows, if the renamed file already exists an error will occur\n",
    "# On Unix, if the renamed file already exists the file will be overwritten silently\n",
    "\n",
    "new_path = Path.cwd() / 'data' / 'renamed_file.txt'\n",
    "old_path.rename(new_path)"
   ]
  },
  {
   "cell_type": "markdown",
   "id": "bcf394c3",
   "metadata": {},
   "source": [
    "## Open, Read, and Write to Text Files\n",
    "\n",
    "Path objects work with the context manager `with open`. Instead of passing a string into the `open()` function, we can add the path object onto the front of a `.open()` method."
   ]
  },
  {
   "cell_type": "code",
   "execution_count": null,
   "id": "56cf8f73",
   "metadata": {
    "scrolled": false
   },
   "outputs": [],
   "source": [
    "# Opening the file with a context manager\n",
    "# and the `.open()` method\n",
    "# The 'r', read only mode, argument is optional with `.open()`\n",
    "\n",
    "with file_path.open() as f:\n",
    "    print(f.read())"
   ]
  },
  {
   "cell_type": "markdown",
   "id": "ae0448cb",
   "metadata": {},
   "source": [
    "<h3 style=\"color:red; display:inline\">Coding Challenge! &lt; / &gt; </h3>\n",
    "\n",
    "The `sleep()` function in the `time` module makes Python wait a specific number of seconds before processing the next task. Use it for this coding challenge.\n",
    "\n",
    "Create a path object that points to the file `test.txt`. Open the file using the file object and print each line one at a time. Between printing each line, wait one second."
   ]
  },
  {
   "cell_type": "code",
   "execution_count": null,
   "id": "6c0ac312",
   "metadata": {},
   "outputs": [],
   "source": [
    "# Sleep Function example\n",
    "from time import sleep\n",
    "\n",
    "print('Ready?')\n",
    "sleep(3)\n",
    "print('Go!')"
   ]
  },
  {
   "cell_type": "code",
   "execution_count": null,
   "id": "f5653c63",
   "metadata": {},
   "outputs": [],
   "source": [
    "# Print each line out from file\n",
    "# Waiting 1 second between lines\n",
    "from time import sleep\n",
    "\n",
    "path = Path.cwd() / 'data' / 'test.txt'\n",
    "\n",
    "with path.open() as f:\n",
    "    for line in f:\n",
    "        print(line, end='') # Print the line with no line break\n",
    "        sleep(1) # Wait one second\n",
    "    "
   ]
  },
  {
   "cell_type": "markdown",
   "id": "dc298276",
   "metadata": {},
   "source": [
    "If you are reading a small text file, then there is an even shorter way to read the file using a path object: `.read_text()`. This method opens the file, creates a string from the file object contents, and then closes the file object automatically."
   ]
  },
  {
   "cell_type": "code",
   "execution_count": null,
   "id": "03822adc",
   "metadata": {
    "scrolled": false
   },
   "outputs": [],
   "source": [
    "# Using the read_text method\n",
    "# Returns a string\n",
    "print(file_path.read_text())"
   ]
  },
  {
   "cell_type": "markdown",
   "id": "f4987421",
   "metadata": {},
   "source": [
    "There is also a fast method for writing to a file using a path object: `.write_text()`. This method opens the file object in write mode, writes a string to the file, and then closes it automatically. *Be careful with this method since it will overwrite any existing files!*"
   ]
  },
  {
   "cell_type": "code",
   "execution_count": null,
   "id": "c63210d0",
   "metadata": {},
   "outputs": [],
   "source": [
    "# Create a new file\n",
    "\n",
    "new_file_path = Path.cwd() / 'data' / 'new_file.txt'\n",
    "\n",
    "# Write to a file\n",
    "# This overwrites the file if it already exists\n",
    "\n",
    "new_file_path.write_text('Hello World!')\n",
    "print(new_file_path.read_text())"
   ]
  },
  {
   "cell_type": "markdown",
   "id": "b1db96f1",
   "metadata": {},
   "source": [
    "<h4 style=\"color:red; display:inline\">Coding Challenge! &lt; / &gt; </h4>\n",
    "\n",
    "Create a new file and add Shakespeare's Sonnet VI.\n",
    "\n",
    "```\n",
    "Then let not winter's ragged hand deface,\n",
    "In thee thy summer, ere thou be distilled:\n",
    "Make sweet some vial; treasure thou some place\n",
    "With beauty's treasure ere it be self-killed.\n",
    "That use is not forbidden usury,\n",
    "Which happies those that pay the willing loan;\n",
    "That's for thy self to breed another thee,\n",
    "Or ten times happier, be it ten for one;\n",
    "Ten times thy self were happier than thou art,\n",
    "If ten of thine ten times refigured thee:\n",
    "Then what could death do if thou shouldst depart,\n",
    "Leaving thee living in posterity?\n",
    "   Be not self-willed, for thou art much too fair\n",
    "   To be death's conquest and make worms thine heir.\n",
    "```\n",
    "   \n",
    "Then write a program that will read the file and print it line by line. At the beginning of each line, print the appropriate line number."
   ]
  },
  {
   "cell_type": "code",
   "execution_count": null,
   "id": "aadf35ac",
   "metadata": {},
   "outputs": [],
   "source": [
    "# Create a file that contains the sonnet string below\n",
    "# Open the file and print it out line by line\n",
    "# At the beginning of each line, print the appropriate line number\n",
    "\n",
    "sonnet_string = \"\"\"Then let not winter's ragged hand deface,\n",
    "In thee thy summer, ere thou be distilled:\n",
    "Make sweet some vial; treasure thou some place\n",
    "With beauty's treasure ere it be self-killed.\n",
    "That use is not forbidden usury,\n",
    "Which happies those that pay the willing loan;\n",
    "That's for thy self to breed another thee,\n",
    "Or ten times happier, be it ten for one;\n",
    "Ten times thy self were happier than thou art,\n",
    "If ten of thine ten times refigured thee:\n",
    "Then what could death do if thou shouldst depart,\n",
    "Leaving thee living in posterity?\n",
    "   Be not self-willed, for thou art much too fair\n",
    "   To be death's conquest and make worms thine heir.\"\"\"\n"
   ]
  },
  {
   "cell_type": "markdown",
   "id": "3c76e0b1",
   "metadata": {},
   "source": [
    "## Gathering a List of Files with Glob\n",
    "It is common to gather a list of files in a directory (or set of directories) in order to excecute code on each one at a time. "
   ]
  },
  {
   "cell_type": "code",
   "execution_count": null,
   "id": "665a8107",
   "metadata": {},
   "outputs": [],
   "source": [
    "# Use .iterdir() to iterate over files in a directory\n",
    "\n",
    "input_dir = Path.cwd() / 'input'\n",
    "for file in input_dir.iterdir():\n",
    "    print(file)"
   ]
  },
  {
   "cell_type": "code",
   "execution_count": null,
   "id": "4cc3b7ba",
   "metadata": {},
   "outputs": [],
   "source": [
    "# Use .iterdir() to iterate over files in a directory\n",
    "# Checking for a particular extension\n",
    "# Only works for a single directory!\n",
    "\n",
    "for file in input_dir.iterdir():\n",
    "    if file.suffix == '.txt'\n",
    "    print(file)"
   ]
  },
  {
   "cell_type": "markdown",
   "id": "853f03dd",
   "metadata": {},
   "source": [
    "The `.iterdir()` method will work on a single directory, but if you have multiple nested directories then you need to use the `.rglob()` method. "
   ]
  },
  {
   "cell_type": "code",
   "execution_count": null,
   "id": "15d631e2",
   "metadata": {},
   "outputs": [],
   "source": [
    "# Use glob to iterate over all files including subfolders\n",
    "\n",
    "for file in input_dir.rglob(\"*.txt\"):\n",
    "    print(file)"
   ]
  },
  {
   "cell_type": "markdown",
   "id": "b383030c",
   "metadata": {},
   "source": [
    "___\n",
    "## Lesson Complete\n",
    "\n",
    "Congratulations! You have completed *Python Intermediate 3*.\n",
    "\n",
    "\n",
    "### Exercise Solutions\n",
    "Here are a few solutions for exercises in this lesson."
   ]
  },
  {
   "cell_type": "code",
   "execution_count": null,
   "id": "2088503f",
   "metadata": {},
   "outputs": [],
   "source": [
    "# Create a file that contains the sonnet string below\n",
    "# Open the file and print it out line by line\n",
    "# At the beginning of each line, print the appropriate line number\n",
    "\n",
    "sonnet_string = \"\"\"Then let not winter's ragged hand deface,\n",
    "In thee thy summer, ere thou be distilled:\n",
    "Make sweet some vial; treasure thou some place\n",
    "With beauty's treasure ere it be self-killed.\n",
    "That use is not forbidden usury,\n",
    "Which happies those that pay the willing loan;\n",
    "That's for thy self to breed another thee,\n",
    "Or ten times happier, be it ten for one;\n",
    "Ten times thy self were happier than thou art,\n",
    "If ten of thine ten times refigured thee:\n",
    "Then what could death do if thou shouldst depart,\n",
    "Leaving thee living in posterity?\n",
    "   Be not self-willed, for thou art much too fair\n",
    "   To be death's conquest and make worms thine heir.\"\"\"\n",
    "\n",
    "# Create the file\n",
    "new_file = Path.cwd() / 'data' / 'sonnet.txt'\n",
    "new_file.write_text(sonnet_string)\n",
    "\n",
    "# Read the sonnet line by line\n",
    "i = 1\n",
    "with new_file.open() as f:\n",
    "    for line in f:\n",
    "        print(i, line, end='')\n",
    "        i += 1\n"
   ]
  }
 ],
 "metadata": {
  "kernelspec": {
   "display_name": "Python 3 (ipykernel)",
   "language": "python",
   "name": "python3"
  },
  "language_info": {
   "codemirror_mode": {
    "name": "ipython",
    "version": 3
   },
   "file_extension": ".py",
   "mimetype": "text/x-python",
   "name": "python",
   "nbconvert_exporter": "python",
   "pygments_lexer": "ipython3",
   "version": "3.10.4"
  },
  "toc": {
   "base_numbering": 1,
   "nav_menu": {},
   "number_sections": true,
   "sideBar": true,
   "skip_h1_title": true,
   "title_cell": "Table of Contents",
   "title_sidebar": "Contents",
   "toc_cell": false,
   "toc_position": {
    "height": "calc(100% - 180px)",
    "left": "10px",
    "top": "150px",
    "width": "384px"
   },
   "toc_section_display": true,
   "toc_window_display": false
  }
 },
 "nbformat": 4,
 "nbformat_minor": 5
}
