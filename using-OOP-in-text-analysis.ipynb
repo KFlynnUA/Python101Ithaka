{
 "cells": [
  {
   "cell_type": "markdown",
   "id": "8bab4952",
   "metadata": {},
   "source": [
    "# Object-oriented programming (OOP)\n",
    "\n",
    "\n",
    "**Description:** This notebook decribes\n",
    "\n",
    "* What object-oriented programming (OOP) is\n",
    "* What a class is\n",
    "* What an object is\n",
    "* What attributes, methods and constructors are\n",
    "* How to write a class\n",
    "* How to create objects using a class \n",
    "* How to use OOP in a simple text analysis task\n",
    "\n",
    "**Use Case:** For learners (detailed explanation)\n",
    "\n",
    "**Difficulty:** Intermediate\n",
    "\n",
    "**Completion Time:** 90 minutes\n",
    "\n",
    "**Knowledge Required:**\n",
    "\n",
    "* Python Basics Series ([Start Python Basics 1](./python-basics-1.ipynb))\n",
    "    \n",
    "**Knowledge Recommended:** None\n",
    "\n",
    "**Data Format:** None\n",
    "\n",
    "**Libraries Used:**\n",
    "  * NLTK\n",
    "\n",
    "**Research Pipeline:** None\n"
   ]
  },
  {
   "cell_type": "markdown",
   "id": "2b6c8706",
   "metadata": {},
   "source": [
    "# What is object-oriented programming (OOP)?\n",
    "\n",
    "OOP is a programming paradigm that relies on the concept of **classes** and **objects**.\n",
    "\n",
    "To make the concepts of **classes** and **objects** more concrete, let's use a simple example. \n",
    "<!-- OOP is used to structure software program into simple, reusable pieces of code blueprints called **classes**, which are used to create individual instances of **classes** called **objects**. Python, the programming language we are using in the Constellate tutorials, is an object-oriented programming language. Essentiallly, everyting in Python is an object of a certain class, be it a number, a string, or a list.  -->"
   ]
  },
  {
   "cell_type": "markdown",
   "id": "aed0d3f7",
   "metadata": {},
   "source": [
    "Suppose you are a high school teacher and you want to keep a record of student performance in your class. Specificlly, there are two main things you want to record. First, student name and their grades in English, Math and History. Second, student's average score of the three subjects. \n",
    "\n",
    " |                |      |  \n",
    " |----------------|:-----| \n",
    " |**name**        | Abby | \n",
    " |**English**     |90    | \n",
    " |**Math**        |95    | \n",
    " |**History**     |88    | \n",
    " |**average_score**|def average_score ( ):<br>&emsp;average = ( 90 + 95 + 88 ) / 3<br>&emsp;print ( \"Abby's average score is \" + average + \".\" )|\n",
    "    \n",
    " |                |      |  \n",
    " |----------------|:-----| \n",
    " |**name**        | Billy| \n",
    " |**English**     |85    | \n",
    " |**Math**        |90    | \n",
    " |**History**     |86    | \n",
    " |**average_score**|def average_score ( ):<br>&emsp;average = ( 85 + 90 + 86 ) / 3<br>&emsp;print ( \"Billy's average score is \" + average + \".\" )|"
   ]
  },
  {
   "cell_type": "markdown",
   "id": "3f57c64a",
   "metadata": {},
   "source": [
    "For each student in the class, you will create such a record. Notice that in a record there are two kinds of information. First, the **properties/attributes** of the student (in this case, name, English score, Math score, History score); Second, the **functions** that operate on the said student (in this case, a function that prints out the average score).\n",
    "\n",
    "Now, a natural question to ask is: is there a good way to organize such a collection of information? Yes! This is where **objects** come in. "
   ]
  },
  {
   "cell_type": "markdown",
   "id": "1ba05ee6",
   "metadata": {},
   "source": [
    "## What is an object?\n",
    "\n",
    "An **object** is basically a collection of properties/attributes and functions. With such a collection of information, an **object** can be used to represent anything, e.g. a person, a dog, a school, etc. \n",
    "\n",
    "Coming back to our example, we are using the **object** below to represent the student Abby. Of course, depending on what properties/attributes and functions you want to include, you may represent Abby with a different set of information stored in the **object**. In our scenario, we choose to use name, English score, Math score, History score and a function that calculates and prints out the average score of the three subjects to represent Abby. Let's assign this object to the variable name ```Abby```.\n",
    "\n",
    "<img src=\"https://ithaka-labs.s3.amazonaws.com/static-files/images/tdm/tdmdocs/usingOOP_Abby.png\" width=\"500\" height=\"300\" />\n",
    "\n",
    "We have created another **object** representing Billy. Let's assign the object to the variable name ```Billy```.\n",
    "\n",
    "<img src=\"https://ithaka-labs.s3.amazonaws.com/static-files/images/tdm/tdmdocs/usingOOP_Billy.png\" width=\"500\" height =\"300\" />\n",
    "\n",
    "\n",
    "Some terminologies. The variables in an object are called **attributes**. The functions in an object are called **methods**.\n",
    "\n",
    "If you take a look at the two objects we have created to represent Abby and Billy respectively, you can easily see that they are quite similar. They have the same set of **attributes**, i.e. name, English score, Math score, History score, and they have the same set of **methods**, i.e. a function that calculates and prints out the average score. In other words, the two objects are written based on the same recipe. \n",
    "\n",
    "Now, if the objects are created based on the same recipe, it will be ideal if we can write out that recipe and then use it to produce the same kind of objects. In our scenario for example, we want as many objects as there are students in the class! The question now becomes: how do we write that recipe? This is exactly where **classes** come in. "
   ]
  },
  {
   "cell_type": "markdown",
   "id": "a6bfe502",
   "metadata": {},
   "source": [
    "## What is a class?\n",
    "\n",
    "A **class** is an abstract blueprint from which we create individual instances of **objects**. \n",
    "\n",
    "|                |      |  \n",
    " |----------------|:-----| \n",
    " |**name**        | | \n",
    " |**eng**     |    | \n",
    " |**math**        |    | \n",
    " |**hist**     |    | \n",
    " |**average_score**|def average_score ( ):<br>&emsp;average = ( eng + math + hist ) / 3<br>&emsp;print ( name + \"'s average score is \" + average + \".\" )|\n",
    " \n",
    " Notice that the values assigned to the four variables, i.e. name, eng, math, hist, are not specified in this class. This is because a **class** does not refer to any specific **object** that have these values already set. A **class** refers to a broad category of **objects**. Here, our **class** refers to the category of students. The **class** specifies what attributes the students have and also what functions the students will be operated on. "
   ]
  },
  {
   "cell_type": "markdown",
   "id": "fc400e05",
   "metadata": {},
   "source": [
    "## A snippet of code example \n",
    "\n",
    "Now, let's write some codes to create our student **class**! "
   ]
  },
  {
   "cell_type": "code",
   "execution_count": null,
   "id": "fe0ae60c",
   "metadata": {},
   "outputs": [],
   "source": [
    "class Student:\n",
    "    def __init__ (self, stu_name, eng_score, math_score, hist_score): ## constructor\n",
    "        self.name = stu_name\n",
    "        self.eng = eng_score\n",
    "        self.math = math_score\n",
    "        self.hist = hist_score\n",
    "    def average_score (self): ## method\n",
    "        average = (self.eng + self.math + self.hist)/3\n",
    "        print (self.name + \"'s average score is \" + str(average) + \".\")"
   ]
  },
  {
   "cell_type": "code",
   "execution_count": null,
   "id": "bf37e870",
   "metadata": {},
   "outputs": [],
   "source": [
    "abby = Student (\"Abby\", 90, 95, 88)"
   ]
  },
  {
   "cell_type": "code",
   "execution_count": null,
   "id": "cf4419bf",
   "metadata": {},
   "outputs": [],
   "source": [
    "abby.average_score ()"
   ]
  },
  {
   "cell_type": "code",
   "execution_count": null,
   "id": "dccd1765",
   "metadata": {},
   "outputs": [],
   "source": [
    "billy = Student (\"Billy\", 85, 90, 86)"
   ]
  },
  {
   "cell_type": "code",
   "execution_count": null,
   "id": "70da5ef1",
   "metadata": {},
   "outputs": [],
   "source": [
    "billy.name"
   ]
  },
  {
   "cell_type": "code",
   "execution_count": null,
   "id": "fe8a3067",
   "metadata": {},
   "outputs": [],
   "source": [
    "billy.eng"
   ]
  },
  {
   "cell_type": "code",
   "execution_count": null,
   "id": "251a7f8c",
   "metadata": {},
   "outputs": [],
   "source": [
    "billy.average_score ()"
   ]
  },
  {
   "cell_type": "markdown",
   "id": "27c7adf1",
   "metadata": {},
   "source": [
    "# Using OOP in text analysis"
   ]
  },
  {
   "cell_type": "markdown",
   "id": "a6df4f46",
   "metadata": {},
   "source": [
    "It is often the case that we want to reuse some of the functions we write to process data files from one analysis in another analysis. For example, you may create a function which cleans the text (returns lowercase text, free from stopwords) in the preprocessing stage in a text analysis project. A few months later when you work on another project, you want to preprocess text in the same way as your previous project. In this case, you want to reuse the clean text method to clean the text in the same way as before.\n",
    "\n",
    "What makes OOP particularly attractive is the reusability of functions and objects which you can reuse in different analysis. "
   ]
  },
  {
   "cell_type": "markdown",
   "id": "6158dff2",
   "metadata": {},
   "source": [
    "# References\n",
    "\n",
    "to be added\n"
   ]
  },
  {
   "cell_type": "code",
   "execution_count": null,
   "id": "56725c6b",
   "metadata": {},
   "outputs": [],
   "source": []
  }
 ],
 "metadata": {
  "celltoolbar": "Raw Cell Format",
  "kernelspec": {
   "display_name": "Python 3 (ipykernel)",
   "language": "python",
   "name": "python3"
  },
  "language_info": {
   "codemirror_mode": {
    "name": "ipython",
    "version": 3
   },
   "file_extension": ".py",
   "mimetype": "text/x-python",
   "name": "python",
   "nbconvert_exporter": "python",
   "pygments_lexer": "ipython3",
   "version": "3.10.7"
  },
  "toc": {
   "base_numbering": 1,
   "nav_menu": {},
   "number_sections": true,
   "sideBar": true,
   "skip_h1_title": false,
   "title_cell": "Table of Contents",
   "title_sidebar": "Contents",
   "toc_cell": false,
   "toc_position": {},
   "toc_section_display": true,
   "toc_window_display": false
  }
 },
 "nbformat": 4,
 "nbformat_minor": 5
}
