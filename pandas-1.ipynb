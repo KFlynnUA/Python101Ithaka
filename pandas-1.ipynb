{
 "cells": [
  {
   "cell_type": "markdown",
   "metadata": {},
   "source": [
    "<img align=\"left\" src=\"https://ithaka-labs.s3.amazonaws.com/static-files/images/tdm/tdmdocs/CC_BY.png\"><br />\n",
    "\n",
    "Created by [Nathan Kelber](http://nkelber.com) under [Creative Commons CC BY License](https://creativecommons.org/licenses/by/4.0/)<br />\n",
    "For questions/comments/improvements, email nathan.kelber@ithaka.org.<br />\n",
    "___"
   ]
  },
  {
   "cell_type": "markdown",
   "metadata": {},
   "source": [
    "# Pandas 1\n",
    "\n",
    "**Description:** This notebook describes how to:\n",
    "* Create a Pandas Series or DataFrame\n",
    "* Accessing data rows, columns, elements using `.loc` and `.iloc`\n",
    "* Creating filters using boolean operators\n",
    "* Changing data in rows, columns, and elements\n",
    "\n",
    "This is the first notebook in a series on learning to use Pandas. \n",
    "\n",
    "**Use Case:** For Learners (Detailed explanation, not ideal for researchers)\n",
    "\n",
    "**Difficulty:** Intermediate\n",
    "\n",
    "**Knowledge Required:** \n",
    "* Python Basics ([Start Python Basics I](./python-basics-1.ipynb))\n",
    "\n",
    "**Knowledge Recommended:** \n",
    "* [Working with Dataset Files](./working-with-dataset-files.ipynb)\n",
    "\n",
    "**Completion Time:** 120 minutes\n",
    "\n",
    "**Data Format:** CSV (.csv)\n",
    "\n",
    "**Libraries Used:** Pandas\n",
    "\n",
    "**Research Pipeline:** None\n",
    "___"
   ]
  },
  {
   "cell_type": "code",
   "execution_count": null,
   "metadata": {},
   "outputs": [],
   "source": [
    "### Download Sample Files for this Lesson\n",
    "import urllib.request\n",
    "download_urls = [\n",
    "    'https://ithaka-labs.s3.amazonaws.com/static-files/images/tdm/tdmdocs/sample2.csv'\n",
    "]\n",
    "\n",
    "for url in download_urls:\n",
    "    urllib.request.urlretrieve(url, './data/' + url.rsplit('/', 1)[-1])"
   ]
  },
  {
   "cell_type": "markdown",
   "metadata": {},
   "source": [
    "## When to use Pandas"
   ]
  },
  {
   "cell_type": "markdown",
   "metadata": {},
   "source": [
    "Pandas is a Python data analysis and manipulation library. When it comes to viewing and manipulating data, most people are familiar with commercial spreadsheet software, such as Microsoft Excel or Google Sheets. While spreadsheet software and Pandas can accomplish similar tasks, each has significant advantages depending on the use-case.\n",
    "\n",
    "**Advantages of Spreadsheet Software**\n",
    "* Point and click\n",
    "* Easier to learn\n",
    "* Great for small datasets (<10,000 rows)\n",
    "* Better for browsing data\n",
    "\n",
    "**Advantages of Pandas**\n",
    "* More powerful data manipulation with Python\n",
    "* Can work with large datasets (millions of rows)\n",
    "* Faster for complicated manipulations\n",
    "* Better for cleaning and/or pre-processing data\n",
    "* Can automate workflows in a larger data pipeline\n",
    "\n",
    "In short, spreadsheet software is better for browsing small datasets and making moderate adjustments. Pandas is better for automating data cleaning processes that require large or complex data manipulation.\n",
    "\n",
    "Pandas can interpret a wide variety of data sources, including Excel files, CSV files, and Python objects like lists and dictionaries. Pandas converts these into two fundamental objects: \n",
    "\n",
    "* Data Series- a single column of data\n",
    "* DataFrame- a table of data containing multiple columns and rows\n",
    "\n",
    "This lesson introduces their basic affordances. "
   ]
  },
  {
   "cell_type": "markdown",
   "metadata": {},
   "source": [
    "## Pandas Series\n",
    "\n",
    "We can think of a Series as a single column of data. A DataFrame then is made by combining Series objects side-by-side into a table that has both height and width. Let's create a Series based on the world's ten most-populated countries [according to Wikipedia](https://en.wikipedia.org/wiki/List_of_countries_and_dependencies_by_population).\n",
    "\n",
    "|Population (in millions)|\n",
    "|---|\n",
    "|1,404|\n",
    "|1,366|\n",
    "|330|\n",
    "|269|\n",
    "|220|\n",
    "|211|\n",
    "|206|\n",
    "|169|\n",
    "|146|\n",
    "|127|\n",
    "\n",
    "We will put these population numbers into a Pandas Series."
   ]
  },
  {
   "cell_type": "code",
   "execution_count": null,
   "metadata": {},
   "outputs": [],
   "source": [
    "# import pandas, `as pd` allows us to shorten typing `pandas` to `pd` when we call pandas\n",
    "import pandas as pd"
   ]
  },
  {
   "cell_type": "markdown",
   "metadata": {},
   "source": [
    "To create our Series, we pass a list into the Series method:\n",
    "\n",
    "`variable_name = pd.Series([1, 2, 3])`"
   ]
  },
  {
   "cell_type": "code",
   "execution_count": null,
   "metadata": {
    "scrolled": true
   },
   "outputs": [],
   "source": [
    "# Create a data series object in Pandas\n",
    "worldpop = pd.Series([1404, 1366, 330, 269, 220, 211, 206, 169, 146, 127])\n",
    "print(worldpop)\n"
   ]
  },
  {
   "cell_type": "markdown",
   "metadata": {},
   "source": [
    "Underneath the Series is a `dtype` which describes the way the data is stored in the Series. Here we see `int64`, denoting the data are 64-bit integers. We can assign a name to our series using `.name`."
   ]
  },
  {
   "cell_type": "code",
   "execution_count": null,
   "metadata": {},
   "outputs": [],
   "source": [
    "# Give our series a name\n",
    "worldpop.name = 'World Population (In Millions)'\n",
    "print(worldpop)"
   ]
  },
  {
   "cell_type": "markdown",
   "metadata": {},
   "source": [
    "### `.iloc[]` Integer Location Selection\n",
    "\n",
    "To the left of each row in a Series are index numbers. The index numbers are similar to the index numbers for a Python list; they help us reference a particular row for data retrieval. Also, like a Python list, the index to a Series begins with 0. We can retrieve individual elements in a Series using the `.iloc` attribute, which stands for \"index location.\" "
   ]
  },
  {
   "cell_type": "code",
   "execution_count": null,
   "metadata": {},
   "outputs": [],
   "source": [
    "# Return the 4th element in our series\n",
    "worldpop.iloc[3]"
   ]
  },
  {
   "cell_type": "markdown",
   "metadata": {},
   "source": [
    "Just like a python list, we can also slice a series into a smaller series. When slicing a Pandas series, the new series will not include the final index row."
   ]
  },
  {
   "cell_type": "code",
   "execution_count": null,
   "metadata": {},
   "outputs": [],
   "source": [
    "# Return a slice of elements in our series\n",
    "# This slice will not include element 4\n",
    "worldpop.iloc[2:4]"
   ]
  },
  {
   "cell_type": "markdown",
   "metadata": {},
   "source": [
    "By default, our Series has a numerical index like a Python list, but we can also give each row an identifier (like a key within a Python dictionary). We do this by using:\n",
    "\n",
    "`series_name.index = [name_1, name_2, name_3]`\n",
    "\n",
    "Since we are storing the populations of countries, it would also be helpful to include the name of each country within our index. "
   ]
  },
  {
   "cell_type": "code",
   "execution_count": null,
   "metadata": {},
   "outputs": [],
   "source": [
    "# Rename the index to use names instead of numerical indexes\n",
    "worldpop.index = [\n",
    "    'China',\n",
    "    'India',\n",
    "    'United States',\n",
    "    'Indonesia',\n",
    "    'Pakistan',\n",
    "    'Brazil',\n",
    "    'Nigeria',\n",
    "    'Bangladesh',\n",
    "    'Russia',\n",
    "    'Mexico'\n",
    "]\n",
    "\n",
    "worldpop"
   ]
  },
  {
   "cell_type": "markdown",
   "metadata": {},
   "source": [
    "### `.loc[]` Location Selection\n",
    "Now we can also reference each element by its index name, similar to how we can supply a key to a dictionary to get a value. We use the `.loc[]` attribute to reference by name (as opposed to integer/index location using `.iloc[]`.\n",
    "\n",
    "Try finding the value for Nigeria using both `iloc[]` and `.loc[]` selection."
   ]
  },
  {
   "cell_type": "code",
   "execution_count": null,
   "metadata": {},
   "outputs": [],
   "source": [
    "# Use `.iloc[]` to return the series value for Nigeria"
   ]
  },
  {
   "cell_type": "code",
   "execution_count": null,
   "metadata": {},
   "outputs": [],
   "source": [
    "# Use `.loc[]` to return the series value for Nigeria"
   ]
  },
  {
   "cell_type": "markdown",
   "metadata": {},
   "source": [
    "Instead of a value, we can return a new series by supplying a list. This will return the value *with the index names* as well. "
   ]
  },
  {
   "cell_type": "code",
   "execution_count": null,
   "metadata": {},
   "outputs": [],
   "source": [
    "# Return a new series containing only Nigeria\n",
    "# Note that we use two sets of brackets\n",
    "\n",
    "worldpop.loc[['Nigeria']]"
   ]
  },
  {
   "cell_type": "code",
   "execution_count": null,
   "metadata": {},
   "outputs": [],
   "source": [
    "# Return a series value for Indonesia and Mexico\n",
    "worldpop.loc[['Indonesia', 'Mexico']]"
   ]
  },
  {
   "cell_type": "markdown",
   "metadata": {},
   "source": [
    "Instead of supplying a list of every index name, we can use a slice notation using a `:`. There is, however, a significant difference in how this slice is created with *index names*: the final named index **is included**."
   ]
  },
  {
   "cell_type": "code",
   "execution_count": null,
   "metadata": {},
   "outputs": [],
   "source": [
    "# Return a slice from Nigeria to Russia\n",
    "# This slice will include the final element!\n",
    "# This behavior is different than a list slice\n",
    "\n",
    "worldpop.loc['Nigeria':'Russia']"
   ]
  },
  {
   "cell_type": "markdown",
   "metadata": {},
   "source": [
    "Although we created this Pandas series from a list, a series with index names is kind of like an ordered dictionary. Indeed, we could have created our Pandas series from a dictionary instead of a list."
   ]
  },
  {
   "cell_type": "code",
   "execution_count": null,
   "metadata": {},
   "outputs": [],
   "source": [
    "# Creating a Series from a dictionary\n",
    "# Based on most populous cities in the world according to Wikipedia\n",
    "\n",
    "citiespop = pd.Series({\n",
    "    'Tokyo': 37,\n",
    "    'Delhi': 28,\n",
    "    'Shanghai': 25,\n",
    "    'São Paulo': 21,\n",
    "    'Mexico City': 21,\n",
    "    'Cairo': 20,\n",
    "    'Mumbai': 19,\n",
    "    'Beijing': 19,\n",
    "    'Dhaka': 19,\n",
    "    'Osaka': 19,\n",
    "}, name='World City Populations (In Millions)') # We can also specify the series name as an argument\n",
    "\n",
    "#Return the series\n",
    "citiespop"
   ]
  },
  {
   "cell_type": "markdown",
   "metadata": {},
   "source": [
    "### Boolean Expressions\n",
    "\n",
    "We have seen already how we can select a particular value in a series by using an index name or number. We can also select particular values using Boolean expressions. An expression will evaluate to a Truth Table."
   ]
  },
  {
   "cell_type": "code",
   "execution_count": null,
   "metadata": {},
   "outputs": [],
   "source": [
    "# Which countries have populations greater than 200 million?\n",
    "worldpop > 200"
   ]
  },
  {
   "cell_type": "markdown",
   "metadata": {},
   "source": [
    "By passing this expression into `.iloc[]`, we can retrieve just the rows that would evaluate to `True`."
   ]
  },
  {
   "cell_type": "code",
   "execution_count": null,
   "metadata": {},
   "outputs": [],
   "source": [
    "# Evaluate worldpop for `worldpop > 200`\n",
    "worldpop.loc[worldpop > 200]"
   ]
  },
  {
   "cell_type": "markdown",
   "metadata": {},
   "source": [
    "Note that we have not changed the values of `worldpop` but only evaluated an expression. `worldpop` remains the same."
   ]
  },
  {
   "cell_type": "code",
   "execution_count": null,
   "metadata": {
    "scrolled": true
   },
   "outputs": [],
   "source": [
    "worldpop"
   ]
  },
  {
   "cell_type": "markdown",
   "metadata": {},
   "source": [
    "If we wanted to store the evaluation, we would need to use an assignment statement, either for `worldpop` or a new variable."
   ]
  },
  {
   "cell_type": "code",
   "execution_count": null,
   "metadata": {},
   "outputs": [],
   "source": [
    "# If we wanted to save this to a new series variable\n",
    "new_series = worldpop[worldpop > 200]\n",
    "\n",
    "new_series"
   ]
  },
  {
   "cell_type": "markdown",
   "metadata": {},
   "source": [
    "We can also evaluate multiple expressions, but there is a difference in syntax between Python generally and Pandas. Python Boolean expressions are written `and`, `or` and `not`. Pandas Boolean expressions are written `&`, `|`, and `~`.\n",
    "\n",
    "|Pandas Operator|Boolean|Requires|\n",
    "|---|---|---|\n",
    "|&|and|All must be `True`|\n",
    "|\\||or|If any are `True`|\n",
    "|~|not|The opposite|\n",
    "\n",
    "Try returning a series from `worldpop` using `.loc[]` for countries with populations either over 500 or under 250."
   ]
  },
  {
   "cell_type": "code",
   "execution_count": null,
   "metadata": {},
   "outputs": [],
   "source": [
    "# Return a series from `worldpop` with populations\n",
    "# over 500 or under 250"
   ]
  },
  {
   "cell_type": "markdown",
   "metadata": {},
   "source": [
    "### Modifying a Series\n",
    "\n",
    "So far, we have been returning expressions but not actually changing our original Pandas series object. We can use an initialization statement to make a change to the original series object The syntax is very similar to changing an item value in a Python dictionary."
   ]
  },
  {
   "cell_type": "code",
   "execution_count": null,
   "metadata": {},
   "outputs": [],
   "source": [
    "# Change the population of China to 1500\n",
    "worldpop.loc['China'] = 1500\n",
    "worldpop"
   ]
  },
  {
   "cell_type": "markdown",
   "metadata": {},
   "source": [
    "We could also change the value of multiple rows based on an expression."
   ]
  },
  {
   "cell_type": "code",
   "execution_count": null,
   "metadata": {},
   "outputs": [],
   "source": [
    "# Change the population of several countries based on an expression\n",
    "worldpop.loc[worldpop < 300] = 25\n",
    "worldpop"
   ]
  },
  {
   "cell_type": "markdown",
   "metadata": {},
   "source": [
    "### Summary of Pandas Series\n",
    "\n",
    "* A series is a single column of data that may contain a Name\n",
    "* A particular row in a series can be referenced by index number or index name\n",
    "* Use `.iloc` to select a row by index number\n",
    "* Use `.loc` to select a row by index name\n",
    "* Use an initialization statement to change values\n",
    "* Boolean operators include & (and), | (or), ~ (negation) "
   ]
  },
  {
   "cell_type": "markdown",
   "metadata": {},
   "source": [
    "## Pandas DataFrame\n",
    "\n",
    "If a Series represents a column of data, a DataFrame represents a full table composed of multiple columns together. DataFrames can contain thousands or millions of rows and columns. When working with DataFrames, we are usually using a dataset that has been compiled by someone else. Often the data will be in the form of a CSV or Excel file. \n",
    "\n",
    "We can convert the data in a .csv file to a Pandas DataFrame using the `.read_csv()` method. We pass in the location of the .csv file. Additionally, we can supply an index column name with `index_col`.\n",
    "\n",
    "Use the `**File > Open**` menu above to navigate to the `sample2.csv` in the `/data` folder. Preview its structure before we load it into a dataframe."
   ]
  },
  {
   "cell_type": "code",
   "execution_count": null,
   "metadata": {},
   "outputs": [],
   "source": [
    "import pandas as pd\n",
    "\n",
    "# Create a DataFrame `df` from the CSV file 'sample2.csv'\n",
    "df = pd.read_csv('data/sample2.csv', index_col='Username')"
   ]
  },
  {
   "cell_type": "markdown",
   "metadata": {},
   "source": [
    "By convention, a dataframe variable is called `df` but we could give it any valid Python variable name."
   ]
  },
  {
   "cell_type": "markdown",
   "metadata": {},
   "source": [
    "### Exploring DataFrame Contents\n",
    "Now that we have a DataFrame called `df`, we need to learn a little more about its contents. The first step is usually to explore the DataFrame's attributes. Attributes are properties of the dataset (not functions), so they do not have parentheses `()` after them. \n",
    "\n",
    "|Attribute|Reveals|\n",
    "|---|---|\n",
    "|.shape| The number of rows and columns|\n",
    "|.info| The shape plus the first and last 5 rows|\n",
    "|.columns| The name of each column|\n",
    "|.rows| The name of each row|"
   ]
  },
  {
   "cell_type": "code",
   "execution_count": null,
   "metadata": {},
   "outputs": [],
   "source": [
    "# Use `.shape` to find rows and columns in the DataFrame\n",
    "df.shape"
   ]
  },
  {
   "cell_type": "code",
   "execution_count": null,
   "metadata": {},
   "outputs": [],
   "source": [
    "# Use `.info` to find the shape plus the first and last five rows of the DataFrame"
   ]
  },
  {
   "cell_type": "code",
   "execution_count": null,
   "metadata": {},
   "outputs": [],
   "source": [
    "# Use `.columns` to find the name of each column (if they are named)"
   ]
  },
  {
   "cell_type": "markdown",
   "metadata": {},
   "source": [
    "We can use `.index` attribute to discover the name for each row in our DataFrame. We set the index column (`index_col=`) to `Username`, but `Identifier` might also make sense with this data. If no column is chosen, a numeric index is created starting at 0."
   ]
  },
  {
   "cell_type": "code",
   "execution_count": null,
   "metadata": {},
   "outputs": [],
   "source": [
    "# Use `.index` to list the rows of our DataFrame\n",
    "df.index"
   ]
  },
  {
   "cell_type": "markdown",
   "metadata": {},
   "source": [
    "### Preview with `.head()` and `.tail()`\n",
    "We can also use the `.head()` and `.tail` methods to get a preview of our DataFrame."
   ]
  },
  {
   "cell_type": "code",
   "execution_count": null,
   "metadata": {},
   "outputs": [],
   "source": [
    "# Use `.head()` to see the first five lines\n",
    "# Pass an integer into .head() to see a different number of lines\n",
    "df.head()"
   ]
  },
  {
   "cell_type": "code",
   "execution_count": null,
   "metadata": {},
   "outputs": [],
   "source": [
    "# Use `.tail()` to see the last five lines\n",
    "# Pass an integer into .tail() to see a different number lines\n",
    "df.tail()"
   ]
  },
  {
   "cell_type": "markdown",
   "metadata": {},
   "source": [
    "### Display More Rows or Columns with `.set_option()`\n",
    "By default, Pandas limits the number of rows and columns to display. If desired, we can increase or decrease the number to display. If your DataFrame has limited number of rows or columns, you may wish to show all of them."
   ]
  },
  {
   "cell_type": "code",
   "execution_count": null,
   "metadata": {},
   "outputs": [],
   "source": [
    "# Show all columns\n",
    "# Set `None` to an integer to show a set number\n",
    "pd.set_option('display.max_columns', None)\n",
    "\n",
    "# Show all rows\n",
    "# Set `None` to an integer to show a set number\n",
    "# Be careful if your dataset is millions of lines long!\n",
    "pd.set_option('display.max_rows', None)"
   ]
  },
  {
   "cell_type": "markdown",
   "metadata": {},
   "source": [
    "### Change Column Names with `.columns`\n",
    "We can change the column names with the `.columns` attribute."
   ]
  },
  {
   "cell_type": "code",
   "execution_count": null,
   "metadata": {
    "scrolled": false
   },
   "outputs": [],
   "source": [
    "# Updating all column names at once\n",
    "df.columns = ['email', 'Identifier', 'First name', 'Last name']\n",
    "df"
   ]
  },
  {
   "cell_type": "markdown",
   "metadata": {},
   "source": [
    "We can also use the `.rename()` method to change the name of a single given column name."
   ]
  },
  {
   "cell_type": "code",
   "execution_count": null,
   "metadata": {
    "scrolled": true
   },
   "outputs": [],
   "source": [
    "# Updating a single column name\n",
    "df = df.rename(columns={'email': 'Login email'})\n",
    "df"
   ]
  },
  {
   "cell_type": "markdown",
   "metadata": {},
   "source": [
    "### An important note on previewing and permanent changes in Pandas\n",
    "\n",
    "In order to make our changes stick, we had to use an assignment statement:\n",
    "`df = df.rename(columns={'email': 'Login email'})`\n",
    "If we had just written:\n",
    "`df.rename(columns={'email': 'Login email'})` \n",
    "Pandas would preview the change but not actually change the dataframe. The assignment statement tells Pandas we  we want the change to permanently change the dataframe. \n",
    "\n",
    "There is no \"undo\" when making a change to a Pandas dataframe, so it is a good idea to always preview changes before committing them to an assignment statement. **Always back up your data so a dataframe manipulation mistake will not ruin your data.**\n",
    "\n",
    "#### An alternative way to permanently change a dataframe\n",
    "There is another alternative for making permanent changes. You can pass the argument `inplace=True` without using an assignment statement. We do not recommend this as a good practice, and it is possible it may be removed in the future. We mention it here, however, since it may appear in other code you find."
   ]
  },
  {
   "cell_type": "code",
   "execution_count": null,
   "metadata": {},
   "outputs": [],
   "source": [
    "# Updating a single column name using `inplace=True`\n",
    "df.rename(columns={'email': 'email'}, inplace=True)\n",
    "df"
   ]
  },
  {
   "cell_type": "markdown",
   "metadata": {},
   "source": [
    "### Reset the Index\n",
    "\n",
    "When we created the dataframe, we used the `index_col` attribute to set the index column to the `Username` column:\n",
    "\n",
    "```df = pd.read_csv('data/sample2.csv', index_col='Username')```\n",
    "\n",
    "We could reset the index to a numerical index starting at 0 using the `.reset_index()` method."
   ]
  },
  {
   "cell_type": "code",
   "execution_count": null,
   "metadata": {
    "scrolled": true
   },
   "outputs": [],
   "source": [
    "# Preview the dataframe after using `reset_index()`\n",
    "df.reset_index()"
   ]
  },
  {
   "cell_type": "markdown",
   "metadata": {},
   "source": [
    "Note that the above change was not made to the dataframe since there was no assignment statement."
   ]
  },
  {
   "cell_type": "code",
   "execution_count": null,
   "metadata": {},
   "outputs": [],
   "source": [
    "# Confirm dataframe index has not been changed\n",
    "df"
   ]
  },
  {
   "cell_type": "code",
   "execution_count": null,
   "metadata": {
    "scrolled": true
   },
   "outputs": [],
   "source": [
    "# Make the permanent change to reset the index\n",
    "df = df.reset_index()\n",
    "# Print the dataframe with change index\n",
    "df"
   ]
  },
  {
   "cell_type": "markdown",
   "metadata": {},
   "source": [
    "### Set the Index with `.set_index()`\n",
    "We can change the index back to `'Username` with the `.set_index()` method. Try this in the next code cell."
   ]
  },
  {
   "cell_type": "code",
   "execution_count": null,
   "metadata": {
    "scrolled": false
   },
   "outputs": [],
   "source": [
    "# Change the index back to `Username`"
   ]
  },
  {
   "cell_type": "markdown",
   "metadata": {},
   "source": [
    "### Sorting the Index\n",
    "\n",
    "We can sort the index by using the `.sort_index()` method."
   ]
  },
  {
   "cell_type": "code",
   "execution_count": null,
   "metadata": {
    "scrolled": true
   },
   "outputs": [],
   "source": [
    "# Sort the DataFrame by ascending order\n"
   ]
  },
  {
   "cell_type": "markdown",
   "metadata": {},
   "source": [
    "To sort the index in descending order, pass the argument `ascending=False`."
   ]
  },
  {
   "cell_type": "code",
   "execution_count": null,
   "metadata": {},
   "outputs": [],
   "source": [
    "# Sort the DataFrame by descending order\n"
   ]
  },
  {
   "cell_type": "markdown",
   "metadata": {},
   "source": [
    "### `.loc[]` and `.iloc[]` Selection\n",
    "\n",
    "Like a Series, DataFrames can use the `.iloc[]` and `.loc[]` methods for selection. To select a particular element, we need to supply a row *and* a column."
   ]
  },
  {
   "cell_type": "code",
   "execution_count": null,
   "metadata": {
    "scrolled": true
   },
   "outputs": [],
   "source": [
    "# View our DataFrame for reference\n",
    "df"
   ]
  },
  {
   "cell_type": "markdown",
   "metadata": {},
   "source": [
    "When we use index numbers with `.iloc[]`, the column names and index column—written in bold the DataFranme preview above—are not counted."
   ]
  },
  {
   "cell_type": "code",
   "execution_count": null,
   "metadata": {
    "scrolled": true
   },
   "outputs": [],
   "source": [
    "# Return the value for the specified row and column\n",
    "# based on index numbers. The index column names\n",
    "df.iloc[1, 3]"
   ]
  },
  {
   "cell_type": "markdown",
   "metadata": {},
   "source": [
    "When we use index names with `.loc[]`, we need to supply the row name and the column name to select a single element. "
   ]
  },
  {
   "cell_type": "code",
   "execution_count": null,
   "metadata": {},
   "outputs": [],
   "source": [
    "# Return the value for the specified row and column\n",
    "df.loc['booker12', 'First name']"
   ]
  },
  {
   "cell_type": "markdown",
   "metadata": {},
   "source": [
    "If we want to select an entire row of data, we pass in the row and a `:` for the column. The colon—without a start or stop specified—creates a slice that contains every column."
   ]
  },
  {
   "cell_type": "code",
   "execution_count": null,
   "metadata": {},
   "outputs": [],
   "source": [
    "# Select an entire row\n",
    "df.loc['redtree333', :]"
   ]
  },
  {
   "cell_type": "markdown",
   "metadata": {},
   "source": [
    "Technically, we could also use: `df.loc['redtree333']` for the same result, but including the `, :` makes our row and column selections explicit.\n",
    "\n",
    "When we want to select an entire column, the colon must be included using `.loc[]` since the row selection comes before the column selection. "
   ]
  },
  {
   "cell_type": "code",
   "execution_count": null,
   "metadata": {},
   "outputs": [],
   "source": [
    "# Select an entire column\n",
    "df.loc[:, 'Login email']"
   ]
  },
  {
   "cell_type": "markdown",
   "metadata": {},
   "source": [
    "As you might expect, we can use `:` to make a slice using `.loc[]` or `.loc`."
   ]
  },
  {
   "cell_type": "code",
   "execution_count": null,
   "metadata": {},
   "outputs": [],
   "source": [
    "# Slicing rows and columns using `.iloc`\n",
    "df.iloc[0:3, 1:4]"
   ]
  },
  {
   "cell_type": "code",
   "execution_count": null,
   "metadata": {
    "scrolled": true
   },
   "outputs": [],
   "source": [
    "# Slicing rows and columns using `.loc`\n",
    "df.loc['booker12':'french999', 'Login email':'First name']"
   ]
  },
  {
   "cell_type": "markdown",
   "metadata": {},
   "source": [
    "**As a quick reminder**, remember that `.iloc[]` slicing is not inclusive of the final value. On the other hand, `.loc[]` slicing *is* inclusive. The reason for this difference is that it would make the code confusing since we would need to include whatever name is *after* the name we want to include."
   ]
  },
  {
   "cell_type": "markdown",
   "metadata": {},
   "source": [
    "### Boolean Expressions\n",
    "We can also use Boolean expressions to select based on the contents of the elements. We can use these expressions to create filters for selecting particular rows or columns.\n",
    "\n",
    "|Pandas Operator|Boolean|Requires|\n",
    "|---|---|---|\n",
    "|&|and|All required to `True`|\n",
    "|\\||or|If any are `True`|\n",
    "|~|not|The opposite|\n"
   ]
  },
  {
   "cell_type": "code",
   "execution_count": null,
   "metadata": {
    "scrolled": true
   },
   "outputs": [],
   "source": [
    "df"
   ]
  },
  {
   "cell_type": "code",
   "execution_count": null,
   "metadata": {
    "scrolled": true
   },
   "outputs": [],
   "source": [
    "# Return a Truth Table for every row\n",
    "# where the Identifier is over 4000\n",
    "df.loc[:, 'Identifier'] > 4000"
   ]
  },
  {
   "cell_type": "markdown",
   "metadata": {},
   "source": [
    "We can store this expression in a variable to filter the dataframe using `.loc[]`. "
   ]
  },
  {
   "cell_type": "code",
   "execution_count": null,
   "metadata": {
    "scrolled": true
   },
   "outputs": [],
   "source": [
    "# Put the expression from above into a variable\n",
    "id_filter = df.loc[:, 'Identifier'] > 4000\n",
    "\n",
    "# Return all the rows where the expression is true\n",
    "df.loc[id_filter, :]\n",
    "\n",
    "# This is equivalent to\n",
    "#df.loc[(df.loc[:, 'Identifier'] > 4000), :]"
   ]
  },
  {
   "cell_type": "markdown",
   "metadata": {},
   "source": [
    "Try using a similar approach to find every person with the last name \"Smith.\""
   ]
  },
  {
   "cell_type": "code",
   "execution_count": null,
   "metadata": {
    "scrolled": true
   },
   "outputs": [],
   "source": [
    "# Preview every row with Last name of \"Smith\"\n"
   ]
  },
  {
   "cell_type": "markdown",
   "metadata": {},
   "source": [
    "If we were looking for \"Jamie Smith\" we could create a filter that specifies the first and last name."
   ]
  },
  {
   "cell_type": "code",
   "execution_count": null,
   "metadata": {},
   "outputs": [],
   "source": [
    "# Preview every row with the first name Jamie and last name Smith\n",
    "# You will need to use the & operator in your filter variable\n"
   ]
  },
  {
   "cell_type": "code",
   "execution_count": null,
   "metadata": {
    "scrolled": true
   },
   "outputs": [],
   "source": [
    "# Find every row with Last Name not `Smith`\n"
   ]
  },
  {
   "cell_type": "markdown",
   "metadata": {},
   "source": [
    "### Modifying a DataFrame\n",
    "\n",
    "A single element can be changed with an initialization statement."
   ]
  },
  {
   "cell_type": "code",
   "execution_count": null,
   "metadata": {},
   "outputs": [],
   "source": [
    "# Change a value using `.loc[]`\n",
    "df.loc['jenkins46', 'First name'] = 'Mark'\n",
    "df"
   ]
  },
  {
   "cell_type": "markdown",
   "metadata": {},
   "source": [
    "We can use filters to make more widespread changes. For example, we could remove all rows based on a filter."
   ]
  },
  {
   "cell_type": "code",
   "execution_count": null,
   "metadata": {
    "scrolled": true
   },
   "outputs": [],
   "source": [
    "# Remove all rows where the identifier is less than 7000\n",
    "# Create a filter variable\n",
    "id_filter = df.loc[:, 'Identifier'] > 7000\n",
    "\n",
    "# Create a new dataframe based on the old dataframe with the filter applied\n",
    "filtered_df = df.loc[id_filter, :]\n",
    "\n",
    "# Preview the new dataframe\n",
    "filtered_df\n",
    "\n",
    "# Optionally, overwrite the old dataframe\n",
    "# df = filtered_df"
   ]
  },
  {
   "cell_type": "markdown",
   "metadata": {},
   "source": [
    "### Summary of Pandas DataFrames\n",
    "\n",
    "* A DataFrame has multiple rows and columns\n",
    "* Use attributes along with `.head()` and `.tail()` to explore the DataFrame\n",
    "* Use `.iloc` and `.loc` to select an column, row, or element\n",
    "* Filters and Boolean Operators can be powerful selectors\n",
    "* Use an initialization statement to change one or many elements"
   ]
  }
 ],
 "metadata": {
  "kernelspec": {
   "display_name": "Python 3",
   "language": "python",
   "name": "python3"
  },
  "language_info": {
   "codemirror_mode": {
    "name": "ipython",
    "version": 3
   },
   "file_extension": ".py",
   "mimetype": "text/x-python",
   "name": "python",
   "nbconvert_exporter": "python",
   "pygments_lexer": "ipython3",
   "version": "3.8.8"
  },
  "toc": {
   "base_numbering": 1,
   "nav_menu": {},
   "number_sections": true,
   "sideBar": true,
   "skip_h1_title": true,
   "title_cell": "Table of Contents",
   "title_sidebar": "Contents",
   "toc_cell": false,
   "toc_position": {
    "height": "calc(100% - 180px)",
    "left": "10px",
    "top": "150px",
    "width": "278px"
   },
   "toc_section_display": true,
   "toc_window_display": false
  }
 },
 "nbformat": 4,
 "nbformat_minor": 4
}
