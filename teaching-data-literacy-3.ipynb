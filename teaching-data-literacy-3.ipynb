{
 "cells": [
  {
   "cell_type": "markdown",
   "id": "73df39a0-e6c1-4a34-a85e-d9d824e429c7",
   "metadata": {},
   "source": [
    "<img align=\"left\" src=\"https://ithaka-labs.s3.amazonaws.com/static-files/images/tdm/tdmdocs/CC_BY.png\"><br />\n",
    "\n",
    "Created by [Nathan Kelber](http://nkelber.com) for [Constellate](https://constellate.org/) under [Creative Commons CC BY License](https://creativecommons.org/licenses/by/4.0/)<br />\n",
    "For questions/comments/improvements, email nathan.kelber@ithaka.org.<br />"
   ]
  },
  {
   "cell_type": "markdown",
   "id": "edc7190b-c914-4286-9d1b-29db6abd1c84",
   "metadata": {},
   "source": [
    "# Teaching Data Literacy 3\n",
    "\n",
    "**Description:** \n",
    "\n",
    "This notebook introduces key ideas for teaching data literacy:\n",
    "\n",
    "* Create a GitHub account\n",
    "* Generate a Personal Access Token (PAT)\n",
    "* Clone a repository\n",
    "* Make your lesson\n",
    "* Structuring your lesson\n",
    "\n",
    "**Use Case:** For Learners (Detailed explanation, not ideal for researchers)\n",
    "\n",
    "**Difficulty:** Beginners\n",
    "\n",
    "**Completion Time:** 90 minutes\n",
    "\n",
    "**Knowledge Required:** \n",
    "* Python Basics ([Start Python Basics I](./python-basics-1.ipynb))\n",
    "\n",
    "**Knowledge Recommended:**\n",
    "* [Command Line Skills for Text Analysis](./command-line-skills.ipynb)\n",
    "\n",
    "**Data Format:** None\n",
    "\n",
    "**Libraries Used:** None\n",
    "\n",
    "**Research Pipeline:** None\n",
    "___"
   ]
  },
  {
   "cell_type": "markdown",
   "id": "b2d6c616-4df3-48cd-87a8-9e083a81c387",
   "metadata": {},
   "source": [
    "## Get Started with GitHub\n",
    "\n",
    "1. Go to [GitHub](https://github.com) and choose \"Sign up\".\n",
    "2. Enter an email and password. (Note, you can skip the personalization questions.)\n",
    "\n",
    "### Create a test repository\n",
    "\n",
    "1. Give your repository a name and leave it \"public.\"\n",
    "2. Choose \"creating a new file\" or \"README\" to create a file for your repository.\n",
    "3. Add some sample text and then choose \"Commit changes...\"\n",
    "4. Try making a second commit and then view the history of the repository. You can see the history by clicking on \"2 commits.\"\n",
    "5. Delete the repository by choosing \"Settings,\" then scroll all the way to the bottom. You may need to confirm several times before deleting a repository.\n",
    "\n",
    "### Create a Personal Access Token (PAT)\n",
    "\n",
    "1. Choose the \"Settings\" menu.\n",
    "2. Scroll all the way to the bottom of the lefthand column to \"Developer settings.\"\n",
    "3. Choose \"Personal Access Tokens,\" then \"Tokens (classic),\" and finally \"Generate a personal access token.\"\n",
    "4. Create a note that helps you understand what the token is for, for example \"Constellate Lab Access.\" \n",
    "5. Choose how long you want the token to last. You can choose for the token to never expire.\n",
    "6. Click the repo flag, scroll to the bottom, and choose \"Generate token.\"\n",
    "7. Copy your personal access token and store it somewhere secure, such as a password manager. For the short term, you could store it in a text document. Once you close the tab, you will not be able to see the token anymore! If you forget or lose the token, you should delete it in GitHub and generate a new token."
   ]
  },
  {
   "cell_type": "markdown",
   "id": "ada0a9c8-9c6f-4afe-830a-0a9bb1801e7d",
   "metadata": {},
   "source": [
    "## The Jupyter Lab `git` Extension\n",
    "\n",
    "Start your Jupyter Lab environment and move into the root directory.\n",
    "\n",
    "### Clone a repository\n",
    "\n",
    "On the lefthand column, choose the git extension. Choose \"Clone a Repository\". Then enter the GitHub URL of any project you would like to clone into your lab environment. For example, you could clone any of the TAP Institute 2023 repositories:\n",
    "\n",
    "* [Constellate Notebooks](https://github.com/ithaka/constellate-notebooks/)- Includes the 2023 TAP Institute classes in Python Basics, Pandas Basics, and Pandas Intermediate\n",
    "* [spaCy](https://github.com/wjbmattingly/tap-2023-spacy-01)- A nine-class series on the [spaCy library](https://spacy.io/https://spacy.io/)\n",
    "* [Finding word meaning through context](https://github.com/jdportercode/TAP23)- Working with common statistical measures for the digital humanities\n",
    "* [Web-scraping toolkit](https://github.com/elliewix/tapi-2023-webscraping)- Learn how to scrape data from the web, including [Beautiful Soup](https://www.crummy.com/software/BeautifulSoup/https://www.crummy.com/software/BeautifulSoup/)\n",
    "* [Tools for taming text](https://github.com/elliewix/tapi-taming-text-2023)- Learn how to work with regular expressions and XPath\n",
    "\n",
    "\n",
    "### Push the repository to your GitHub"
   ]
  },
  {
   "cell_type": "code",
   "execution_count": null,
   "id": "96706792-f9d0-4039-b483-bcfda017c123",
   "metadata": {},
   "outputs": [],
   "source": []
  }
 ],
 "metadata": {
  "kernelspec": {
   "display_name": "Python 3 (ipykernel)",
   "language": "python",
   "name": "python3"
  },
  "language_info": {
   "codemirror_mode": {
    "name": "ipython",
    "version": 3
   },
   "file_extension": ".py",
   "mimetype": "text/x-python",
   "name": "python",
   "nbconvert_exporter": "python",
   "pygments_lexer": "ipython3",
   "version": "3.10.6"
  }
 },
 "nbformat": 4,
 "nbformat_minor": 5
}
