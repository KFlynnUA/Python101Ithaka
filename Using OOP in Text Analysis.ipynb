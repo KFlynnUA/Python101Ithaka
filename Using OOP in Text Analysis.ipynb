{
 "cells": [
  {
   "cell_type": "markdown",
   "id": "2b6c8706",
   "metadata": {},
   "source": [
    "# What is object-oriented programming (OOP)?\n",
    "\n",
    "OOP is a programming paradigm that relies on the concept of ${\\bf classes}$ and ${\\bf objects}$.\n",
    "\n",
    "OOP is used to structure software program into simple, reusable pieces of code blueprints called ${\\bf classes}$, which are used to create individual instances of ${\\bf classes}$ called ${\\bf objects}$. Python, the programming language we are using in the Constellate tutorials, is an object-oriented programming language. "
   ]
  },
  {
   "cell_type": "markdown",
   "id": "a6bfe502",
   "metadata": {},
   "source": [
    "## What is a class?\n",
    "\n",
    "A ${\\bf class}$ is an abstract blueprint used to create more specific, concrete ${\\bf objects}$. Classes often represent broad categories, like ```Student``` or ```Teacher```. The individual instances of a class are called ${\\bf objects}$.\n",
    "\n",
    "### Attributes\n",
    "\n",
    " The specific instances of the same category share ${\\bf attributes}$. For example, students have attributes like ```name```, ```age``` and ```grade```. Teachers have attributes like ```email``` and ```subject```. What attributes you give to a class depends on the purpose of your program. "
   ]
  },
  {
   "cell_type": "code",
   "execution_count": null,
   "id": "57b52be9",
   "metadata": {},
   "outputs": [],
   "source": [
    "class Student():\n",
    "    def __init__(self,name,age,grade):\n",
    "        self.name=name\n",
    "        self.age=age\n",
    "        self.grade=grade"
   ]
  },
  {
   "cell_type": "code",
   "execution_count": null,
   "id": "7aa97501",
   "metadata": {},
   "outputs": [],
   "source": [
    "John=Student('john',15,'9th')\n",
    "John.name"
   ]
  },
  {
   "cell_type": "code",
   "execution_count": null,
   "id": "cac118e3",
   "metadata": {},
   "outputs": [],
   "source": [
    "Bill=Student('bill',13,'7th')\n",
    "Bill.grade"
   ]
  },
  {
   "cell_type": "code",
   "execution_count": null,
   "id": "b898c271",
   "metadata": {},
   "outputs": [],
   "source": [
    "class Teacher():\n",
    "    def __init__(self, email, subject):\n",
    "        self.email=email\n",
    "        self.subject=subject"
   ]
  },
  {
   "cell_type": "code",
   "execution_count": null,
   "id": "0b3cc730",
   "metadata": {},
   "outputs": [],
   "source": [
    "Smith=Teacher('dsmith@ut.edu','Math')\n",
    "Smith.subject"
   ]
  },
  {
   "cell_type": "markdown",
   "id": "73c31368",
   "metadata": {},
   "source": [
    "We have seen that individual ${\\bf objects}$ are specific examples of an abstract ${\\bf class}$. For example, John is an object that is an instance of the class ```Student```. Smith is an object that is an instance of the class ```Teacher```. Each object of a class can have their own unique values to the attributes defined in that class."
   ]
  },
  {
   "cell_type": "markdown",
   "id": "046daae0",
   "metadata": {},
   "source": [
    "### Methods\n",
    "\n",
    "Classes can also contain functions, called ${\\bf methods}$. ${\\bf Methods}$ perform some operation on the objects of a class. For example, our ```Teacher``` class may have a method ```get_aff``` that extracts the affiliation from the email address. "
   ]
  },
  {
   "cell_type": "code",
   "execution_count": null,
   "id": "bfb257c2",
   "metadata": {},
   "outputs": [],
   "source": [
    "import re\n",
    "class Teacher ():\n",
    "    def __init__(self, email, subject):\n",
    "        self.email=email\n",
    "        self.subject=subject\n",
    "    def get_aff(self, email):\n",
    "        aff=re.split(r'@|\\.',email)[1]\n",
    "        return aff"
   ]
  },
  {
   "cell_type": "code",
   "execution_count": null,
   "id": "31efc128",
   "metadata": {},
   "outputs": [],
   "source": [
    "Smith=Teacher('dsmith@ut.edu','Math')\n",
    "Smith.get_aff(Smith.email)"
   ]
  },
  {
   "cell_type": "markdown",
   "id": "6e17147a",
   "metadata": {},
   "source": [
    "**Exercise one:** Can you write a new method ```add_two``` in the class ```Student``` which takes a student's age and adds 2 to it. "
   ]
  },
  {
   "cell_type": "code",
   "execution_count": null,
   "id": "4d8b4c59",
   "metadata": {},
   "outputs": [],
   "source": []
  },
  {
   "cell_type": "markdown",
   "id": "27c7adf1",
   "metadata": {},
   "source": [
    "# Using OOP in text analysis"
   ]
  },
  {
   "cell_type": "markdown",
   "id": "a6df4f46",
   "metadata": {},
   "source": [
    "It is often the case that we want to reuse some of the functions we write to process data files from one analysis in another analysis. For example, you may create a function which cleans the text (returns lowercase text, free from stopwords) in the preprocessing stage in a text analysis project. A few months later when you work on another project, you want to preprocess text in the same way as your previous project. In this case, you want to reuse the clean text method to clean the text in the same way as before.\n",
    "\n",
    "What makes OOP particularly attractive is the reusability of functions and objects which you can reuse in different analysis. "
   ]
  },
  {
   "cell_type": "markdown",
   "id": "6158dff2",
   "metadata": {},
   "source": [
    "# References\n",
    "\n",
    "to be added"
   ]
  },
  {
   "cell_type": "code",
   "execution_count": null,
   "id": "56725c6b",
   "metadata": {},
   "outputs": [],
   "source": []
  }
 ],
 "metadata": {
  "kernelspec": {
   "display_name": "Python 3 (ipykernel)",
   "language": "python",
   "name": "python3"
  },
  "language_info": {
   "codemirror_mode": {
    "name": "ipython",
    "version": 3
   },
   "file_extension": ".py",
   "mimetype": "text/x-python",
   "name": "python",
   "nbconvert_exporter": "python",
   "pygments_lexer": "ipython3",
   "version": "3.10.7"
  },
  "toc": {
   "base_numbering": 1,
   "nav_menu": {},
   "number_sections": true,
   "sideBar": true,
   "skip_h1_title": false,
   "title_cell": "Table of Contents",
   "title_sidebar": "Contents",
   "toc_cell": false,
   "toc_position": {},
   "toc_section_display": true,
   "toc_window_display": true
  }
 },
 "nbformat": 4,
 "nbformat_minor": 5
}
