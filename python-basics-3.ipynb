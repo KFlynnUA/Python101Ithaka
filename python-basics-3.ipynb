{
 "cells": [
  {
   "cell_type": "markdown",
   "id": "3826bcf1",
   "metadata": {},
   "source": [
    "<img align=\"left\" src=\"https://ithaka-labs.s3.amazonaws.com/static-files/images/tdm/tdmdocs/CC_BY.png\"><br />\n",
    "\n",
    "Created by [Nathan Kelber](http://nkelber.com) for [JSTOR Labs](https://labs.jstor.org/) under [Creative Commons CC BY License](https://creativecommons.org/licenses/by/4.0/)<br />\n",
    "For questions/comments/improvements, email nathan.kelber@ithaka.org.<br />\n",
    "___"
   ]
  },
  {
   "cell_type": "markdown",
   "id": "71697c60",
   "metadata": {},
   "source": [
    "# Python Basics 3\n",
    "\n",
    "**Description:** \n",
    "This lesson describes the basics of writing your own functions including:\n",
    "\n",
    "* `def` statements\n",
    "* [Local scope](https://docs.constellate.org/key-terms/#local-scope)\n",
    "* [Global scope](https://docs.constellate.org/key-terms/#global-scope)\n",
    "\n",
    "This is part 3 of 4 in the series *Python Basics* that will prepare you to do text analysis using the [Python](https://docs.constellate.org/key-terms/#python) programming language.\n",
    "\n",
    "**Use Case:** For Learners (Detailed explanation, not ideal for researchers)\n",
    "\n",
    "**Difficulty:** Beginner\n",
    "\n",
    "**Completion Time:** 90 minutes\n",
    "\n",
    "**Knowledge Required:** \n",
    "* [Getting Started with Jupyter Notebooks](./getting-started-with-jupyter.ipynb)\n",
    "* [Python Basics 1](./python-basics-1.ipynb)\n",
    "* [Python Basics 2](./python-basics-2.ipynb)\n",
    "\n",
    "**Knowledge Recommended:** None\n",
    "\n",
    "**Data Format:** None\n",
    "\n",
    "**Libraries Used:** \n",
    "`time` to put make the computer wait a few seconds\n",
    "`random` to generate random numbers\n",
    "\n",
    "**Research Pipeline:** None\n",
    "___"
   ]
  },
  {
   "cell_type": "markdown",
   "id": "697fe708",
   "metadata": {},
   "source": [
    "## Functions\n",
    "\n",
    "We have used several [Python](https://docs.constellate.org/key-terms/#python) [functions](https://docs.constellate.org/key-terms/#function) already, including `print()`, `input()`, and `range()`. You can identify a function by the fact that it ends with a set of parentheses `()` where [arguments](https://docs.constellate.org/key-terms/#argument) can be **passed** into the function. Depending on the [function](https://docs.constellate.org/key-terms/#function) (and your goals for using it), a [function](https://docs.constellate.org/key-terms/#function) may accept no [arguments](https://docs.constellate.org/key-terms/#argument), a single [argument](https://docs.constellate.org/key-terms/#argument), or many [arguments](https://docs.constellate.org/key-terms/#argument). For example, when we use the `print()` [function](https://docs.constellate.org/key-terms/#function), a [string](https://docs.constellate.org/key-terms/#string) (or a variable containing a [string](https://docs.constellate.org/key-terms/#string)) is passed as an [argument](https://docs.constellate.org/key-terms/#argument).\n",
    "\n",
    "[Functions](https://docs.constellate.org/key-terms/#function) are a convenient shorthand, like a mini-program, that makes our code more **modular**. We don't need to know all the details of how the `print()` [function](https://docs.constellate.org/key-terms/#function) works in order to use it. [Functions](https://docs.constellate.org/key-terms/#function) are sometimes called \"black boxes\", in that we can put an [argument](https://docs.constellate.org/key-terms/#argument) into the box and a **return value** comes out. We don't need to know the inner details of the \"black box\" to use it. (Of course, as you advance your programming skills, you may become curious about how certain [functions](https://docs.constellate.org/key-terms/#function) work. And if you work with sensitive data, you may *need* to peer in the black box to ensure the security and accuracy of the output.)\n",
    "\n",
    "### Libraries and Modules\n",
    "\n",
    "While [Python](https://docs.constellate.org/key-terms/#python) comes with many [functions](https://docs.constellate.org/key-terms/#function), there are thousands more that others have written. Adding them all to [Python](https://docs.constellate.org/key-terms/#python) would create mass confusion, since many people could use the same name for [functions](https://docs.constellate.org/key-terms/#function) that do different things. The solution then is that [functions](https://docs.constellate.org/key-terms/#function) are stored in [modules](https://docs.constellate.org/key-terms/#module) that can be **imported** for use. A [module](https://docs.constellate.org/key-terms/#module) is a [Python](https://docs.constellate.org/key-terms/#python) file (extension \".py\") that contains the definitions for the [functions](https://docs.constellate.org/key-terms/#function) written in [Python](https://docs.constellate.org/key-terms/#python). These [modules](https://docs.constellate.org/key-terms/#module) (individual [Python](https://docs.constellate.org/key-terms/#python) files) can then be collected into even larger groups called [packages](https://docs.constellate.org/key-terms/#package) and [libraries](https://docs.constellate.org/key-terms/#library). Depending on how many [functions](https://docs.constellate.org/key-terms/#function) you need for the program you are writing, you may import a single [module](https://docs.constellate.org/key-terms/#module), a [package](https://docs.constellate.org/key-terms/#package) of [modules](https://docs.constellate.org/key-terms/#module), or a whole [library](https://docs.constellate.org/key-terms/#library).\n",
    "\n",
    "The general form of importing a [module](https://docs.constellate.org/key-terms/#module) is:\n",
    "`import module_name`\n",
    "\n",
    "You may recall from the \"Getting Started with Jupyter Notebooks\" lesson, we imported the `time` [module](https://docs.constellate.org/key-terms/#module) and used the `sleep()` [function](https://docs.constellate.org/key-terms/#function) to wait 5 seconds."
   ]
  },
  {
   "cell_type": "code",
   "execution_count": null,
   "id": "00ad02a0",
   "metadata": {},
   "outputs": [],
   "source": [
    "# A program that waits five seconds then prints \"Done\"\n",
    "\n",
    "import time # We import all the functions in the `time` module\n",
    "\n",
    "print('Waiting 5 seconds...')\n",
    "time.sleep(5) # We run the sleep() function from the time module using `time.sleep()`\n",
    "print('Done')"
   ]
  },
  {
   "cell_type": "markdown",
   "id": "c9d4846c",
   "metadata": {},
   "source": [
    "We can also just import the `sleep()` [function](https://docs.constellate.org/key-terms/#function) without importing the whole `time` [module](https://docs.constellate.org/key-terms/#module). The syntax is:\n",
    "\n",
    "`from module import function`"
   ]
  },
  {
   "cell_type": "code",
   "execution_count": null,
   "id": "353cac6a",
   "metadata": {},
   "outputs": [],
   "source": [
    "# A program that waits five seconds then prints \"Done\"\n",
    "\n",
    "from time import sleep # We import just the sleep() function from the time module\n",
    "\n",
    "\n",
    "print('Waiting 5 seconds...')\n",
    "\n",
    "sleep(5) # Notice that we just call the sleep() function, not time.sleep()\n",
    "print('Done')"
   ]
  },
  {
   "cell_type": "markdown",
   "id": "589a12a4",
   "metadata": {},
   "source": [
    "## Writing a Function\n",
    "\n",
    "In the above examples, we **called** a [function](https://docs.constellate.org/key-terms/#function) that was already written. However, we can also create our own functions!\n",
    "\n",
    "The first step is to define the function before we call it. We use a **function definition statement** followed by a function description and a [code block](https://docs.constellate.org/key-terms/#code-block) containing the function's actions:\n",
    "\n",
    "`def my_function():` <br />\n",
    "&nbsp; &nbsp; &nbsp; &nbsp;`\"\"\"Description of what the functions does\"\"\"`<br />\n",
    "&nbsp; &nbsp; &nbsp; &nbsp;`python code to be executed`\n",
    "\n",
    "\n",
    "After the [function](https://docs.constellate.org/key-terms/#function) is defined, we can **call** on it to do us a favor whenever we need by simply executing the [function](https://docs.constellate.org/key-terms/#function) like so:\n",
    "\n",
    "`my_function()`\n",
    "\n",
    "After the function is defined, we can call it as many times as we want without having to rewrite its code. In the example below, we create a function called `complimenter_function` then call it twice."
   ]
  },
  {
   "cell_type": "code",
   "execution_count": null,
   "id": "c659fdeb",
   "metadata": {},
   "outputs": [],
   "source": [
    "# Creating a complimenter function to compliment users\n",
    "def complimenter_function():\n",
    "    \"\"\"Gives the user a compliment\"\"\"\n",
    "    print(f'You are looking great today, {user_name}!')\n",
    "    \n",
    "user_name = input('What is your name? ')\n",
    "complimenter_function()\n",
    "\n",
    "user_name = input('Who is your friend? ')\n",
    "complimenter_function()\n",
    "    "
   ]
  },
  {
   "cell_type": "markdown",
   "id": "3140681d",
   "metadata": {},
   "source": [
    "Using [functions](https://docs.constellate.org/key-terms/#function) makes it easier for us to update our code. Let's say we wanted to change our compliment. We can simply change the [function](https://docs.constellate.org/key-terms/#function) definition one time to make the change everywhere. See if you can make the change. (Remember to also change your program description in the first line!)"
   ]
  },
  {
   "cell_type": "code",
   "execution_count": null,
   "id": "185f9be3",
   "metadata": {},
   "outputs": [],
   "source": [
    "# Creating a complimenter function to compliment users\n",
    "def complimenter_function():\n",
    "    \"\"\"Gives the user a compliment\"\"\"\n",
    "    print(f'You are looking great today, {user_name}!')\n",
    "    \n",
    "user_name = input('What is your name? ')\n",
    "complimenter_function()\n",
    "\n",
    "user_name = input('Who is your friend? ')\n",
    "complimenter_function()"
   ]
  },
  {
   "cell_type": "markdown",
   "id": "4adf71bc",
   "metadata": {},
   "source": [
    "By changing our [function](https://docs.constellate.org/key-terms/#function) definition just one time, we were able to make our program behave differently every time it was called. If our program was large, it might call our custom function dozens of times. Having duplicate code in many places would mean we would need to change it in every place!\n",
    "\n",
    "Generally, it is good practice to avoid duplicating program code to avoid having to change it in multiple places. When programmers edit their code, they may spend time **deduplicating** (getting rid of code that repeats). This makes the code easier to read and maintain."
   ]
  },
  {
   "cell_type": "markdown",
   "id": "a39772ed",
   "metadata": {},
   "source": [
    "### Parameters vs. Arguments\n",
    "\n",
    "When we write a [function](https://docs.constellate.org/key-terms/#function) definition, we can define a [parameter](https://docs.constellate.org/key-terms/#parameter) to work with the [function](https://docs.constellate.org/key-terms/#function). We use the word [parameter](https://docs.constellate.org/key-terms/#parameter) to describe the [variable](https://docs.constellate.org/key-terms/#variable) in parentheses within a [function](https://docs.constellate.org/key-terms/#function) definition:\n",
    "\n",
    "`def my_function(input_variable):` <br />\n",
    "&nbsp; &nbsp; &nbsp; &nbsp;`do this task`\n",
    "\n",
    "In the pseudo-code above, `input_variable` is a [parameter](https://docs.constellate.org/key-terms/#parameter) because it is being used within the context of a [function](https://docs.constellate.org/key-terms/#function) *definition*. When we actually call and run our [function](https://docs.constellate.org/key-terms/#function), the actual [variable](https://docs.constellate.org/key-terms/#variable) or value we pass to the [function](https://docs.constellate.org/key-terms/#function) is called an [argument](https://docs.constellate.org/key-terms/#argument)."
   ]
  },
  {
   "cell_type": "code",
   "execution_count": null,
   "id": "8d5974c0",
   "metadata": {},
   "outputs": [],
   "source": [
    "# A program to greet the user by name\n",
    "\n",
    "def greeting_function(user_name): #`user_name` here is a parameter since it is in the definition of the `greeting_function`\n",
    "    print('Hello ' + user_name)\n",
    "\n",
    "greeting_function('Sam') # 'Sam' is an argument that is being passed into the `greeting_function`"
   ]
  },
  {
   "cell_type": "markdown",
   "id": "d58135fb",
   "metadata": {},
   "source": [
    "In the above example, we passed a [string](https://docs.constellate.org/key-terms/#string) into our [function](https://docs.constellate.org/key-terms/#function), but we could also pass a [variable](https://docs.constellate.org/key-terms/#variable)."
   ]
  },
  {
   "cell_type": "code",
   "execution_count": null,
   "id": "be8ef139",
   "metadata": {},
   "outputs": [],
   "source": [
    "# A program to greet the user by name\n",
    "\n",
    "def greeting_function(user_name): #`user_name` here is a parameter since it is in the definition of the `greeting_function`\n",
    "    print('Hello ' + user_name)\n",
    "\n",
    "answer = input('What is your name? ')\n",
    "greeting_function(answer) # `answer` is an argument that is being passed into the `greeting_function`"
   ]
  },
  {
   "cell_type": "markdown",
   "id": "21b93edb",
   "metadata": {},
   "source": [
    "### Function Return Values\n",
    "\n",
    "Whether or not a [function](https://docs.constellate.org/key-terms/#function) takes an [argument](https://docs.constellate.org/key-terms/#argument), it will return a value. If we do not specify that return value in our [function](https://docs.constellate.org/key-terms/#function) definition, it is automatically set to `None`, a special value like the Boolean `True` and `False` that simply means null or nothing. (`None` is not the same thing as, say, the integer `0`.) We can also specify return values for our [function](https://docs.constellate.org/key-terms/#function) using a [flow control statement](https://docs.constellate.org/key-terms/#flow-control-statement) followed by `return` in the [code block](https://docs.constellate.org/key-terms/#code-block).\n",
    "\n",
    "Let's write a function for telling fortunes. We can call it `fortune_picker` and it will accept a number (1-6) then return a string for the fortune."
   ]
  },
  {
   "cell_type": "code",
   "execution_count": null,
   "id": "78d9baee",
   "metadata": {},
   "outputs": [],
   "source": [
    "# A fortune-teller program that contains a function `fortune_picker`\n",
    "# `fortune_picker` accepts an integer (1-6) and returns a fortune string\n",
    "\n",
    "def fortune_picker(fortune_number): # A function definition statement that has a parameter `fortune_number`\n",
    "    if fortune_number == 1:\n",
    "        return 'You will have six children.'\n",
    "    elif fortune_number == 2:\n",
    "        return 'You will become very wise.'\n",
    "    elif  fortune_number == 3:\n",
    "        return 'A new friend will help you find yourself.'\n",
    "    elif fortune_number == 4:\n",
    "        return 'Do not eat the sushi.'\n",
    "    elif fortune_number == 5:\n",
    "        return 'That promising venture... it is a trap.'\n",
    "    elif fortune_number == 6: \n",
    "        return 'Sort yourself out then find love.'\n",
    "\n",
    "print(fortune_picker(5))"
   ]
  },
  {
   "cell_type": "markdown",
   "id": "67870781",
   "metadata": {},
   "source": [
    "In our example, we passed the [argument](https://docs.constellate.org/key-terms/#argument) `3` that returned the [string](https://docs.constellate.org/key-terms/#string) `'A new friend will help you find yourself'`. To change the fortune, we would have to pass a different [integer](https://docs.constellate.org/key-terms/#integer) into the [function](https://docs.constellate.org/key-terms/#function). To make our fortune-teller random, we could import the [function](https://docs.constellate.org/key-terms/#function) `randint()` that chooses a random number between two [integers](https://docs.constellate.org/key-terms/#integer). We pass the two [integers](https://docs.constellate.org/key-terms/#integer) as [arguments](https://docs.constellate.org/key-terms/#argument) separated by a comma."
   ]
  },
  {
   "cell_type": "code",
   "execution_count": null,
   "id": "eb7c1875",
   "metadata": {},
   "outputs": [],
   "source": [
    "# A fortune-teller program that uses a random integer\n",
    "\n",
    "from random import randint # import the randint() function from the random module\n",
    "\n",
    "def fortune_picker(fortune_number): # A function definition statement that has a parameter `fortune_number`\n",
    "    if fortune_number == 1:\n",
    "        return 'You will have six children.'\n",
    "    elif fortune_number == 2:\n",
    "        return 'You will become very wise.'\n",
    "    elif  fortune_number == 3:\n",
    "        return 'A new friend will help you find yourself.'\n",
    "    elif fortune_number == 4:\n",
    "        return 'Do not eat the sushi.'\n",
    "    elif fortune_number == 5:\n",
    "        return 'That promising venture... it is a trap.'\n",
    "    elif fortune_number == 6: \n",
    "        return 'Sort yourself out then find love.'\n",
    "\n",
    "random_number = randint(1, 6) # Choose a random number between 1 and 6 and assign it to a new variable `random_number`\n",
    "print(fortune_picker(random_number))"
   ]
  },
  {
   "cell_type": "markdown",
   "id": "5448641f",
   "metadata": {},
   "source": [
    "### Local and Global Scope\n",
    "\n",
    "We have seen that [functions](https://docs.constellate.org/key-terms/#function) make maintaining code easier by avoiding duplication. One of the most dangerous areas for duplication is [variable](https://docs.constellate.org/key-terms/#variable) names. As programming projects become larger, the possibility that a [variable](https://docs.constellate.org/key-terms/#variable) will be re-used goes up. This can cause weird errors in our programs that are hard to track down. We can alleviate the problem of duplicate [variable](https://docs.constellate.org/key-terms/#variable) names through the concepts of [local scope](https://docs.constellate.org/key-terms/#local-scope) and [global scope](https://docs.constellate.org/key-terms/#global-scope).\n",
    "\n",
    "We use the phrase [local scope](https://docs.constellate.org/key-terms/#local-scope) to describe what happens within a [function](https://docs.constellate.org/key-terms/#function). The [local scope](https://docs.constellate.org/key-terms/#local-scope) of a [function](https://docs.constellate.org/key-terms/#function) may contain [local variable](https://docs.constellate.org/key-terms/#local-variable), but once that [function](https://docs.constellate.org/key-terms/#function) has completed the [local variable](https://docs.constellate.org/key-terms/#local-variable) and their contents are erased.\n",
    "\n",
    "On the other hand, we can also create [global variables](https://docs.constellate.org/key-terms/#global-variable) that persist at the top-level of the program *and* within the [local scope](https://docs.constellate.org/key-terms/#local-scope) of a [function](https://docs.constellate.org/key-terms/#function).\n",
    "\n",
    "* In the [global scope](https://docs.constellate.org/key-terms/#global-scope), [Python](https://docs.constellate.org/key-terms/#python) does not recognize any [local variable](https://docs.constellate.org/key-terms/#local-variable) from within [functions](https://docs.constellate.org/key-terms/#function)\n",
    "* In the [local scope](https://docs.constellate.org/key-terms/#local-scope) of a [function](https://docs.constellate.org/key-terms/#function), [Python](https://docs.constellate.org/key-terms/#python) can recognize and modify any [global variables](https://docs.constellate.org/key-terms/#global-variable)\n",
    "* It is possible for there to be a [global variable](https://docs.constellate.org/key-terms/#global-variable) and a [local variable](https://docs.constellate.org/key-terms/#local-variable) with the same name\n",
    "\n",
    "Ideally, [Python](https://docs.constellate.org/key-terms/#python) programs should limit the number of [global variables](https://docs.constellate.org/key-terms/#global-variable) and create most [variables](https://docs.constellate.org/key-terms/#variable) in a [local scope](https://docs.constellate.org/key-terms/#local-scope)."
   ]
  },
  {
   "cell_type": "code",
   "execution_count": null,
   "id": "f355fd60",
   "metadata": {},
   "outputs": [],
   "source": [
    "# Demonstration of global variable being use in a local scope\n",
    "# The program crashes when a local variable is used in a global scope\n",
    "global_secret_number = 7\n",
    "\n",
    "def share_number():\n",
    "    local_secret_number = 13\n",
    "    print(f'The global secret number is {global_secret_number}')\n",
    "    print(f'The local secret number is {local_secret_number} ')\n",
    "    \n",
    "\n",
    "share_number()\n",
    "print(f'The global secret number is {global_secret_number}')\n",
    "print(f'The local secret number is {local_secret_number}')"
   ]
  },
  {
   "cell_type": "markdown",
   "id": "6f37ff80",
   "metadata": {},
   "source": [
    "The code above defines a [global variable](https://docs.constellate.org/key-terms/#global-variable) `global_secret_number` with the value of 7. A [function](https://docs.constellate.org/key-terms/#function), called `share_number`, then defines a [local variable](https://docs.constellate.org/key-terms/#local-variable) `local_secret_number` with a value of 13. When we call the `share_number` [function](https://docs.constellate.org/key-terms/#function), it prints the [local variable](https://docs.constellate.org/key-terms/#local-variable) and the [global variable](https://docs.constellate.org/key-terms/#global-variable). After the `share_number()` [function](https://docs.constellate.org/key-terms/#function) completes we try to print both variables in a [global scope](https://docs.constellate.org/key-terms/#global-scope). The program prints `global_secret_number` but crashes when trying to print `local_secret_number` in a [global scope](https://docs.constellate.org/key-terms/#global-scope).\n",
    "\n",
    "It's a good practice not to name a [local variable](https://docs.constellate.org/key-terms/#local-variable) the same thing as a [global variable](https://docs.constellate.org/key-terms/#global-variable). If we define a [variable](https://docs.constellate.org/key-terms/#variable) with the same name in a [local scope](https://docs.constellate.org/key-terms/#local-scope), it becomes a [local variable](https://docs.constellate.org/key-terms/#local-variable) within that scope. Once the [function](https://docs.constellate.org/key-terms/#function) is closed, the [global variable](https://docs.constellate.org/key-terms/#global-variable) retains its original value."
   ]
  },
  {
   "cell_type": "code",
   "execution_count": null,
   "id": "e1ed2293",
   "metadata": {},
   "outputs": [],
   "source": [
    "# A demonstration of global and local scope using the same variable name\n",
    "secret_number = 7\n",
    "\n",
    "def share_number():\n",
    "    secret_number = 10\n",
    "    print(secret_number)\n",
    "\n",
    "share_number()\n",
    "print(secret_number)"
   ]
  },
  {
   "cell_type": "markdown",
   "id": "0bf5942d",
   "metadata": {},
   "source": [
    "### The Global Statement\n",
    "\n",
    "A [global statement](https://docs.constellate.org/key-terms/#global-statement) allows us to modify a [global variable](https://docs.constellate.org/key-terms/#global-variable) in a [local scope](https://docs.constellate.org/key-terms/#local-scope)."
   ]
  },
  {
   "cell_type": "code",
   "execution_count": null,
   "id": "9041d27f",
   "metadata": {},
   "outputs": [],
   "source": [
    "# Using a global statement in a local scope to change a global variable locally\n",
    "\n",
    "secret_number = 7\n",
    "\n",
    "def share_number():\n",
    "    global secret_number # The global statement indicates this the global variable, not a local variable\n",
    "    secret_number = 10\n",
    "    print(secret_number)\n",
    "\n",
    "share_number()\n",
    "print(secret_number)"
   ]
  },
  {
   "cell_type": "markdown",
   "id": "d28f96a1",
   "metadata": {},
   "source": [
    "___\n",
    "## Lesson Complete\n",
    "Congratulations! You have completed *Python Basics 3*. There is one more lesson in *Python Basics*:\n",
    "\n",
    "* *Python Basics 4*\n",
    "\n",
    "### Start Next Lesson: [Python Basics 4](./python-basics-4.ipynb)\n"
   ]
  }
 ],
 "metadata": {
  "kernelspec": {
   "display_name": "Python 3 (ipykernel)",
   "language": "python",
   "name": "python3"
  },
  "language_info": {
   "codemirror_mode": {
    "name": "ipython",
    "version": 3
   },
   "file_extension": ".py",
   "mimetype": "text/x-python",
   "name": "python",
   "nbconvert_exporter": "python",
   "pygments_lexer": "ipython3",
   "version": "3.8.8"
  },
  "toc": {
   "base_numbering": 1,
   "nav_menu": {},
   "number_sections": true,
   "sideBar": true,
   "skip_h1_title": true,
   "title_cell": "Table of Contents",
   "title_sidebar": "Contents",
   "toc_cell": false,
   "toc_position": {},
   "toc_section_display": true,
   "toc_window_display": true
  }
 },
 "nbformat": 4,
 "nbformat_minor": 5
}
