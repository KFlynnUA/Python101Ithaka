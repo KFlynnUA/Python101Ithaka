{
 "cells": [
  {
   "cell_type": "markdown",
   "id": "8bab4952",
   "metadata": {},
   "source": [
    "# Object-oriented programming (OOP)\n",
    "\n",
    "\n",
    "**Description:** This notebook decribes\n",
    "\n",
    "* What object-oriented programming (OOP) is\n",
    "* What a class is\n",
    "* What an object is\n",
    "* What attributes, methods and constructors are\n",
    "* How to write a class\n",
    "* How to create objects using a class \n",
    "* How to use OOP in a simple text analysis task\n",
    "\n",
    "**Use Case:** For learners (detailed explanation)\n",
    "\n",
    "**Difficulty:** Intermediate\n",
    "\n",
    "**Completion Time:** 90 minutes\n",
    "\n",
    "**Knowledge Required:**\n",
    "\n",
    "* Python Basics Series ([Start Python Basics 1](./python-basics-1.ipynb))\n",
    "    \n",
    "**Knowledge Recommended:** None\n",
    "\n",
    "**Data Format:** None\n",
    "\n",
    "**Libraries Used:**\n",
    "  * NLTK\n",
    "\n",
    "**Research Pipeline:** None\n"
   ]
  },
  {
   "cell_type": "markdown",
   "id": "2b6c8706",
   "metadata": {},
   "source": [
    "# Classes and objects?\n",
    "\n",
    "Object-oriented programming is a programming paradigm that relies on the concept of **classes** and **objects**. To understand OOP, we will need to understand **classes** and **objects**.\n",
    "\n",
    "To make the concepts of **classes** and **objects** more concrete, let's use a simple example. \n"
   ]
  },
  {
   "cell_type": "markdown",
   "id": "aed0d3f7",
   "metadata": {},
   "source": [
    "Suppose you are looking to buy a house. You keep a record of the houses you are interested in to do a comparison between them.\n",
    "\n",
    " |                |      |  \n",
    " |----------------|:-----| \n",
    " |**bedroom**     |3    | \n",
    " |**bathroom**        |1.5    | \n",
    " |**price**        | 660000 | \n",
    " |**sqft**     |1500    | \n",
    " |**price_per_sqft**|def price_per_sqft (600000, 1500):<br>&emsp;$~~~$price_per_sqft = 600000 / 1500<br>&emsp;$~~~$print ( \"This house costs \" + str(price_per_sqft) + \" dollars per square foot.\")|\n",
    "    \n",
    " |                |      |  \n",
    " |----------------|:-----| \n",
    " |**bedroom**     |4    | \n",
    " |**bathroom**        |2    | \n",
    "  |**price**        | 800000| \n",
    " |**sqft**     |2000    | \n",
    " |**price_per_sqft**|def price_per_sqft (800000, 2000):<br>&emsp;$~~~$price_per_sqft = 800000 / 2000<br>&emsp;$~~~$print ( \"This house costs \" + str(price_per_sqft) + \" dollars per square foot.\" )|"
   ]
  },
  {
   "cell_type": "markdown",
   "id": "3f57c64a",
   "metadata": {},
   "source": [
    "For each house you are interested in, you create such a record. In a record there are two kinds of information. First, the **attributes** of the house; Second, the **functions** that operate on the said house (in this case, a function that prints out the price per square foot).\n",
    "\n",
    "Now, a natural question to ask is: is there a good way to organize such a collection of information? Yes! This is where **objects** come in. "
   ]
  },
  {
   "cell_type": "markdown",
   "id": "1ba05ee6",
   "metadata": {},
   "source": [
    "## What is an object?\n",
    "\n",
    "An **object** is basically a collection of attributes and functions. With such a collection of information, an **object** can be used to represent anything, e.g. a person, a dog, a school, etc. \n",
    "\n",
    "Coming back to our example, we are using the **object** below to represent `house1`. Of course, depending on what properties/attributes and functions you want to include, you may represent `house1` with a different set of information stored in the **object**. In our scenario, we choose to use the number of bedrooms, the number of bathrooms, the price of the house and a function that calculates and prints out the price per square foot to represent `house1`. Let's assign this object to the variable name ```house1```.\n",
    "\n",
    "<img src=\"https://ithaka-labs.s3.amazonaws.com/static-files/images/tdm/tdmdocs/intermediate_python_4_house1.png\" width=\"650\" height=\"300\" />\n",
    "\n",
    "We have created another **object** representing `house2`. Let's assign the object to the variable name ```house2```.\n",
    "\n",
    "<img src=\"https://ithaka-labs.s3.amazonaws.com/static-files/images/tdm/tdmdocs/intermediate_python_4_house2.png\" width=\"650\" height =\"300\" />\n",
    "\n",
    "\n",
    "Some terminologies. The variables in an object are called **attributes**. The functions in an object are called **methods**.\n",
    "\n",
    "If you take a look at the two objects we have created to represent `house1` and `house2` respectively, you can easily see that they are quite similar. They have the same set of **attributes**, i.e. number of bedrooms, number of bathrooms, house price, number of square feet, and they have the same set of **methods**, i.e. a function that calculates and prints out the price per square foot. In other words, the two objects are written based on the same recipe. \n",
    "\n",
    "Now, if the objects are created based on the same recipe, it will be ideal if we can write out that recipe and then use it to produce the same kind of objects. In the house-buying scenario, for example, you will want as many objects as there are houses you are interested in! The question now becomes: how do we write that recipe? This is exactly where **classes** come in. "
   ]
  },
  {
   "cell_type": "markdown",
   "id": "a6bfe502",
   "metadata": {},
   "source": [
    "## What is a class?\n",
    "\n",
    "A **class** is an abstract blueprint from which we create individual instances of **objects**. \n",
    "\n",
    "|                |      |  \n",
    " |----------------|:-----| \n",
    " |**bedroom**        | | \n",
    " |**bathroom**     |    | \n",
    " |**price**        |    | \n",
    " |**sqft**     |    | \n",
    " |**price_per_sqft**|def price_per_sqft ( price, sqft ):<br>&emsp;$~~~$price_per_sqft = price / sqft<br>&emsp;$~~~$print ( \"This house costs \" + str(price_per_sqft) + \" per square foot.\" )|\n",
    " \n",
    " Notice that the values assigned to the four variables, i.e. bedroom, bathroom, price, sqft, are not specified in this class. This is because a **class** does not refer to any specific **object**. A **class** refers to a broad category of **objects**. Here in the house-buying scenario, our **class** refers to the category of houses. The **class** specifies what attributes the houses have and also what functions operate on these houses."
   ]
  },
  {
   "cell_type": "markdown",
   "id": "fc400e05",
   "metadata": {},
   "source": [
    "## A snippet of code example \n",
    "\n",
    "Now, let's write some codes to create our house **class**! "
   ]
  },
  {
   "cell_type": "code",
   "execution_count": 12,
   "id": "fe0ae60c",
   "metadata": {},
   "outputs": [],
   "source": [
    "# Create a class named 'House'\n",
    "class House:\n",
    "    def __init__(self, num_bedroom, num_bathroom, overall_price, num_sqft): ## constructor\n",
    "        self.bedroom = num_bedroom      ## instance variable\n",
    "        self.bathroom = num_bathroom    ## instance variable\n",
    "        self.price = overall_price      ## instance variable\n",
    "        self.sqft = num_sqft            ## instance variable\n",
    "    def price_per_sqft(self): ## method\n",
    "        price_per_sqft = self.price / self.sqft\n",
    "        print (\"This house costs \" + str(price_per_sqft) + \" dollars per square foot.\")"
   ]
  },
  {
   "cell_type": "code",
   "execution_count": 25,
   "id": "cb2fc188",
   "metadata": {},
   "outputs": [],
   "source": [
    "# Conventionally, the argument names and variables names are the same\n",
    "class House:\n",
    "    def __init__(self, bedroom, bathroom, price, sqft): ## constructor\n",
    "        self.bedroom = bedroom      ## instance variable\n",
    "        self.bathroom = bathroom    ## instance variable\n",
    "        self.price = price          ## instance variable\n",
    "        self.sqft = sqft            ## instance variable\n",
    "    def price_per_sqft(self): ## method\n",
    "        price_per_sqft = self.price / self.sqft\n",
    "        print (\"This house costs \" + str(price_per_sqft) + \" dollars per square foot.\")"
   ]
  },
  {
   "cell_type": "code",
   "execution_count": 26,
   "id": "bf37e870",
   "metadata": {},
   "outputs": [],
   "source": [
    "# Create an object house1\n",
    "house1 = House (3, 1.5, 660000, 1500) "
   ]
  },
  {
   "cell_type": "code",
   "execution_count": 27,
   "id": "cf4419bf",
   "metadata": {},
   "outputs": [
    {
     "data": {
      "text/plain": [
       "3"
      ]
     },
     "execution_count": 27,
     "metadata": {},
     "output_type": "execute_result"
    }
   ],
   "source": [
    "# Get the value of the attribute bedroom of house1\n",
    "house1.bedroom"
   ]
  },
  {
   "cell_type": "code",
   "execution_count": 28,
   "id": "9fdb94c2",
   "metadata": {},
   "outputs": [
    {
     "data": {
      "text/plain": [
       "1.5"
      ]
     },
     "execution_count": 28,
     "metadata": {},
     "output_type": "execute_result"
    }
   ],
   "source": [
    "# Get the value of the attribute bathroom of house1\n",
    "house1.bathroom"
   ]
  },
  {
   "cell_type": "code",
   "execution_count": 29,
   "id": "ece0c3ee",
   "metadata": {},
   "outputs": [
    {
     "data": {
      "text/plain": [
       "660000"
      ]
     },
     "execution_count": 29,
     "metadata": {},
     "output_type": "execute_result"
    }
   ],
   "source": [
    "# Get the value of the attribute price of house1\n",
    "house1.price"
   ]
  },
  {
   "cell_type": "code",
   "execution_count": 30,
   "id": "cc59b721",
   "metadata": {},
   "outputs": [
    {
     "data": {
      "text/plain": [
       "1500"
      ]
     },
     "execution_count": 30,
     "metadata": {},
     "output_type": "execute_result"
    }
   ],
   "source": [
    "# Get the value of the attribute sqft of house1\n",
    "house1.sqft"
   ]
  },
  {
   "cell_type": "code",
   "execution_count": 31,
   "id": "2b7a9e93",
   "metadata": {},
   "outputs": [
    {
     "name": "stdout",
     "output_type": "stream",
     "text": [
      "This house costs 440.0 dollars per square foot.\n"
     ]
    }
   ],
   "source": [
    "# Use the method price_per_sqft of house1\n",
    "house1.price_per_sqft()"
   ]
  },
  {
   "cell_type": "code",
   "execution_count": 34,
   "id": "a691128a",
   "metadata": {},
   "outputs": [],
   "source": [
    "# Create an object house2\n",
    "house2 = House(4, 2, 800000, 2000)"
   ]
  },
  {
   "cell_type": "code",
   "execution_count": 35,
   "id": "d9eeb8c5",
   "metadata": {},
   "outputs": [
    {
     "data": {
      "text/plain": [
       "4"
      ]
     },
     "execution_count": 35,
     "metadata": {},
     "output_type": "execute_result"
    }
   ],
   "source": [
    "# Get the value of the attribute bedroom of house2\n",
    "house2.bedroom"
   ]
  },
  {
   "cell_type": "code",
   "execution_count": 59,
   "id": "109d34f9",
   "metadata": {},
   "outputs": [],
   "source": [
    "# Add a new variable to an object and assign a value to it\n",
    "house1.lot_size = 500"
   ]
  },
  {
   "cell_type": "code",
   "execution_count": 60,
   "id": "38962871",
   "metadata": {},
   "outputs": [
    {
     "ename": "AttributeError",
     "evalue": "'House' object has no attribute 'lot_size'",
     "output_type": "error",
     "traceback": [
      "\u001b[0;31m---------------------------------------------------------------------------\u001b[0m",
      "\u001b[0;31mAttributeError\u001b[0m                            Traceback (most recent call last)",
      "Cell \u001b[0;32mIn [60], line 2\u001b[0m\n\u001b[1;32m      1\u001b[0m \u001b[38;5;66;03m# The newly added variable is specific to the object house1\u001b[39;00m\n\u001b[0;32m----> 2\u001b[0m house2\u001b[38;5;241m.\u001b[39mlot_size\n",
      "\u001b[0;31mAttributeError\u001b[0m: 'House' object has no attribute 'lot_size'"
     ]
    }
   ],
   "source": [
    "# The newly added variable is specific to the object house1\n",
    "house2.lot_size"
   ]
  },
  {
   "cell_type": "markdown",
   "id": "4abc3e67",
   "metadata": {},
   "source": [
    "### instance variables vs. class variables"
   ]
  },
  {
   "cell_type": "markdown",
   "id": "48fb99ae",
   "metadata": {},
   "source": [
    "An object we create using a class is an instance of that class. `House1` and `House2` are two instances of the class `House`. In the class `House`, we have defined several **instance variables** like `bedroom`, `bathroom`, `price` and `sqft`. The values assigned to these instance variables are different for each house because each house has its own number of bedrooms, bathroom, house price and number of square feet.    "
   ]
  },
  {
   "cell_type": "code",
   "execution_count": 32,
   "id": "fbb9dd5a",
   "metadata": {},
   "outputs": [],
   "source": [
    "# Take a look at the instance variables in the class House\n",
    "class House:\n",
    "    def __init__(self, bedroom, bathroom, price, sqft): ## constructor\n",
    "        self.bedroom = bedroom      ## instance variable\n",
    "        self.bathroom = bathroom    ## instance variable\n",
    "        self.price = price          ## instance variable\n",
    "        self.sqft = sqft            ## instance variable\n",
    "    def price_per_sqft(self): ## method\n",
    "        price_per_sqft = self.price / self.sqft\n",
    "        print (\"This house costs \" + str(price_per_sqft) + \" dollars per square foot.\")"
   ]
  },
  {
   "cell_type": "code",
   "execution_count": 36,
   "id": "a5d837fc",
   "metadata": {},
   "outputs": [
    {
     "data": {
      "text/plain": [
       "False"
      ]
     },
     "execution_count": 36,
     "metadata": {},
     "output_type": "execute_result"
    }
   ],
   "source": [
    "# the values assigned to instance variables vary with the objects\n",
    "house1.bathroom == house2.bathroom"
   ]
  },
  {
   "cell_type": "markdown",
   "id": "80a194b3",
   "metadata": {},
   "source": [
    "**Class variables** are the variables that are assigned the same values across all the instances of a class. Suppose the houses you are interested in all raise their prices by 5%. Now, you want to write a new method in the class `House` to calculate the new house prices. "
   ]
  },
  {
   "cell_type": "code",
   "execution_count": 51,
   "id": "1cece653",
   "metadata": {},
   "outputs": [],
   "source": [
    "# Write a new method in the class House to calculate new house prices\n",
    "class House:\n",
    "    perc_raise = 0.05   ## class variable\n",
    "    def __init__(self, bedroom, bathroom, price, sqft): ## constructor\n",
    "        self.bedroom = bedroom      ## instance variable\n",
    "        self.bathroom = bathroom    ## instance variable\n",
    "        self.price = price          ## instance variable\n",
    "        self.sqft = sqft            ## instance variable\n",
    "    def price_per_sqft(self): ## method\n",
    "        price_per_sqft = self.price / self.sqft\n",
    "        print (\"This house costs \" + str(price_per_sqft) + \" dollars per square foot.\")\n",
    "    def new_price (self):\n",
    "        new_price = self.price * (1 + House.perc_raise)\n",
    "        print (\"This house now costs \" + str(new_price) + \" dollars.\")"
   ]
  },
  {
   "cell_type": "code",
   "execution_count": 52,
   "id": "71e4a81e",
   "metadata": {},
   "outputs": [],
   "source": [
    "# Create an object house1 using this new class House\n",
    "house1 = House (3, 1.5, 660000, 1500)"
   ]
  },
  {
   "cell_type": "code",
   "execution_count": 53,
   "id": "332c6d50",
   "metadata": {},
   "outputs": [
    {
     "name": "stdout",
     "output_type": "stream",
     "text": [
      "This house now costs 693000.0 dollars.\n"
     ]
    }
   ],
   "source": [
    "# Get the new price of house1 after the raise\n",
    "house1.new_price()"
   ]
  },
  {
   "cell_type": "code",
   "execution_count": 56,
   "id": "b0b0d7da",
   "metadata": {},
   "outputs": [],
   "source": [
    "# Create an object house2\n",
    "house2 = House(4, 2, 800000, 2000)"
   ]
  },
  {
   "cell_type": "code",
   "execution_count": 61,
   "id": "612bac8b",
   "metadata": {},
   "outputs": [
    {
     "name": "stdout",
     "output_type": "stream",
     "text": [
      "0.05\n",
      "0.05\n"
     ]
    }
   ],
   "source": [
    "# Access the class variable using an instance\n",
    "print(house1.perc_raise)\n",
    "print(house2.perc_raise)"
   ]
  },
  {
   "cell_type": "code",
   "execution_count": 62,
   "id": "a84897db",
   "metadata": {},
   "outputs": [
    {
     "name": "stdout",
     "output_type": "stream",
     "text": [
      "0.05\n"
     ]
    }
   ],
   "source": [
    "# Access the class variable using the class\n",
    "print(House.perc_raise)"
   ]
  },
  {
   "cell_type": "code",
   "execution_count": 63,
   "id": "d5217ff6",
   "metadata": {},
   "outputs": [],
   "source": [
    "# When accessing the value of a variable using an object, it first searches the name space of the object\n",
    "# If no such variable name there, then it searches the name space of the class\n",
    "house1.perc_raise = 0.08"
   ]
  },
  {
   "cell_type": "code",
   "execution_count": 64,
   "id": "2610d77c",
   "metadata": {},
   "outputs": [
    {
     "data": {
      "text/plain": [
       "0.08"
      ]
     },
     "execution_count": 64,
     "metadata": {},
     "output_type": "execute_result"
    }
   ],
   "source": [
    "# Check the value of perc_raise for house1\n",
    "house1.perc_raise"
   ]
  },
  {
   "cell_type": "code",
   "execution_count": 65,
   "id": "c3c7bceb",
   "metadata": {},
   "outputs": [
    {
     "data": {
      "text/plain": [
       "0.05"
      ]
     },
     "execution_count": 65,
     "metadata": {},
     "output_type": "execute_result"
    }
   ],
   "source": [
    "# Check the value of perc_raise for house2\n",
    "house2.perc_raise"
   ]
  },
  {
   "cell_type": "code",
   "execution_count": 66,
   "id": "5b92a2f3",
   "metadata": {},
   "outputs": [
    {
     "data": {
      "text/plain": [
       "0.05"
      ]
     },
     "execution_count": 66,
     "metadata": {},
     "output_type": "execute_result"
    }
   ],
   "source": [
    "# Check the value of perc_raise for the class House\n",
    "House.perc_raise"
   ]
  },
  {
   "cell_type": "markdown",
   "id": "7c4bac30",
   "metadata": {},
   "source": [
    "<h3 style=\"color:red; display:inline\">Coding Challenge! &lt; / &gt; </h3>\n",
    "\n",
    "Create a class called `Employee`. In this class, create the instance variables `first_name`, `last_name`, `salary` and `email`. Also, create a method that prints out the full name of instances of this class. Then, create two instances of this class. "
   ]
  },
  {
   "cell_type": "code",
   "execution_count": null,
   "id": "21e55285",
   "metadata": {},
   "outputs": [],
   "source": []
  },
  {
   "cell_type": "markdown",
   "id": "78c4fef1",
   "metadata": {},
   "source": [
    "The company has just announced the pay raise. Everyone will get a pay raise of 5%. Add a class variable `pay_raise` to `Employee`. For the two instances you created just now, calculate their new salary.  "
   ]
  },
  {
   "cell_type": "code",
   "execution_count": null,
   "id": "e2e187a2",
   "metadata": {},
   "outputs": [],
   "source": []
  },
  {
   "cell_type": "markdown",
   "id": "27c7adf1",
   "metadata": {},
   "source": [
    "# Using OOP in text analysis\n",
    "We have answered the question of how to write classes and objects in Python. Now we need to answer the question of why. Why do we need OOP? What is the benefit of using OOP? In the following, you will find the answer to these questions by going through a mock project of text analysis.  "
   ]
  },
  {
   "cell_type": "markdown",
   "id": "a6df4f46",
   "metadata": {},
   "source": [
    "It is often the case that we want to reuse some of the functions we write to process data files from one analysis in another analysis. For example, you may create a function which cleans the text (returns lowercase text, free from stopwords) in the preprocessing stage in a text analysis project. A few months later when you work on another project, you want to preprocess text in the same way as your previous project. In this case, you want to reuse the clean text method to clean the text in the same way as before.\n",
    "\n",
    "What makes OOP particularly attractive is the reusability of functions and objects which you can reuse in different analysis. "
   ]
  },
  {
   "cell_type": "markdown",
   "id": "6158dff2",
   "metadata": {},
   "source": [
    "# References\n",
    "\n",
    "to be added\n"
   ]
  },
  {
   "cell_type": "code",
   "execution_count": null,
   "id": "56725c6b",
   "metadata": {},
   "outputs": [],
   "source": [
    "    "
   ]
  }
 ],
 "metadata": {
  "celltoolbar": "Raw Cell Format",
  "kernelspec": {
   "display_name": "Python 3 (ipykernel)",
   "language": "python",
   "name": "python3"
  },
  "language_info": {
   "codemirror_mode": {
    "name": "ipython",
    "version": 3
   },
   "file_extension": ".py",
   "mimetype": "text/x-python",
   "name": "python",
   "nbconvert_exporter": "python",
   "pygments_lexer": "ipython3",
   "version": "3.10.7"
  },
  "toc": {
   "base_numbering": 1,
   "nav_menu": {},
   "number_sections": true,
   "sideBar": true,
   "skip_h1_title": false,
   "title_cell": "Table of Contents",
   "title_sidebar": "Contents",
   "toc_cell": false,
   "toc_position": {},
   "toc_section_display": true,
   "toc_window_display": false
  }
 },
 "nbformat": 4,
 "nbformat_minor": 5
}
