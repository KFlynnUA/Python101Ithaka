{
 "cells": [
  {
   "cell_type": "markdown",
   "id": "8bab4952",
   "metadata": {},
   "source": [
    "# Python Intermediate 4\n",
    "\n",
    "**Description:** \n",
    "This notebook defines:\n",
    "* Object-oriented programming (OOP), classes, objects\n",
    "* Attributes, methods and constructors\n",
    "* The difference between functional programming and OOP\n",
    "* Why OOP is useful\n",
    "\n",
    "This notebook teaches\n",
    "* How to write a class\n",
    "* How to create objects using a class \n",
    "* How to inherit attributes and methods from a parent class to a child class\n",
    "\n",
    "**Use Case:** For learners (detailed explanation)\n",
    "\n",
    "**Difficulty:** Intermediate\n",
    "\n",
    "**Completion Time:** 90 minutes\n",
    "\n",
    "**Knowledge Required:**\n",
    "\n",
    "* Python Basics Series ([Start Python Basics 1](./python-basics-1.ipynb))\n",
    "    \n",
    "**Knowledge Recommended:** None\n",
    "\n",
    "**Data Format:** None\n",
    "\n",
    "**Libraries Used:**\n",
    "* NLTK\n",
    "\n",
    "**Research Pipeline:** None\n"
   ]
  },
  {
   "cell_type": "code",
   "execution_count": null,
   "id": "3241a7b2",
   "metadata": {},
   "outputs": [],
   "source": [
    "### Import Modules and Libraries ###\n",
    "\n",
    "# Import a tokenizer\n",
    "# import nltk\n",
    "# from nltk.tokenize import TreebankWordTokenizer\n",
    "\n",
    "# Load the NLTK stopwords list\n",
    "# from nltk.corpus import stopwords\n",
    "# stop_words = stopwords.words('english')\n",
    "\n",
    "# Import the Porter stemmer\n",
    "# from nltk import PorterStemmer\n",
    "\n",
    "# Import FreqDist from NLTK to count words\n",
    "# from nltk import FreqDist\n",
    "\n",
    "# Import pprint\n",
    "# from pprint import pprint"
   ]
  },
  {
   "cell_type": "markdown",
   "id": "2b6c8706",
   "metadata": {},
   "source": [
    "## Classes and objects\n",
    "\n",
    "Object-oriented programming (OOP) is a programming paradigm that relies on the concept of **classes** and **objects**. To understand OOP, we will need to understand **classes** and **objects**.\n",
    "\n",
    "To make the concepts of **classes** and **objects** more concrete, let's use a simple example. \n"
   ]
  },
  {
   "cell_type": "markdown",
   "id": "aed0d3f7",
   "metadata": {},
   "source": [
    "Suppose you are looking to buy a house. You keep a record of potential houses in order to compare them.\n",
    "\n",
    " |                |      |  \n",
    " |----------------|:-----| \n",
    " |**bedroom**     |3    | \n",
    " |**bathroom**        |1.5    | \n",
    " |**price**        | 660000 | \n",
    " |**sqft**     |1500    | \n",
    " |**price_per_sqft**|def price_per_sqft (600000, 1500):<br>&emsp;$~~~$price_per_sqft = 600000 / 1500<br>&emsp;$~~~$print ( \"This house costs \" + str(price_per_sqft) + \" dollars per square foot.\")|\n",
    "    \n",
    " |                |      |  \n",
    " |----------------|:-----| \n",
    " |**bedroom**     |4    | \n",
    " |**bathroom**        |2    | \n",
    "  |**price**        | 800000| \n",
    " |**sqft**     |2000    | \n",
    " |**price_per_sqft**|def price_per_sqft (800000, 2000):<br>&emsp;$~~~$price_per_sqft = 800000 / 2000<br>&emsp;$~~~$print ( \"This house costs \" + str(price_per_sqft) + \" dollars per square foot.\" )|"
   ]
  },
  {
   "cell_type": "markdown",
   "id": "3f57c64a",
   "metadata": {},
   "source": [
    "For each house, you create a record. The record contains two kinds of information:\n",
    "\n",
    "* **attributes**- the properties of the house such as number of bedrooms, prices, and square footage\n",
    "* **functions**- that analyze the houses properties and return new values, such as `price_per_sqft`\n",
    "\n",
    "Python has a better way to organize such a collection of information: **objects**. "
   ]
  },
  {
   "cell_type": "markdown",
   "id": "1ba05ee6",
   "metadata": {},
   "source": [
    "## What is an object?\n",
    "\n",
    "An **object** is basically a collection of attributes and functions. With such a collection of information, an **object** can be used to represent anything, e.g. a person, a dog, a school, etc. \n",
    "\n",
    "Coming back to our example, we are using the **object** below to represent `house1`. Of course, depending on what attributes and functions you want to include, you may represent `house1` with a different set of information stored in the **object**. In our scenario, we choose to use the number of bedrooms, the number of bathrooms, the price of the house and a function that calculates and prints out the price per square foot to represent `house1`. Let's assign this object to the variable name ```house1```.\n",
    "\n",
    "<img src=\"https://ithaka-labs.s3.amazonaws.com/static-files/images/tdm/tdmdocs/intermediate_python_4_house1.png\" width=\"650\" height=\"300\" />\n",
    "\n",
    "We have created another **object** representing `house2`. Let's assign the object to the variable name ```house2```.\n",
    "\n",
    "<img src=\"https://ithaka-labs.s3.amazonaws.com/static-files/images/tdm/tdmdocs/intermediate_python_4_house2.png\" width=\"650\" height =\"300\" />\n",
    "\n",
    "The two objects we have created to represent `house1` and `house2` are similar. They have the same set of **attributes**, e.g. number of bedrooms, number of bathrooms, house price, number of square feet, and they have the same set of **methods**, e.g. a function that calculates and prints out the price per square foot. The objects are like two variants of a similar recipe.\n",
    "\n",
    "Now, if the objects are created based on the same recipe, it will be ideal if we can write out that recipe and then use it to produce the same kind of objects. In the house-buying scenario, for example, you will want as many objects as there are houses you are interested in! The question now becomes: how do we write that recipe? This is exactly where **classes** come in. "
   ]
  },
  {
   "cell_type": "markdown",
   "id": "a6bfe502",
   "metadata": {},
   "source": [
    "## What is a class?\n",
    "\n",
    "A **class** is an abstract blueprint from which we create individual instances of **objects**. \n",
    "\n",
    "|                |      |  \n",
    " |----------------|:-----| \n",
    " |**bedroom**        | | \n",
    " |**bathroom**     |    | \n",
    " |**price**        |    | \n",
    " |**sqft**     |    | \n",
    " |**price_per_sqft**|def price_per_sqft ( price, sqft ):<br>&emsp;$~~~$price_per_sqft = price / sqft<br>&emsp;$~~~$print ( \"This house costs \" + str(price_per_sqft) + \" per square foot.\" )|\n",
    " \n",
    " Notice that the values assigned to the four variables, i.e. bedroom, bathroom, price, sqft, are not specified in this class. This is because a **class** does not refer to any specific **object**. A **class** refers to a broad category of **objects**. Here in the house-buying scenario, our **class** refers to the category of houses. The **class** specifies what attributes the houses have and also what functions operate on these houses."
   ]
  },
  {
   "cell_type": "markdown",
   "id": "fc400e05",
   "metadata": {},
   "source": [
    "## Creating a Class in Python\n",
    "\n",
    "Now, let's write some codes to create our house **class**! "
   ]
  },
  {
   "cell_type": "code",
   "execution_count": null,
   "id": "fe0ae60c",
   "metadata": {},
   "outputs": [],
   "source": [
    "# Create a class named 'House'\n",
    "class House:\n",
    "    \"\"\"A simple class that models a house\"\"\"\n",
    "    \n",
    "    def __init__(self, num_bedroom, num_bathroom, overall_price, num_sqft): # constructor\n",
    "        \"\"\"Initialize any new instances of class House with the following attributes\"\"\"\n",
    "        self.bedroom = num_bedroom      ## class attribute\n",
    "        self.bathroom = num_bathroom    ## class attribute\n",
    "        self.price = overall_price      ## class attribute\n",
    "        self.sqft = num_sqft            ## class attribute\n",
    "    \n",
    "    def price_per_sqft(self): ## Method\n",
    "        \"\"\"Calculates the price per square foot based on price and square footage\"\"\"\n",
    "        price_per_sqft = self.price / self.sqft\n",
    "        return price_per_sqft"
   ]
  },
  {
   "cell_type": "markdown",
   "id": "c637d06b",
   "metadata": {},
   "source": [
    "By convention, a class name in Python starts with a capital letter and follows **CamelCase**. (Each word uses a capital letter unlike variable names that use lowercasing with **snake_case**.) We will use: `House`. Like a function definition, it is a good practice to include a docstring that describes the class. These docstrings are returned when using the `help()` function.\n",
    "\n",
    "Next, we define a special function called `__init__` that defines the attributes for the `House` class. (Make sure to always use two underscores before and after.) The `__init__` function *initializes* the class and has the special name of *constructor*. It determines what attributes will be initialized when an instance of the class `House` is created. The first parameter for `__init__` must be `self`. Then we can define any number of additional parameters.\n",
    "\n",
    "In our `__init__` function, we then set a number of variables with prefixed with `self.`. This makes them available for each instance in our class. Here we have:\n",
    "\n",
    "```\n",
    "self.bedroom = num_bedroom     \n",
    "self.bathroom = num_bathroom    \n",
    "self.price = overall_price      \n",
    "self.sqft = num_sqft\n",
    "```\n",
    "\n",
    "Each argument passed is transformed into an attribute of a given instance by use of these assignment statements. \n",
    "\n",
    "Finally, we define an additional function: `price_per_sqft`. Again, for any function in the class definition, we include the parameter: `self`. This function will become a method we can call with dot notation on a particular instance of the class `House`. Note that the `price_per_sqft` definition uses `self.price` and `self.sqft`, not the parameters `overall_price` and `num_sqft`. Our function concludes by returning the `price_per_sqft`."
   ]
  },
  {
   "cell_type": "code",
   "execution_count": null,
   "id": "cb2fc188",
   "metadata": {},
   "outputs": [],
   "source": [
    "# Conventionally, the argument names and variables names are the same\n",
    "class House:\n",
    "    \"\"\"A simple class that models a house\"\"\"\n",
    "    \n",
    "    def __init__(self, bedroom, bathroom, price, sqft): ## constructor\n",
    "        \"\"\"Initialize any new instances of class House with the following attributes\"\"\"\n",
    "        self.bedroom = bedroom      ## Class attribute\n",
    "        self.bathroom = bathroom    ## Class attribute\n",
    "        self.price = price          ## Class attribute\n",
    "        self.sqft = sqft            ## Class attribute\n",
    "    \n",
    "    def price_per_sqft(self): ## Method\n",
    "        \"\"\"Calculates the price per square foot based on price and square footage\"\"\"\n",
    "        price_per_sqft = self.price / self.sqft\n",
    "        return price_per_sqft"
   ]
  },
  {
   "cell_type": "markdown",
   "id": "7e626beb",
   "metadata": {},
   "source": [
    "We create a particular **instance** of the `House` class by using an assignment statement. We call the `House` class like a function and pass in the corresponding required arguments that match the parameters in the `House` definition. Note: The `self` parameter is ignored. The first argument passed will be `bedroom`, then `bathroom`, etc."
   ]
  },
  {
   "cell_type": "code",
   "execution_count": null,
   "id": "bf37e870",
   "metadata": {},
   "outputs": [],
   "source": [
    "# Create an object house1\n",
    "# Each argument corresponds to an attribute: \n",
    "# bedroom, bathroom, price, sqft\n",
    "\n",
    "house1 = House(3, 1.5, 660000, 1500) "
   ]
  },
  {
   "cell_type": "markdown",
   "id": "81e132fb",
   "metadata": {},
   "source": [
    "We can access the attributes of `house1` using dot notation. Since these are attributes (kind of like object properties), they do not require parentheses `()` at the end."
   ]
  },
  {
   "cell_type": "code",
   "execution_count": null,
   "id": "cf4419bf",
   "metadata": {},
   "outputs": [],
   "source": [
    "# Get the value of the attribute bedroom of house1\n",
    "house1.bedroom"
   ]
  },
  {
   "cell_type": "code",
   "execution_count": null,
   "id": "9fdb94c2",
   "metadata": {},
   "outputs": [],
   "source": [
    "# Get the value of the attribute bathroom of house1\n",
    "house1.bathroom"
   ]
  },
  {
   "cell_type": "code",
   "execution_count": null,
   "id": "ece0c3ee",
   "metadata": {},
   "outputs": [],
   "source": [
    "# Get the value of the attribute price of house1\n",
    "house1.price"
   ]
  },
  {
   "cell_type": "code",
   "execution_count": null,
   "id": "cc59b721",
   "metadata": {},
   "outputs": [],
   "source": [
    "# Get the value of the attribute sqft of house1\n",
    "house1.sqft"
   ]
  },
  {
   "cell_type": "markdown",
   "id": "e5d23afd",
   "metadata": {},
   "source": [
    "We can also access the `.price_per_sqft()` method using dot notation. A method is a function and can require parameters, so it always includes parentheses (even if no argument is passed)."
   ]
  },
  {
   "cell_type": "code",
   "execution_count": null,
   "id": "2b7a9e93",
   "metadata": {},
   "outputs": [],
   "source": [
    "# Use the method price_per_sqft of house1\n",
    "house1.price_per_sqft()"
   ]
  },
  {
   "cell_type": "code",
   "execution_count": null,
   "id": "a691128a",
   "metadata": {},
   "outputs": [],
   "source": [
    "# Create an object house2\n",
    "house2 = House(4, 2, 800000, 2000)"
   ]
  },
  {
   "cell_type": "code",
   "execution_count": null,
   "id": "d9eeb8c5",
   "metadata": {
    "scrolled": true
   },
   "outputs": [],
   "source": [
    "# Get the value of the attribute bedroom of house2\n",
    "house2.bedroom"
   ]
  },
  {
   "cell_type": "markdown",
   "id": "8096687a",
   "metadata": {},
   "source": [
    "## Modifying an Attribute\n",
    "\n",
    "There are three common ways to modify the attribute of a given instance:\n",
    "\n",
    "1. Modify the attribute value directly\n",
    "2. Modify the attribute through a method\n",
    "3. Increment an attribute through a method\n",
    "\n",
    "### Modifying an instance attribute value directly"
   ]
  },
  {
   "cell_type": "code",
   "execution_count": null,
   "id": "43699894",
   "metadata": {},
   "outputs": [],
   "source": [
    "# Modify an instance attribute by assigning a new value\n",
    "house1.price = 700000\n",
    "house1.price"
   ]
  },
  {
   "cell_type": "markdown",
   "id": "9d36e74d",
   "metadata": {},
   "source": [
    "We can also add a new attribute to an existing instance, even if the attribute was not defined in the class's constructor (the `__init__` definition)."
   ]
  },
  {
   "cell_type": "code",
   "execution_count": null,
   "id": "109d34f9",
   "metadata": {},
   "outputs": [],
   "source": [
    "# Create an instance attribute and assign a value to it\n",
    "house1.lot_size = 500\n",
    "house1.lot_size"
   ]
  },
  {
   "cell_type": "markdown",
   "id": "49cc84b7",
   "metadata": {},
   "source": [
    "But it will only be available for that instance and not any other instances of the class."
   ]
  },
  {
   "cell_type": "code",
   "execution_count": null,
   "id": "38962871",
   "metadata": {
    "scrolled": true
   },
   "outputs": [],
   "source": [
    "# The instance attribute is specific to the object house1\n",
    "# house2 was not initialized with a `lot_size` attribute\n",
    "house2.lot_size"
   ]
  },
  {
   "cell_type": "markdown",
   "id": "dee48f2e",
   "metadata": {},
   "source": [
    "### Creating a method to assign a new value to the instance attribute\n",
    "Another strategy is to define a method to assign a new value to an instance attribute."
   ]
  },
  {
   "cell_type": "code",
   "execution_count": null,
   "id": "92f94fdc",
   "metadata": {},
   "outputs": [],
   "source": [
    "# Write a new method in the class House to calculate new house prices\n",
    "class House:\n",
    "    \"\"\"A simple class that models a house\"\"\"\n",
    "    \n",
    "    def __init__(self, bedroom, bathroom, price, sqft):\n",
    "        \"\"\"Initialize any new instances of class House with the following attributes\"\"\"\n",
    "        self.bedroom = bedroom      # instance attribute\n",
    "        self.bathroom = bathroom    # instance attribute\n",
    "        self.price = price          # instance attribute\n",
    "        self.sqft = sqft            # instance attribute\n",
    "    \n",
    "    def price_per_sqft(self): # method\n",
    "        \"\"\"Calculates the price per square foot based on price and square footage\"\"\"\n",
    "        price_per_sqft = self.price / self.sqft\n",
    "        return price_per_sqft\n",
    "   \n",
    "    def update_price(self, new_price): # method\n",
    "        \"\"\"Takes a new price and sets it for the price attribute\"\"\"\n",
    "        self.price = new_price\n",
    "        print(f\"The price is now ${self.price}\")"
   ]
  },
  {
   "cell_type": "code",
   "execution_count": null,
   "id": "94db4e91",
   "metadata": {},
   "outputs": [],
   "source": [
    "# Create a new house1 based on the new House class\n",
    "house1 = House(3, 3, 700_000, 5)\n",
    "house1.price"
   ]
  },
  {
   "cell_type": "code",
   "execution_count": null,
   "id": "4bafccfa",
   "metadata": {
    "scrolled": true
   },
   "outputs": [],
   "source": [
    "# Update the price of the house using `update_price()` method\n",
    "house1.update_price(685_000)"
   ]
  },
  {
   "cell_type": "markdown",
   "id": "7c32226c",
   "metadata": {},
   "source": [
    "### Modify an instance attribute based on the old value\n",
    "\n",
    "We could also increment/decrement an instance attribute with a method. For example, if a house is not selling, we might drop the price slightly to see if more buyers are attracted."
   ]
  },
  {
   "cell_type": "code",
   "execution_count": null,
   "id": "e167e48b",
   "metadata": {},
   "outputs": [],
   "source": [
    "# Write a new method in the class House to calculate new house prices\n",
    "class House:\n",
    "    \"\"\"A simple class that models a house\"\"\"\n",
    "    \n",
    "    def __init__(self, bedroom, bathroom, price, sqft):\n",
    "        \"\"\"Initialize any new instances of class House with the following attributes\"\"\"\n",
    "        self.bedroom = bedroom      # instance attribute\n",
    "        self.bathroom = bathroom    # instance attribute\n",
    "        self.price = price          # instance attribute\n",
    "        self.sqft = sqft            # instance attribute\n",
    "    \n",
    "    def price_per_sqft(self): # method\n",
    "        \"\"\"Calculates the price per square foot based on price and square footage\"\"\"\n",
    "        price_per_sqft = self.price / self.sqft\n",
    "        return price_per_sqft\n",
    "    \n",
    "    def drop_price(self, drop_price): # method\n",
    "        \"\"\"Takes a discount and applies it to the price attribute\"\"\"\n",
    "        self.price = self.price - drop_price \n",
    "        print(f\"The price is now ${self.price}\")"
   ]
  },
  {
   "cell_type": "code",
   "execution_count": null,
   "id": "c6935f69",
   "metadata": {},
   "outputs": [],
   "source": [
    "# Create a new house1 based on the new House class\n",
    "house1 = House(3, 3, 700_000, 5)\n",
    "house1.price"
   ]
  },
  {
   "cell_type": "code",
   "execution_count": null,
   "id": "67f9bfdc",
   "metadata": {},
   "outputs": [],
   "source": [
    "# Increment the house price up\n",
    "house1.drop_price(5000)"
   ]
  },
  {
   "cell_type": "markdown",
   "id": "7c4bac30",
   "metadata": {},
   "source": [
    "<h3 style=\"color:red; display:inline\">Coding Challenge! &lt; / &gt; </h3>\n",
    "\n",
    "Create a class called `Employee`. In this class, create the instance variables `first_name`, `last_name`, `salary` and `email`. Also, create a method that prints out the full name of instances of this class. Then, create two instances of this class. "
   ]
  },
  {
   "cell_type": "code",
   "execution_count": null,
   "id": "21e55285",
   "metadata": {},
   "outputs": [],
   "source": [
    "# Create a new class called Employee\n"
   ]
  },
  {
   "cell_type": "code",
   "execution_count": null,
   "id": "27628255",
   "metadata": {},
   "outputs": [],
   "source": [
    "# Create two instances of the class Employee\n"
   ]
  },
  {
   "cell_type": "markdown",
   "id": "78c4fef1",
   "metadata": {},
   "source": [
    "The company has just announced a pay raise. Everyone will get a pay raise of 5%. Add a class variable `pay_raise` to `Employee`. For the two instances you created just now, create a new method that will calculate their pay raises."
   ]
  },
  {
   "cell_type": "code",
   "execution_count": null,
   "id": "30b0d41f",
   "metadata": {},
   "outputs": [],
   "source": [
    "# Create a new method for the class Employee\n",
    "# The method will calculate a 5% raise for each employee\n"
   ]
  },
  {
   "cell_type": "markdown",
   "id": "be6ee008",
   "metadata": {},
   "source": [
    "## A perspective shift from functional programming to OOP\n",
    "\n",
    "In a class, we have some data and some functions that operate on those data. So, why don't we just store the data in some format and write functions separately?"
   ]
  },
  {
   "cell_type": "code",
   "execution_count": null,
   "id": "f585a514",
   "metadata": {},
   "outputs": [],
   "source": [
    "# Define a string s\n",
    "s = 'John'"
   ]
  },
  {
   "cell_type": "code",
   "execution_count": null,
   "id": "7bae501a",
   "metadata": {},
   "outputs": [],
   "source": [
    "# Create a function that checks the first letter in a string\n",
    "def startswith(s, letter): # A function that checks whether a string starts with a certain letter\n",
    "    \"\"\"Takes a string and a letter and outputs True/False\n",
    "    depending on whether the string starts with the letter.\"\"\"\n",
    "    if s[0] == l:\n",
    "        return True\n",
    "    return False"
   ]
  },
  {
   "cell_type": "code",
   "execution_count": null,
   "id": "1c9f625b",
   "metadata": {},
   "outputs": [],
   "source": [
    "# Use the function startswith to check whether 'John' starts with letter 'J'\n",
    "startswith('John', 'J')"
   ]
  },
  {
   "cell_type": "code",
   "execution_count": null,
   "id": "5be6a9de",
   "metadata": {},
   "outputs": [],
   "source": [
    "def endswith (s, l): # A function that checks whether a string ends with a certain letter\n",
    "    \"\"\"Takes a string and a letter and outputs True/False\n",
    "    depending on whether the string ends with the letter.\n",
    "    if s[-1] == l:\n",
    "        return True\n",
    "    return False"
   ]
  },
  {
   "cell_type": "code",
   "execution_count": null,
   "id": "92564f01",
   "metadata": {},
   "outputs": [],
   "source": [
    "# Use the function endswith to check whether 'John' ends with letter 'J'\n",
    "endswith('John', 'J')"
   ]
  },
  {
   "cell_type": "markdown",
   "id": "da02e86e",
   "metadata": {},
   "source": [
    "From the perspective of functional programming, we are putting the functions at the center stage. Here we put the functions `startswith` and `endswith` at the center stage in particular. The strings, e.g. `s1` and `s2`, are the input to the functions. "
   ]
  },
  {
   "cell_type": "markdown",
   "id": "c9e65d9c",
   "metadata": {},
   "source": [
    "<img src=\"https://ithaka-labs.s3.amazonaws.com/static-files/images/tdm/tdmdocs/intermediate_python_4_FP.png\" width=\"400\" height=\"150\" />"
   ]
  },
  {
   "cell_type": "markdown",
   "id": "1c4b6cb9",
   "metadata": {},
   "source": [
    "Since these two operations are so common with strings, it would be great if we have them always ready to use when we have a string. So, let's shift our perspective and put the strings at the center stage. Here, `s1` and `s2` are not passively waiting to be taken by functions as input. Instead, they are active `objects`. The functions that we wrote before, `startswith` and `endswith`, are now the tools that `s1` and `s2` can use. This is the perspective of OOP. "
   ]
  },
  {
   "cell_type": "markdown",
   "id": "58785d3b",
   "metadata": {},
   "source": [
    "<img src=\"https://ithaka-labs.s3.amazonaws.com/static-files/images/tdm/tdmdocs/intermediate_python_4_OOP.png\" width=\"400\" height=\"150\" />\n"
   ]
  },
  {
   "cell_type": "code",
   "execution_count": null,
   "id": "e8bdb6d3",
   "metadata": {},
   "outputs": [],
   "source": [
    "# Treating 'John' as an object and using the `.startswith()` method\n",
    "'John'.startswith('J')"
   ]
  },
  {
   "cell_type": "code",
   "execution_count": null,
   "id": "e818e7bc",
   "metadata": {},
   "outputs": [],
   "source": [
    "# Treating 'John' as an object and using the `.endswith()` method\n",
    "'John'.endswith('J')"
   ]
  },
  {
   "cell_type": "markdown",
   "id": "27c7adf1",
   "metadata": {},
   "source": [
    "## Inheritance"
   ]
  },
  {
   "cell_type": "markdown",
   "id": "006aa644",
   "metadata": {},
   "source": [
    "We have seen how OOP can help quickly create instances of objects. Another significant benefit of OOP is the opportunity to use **inheritance**. \n",
    "\n",
    "Suppose in the process of house hunting, you find houses in suburbs and houses in the city both have advantages and disadvantages. Now, you are interested in the commute expenses you have to pay if you choose a house in the suburbs or a house in the city. You want to add this information to your house data and at the same time maintain the attributes and methods you have written in the `House` class. How can you do it? This is where **inheritance** comes in. \n",
    "\n",
    "**Inheritance** in OOP allows us to inherit attributes and methods from a **parent class** to **child classes**. What makes OOP particularly attractive is exactly this reusability! **Inheritance** helps us avoid repeating ourselves when writing code. "
   ]
  },
  {
   "cell_type": "code",
   "execution_count": null,
   "id": "373cbb4d",
   "metadata": {},
   "outputs": [],
   "source": [
    "class SuburbanHouse(House):\n",
    "    \"\"\"A child class that inherits from House for modeling suburban houses\"\"\"\n",
    "    \n",
    "    def __init__(self, bedroom, bathroom, price, sqft, distance): # constructor\n",
    "        \"\"\"Initialize all the attributes for a suburban house\"\"\"\n",
    "        super().__init__(bedroom, bathroom, price, sqft) # let the parent class take care of the existing attributes\n",
    "        self.distance = distance # add the new instance attribute\n",
    "    \n",
    "    def gas_expenses (self): # add the new method\n",
    "        \"\"\"Take the distance and calculate a monthly fuel expense\"\"\"\n",
    "        expense = 0.5 * self.distance * 2 * 30 # assume $0.5/mile for the gas\n",
    "        return expense"
   ]
  },
  {
   "cell_type": "markdown",
   "id": "4617bab7",
   "metadata": {},
   "source": [
    "When we define the `SuburbanHouse` class, we add the `House` class as a parameter:\n",
    "```\n",
    "class SuburbanHouse(House):\n",
    "```\n",
    "This tells Python to inherit all the attributes and methods from the `House` class. In our `SuburbanHouse` constructor, we include the class attributes from the `House` class along with a new `distance` attribute that will be unique to the `SuburbanHouse` class.\n",
    "\n",
    "The `super().__init__()` constructor informs Python of the attributes to pull from the `House` class. Then we are free to define additional child class attributes, in this case `self.distance`.\n",
    "\n",
    "Finally, we also add a `.gas_expenses()` method that will only be available to `SuburbanHouse` objects but not regular `House` objects."
   ]
  },
  {
   "cell_type": "code",
   "execution_count": null,
   "id": "e748d245",
   "metadata": {},
   "outputs": [],
   "source": [
    "# Create an object of the new class SuburbanHouse\n",
    "house3 = SuburbanHouse(4, 3.5, 900000, 2500, 20) "
   ]
  },
  {
   "cell_type": "code",
   "execution_count": null,
   "id": "4378e026",
   "metadata": {},
   "outputs": [],
   "source": [
    "# Use the attributes of the parent class\n",
    "house3.bedroom"
   ]
  },
  {
   "cell_type": "code",
   "execution_count": null,
   "id": "0ec3f7ea",
   "metadata": {},
   "outputs": [],
   "source": [
    "# Use the methods of the parent class\n",
    "house3.price_per_sqft()"
   ]
  },
  {
   "cell_type": "code",
   "execution_count": null,
   "id": "ee8169d4",
   "metadata": {},
   "outputs": [],
   "source": [
    "# Use the new instance attribute\n",
    "house3.distance"
   ]
  },
  {
   "cell_type": "code",
   "execution_count": null,
   "id": "e9e25c80",
   "metadata": {
    "scrolled": true
   },
   "outputs": [],
   "source": [
    "# Use the new instance method\n",
    "house3.gas_expenses()"
   ]
  },
  {
   "cell_type": "markdown",
   "id": "993569e7",
   "metadata": {},
   "source": [
    "Now imagine we are also considering a house in the city. We could use a train to commute instead. It would help to calculate whether the commute will be cheaper. We will create a new child class: `CityHouse` which has the method `train_expenses()`."
   ]
  },
  {
   "cell_type": "code",
   "execution_count": null,
   "id": "43da9d73",
   "metadata": {},
   "outputs": [],
   "source": [
    "class CityHouse(House):\n",
    "    \"\"\"A child class that inherits from House for modeling city houses\"\"\"\n",
    "    \n",
    "    def __init__(self, bedroom, bathroom, price, sqft, train_stops): ## constructor\n",
    "        \"\"\"Initialize all the attributes for a city house\"\"\"\n",
    "        super().__init__(bedroom, bathroom, price, sqft) # let the parent class take care of the existing attributes\n",
    "        self.train_stops = train_stops # add the new instance attribute\n",
    "    \n",
    "    def train_expenses (self):\n",
    "        \"\"\"Take the number of stops to job and calculate a monthly commute cost\"\"\"\n",
    "        expense = 1.5 * self.train_stops * 2 * 30 # assume $1.50/stop for the train\n",
    "        return expense"
   ]
  },
  {
   "cell_type": "code",
   "execution_count": null,
   "id": "862860a4",
   "metadata": {},
   "outputs": [],
   "source": [
    "# Create an object of the new class City_house\n",
    "house4 = CityHouse(3, 2, 1000000, 1200, 10)"
   ]
  },
  {
   "cell_type": "code",
   "execution_count": null,
   "id": "59346fcc",
   "metadata": {},
   "outputs": [],
   "source": [
    "# Use the attributes of the parent class\n",
    "house4.sqft"
   ]
  },
  {
   "cell_type": "code",
   "execution_count": null,
   "id": "8b1e56b0",
   "metadata": {},
   "outputs": [],
   "source": [
    "# Use the methods of the parent class\n",
    "house4.price_per_sqft()"
   ]
  },
  {
   "cell_type": "code",
   "execution_count": null,
   "id": "8c95a270",
   "metadata": {},
   "outputs": [],
   "source": [
    "# Use the new instance attribute\n",
    "house4.train_stops"
   ]
  },
  {
   "cell_type": "code",
   "execution_count": null,
   "id": "dac9de03",
   "metadata": {},
   "outputs": [],
   "source": [
    "# Use the new instance method\n",
    "house4.train_expenses()"
   ]
  },
  {
   "cell_type": "markdown",
   "id": "6158dff2",
   "metadata": {},
   "source": [
    "<h3 style=\"color:red; display:inline\">Coding Challenge! &lt; / &gt; </h3>\n",
    "\n",
    "Use the class `Employee` you created as the parent class. Create two child classes, `Accountants` and `Managers`. Add a new instance variable and a new method to each child class. "
   ]
  },
  {
   "cell_type": "markdown",
   "id": "031fcce1",
   "metadata": {},
   "source": [
    "## Lesson Complete\n",
    "\n",
    "Congratulations! You have completed *Python Intermediate 4*.\n",
    "\n",
    "\n",
    "### Exercise Solutions\n",
    "Here are a few solutions for exercises in this lesson.  "
   ]
  },
  {
   "cell_type": "code",
   "execution_count": null,
   "id": "80624a77",
   "metadata": {},
   "outputs": [],
   "source": [
    "# Create a class Employee\n",
    "class Employee:\n",
    "    def __init__(self, first, last, salary):\n",
    "        self.first = first\n",
    "        self.last = last\n",
    "        self.salary = salary\n",
    "    def full_name(self):\n",
    "        print(self.first + ' ' + self.last)"
   ]
  },
  {
   "cell_type": "code",
   "execution_count": null,
   "id": "1eb9ea38",
   "metadata": {},
   "outputs": [],
   "source": [
    "# Create two objects of the class Employee\n",
    "john = Employee('John', 'Doe', 80000)\n",
    "mary = Employee('Mary', 'Smith', 90000)"
   ]
  },
  {
   "cell_type": "code",
   "execution_count": null,
   "id": "064314e5",
   "metadata": {},
   "outputs": [],
   "source": [
    "# Add a class variable pay_raise\n",
    "class Employee:\n",
    "    pay_raise = 0.05\n",
    "    def __init__(self, first, last, salary):\n",
    "        self.first = first\n",
    "        self.last = last\n",
    "        self.salary = salary\n",
    "    def full_name(self):\n",
    "        print(self.first + ' ' + self.last)\n",
    "    def new_salary(self):\n",
    "        return self.salary * (1 + 0.05)"
   ]
  },
  {
   "cell_type": "code",
   "execution_count": null,
   "id": "0c8b23de",
   "metadata": {},
   "outputs": [],
   "source": [
    "# Calculate John's new salary\n",
    "john = Employee('John', 'Doe', 80000)\n",
    "john.new_salary()"
   ]
  },
  {
   "cell_type": "code",
   "execution_count": null,
   "id": "b011871f",
   "metadata": {},
   "outputs": [],
   "source": [
    "# Create two child classes of Employee\n",
    "class Accountants(Employee):\n",
    "    def __init__(self, first, last, salary, tenure):\n",
    "        super().__init__(first, last, salary)\n",
    "        self.tenure = tenure\n",
    "    def bonus(self):\n",
    "        if self.tenure%10 == 0:\n",
    "            return 10000\n",
    "        else:\n",
    "            return 0\n",
    "\n",
    "        \n",
    "class Managers(Employee):\n",
    "    def __init__(self, first, last, salary, team = None):\n",
    "        super().__init__(first, last, salary)\n",
    "        if team is None:\n",
    "            self.team = []\n",
    "        else:\n",
    "            self.team = team\n",
    "    def team_size(self):\n",
    "        if len(self.team) > 50:\n",
    "            print('Warning: team is too big to be managable.')\n",
    "        else:\n",
    "            print('Team size is managable.')"
   ]
  },
  {
   "cell_type": "code",
   "execution_count": null,
   "id": "c0e950c1",
   "metadata": {},
   "outputs": [],
   "source": [
    "Mary = Managers('Mary', 'Smith', 90000, ['John', 'Bill', 'Roy', 'Sam'])\n",
    "Mary.team_size()"
   ]
  },
  {
   "cell_type": "code",
   "execution_count": null,
   "id": "011fdf67",
   "metadata": {},
   "outputs": [],
   "source": []
  }
 ],
 "metadata": {
  "celltoolbar": "Raw Cell Format",
  "kernelspec": {
   "display_name": "Python 3 (ipykernel)",
   "language": "python",
   "name": "python3"
  },
  "language_info": {
   "codemirror_mode": {
    "name": "ipython",
    "version": 3
   },
   "file_extension": ".py",
   "mimetype": "text/x-python",
   "name": "python",
   "nbconvert_exporter": "python",
   "pygments_lexer": "ipython3",
   "version": "3.10.4"
  },
  "toc": {
   "base_numbering": 1,
   "nav_menu": {},
   "number_sections": true,
   "sideBar": true,
   "skip_h1_title": true,
   "title_cell": "Table of Contents",
   "title_sidebar": "Contents",
   "toc_cell": false,
   "toc_position": {},
   "toc_section_display": true,
   "toc_window_display": false
  }
 },
 "nbformat": 4,
 "nbformat_minor": 5
}
