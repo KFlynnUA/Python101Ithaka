{
 "cells": [
  {
   "cell_type": "markdown",
   "id": "8bab4952",
   "metadata": {},
   "source": [
    "# Object-oriented programming (OOP)\n",
    "\n",
    "\n",
    "**Description:** This notebook decribes\n",
    "\n",
    "* What object-oriented programming (OOP) is\n",
    "* What a class is\n",
    "* What an object is\n",
    "* What attributes, methods and constructors are\n",
    "* What the difference is between functional programming and OOP\n",
    "* How to write a class\n",
    "* How to create objects using a class \n",
    "* How to inherit attributes and methods from a parent class to a child class\n",
    "* Why OOP is attractive\n",
    "\n",
    "**Use Case:** For learners (detailed explanation)\n",
    "\n",
    "**Difficulty:** Intermediate\n",
    "\n",
    "**Completion Time:** 90 minutes\n",
    "\n",
    "**Knowledge Required:**\n",
    "\n",
    "* Python Basics Series ([Start Python Basics 1](./python-basics-1.ipynb))\n",
    "    \n",
    "**Knowledge Recommended:** None\n",
    "\n",
    "**Data Format:** None\n",
    "\n",
    "**Libraries Used:** None\n",
    "\n",
    "**Research Pipeline:** None\n"
   ]
  },
  {
   "cell_type": "code",
   "execution_count": null,
   "id": "3241a7b2",
   "metadata": {},
   "outputs": [],
   "source": [
    "# # Import a tokenizer\n",
    "# import nltk\n",
    "# from nltk.tokenize import TreebankWordTokenizer\n",
    "\n",
    "# # Load the NLTK stopwords list\n",
    "# from nltk.corpus import stopwords\n",
    "# stop_words = stopwords.words('english')\n",
    "\n",
    "# # Import the Porter stemmer\n",
    "# from nltk import PorterStemmer\n",
    "\n",
    "# # Import FreqDist from NLTK to count words\n",
    "# from nltk import FreqDist\n",
    "\n",
    "# # Import pprint\n",
    "# from pprint import pprint"
   ]
  },
  {
   "cell_type": "markdown",
   "id": "2b6c8706",
   "metadata": {},
   "source": [
    "# Classes and objects\n",
    "\n",
    "Object-oriented programming is a programming paradigm that relies on the concept of **classes** and **objects**. To understand OOP, we will need to understand **classes** and **objects**.\n",
    "\n",
    "To make the concepts of **classes** and **objects** more concrete, let's use a simple example. \n"
   ]
  },
  {
   "cell_type": "markdown",
   "id": "aed0d3f7",
   "metadata": {},
   "source": [
    "Suppose you are looking to buy a house. You keep a record of the houses you are interested in to do a comparison between them.\n",
    "\n",
    " |                |      |  \n",
    " |----------------|:-----| \n",
    " |**bedroom**     |3    | \n",
    " |**bathroom**        |1.5    | \n",
    " |**price**        | 660000 | \n",
    " |**sqft**     |1500    | \n",
    " |**price_per_sqft**|def price_per_sqft (600000, 1500):<br>&emsp;$~~~$price_per_sqft = 600000 / 1500<br>&emsp;$~~~$print ( \"This house costs \" + str(price_per_sqft) + \" dollars per square foot.\")|\n",
    "    \n",
    " |                |      |  \n",
    " |----------------|:-----| \n",
    " |**bedroom**     |4    | \n",
    " |**bathroom**        |2    | \n",
    "  |**price**        | 800000| \n",
    " |**sqft**     |2000    | \n",
    " |**price_per_sqft**|def price_per_sqft (800000, 2000):<br>&emsp;$~~~$price_per_sqft = 800000 / 2000<br>&emsp;$~~~$print ( \"This house costs \" + str(price_per_sqft) + \" dollars per square foot.\" )|"
   ]
  },
  {
   "cell_type": "markdown",
   "id": "3f57c64a",
   "metadata": {},
   "source": [
    "For each house you are interested in, you create such a record. In a record there are two kinds of information. First, the **attributes** of the house; Second, the **functions** that operate on the said house (in this case, a function that prints out the price per square foot).\n",
    "\n",
    "Now, a natural question to ask is: is there a good way to organize such a collection of information? Yes! This is where **objects** come in. "
   ]
  },
  {
   "cell_type": "markdown",
   "id": "1ba05ee6",
   "metadata": {},
   "source": [
    "## What is an object?\n",
    "\n",
    "An **object** is basically a collection of attributes and functions. With such a collection of information, an **object** can be used to represent anything, e.g. a person, a dog, a school, etc. \n",
    "\n",
    "Coming back to our example, we are using the **object** below to represent `house1`. Of course, depending on what attributes and functions you want to include, you may represent `house1` with a different set of information stored in the **object**. In our scenario, we choose to use the number of bedrooms, the number of bathrooms, the price of the house and a function that calculates and prints out the price per square foot to represent `house1`. Let's assign this object to the variable name ```house1```.\n",
    "\n",
    "<img src=\"https://ithaka-labs.s3.amazonaws.com/static-files/images/tdm/tdmdocs/intermediate_python_4_house1.png\" width=\"650\" height=\"300\" />\n",
    "\n",
    "We have created another **object** representing `house2`. Let's assign the object to the variable name ```house2```.\n",
    "\n",
    "<img src=\"https://ithaka-labs.s3.amazonaws.com/static-files/images/tdm/tdmdocs/intermediate_python_4_house2.png\" width=\"650\" height =\"300\" />\n",
    "\n",
    "\n",
    "Some terminologies. The variables in an object are called **attributes**. The functions in an object are called **methods**.\n",
    "\n",
    "If you take a look at the two objects we have created to represent `house1` and `house2` respectively, you can easily see that they are quite similar. They have the same set of **attributes**, i.e. number of bedrooms, number of bathrooms, house price, number of square feet, and they have the same set of **methods**, i.e. a function that calculates and prints out the price per square foot. In other words, the two objects are written based on the same recipe. \n",
    "\n",
    "Now, if the objects are created based on the same recipe, it will be ideal if we can write out that recipe and then use it to produce the same kind of objects. In the house-buying scenario, for example, you will want as many objects as there are houses you are interested in! The question now becomes: how do we write that recipe? This is exactly where **classes** come in. "
   ]
  },
  {
   "cell_type": "markdown",
   "id": "a6bfe502",
   "metadata": {},
   "source": [
    "## What is a class?\n",
    "\n",
    "A **class** is an abstract blueprint from which we create individual instances of **objects**. \n",
    "\n",
    "|                |      |  \n",
    " |----------------|:-----| \n",
    " |**bedroom**        | | \n",
    " |**bathroom**     |    | \n",
    " |**price**        |    | \n",
    " |**sqft**     |    | \n",
    " |**price_per_sqft**|def price_per_sqft ( price, sqft ):<br>&emsp;$~~~$price_per_sqft = price / sqft<br>&emsp;$~~~$print ( \"This house costs \" + str(price_per_sqft) + \" per square foot.\" )|\n",
    " \n",
    " Notice that the values assigned to the four variables, i.e. bedroom, bathroom, price, sqft, are not specified in this class. This is because a **class** does not refer to any specific **object**. A **class** refers to a broad category of **objects**. Here in the house-buying scenario, our **class** refers to the category of houses. The **class** specifies what attributes the houses have and also what functions operate on these houses."
   ]
  },
  {
   "cell_type": "markdown",
   "id": "fc400e05",
   "metadata": {},
   "source": [
    "## A snippet of code example \n",
    "\n",
    "Now, let's write some codes to create our house **class**! "
   ]
  },
  {
   "cell_type": "code",
   "execution_count": null,
   "id": "fe0ae60c",
   "metadata": {},
   "outputs": [],
   "source": [
    "# Create a class named 'House'\n",
    "class House:\n",
    "    def __init__(self, num_bedroom, num_bathroom, overall_price, num_sqft): ## constructor\n",
    "        self.bedroom = num_bedroom      ## instance variable\n",
    "        self.bathroom = num_bathroom    ## instance variable\n",
    "        self.price = overall_price      ## instance variable\n",
    "        self.sqft = num_sqft            ## instance variable\n",
    "    def price_per_sqft(self): ## method\n",
    "        price_per_sqft = self.price / self.sqft\n",
    "        return price_per_sqft"
   ]
  },
  {
   "cell_type": "code",
   "execution_count": null,
   "id": "cb2fc188",
   "metadata": {},
   "outputs": [],
   "source": [
    "# Conventionally, the argument names and variables names are the same\n",
    "class House:\n",
    "    def __init__(self, bedroom, bathroom, price, sqft): ## constructor\n",
    "        self.bedroom = bedroom      ## instance variable\n",
    "        self.bathroom = bathroom    ## instance variable\n",
    "        self.price = price          ## instance variable\n",
    "        self.sqft = sqft            ## instance variable\n",
    "    def price_per_sqft(self): ## method\n",
    "        price_per_sqft = self.price / self.sqft\n",
    "        return price_per_sqft"
   ]
  },
  {
   "cell_type": "code",
   "execution_count": null,
   "id": "bf37e870",
   "metadata": {},
   "outputs": [],
   "source": [
    "# Create an object house1\n",
    "house1 = House (3, 1.5, 660000, 1500) "
   ]
  },
  {
   "cell_type": "code",
   "execution_count": null,
   "id": "cf4419bf",
   "metadata": {},
   "outputs": [],
   "source": [
    "# Get the value of the attribute bedroom of house1\n",
    "house1.bedroom"
   ]
  },
  {
   "cell_type": "code",
   "execution_count": null,
   "id": "9fdb94c2",
   "metadata": {},
   "outputs": [],
   "source": [
    "# Get the value of the attribute bathroom of house1\n",
    "house1.bathroom"
   ]
  },
  {
   "cell_type": "code",
   "execution_count": null,
   "id": "ece0c3ee",
   "metadata": {},
   "outputs": [],
   "source": [
    "# Get the value of the attribute price of house1\n",
    "house1.price"
   ]
  },
  {
   "cell_type": "code",
   "execution_count": null,
   "id": "cc59b721",
   "metadata": {},
   "outputs": [],
   "source": [
    "# Get the value of the attribute sqft of house1\n",
    "house1.sqft"
   ]
  },
  {
   "cell_type": "code",
   "execution_count": null,
   "id": "2b7a9e93",
   "metadata": {},
   "outputs": [],
   "source": [
    "# Use the method price_per_sqft of house1\n",
    "house1.price_per_sqft()"
   ]
  },
  {
   "cell_type": "code",
   "execution_count": null,
   "id": "a691128a",
   "metadata": {},
   "outputs": [],
   "source": [
    "# Create an object house2\n",
    "house2 = House(4, 2, 800000, 2000)"
   ]
  },
  {
   "cell_type": "code",
   "execution_count": null,
   "id": "d9eeb8c5",
   "metadata": {},
   "outputs": [],
   "source": [
    "# Get the value of the attribute bedroom of house2\n",
    "house2.bedroom"
   ]
  },
  {
   "cell_type": "code",
   "execution_count": null,
   "id": "109d34f9",
   "metadata": {},
   "outputs": [],
   "source": [
    "# Add a new variable to an object and assign a value to it\n",
    "house1.lot_size = 500"
   ]
  },
  {
   "cell_type": "code",
   "execution_count": null,
   "id": "38962871",
   "metadata": {},
   "outputs": [],
   "source": [
    "# The newly added variable is specific to the object house1\n",
    "house2.lot_size"
   ]
  },
  {
   "cell_type": "markdown",
   "id": "4abc3e67",
   "metadata": {},
   "source": [
    "### instance variables vs. class variables"
   ]
  },
  {
   "cell_type": "markdown",
   "id": "48fb99ae",
   "metadata": {},
   "source": [
    "An object we create using a class is an instance of that class. `House1` and `House2` are two instances of the class `House`. In the class `House`, we have defined several **instance variables** like `bedroom`, `bathroom`, `price` and `sqft`. The values assigned to these instance variables are different for each house because each house has its own number of bedrooms, bathroom, house price and number of square feet.    "
   ]
  },
  {
   "cell_type": "code",
   "execution_count": null,
   "id": "fbb9dd5a",
   "metadata": {},
   "outputs": [],
   "source": [
    "# Take a look at the instance variables in the class House\n",
    "class House:\n",
    "    def __init__(self, bedroom, bathroom, price, sqft): ## constructor\n",
    "        self.bedroom = bedroom      ## instance variable\n",
    "        self.bathroom = bathroom    ## instance variable\n",
    "        self.price = price          ## instance variable\n",
    "        self.sqft = sqft            ## instance variable\n",
    "    def price_per_sqft(self): ## method\n",
    "        price_per_sqft = self.price / self.sqft\n",
    "        return price_per_sqft"
   ]
  },
  {
   "cell_type": "code",
   "execution_count": null,
   "id": "a5d837fc",
   "metadata": {},
   "outputs": [],
   "source": [
    "# the values assigned to instance variables vary with the objects\n",
    "house1.bathroom == house2.bathroom"
   ]
  },
  {
   "cell_type": "markdown",
   "id": "80a194b3",
   "metadata": {},
   "source": [
    "**Class variables** are the variables that are assigned the same values across all the instances of a class. Suppose the houses you are interested in all raise their prices by 5%. Now, you want to write a new method in the class `House` to calculate the new house prices. "
   ]
  },
  {
   "cell_type": "code",
   "execution_count": null,
   "id": "1cece653",
   "metadata": {},
   "outputs": [],
   "source": [
    "# Write a new method in the class House to calculate new house prices\n",
    "class House:\n",
    "    perc_raise = 0.05   ## class variable\n",
    "    def __init__(self, bedroom, bathroom, price, sqft): ## constructor\n",
    "        self.bedroom = bedroom      ## instance variable\n",
    "        self.bathroom = bathroom    ## instance variable\n",
    "        self.price = price          ## instance variable\n",
    "        self.sqft = sqft            ## instance variable\n",
    "    def price_per_sqft(self): ## method\n",
    "        price_per_sqft = self.price / self.sqft\n",
    "        return price_per_sqft\n",
    "    def new_price (self):\n",
    "        new_price = self.price * (1 + House.perc_raise)\n",
    "        return new_price"
   ]
  },
  {
   "cell_type": "code",
   "execution_count": null,
   "id": "71e4a81e",
   "metadata": {},
   "outputs": [],
   "source": [
    "# Create an object house1 using this new class House\n",
    "house1 = House (3, 1.5, 660000, 1500)"
   ]
  },
  {
   "cell_type": "code",
   "execution_count": null,
   "id": "332c6d50",
   "metadata": {},
   "outputs": [],
   "source": [
    "# Get the new price of house1 after the raise\n",
    "house1.new_price()"
   ]
  },
  {
   "cell_type": "code",
   "execution_count": null,
   "id": "b0b0d7da",
   "metadata": {},
   "outputs": [],
   "source": [
    "# Create an object house2\n",
    "house2 = House(4, 2, 800000, 2000)"
   ]
  },
  {
   "cell_type": "code",
   "execution_count": null,
   "id": "612bac8b",
   "metadata": {},
   "outputs": [],
   "source": [
    "# Access the class variable using an instance\n",
    "print(house1.perc_raise)\n",
    "print(house2.perc_raise)"
   ]
  },
  {
   "cell_type": "code",
   "execution_count": null,
   "id": "a84897db",
   "metadata": {},
   "outputs": [],
   "source": [
    "# Access the class variable using the class\n",
    "print(House.perc_raise)"
   ]
  },
  {
   "cell_type": "code",
   "execution_count": null,
   "id": "d5217ff6",
   "metadata": {},
   "outputs": [],
   "source": [
    "# When accessing the value of a variable using an object, it first searches the name space of the object\n",
    "# If no such variable name there, then it searches the name space of the class\n",
    "house1.perc_raise = 0.08"
   ]
  },
  {
   "cell_type": "code",
   "execution_count": null,
   "id": "2610d77c",
   "metadata": {},
   "outputs": [],
   "source": [
    "# Check the value of perc_raise for house1\n",
    "house1.perc_raise"
   ]
  },
  {
   "cell_type": "code",
   "execution_count": null,
   "id": "c3c7bceb",
   "metadata": {},
   "outputs": [],
   "source": [
    "# Check the value of perc_raise for house2\n",
    "house2.perc_raise"
   ]
  },
  {
   "cell_type": "code",
   "execution_count": null,
   "id": "5b92a2f3",
   "metadata": {},
   "outputs": [],
   "source": [
    "# Check the value of perc_raise for the class House\n",
    "House.perc_raise"
   ]
  },
  {
   "cell_type": "markdown",
   "id": "7c4bac30",
   "metadata": {},
   "source": [
    "<h3 style=\"color:red; display:inline\">Coding Challenge! &lt; / &gt; </h3>\n",
    "\n",
    "Create a class called `Employee`. In this class, create the instance variables `first_name`, `last_name`, `salary` and `email`. Also, create a method that prints out the full name of instances of this class. Then, create two instances of this class. "
   ]
  },
  {
   "cell_type": "code",
   "execution_count": null,
   "id": "21e55285",
   "metadata": {},
   "outputs": [],
   "source": []
  },
  {
   "cell_type": "markdown",
   "id": "78c4fef1",
   "metadata": {},
   "source": [
    "The company has just announced the pay raise. Everyone will get a pay raise of 5%. Add a class variable `pay_raise` to `Employee`. For the two instances you created just now, calculate their new salary.  "
   ]
  },
  {
   "cell_type": "code",
   "execution_count": null,
   "id": "30b0d41f",
   "metadata": {},
   "outputs": [],
   "source": []
  },
  {
   "cell_type": "markdown",
   "id": "be6ee008",
   "metadata": {},
   "source": [
    "# A perspective shift from functional programming to OOP\n",
    "\n",
    "It seems that in a class, we have some data and some functions that operate on those data. So, why don't we just store the data in some format and write some functions separately? "
   ]
  },
  {
   "cell_type": "code",
   "execution_count": null,
   "id": "f585a514",
   "metadata": {},
   "outputs": [],
   "source": [
    "s = 'John' # a string "
   ]
  },
  {
   "cell_type": "code",
   "execution_count": null,
   "id": "7bae501a",
   "metadata": {},
   "outputs": [],
   "source": [
    "def startswith(s, l): # A function that checks whether a string starts with a certain letter\n",
    "    if s[0] == l:\n",
    "        return True\n",
    "    return False"
   ]
  },
  {
   "cell_type": "code",
   "execution_count": null,
   "id": "1c9f625b",
   "metadata": {},
   "outputs": [],
   "source": [
    "# Use the function startswith to check whether 'John' starts with letter 'J'\n",
    "startswith('John', 'J')"
   ]
  },
  {
   "cell_type": "code",
   "execution_count": null,
   "id": "5be6a9de",
   "metadata": {},
   "outputs": [],
   "source": [
    "def endswith (s, l): # A function that checks whether a string ends with a certain letter\n",
    "    if s[-1] == l:\n",
    "        return True\n",
    "    return False"
   ]
  },
  {
   "cell_type": "code",
   "execution_count": null,
   "id": "92564f01",
   "metadata": {},
   "outputs": [],
   "source": [
    "# Use the function endswith to check whether 'John' ends with letter 'J'\n",
    "endswith('John', 'J')"
   ]
  },
  {
   "cell_type": "markdown",
   "id": "da02e86e",
   "metadata": {},
   "source": [
    "From the perspective of functional programming, we are putting the functions at the center stage. Here we put the functions `startswith` and `endswith` at the center stage in particular. The strings, e.g. `s1` and `s2`, are the input to the functions. "
   ]
  },
  {
   "cell_type": "markdown",
   "id": "c9e65d9c",
   "metadata": {},
   "source": [
    "<img src=\"https://ithaka-labs.s3.amazonaws.com/static-files/images/tdm/tdmdocs/intermediate_python_4_FP.png\" width=\"400\" height=\"150\" />"
   ]
  },
  {
   "cell_type": "markdown",
   "id": "1c4b6cb9",
   "metadata": {},
   "source": [
    "Since these two operations are so common with strings, it would be great if we have them always ready to use when we have a string. So, let's shift our perspective and put the strings at the center stage. Here, `s1` and `s2` are not passively waiting to be taken by functions as input. Instead, they are active `objects`. The functions that we wrote before, `startswith` and `endswith`, are now the tools that `s1` and `s2` can use. This is the perspective of OOP. "
   ]
  },
  {
   "cell_type": "markdown",
   "id": "58785d3b",
   "metadata": {},
   "source": [
    "<img src=\"https://ithaka-labs.s3.amazonaws.com/static-files/images/tdm/tdmdocs/intermediate_python_4_OOP.png\" width=\"400\" height=\"150\" />\n"
   ]
  },
  {
   "cell_type": "code",
   "execution_count": null,
   "id": "3d19800b",
   "metadata": {},
   "outputs": [],
   "source": [
    "print(type('John'))"
   ]
  },
  {
   "cell_type": "code",
   "execution_count": null,
   "id": "e8bdb6d3",
   "metadata": {},
   "outputs": [],
   "source": [
    "'John'.startswith('J')"
   ]
  },
  {
   "cell_type": "code",
   "execution_count": null,
   "id": "e818e7bc",
   "metadata": {},
   "outputs": [],
   "source": [
    "'John'.endswith('J')"
   ]
  },
  {
   "cell_type": "markdown",
   "id": "27c7adf1",
   "metadata": {},
   "source": [
    "# Why is OOP attractive?"
   ]
  },
  {
   "cell_type": "markdown",
   "id": "410b6366",
   "metadata": {},
   "source": [
    "## Inheritance"
   ]
  },
  {
   "cell_type": "markdown",
   "id": "70a08232",
   "metadata": {},
   "source": [
    "We have answered the question of how to write classes and objects in Python. Now we need to answer the question of why. Why do we need OOP? What is the benefit of using OOP?"
   ]
  },
  {
   "cell_type": "markdown",
   "id": "006aa644",
   "metadata": {},
   "source": [
    "Suppose in the process of house hunting, you find houses in suburbs and houses in the city both have advantages and disadvantages. Now, you are interested in the commute expenses you have to pay if you choose a house in the suburbs or a house in the city. You want to add this information to your house data and at the same time maintain the attributes and methods you have written in the `House` class. How do you do it? This is where **inheritance** comes in. \n",
    "\n",
    "**Inheritance** in OOP allows us to inherit attributes and methods from a **parent class** to **child classes**. What makes OOP particularly attractive is exactly this reusability! **Inheritance** helps us avoid repeating ourselves when writing code. "
   ]
  },
  {
   "cell_type": "code",
   "execution_count": null,
   "id": "373cbb4d",
   "metadata": {},
   "outputs": [],
   "source": [
    "class Suburban_house(House): # A child class that inherits from House\n",
    "    def __init__(self, bedroom, bathroom, price, sqft, distance): ## constructor\n",
    "        super().__init__(bedroom, bathroom, price, sqft) # let the parent class take care of the existing attributes\n",
    "        self.distance = distance # add the new instance attribute\n",
    "    def gas_expenses (self): # add the new method\n",
    "        expense = 0.5 * self.distance * 2 * 30 # assume $0.5/mile for the gas\n",
    "        return expense"
   ]
  },
  {
   "cell_type": "code",
   "execution_count": null,
   "id": "e748d245",
   "metadata": {},
   "outputs": [],
   "source": [
    "# Create an object of the new class Suburban_house\n",
    "house3 = Suburban_house(4, 3.5, 900000, 2500, 20) "
   ]
  },
  {
   "cell_type": "code",
   "execution_count": null,
   "id": "4378e026",
   "metadata": {},
   "outputs": [],
   "source": [
    "# Use the attributes of the parent class\n",
    "house3.bedroom"
   ]
  },
  {
   "cell_type": "code",
   "execution_count": null,
   "id": "0ec3f7ea",
   "metadata": {},
   "outputs": [],
   "source": [
    "# Use the methods of the parent class\n",
    "house3.price_per_sqft()"
   ]
  },
  {
   "cell_type": "code",
   "execution_count": null,
   "id": "ee8169d4",
   "metadata": {},
   "outputs": [],
   "source": [
    "# Use the new instance attribute\n",
    "house3.distance"
   ]
  },
  {
   "cell_type": "code",
   "execution_count": null,
   "id": "e9e25c80",
   "metadata": {},
   "outputs": [],
   "source": [
    "# Use the new instance method\n",
    "house3.gas_expenses()"
   ]
  },
  {
   "cell_type": "code",
   "execution_count": null,
   "id": "43da9d73",
   "metadata": {},
   "outputs": [],
   "source": [
    "class City_house(House): # A child class that inherits from House\n",
    "    def __init__(self, bedroom, bathroom, price, sqft, train_stop): ## constructor\n",
    "        super().__init__(bedroom, bathroom, price, sqft) # let the parent class take care of the existing attributes\n",
    "        self.train_stop = train_stop # add the new instance attribute\n",
    "    def price_per_sqft(self): ## method\n",
    "        price_per_sqft = self.price / self.sqft\n",
    "        return price_per_sqft\n",
    "    def train_expenses (self):\n",
    "        expense = 1.5 * self.train_stop * 2 * 30 # assume $1.5/stop for the train\n",
    "        return expense"
   ]
  },
  {
   "cell_type": "code",
   "execution_count": null,
   "id": "862860a4",
   "metadata": {},
   "outputs": [],
   "source": [
    "# Create an object of the new class City_house\n",
    "house4 = City_house(3, 2, 1000000, 1200, 10)"
   ]
  },
  {
   "cell_type": "code",
   "execution_count": null,
   "id": "59346fcc",
   "metadata": {},
   "outputs": [],
   "source": [
    "# Use the attributes of the parent class\n",
    "house4.sqft"
   ]
  },
  {
   "cell_type": "code",
   "execution_count": null,
   "id": "8b1e56b0",
   "metadata": {},
   "outputs": [],
   "source": [
    "# Use the methods of the parent class\n",
    "house4.price_per_sqft()"
   ]
  },
  {
   "cell_type": "code",
   "execution_count": null,
   "id": "8c95a270",
   "metadata": {},
   "outputs": [],
   "source": [
    "# Use the new instance attribute\n",
    "house4.train_stop"
   ]
  },
  {
   "cell_type": "code",
   "execution_count": null,
   "id": "dac9de03",
   "metadata": {},
   "outputs": [],
   "source": [
    "# Use the new instance method\n",
    "house4.train_expenses()"
   ]
  },
  {
   "cell_type": "markdown",
   "id": "6158dff2",
   "metadata": {},
   "source": [
    "<h3 style=\"color:red; display:inline\">Coding Challenge! &lt; / &gt; </h3>\n",
    "\n",
    "Use the class `Employee` you created as the parent class. Create two child classes, `Accountants` and `Managers`. Add a new instance variable and a new method to each child class. "
   ]
  },
  {
   "cell_type": "code",
   "execution_count": null,
   "id": "57b3f17d",
   "metadata": {},
   "outputs": [],
   "source": []
  },
  {
   "cell_type": "markdown",
   "id": "031fcce1",
   "metadata": {},
   "source": [
    "# Lesson Complete\n",
    "\n",
    "Congratulations! You have completed *Python Intermediate 4*.\n",
    "\n",
    "\n",
    "## Exercise Solutions\n",
    "Here are a few solutions for exercises in this lesson.  "
   ]
  },
  {
   "cell_type": "code",
   "execution_count": null,
   "id": "80624a77",
   "metadata": {},
   "outputs": [],
   "source": [
    "# Create a class Employee\n",
    "class Employee:\n",
    "    def __init__(self, first, last, salary):\n",
    "        self.first = first\n",
    "        self.last = last\n",
    "        self.salary = salary\n",
    "    def full_name(self):\n",
    "        print(self.first + ' ' + self.last)"
   ]
  },
  {
   "cell_type": "code",
   "execution_count": null,
   "id": "1eb9ea38",
   "metadata": {},
   "outputs": [],
   "source": [
    "# Create two objects of the class Employee\n",
    "john = Employee('John', 'Doe', 80000)\n",
    "mary = Employee('Mary', 'Smith', 90000)"
   ]
  },
  {
   "cell_type": "code",
   "execution_count": null,
   "id": "064314e5",
   "metadata": {},
   "outputs": [],
   "source": [
    "# Add a class variable pay_raise\n",
    "class Employee:\n",
    "    pay_raise = 0.05\n",
    "    def __init__(self, first, last, salary):\n",
    "        self.first = first\n",
    "        self.last = last\n",
    "        self.salary = salary\n",
    "    def full_name(self):\n",
    "        print(self.first + ' ' + self.last)\n",
    "    def new_salary(self):\n",
    "        return self.salary * (1 + 0.05)"
   ]
  },
  {
   "cell_type": "code",
   "execution_count": null,
   "id": "0c8b23de",
   "metadata": {},
   "outputs": [],
   "source": [
    "# Calculate John's new salary\n",
    "john = Employee('John', 'Doe', 80000)\n",
    "john.new_salary()"
   ]
  },
  {
   "cell_type": "code",
   "execution_count": null,
   "id": "b011871f",
   "metadata": {},
   "outputs": [],
   "source": [
    "# Create two child classes of Employee\n",
    "class Accountants(Employee):\n",
    "    def __init__(self, first, last, salary, tenure):\n",
    "        super().__init__(first, last, salary)\n",
    "        self.tenure = tenure\n",
    "    def bonus(self):\n",
    "        if self.tenure%10 == 0:\n",
    "            return 10000\n",
    "        else:\n",
    "            return 0\n",
    "\n",
    "        \n",
    "class Managers(Employee):\n",
    "    def __init__(self, first, last, salary, team = None):\n",
    "        super().__init__(first, last, salary)\n",
    "        if team is None:\n",
    "            self.team = []\n",
    "        else:\n",
    "            self.team = team\n",
    "    def team_size(self):\n",
    "        if len(self.team) > 50:\n",
    "            print('Warning: team is too big to be managable.')\n",
    "        else:\n",
    "            print('Team size is managable.')"
   ]
  },
  {
   "cell_type": "code",
   "execution_count": null,
   "id": "c0e950c1",
   "metadata": {},
   "outputs": [],
   "source": [
    "Mary = Managers('Mary', 'Smith', 90000, ['John', 'Bill', 'Roy', 'Sam'])\n",
    "Mary.team_size()"
   ]
  },
  {
   "cell_type": "code",
   "execution_count": null,
   "id": "011fdf67",
   "metadata": {},
   "outputs": [],
   "source": []
  }
 ],
 "metadata": {
  "celltoolbar": "Raw Cell Format",
  "kernelspec": {
   "display_name": "Python 3 (ipykernel)",
   "language": "python",
   "name": "python3"
  },
  "language_info": {
   "codemirror_mode": {
    "name": "ipython",
    "version": 3
   },
   "file_extension": ".py",
   "mimetype": "text/x-python",
   "name": "python",
   "nbconvert_exporter": "python",
   "pygments_lexer": "ipython3",
   "version": "3.10.7"
  },
  "toc": {
   "base_numbering": 1,
   "nav_menu": {},
   "number_sections": true,
   "sideBar": true,
   "skip_h1_title": false,
   "title_cell": "Table of Contents",
   "title_sidebar": "Contents",
   "toc_cell": false,
   "toc_position": {},
   "toc_section_display": true,
   "toc_window_display": false
  }
 },
 "nbformat": 4,
 "nbformat_minor": 5
}
